{
  "nbformat": 4,
  "nbformat_minor": 0,
  "metadata": {
    "colab": {
      "provenance": [],
      "authorship_tag": "ABX9TyMTg2BLzeZb9RPbdiY4hcsQ",
      "include_colab_link": true
    },
    "kernelspec": {
      "name": "python3",
      "display_name": "Python 3"
    },
    "language_info": {
      "name": "python"
    },
    "accelerator": "GPU",
    "gpuClass": "standard"
  },
  "cells": [
    {
      "cell_type": "markdown",
      "metadata": {
        "id": "view-in-github",
        "colab_type": "text"
      },
      "source": [
        "<a href=\"https://colab.research.google.com/github/Bharat-Moorthy/MLAI---Paathsalaassignments/blob/main/BBC_ML_model_with_BOW.ipynb\" target=\"_parent\"><img src=\"https://colab.research.google.com/assets/colab-badge.svg\" alt=\"Open In Colab\"/></a>"
      ]
    },
    {
      "cell_type": "code",
      "execution_count": 1,
      "metadata": {
        "id": "sx3eg6z69s08"
      },
      "outputs": [],
      "source": [
        "import pandas as pd"
      ]
    },
    {
      "cell_type": "markdown",
      "source": [
        "Inputting the dataset"
      ],
      "metadata": {
        "id": "93vVTGD9fS8_"
      }
    },
    {
      "cell_type": "code",
      "source": [
        "news=pd.read_csv(\"/content/BBC News.csv\")"
      ],
      "metadata": {
        "id": "jY-iuBp395aE"
      },
      "execution_count": 2,
      "outputs": []
    },
    {
      "cell_type": "code",
      "source": [
        "news"
      ],
      "metadata": {
        "colab": {
          "base_uri": "https://localhost:8080/",
          "height": 423
        },
        "id": "cFi77pLG-JHU",
        "outputId": "8ade5b95-0827-4698-de1d-b70962a32b8d"
      },
      "execution_count": 3,
      "outputs": [
        {
          "output_type": "execute_result",
          "data": {
            "text/plain": [
              "      ArticleId                                               Text  \\\n",
              "0          1833  worldcom ex-boss launches defence lawyers defe...   \n",
              "1           154  german business confidence slides german busin...   \n",
              "2          1101  bbc poll indicates economic gloom citizens in ...   \n",
              "3          1976  lifestyle  governs mobile choice  faster  bett...   \n",
              "4           917  enron bosses in $168m payout eighteen former e...   \n",
              "...         ...                                                ...   \n",
              "1485        857  double eviction from big brother model caprice...   \n",
              "1486        325  dj double act revamp chart show dj duo jk and ...   \n",
              "1487       1590  weak dollar hits reuters revenues at media gro...   \n",
              "1488       1587  apple ipod family expands market apple has exp...   \n",
              "1489        538  santy worm makes unwelcome visit thousands of ...   \n",
              "\n",
              "           Category  \n",
              "0          business  \n",
              "1          business  \n",
              "2          business  \n",
              "3              tech  \n",
              "4          business  \n",
              "...             ...  \n",
              "1485  entertainment  \n",
              "1486  entertainment  \n",
              "1487       business  \n",
              "1488           tech  \n",
              "1489           tech  \n",
              "\n",
              "[1490 rows x 3 columns]"
            ],
            "text/html": [
              "\n",
              "  <div id=\"df-409325ca-dbca-497a-b8c3-84205cf0a32e\">\n",
              "    <div class=\"colab-df-container\">\n",
              "      <div>\n",
              "<style scoped>\n",
              "    .dataframe tbody tr th:only-of-type {\n",
              "        vertical-align: middle;\n",
              "    }\n",
              "\n",
              "    .dataframe tbody tr th {\n",
              "        vertical-align: top;\n",
              "    }\n",
              "\n",
              "    .dataframe thead th {\n",
              "        text-align: right;\n",
              "    }\n",
              "</style>\n",
              "<table border=\"1\" class=\"dataframe\">\n",
              "  <thead>\n",
              "    <tr style=\"text-align: right;\">\n",
              "      <th></th>\n",
              "      <th>ArticleId</th>\n",
              "      <th>Text</th>\n",
              "      <th>Category</th>\n",
              "    </tr>\n",
              "  </thead>\n",
              "  <tbody>\n",
              "    <tr>\n",
              "      <th>0</th>\n",
              "      <td>1833</td>\n",
              "      <td>worldcom ex-boss launches defence lawyers defe...</td>\n",
              "      <td>business</td>\n",
              "    </tr>\n",
              "    <tr>\n",
              "      <th>1</th>\n",
              "      <td>154</td>\n",
              "      <td>german business confidence slides german busin...</td>\n",
              "      <td>business</td>\n",
              "    </tr>\n",
              "    <tr>\n",
              "      <th>2</th>\n",
              "      <td>1101</td>\n",
              "      <td>bbc poll indicates economic gloom citizens in ...</td>\n",
              "      <td>business</td>\n",
              "    </tr>\n",
              "    <tr>\n",
              "      <th>3</th>\n",
              "      <td>1976</td>\n",
              "      <td>lifestyle  governs mobile choice  faster  bett...</td>\n",
              "      <td>tech</td>\n",
              "    </tr>\n",
              "    <tr>\n",
              "      <th>4</th>\n",
              "      <td>917</td>\n",
              "      <td>enron bosses in $168m payout eighteen former e...</td>\n",
              "      <td>business</td>\n",
              "    </tr>\n",
              "    <tr>\n",
              "      <th>...</th>\n",
              "      <td>...</td>\n",
              "      <td>...</td>\n",
              "      <td>...</td>\n",
              "    </tr>\n",
              "    <tr>\n",
              "      <th>1485</th>\n",
              "      <td>857</td>\n",
              "      <td>double eviction from big brother model caprice...</td>\n",
              "      <td>entertainment</td>\n",
              "    </tr>\n",
              "    <tr>\n",
              "      <th>1486</th>\n",
              "      <td>325</td>\n",
              "      <td>dj double act revamp chart show dj duo jk and ...</td>\n",
              "      <td>entertainment</td>\n",
              "    </tr>\n",
              "    <tr>\n",
              "      <th>1487</th>\n",
              "      <td>1590</td>\n",
              "      <td>weak dollar hits reuters revenues at media gro...</td>\n",
              "      <td>business</td>\n",
              "    </tr>\n",
              "    <tr>\n",
              "      <th>1488</th>\n",
              "      <td>1587</td>\n",
              "      <td>apple ipod family expands market apple has exp...</td>\n",
              "      <td>tech</td>\n",
              "    </tr>\n",
              "    <tr>\n",
              "      <th>1489</th>\n",
              "      <td>538</td>\n",
              "      <td>santy worm makes unwelcome visit thousands of ...</td>\n",
              "      <td>tech</td>\n",
              "    </tr>\n",
              "  </tbody>\n",
              "</table>\n",
              "<p>1490 rows × 3 columns</p>\n",
              "</div>\n",
              "      <button class=\"colab-df-convert\" onclick=\"convertToInteractive('df-409325ca-dbca-497a-b8c3-84205cf0a32e')\"\n",
              "              title=\"Convert this dataframe to an interactive table.\"\n",
              "              style=\"display:none;\">\n",
              "        \n",
              "  <svg xmlns=\"http://www.w3.org/2000/svg\" height=\"24px\"viewBox=\"0 0 24 24\"\n",
              "       width=\"24px\">\n",
              "    <path d=\"M0 0h24v24H0V0z\" fill=\"none\"/>\n",
              "    <path d=\"M18.56 5.44l.94 2.06.94-2.06 2.06-.94-2.06-.94-.94-2.06-.94 2.06-2.06.94zm-11 1L8.5 8.5l.94-2.06 2.06-.94-2.06-.94L8.5 2.5l-.94 2.06-2.06.94zm10 10l.94 2.06.94-2.06 2.06-.94-2.06-.94-.94-2.06-.94 2.06-2.06.94z\"/><path d=\"M17.41 7.96l-1.37-1.37c-.4-.4-.92-.59-1.43-.59-.52 0-1.04.2-1.43.59L10.3 9.45l-7.72 7.72c-.78.78-.78 2.05 0 2.83L4 21.41c.39.39.9.59 1.41.59.51 0 1.02-.2 1.41-.59l7.78-7.78 2.81-2.81c.8-.78.8-2.07 0-2.86zM5.41 20L4 18.59l7.72-7.72 1.47 1.35L5.41 20z\"/>\n",
              "  </svg>\n",
              "      </button>\n",
              "      \n",
              "  <style>\n",
              "    .colab-df-container {\n",
              "      display:flex;\n",
              "      flex-wrap:wrap;\n",
              "      gap: 12px;\n",
              "    }\n",
              "\n",
              "    .colab-df-convert {\n",
              "      background-color: #E8F0FE;\n",
              "      border: none;\n",
              "      border-radius: 50%;\n",
              "      cursor: pointer;\n",
              "      display: none;\n",
              "      fill: #1967D2;\n",
              "      height: 32px;\n",
              "      padding: 0 0 0 0;\n",
              "      width: 32px;\n",
              "    }\n",
              "\n",
              "    .colab-df-convert:hover {\n",
              "      background-color: #E2EBFA;\n",
              "      box-shadow: 0px 1px 2px rgba(60, 64, 67, 0.3), 0px 1px 3px 1px rgba(60, 64, 67, 0.15);\n",
              "      fill: #174EA6;\n",
              "    }\n",
              "\n",
              "    [theme=dark] .colab-df-convert {\n",
              "      background-color: #3B4455;\n",
              "      fill: #D2E3FC;\n",
              "    }\n",
              "\n",
              "    [theme=dark] .colab-df-convert:hover {\n",
              "      background-color: #434B5C;\n",
              "      box-shadow: 0px 1px 3px 1px rgba(0, 0, 0, 0.15);\n",
              "      filter: drop-shadow(0px 1px 2px rgba(0, 0, 0, 0.3));\n",
              "      fill: #FFFFFF;\n",
              "    }\n",
              "  </style>\n",
              "\n",
              "      <script>\n",
              "        const buttonEl =\n",
              "          document.querySelector('#df-409325ca-dbca-497a-b8c3-84205cf0a32e button.colab-df-convert');\n",
              "        buttonEl.style.display =\n",
              "          google.colab.kernel.accessAllowed ? 'block' : 'none';\n",
              "\n",
              "        async function convertToInteractive(key) {\n",
              "          const element = document.querySelector('#df-409325ca-dbca-497a-b8c3-84205cf0a32e');\n",
              "          const dataTable =\n",
              "            await google.colab.kernel.invokeFunction('convertToInteractive',\n",
              "                                                     [key], {});\n",
              "          if (!dataTable) return;\n",
              "\n",
              "          const docLinkHtml = 'Like what you see? Visit the ' +\n",
              "            '<a target=\"_blank\" href=https://colab.research.google.com/notebooks/data_table.ipynb>data table notebook</a>'\n",
              "            + ' to learn more about interactive tables.';\n",
              "          element.innerHTML = '';\n",
              "          dataTable['output_type'] = 'display_data';\n",
              "          await google.colab.output.renderOutput(dataTable, element);\n",
              "          const docLink = document.createElement('div');\n",
              "          docLink.innerHTML = docLinkHtml;\n",
              "          element.appendChild(docLink);\n",
              "        }\n",
              "      </script>\n",
              "    </div>\n",
              "  </div>\n",
              "  "
            ]
          },
          "metadata": {},
          "execution_count": 3
        }
      ]
    },
    {
      "cell_type": "markdown",
      "source": [
        "The unqiue values in the target variable are "
      ],
      "metadata": {
        "id": "RlY1SlaKfYbB"
      }
    },
    {
      "cell_type": "code",
      "source": [
        "news[\"Category\"].unique()"
      ],
      "metadata": {
        "colab": {
          "base_uri": "https://localhost:8080/"
        },
        "id": "wZQ4mtk7-OnM",
        "outputId": "d345baa0-4dea-4420-8a17-da9da534ed1d"
      },
      "execution_count": 4,
      "outputs": [
        {
          "output_type": "execute_result",
          "data": {
            "text/plain": [
              "array(['business', 'tech', 'politics', 'sport', 'entertainment'],\n",
              "      dtype=object)"
            ]
          },
          "metadata": {},
          "execution_count": 4
        }
      ]
    },
    {
      "cell_type": "code",
      "source": [
        "news[\"Text\"][9]"
      ],
      "metadata": {
        "colab": {
          "base_uri": "https://localhost:8080/",
          "height": 140
        },
        "id": "gJGm7c9u-0K1",
        "outputId": "4250d056-5343-4012-ea5f-11613d0b43b5"
      },
      "execution_count": 5,
      "outputs": [
        {
          "output_type": "execute_result",
          "data": {
            "text/plain": [
              "'fockers fuel festive film chart comedy meet the fockers topped the festive box office in north america  setting a new record for christmas day.  the sequel took $44.7m (£23.2m) between 24 and 26 december  according to studio estimates. it took $19.1m (£9.9m) on christmas day alone  the highest takings on that day in box office history. meet the fockers is the sequel to ben stiller comedy meet the parents  also starring robert de niro  blythe danner  dustin hoffman and barbra streisand. despite the success of meet the fockers  takings were down 26.5% on 2003 s figures - which was blamed on christmas falling over a weekend this year.   when christmas falls on a weekend  it s bad for business   said paul dergarabedian  president of exhibitor relations  which compiles box office statistics. the weekend s top 12 films took an estimated $121.9m (£63.3m)  compared with $165.8m (£86.1m) last year  when the third lord of the rings film dominated the box office. meet the fockers knocked last week s top film  lemony snicket s a series of unfortunate events  down to third place  with $12.5m (£6.5m). comedy fat albert - co-written by bill cosby - entered the chart in second place after opening on christmas day  taking $12.7m (£6.6m). the aviator  starring leonardo dicaprio as howard hughes  took $9.4m after expanding from 40 to 1 796 cinemas on christmas day.'"
            ],
            "application/vnd.google.colaboratory.intrinsic+json": {
              "type": "string"
            }
          },
          "metadata": {},
          "execution_count": 5
        }
      ]
    },
    {
      "cell_type": "code",
      "source": [
        "news[\"Category\"][9]"
      ],
      "metadata": {
        "colab": {
          "base_uri": "https://localhost:8080/",
          "height": 36
        },
        "id": "VdHP222s-4fV",
        "outputId": "70e898e8-dc8b-4d35-8f6c-21bbd572714b"
      },
      "execution_count": 6,
      "outputs": [
        {
          "output_type": "execute_result",
          "data": {
            "text/plain": [
              "'entertainment'"
            ],
            "application/vnd.google.colaboratory.intrinsic+json": {
              "type": "string"
            }
          },
          "metadata": {},
          "execution_count": 6
        }
      ]
    },
    {
      "cell_type": "code",
      "source": [
        "from sklearn.feature_extraction.text import CountVectorizer"
      ],
      "metadata": {
        "id": "0VVWlJck_Ahu"
      },
      "execution_count": 7,
      "outputs": []
    },
    {
      "cell_type": "code",
      "source": [
        "vector=CountVectorizer(stop_words=\"english\")"
      ],
      "metadata": {
        "id": "-2K4XdUV_LyU"
      },
      "execution_count": 8,
      "outputs": []
    },
    {
      "cell_type": "code",
      "source": [
        "BOW= vector.fit_transform(news[\"Text\"])"
      ],
      "metadata": {
        "id": "HyQhq1yx_aIu"
      },
      "execution_count": 9,
      "outputs": []
    },
    {
      "cell_type": "code",
      "source": [
        "BOW"
      ],
      "metadata": {
        "colab": {
          "base_uri": "https://localhost:8080/"
        },
        "id": "TJmaMzdx_plk",
        "outputId": "5a57e23d-714b-41a7-8227-b44e77d6e7a2"
      },
      "execution_count": 10,
      "outputs": [
        {
          "output_type": "execute_result",
          "data": {
            "text/plain": [
              "<1490x24456 sparse matrix of type '<class 'numpy.int64'>'\n",
              "\twith 213866 stored elements in Compressed Sparse Row format>"
            ]
          },
          "metadata": {},
          "execution_count": 10
        }
      ]
    },
    {
      "cell_type": "code",
      "source": [
        "type(BOW)"
      ],
      "metadata": {
        "colab": {
          "base_uri": "https://localhost:8080/"
        },
        "id": "oTtSTOGp_w7k",
        "outputId": "e710e8cb-d137-4fe0-a9d7-0fded21b938d"
      },
      "execution_count": 11,
      "outputs": [
        {
          "output_type": "execute_result",
          "data": {
            "text/plain": [
              "scipy.sparse.csr.csr_matrix"
            ]
          },
          "metadata": {},
          "execution_count": 11
        }
      ]
    },
    {
      "cell_type": "code",
      "source": [
        "BOW.shape"
      ],
      "metadata": {
        "colab": {
          "base_uri": "https://localhost:8080/"
        },
        "id": "kFThr4wP_5Iu",
        "outputId": "f9d1578b-4dda-4c8c-df9d-8b52f39b950c"
      },
      "execution_count": 12,
      "outputs": [
        {
          "output_type": "execute_result",
          "data": {
            "text/plain": [
              "(1490, 24456)"
            ]
          },
          "metadata": {},
          "execution_count": 12
        }
      ]
    },
    {
      "cell_type": "code",
      "source": [
        "len(vector.vocabulary_)"
      ],
      "metadata": {
        "colab": {
          "base_uri": "https://localhost:8080/"
        },
        "id": "_p-gQ9_c_5El",
        "outputId": "f7415b2f-37f1-495a-e9da-817f617f8011"
      },
      "execution_count": 22,
      "outputs": [
        {
          "output_type": "execute_result",
          "data": {
            "text/plain": [
              "24456"
            ]
          },
          "metadata": {},
          "execution_count": 22
        }
      ]
    },
    {
      "cell_type": "markdown",
      "source": [
        "Split the dataset into X and Y"
      ],
      "metadata": {
        "id": "m13jtxQZfe4f"
      }
    },
    {
      "cell_type": "code",
      "source": [
        "x=pd.DataFrame(BOW.toarray(), columns=vector.get_feature_names_out())"
      ],
      "metadata": {
        "id": "N4XfKKaI_5B-"
      },
      "execution_count": 15,
      "outputs": []
    },
    {
      "cell_type": "code",
      "source": [
        "y=news[\"Category\"]"
      ],
      "metadata": {
        "id": "Zb8uZxFK_4-V"
      },
      "execution_count": 16,
      "outputs": []
    },
    {
      "cell_type": "markdown",
      "source": [
        "We have to do the label encoding for the target variable in order to proceed for modelling "
      ],
      "metadata": {
        "id": "PCPxucmbfiA_"
      }
    },
    {
      "cell_type": "code",
      "source": [
        "from sklearn.preprocessing import LabelEncoder"
      ],
      "metadata": {
        "id": "C3D22ZPV_48U"
      },
      "execution_count": 17,
      "outputs": []
    },
    {
      "cell_type": "code",
      "source": [
        "# initialize LabelEncoder\n",
        "lencod = LabelEncoder()\n",
        "# fit_transform() converts the text to numbers\n",
        "news['Category'] = lencod.fit_transform(news['Category'])"
      ],
      "metadata": {
        "id": "DiycsxT8_46d"
      },
      "execution_count": 18,
      "outputs": []
    },
    {
      "cell_type": "code",
      "source": [
        "y=news['Category']"
      ],
      "metadata": {
        "id": "1Qr0ji6y_44a"
      },
      "execution_count": 19,
      "outputs": []
    },
    {
      "cell_type": "code",
      "source": [
        "y"
      ],
      "metadata": {
        "colab": {
          "base_uri": "https://localhost:8080/"
        },
        "id": "9ELhPb3uXUtE",
        "outputId": "196f03b5-2da6-4da0-a7de-a1d9809694cb"
      },
      "execution_count": 20,
      "outputs": [
        {
          "output_type": "execute_result",
          "data": {
            "text/plain": [
              "0       0\n",
              "1       0\n",
              "2       0\n",
              "3       4\n",
              "4       0\n",
              "       ..\n",
              "1485    1\n",
              "1486    1\n",
              "1487    0\n",
              "1488    4\n",
              "1489    4\n",
              "Name: Category, Length: 1490, dtype: int64"
            ]
          },
          "metadata": {},
          "execution_count": 20
        }
      ]
    },
    {
      "cell_type": "markdown",
      "source": [
        "Splitting the dataset into train and test "
      ],
      "metadata": {
        "id": "OebMdOggfpoP"
      }
    },
    {
      "cell_type": "code",
      "source": [
        "from sklearn.model_selection import train_test_split\n",
        "X_train, X_test, y_train, y_test = train_test_split(x, y, test_size = 0.25, random_state = 42)"
      ],
      "metadata": {
        "id": "n6rvKLqZ_42U"
      },
      "execution_count": 21,
      "outputs": []
    },
    {
      "cell_type": "code",
      "source": [
        "X_train"
      ],
      "metadata": {
        "id": "Sqn8R7N7_40c",
        "colab": {
          "base_uri": "https://localhost:8080/",
          "height": 487
        },
        "outputId": "92dc873b-b94b-4223-b643-81023a405feb"
      },
      "execution_count": 23,
      "outputs": [
        {
          "output_type": "execute_result",
          "data": {
            "text/plain": [
              "      00  000  0001  000bn  000m  000th  001  001and  001st  0051  ...  \\\n",
              "179    0    0     0      0     0      0    0       0      0     0  ...   \n",
              "1439   0    0     0      0     0      0    0       0      0     0  ...   \n",
              "1237   0    0     0      0     0      0    0       0      0     0  ...   \n",
              "841    0    0     0      0     0      0    0       0      0     0  ...   \n",
              "1462   0    0     0      0     0      0    0       0      0     0  ...   \n",
              "...   ..  ...   ...    ...   ...    ...  ...     ...    ...   ...  ...   \n",
              "1130   0    0     0      0     0      0    0       0      0     0  ...   \n",
              "1294   0    0     0      0     0      0    0       0      0     0  ...   \n",
              "860    0    1     0      0     0      0    0       0      0     0  ...   \n",
              "1459   0    2     0      0     0      0    0       0      0     0  ...   \n",
              "1126   0    0     0      0     0      0    0       0      0     0  ...   \n",
              "\n",
              "      zonealarm  zones  zoom  zooms  zooropa  zorro  zuluaga  zurich  zutons  \\\n",
              "179           0      0     0      0        0      0        0       0       0   \n",
              "1439          0      0     0      0        0      0        0       0       0   \n",
              "1237          0      0     0      0        0      0        0       0       0   \n",
              "841           0      0     0      0        0      0        0       0       0   \n",
              "1462          0      0     0      0        0      0        0       0       0   \n",
              "...         ...    ...   ...    ...      ...    ...      ...     ...     ...   \n",
              "1130          0      0     0      0        0      0        0       0       0   \n",
              "1294          0      0     0      0        0      0        0       0       0   \n",
              "860           0      0     0      0        0      0        0       0       0   \n",
              "1459          0      0     0      0        0      0        0       0       0   \n",
              "1126          0      0     0      0        0      0        0       0       0   \n",
              "\n",
              "      zvonareva  \n",
              "179           0  \n",
              "1439          0  \n",
              "1237          0  \n",
              "841           0  \n",
              "1462          0  \n",
              "...         ...  \n",
              "1130          0  \n",
              "1294          0  \n",
              "860           0  \n",
              "1459          0  \n",
              "1126          0  \n",
              "\n",
              "[1117 rows x 24456 columns]"
            ],
            "text/html": [
              "\n",
              "  <div id=\"df-903ad206-dac2-488a-b0fa-061a088c3f8c\">\n",
              "    <div class=\"colab-df-container\">\n",
              "      <div>\n",
              "<style scoped>\n",
              "    .dataframe tbody tr th:only-of-type {\n",
              "        vertical-align: middle;\n",
              "    }\n",
              "\n",
              "    .dataframe tbody tr th {\n",
              "        vertical-align: top;\n",
              "    }\n",
              "\n",
              "    .dataframe thead th {\n",
              "        text-align: right;\n",
              "    }\n",
              "</style>\n",
              "<table border=\"1\" class=\"dataframe\">\n",
              "  <thead>\n",
              "    <tr style=\"text-align: right;\">\n",
              "      <th></th>\n",
              "      <th>00</th>\n",
              "      <th>000</th>\n",
              "      <th>0001</th>\n",
              "      <th>000bn</th>\n",
              "      <th>000m</th>\n",
              "      <th>000th</th>\n",
              "      <th>001</th>\n",
              "      <th>001and</th>\n",
              "      <th>001st</th>\n",
              "      <th>0051</th>\n",
              "      <th>...</th>\n",
              "      <th>zonealarm</th>\n",
              "      <th>zones</th>\n",
              "      <th>zoom</th>\n",
              "      <th>zooms</th>\n",
              "      <th>zooropa</th>\n",
              "      <th>zorro</th>\n",
              "      <th>zuluaga</th>\n",
              "      <th>zurich</th>\n",
              "      <th>zutons</th>\n",
              "      <th>zvonareva</th>\n",
              "    </tr>\n",
              "  </thead>\n",
              "  <tbody>\n",
              "    <tr>\n",
              "      <th>179</th>\n",
              "      <td>0</td>\n",
              "      <td>0</td>\n",
              "      <td>0</td>\n",
              "      <td>0</td>\n",
              "      <td>0</td>\n",
              "      <td>0</td>\n",
              "      <td>0</td>\n",
              "      <td>0</td>\n",
              "      <td>0</td>\n",
              "      <td>0</td>\n",
              "      <td>...</td>\n",
              "      <td>0</td>\n",
              "      <td>0</td>\n",
              "      <td>0</td>\n",
              "      <td>0</td>\n",
              "      <td>0</td>\n",
              "      <td>0</td>\n",
              "      <td>0</td>\n",
              "      <td>0</td>\n",
              "      <td>0</td>\n",
              "      <td>0</td>\n",
              "    </tr>\n",
              "    <tr>\n",
              "      <th>1439</th>\n",
              "      <td>0</td>\n",
              "      <td>0</td>\n",
              "      <td>0</td>\n",
              "      <td>0</td>\n",
              "      <td>0</td>\n",
              "      <td>0</td>\n",
              "      <td>0</td>\n",
              "      <td>0</td>\n",
              "      <td>0</td>\n",
              "      <td>0</td>\n",
              "      <td>...</td>\n",
              "      <td>0</td>\n",
              "      <td>0</td>\n",
              "      <td>0</td>\n",
              "      <td>0</td>\n",
              "      <td>0</td>\n",
              "      <td>0</td>\n",
              "      <td>0</td>\n",
              "      <td>0</td>\n",
              "      <td>0</td>\n",
              "      <td>0</td>\n",
              "    </tr>\n",
              "    <tr>\n",
              "      <th>1237</th>\n",
              "      <td>0</td>\n",
              "      <td>0</td>\n",
              "      <td>0</td>\n",
              "      <td>0</td>\n",
              "      <td>0</td>\n",
              "      <td>0</td>\n",
              "      <td>0</td>\n",
              "      <td>0</td>\n",
              "      <td>0</td>\n",
              "      <td>0</td>\n",
              "      <td>...</td>\n",
              "      <td>0</td>\n",
              "      <td>0</td>\n",
              "      <td>0</td>\n",
              "      <td>0</td>\n",
              "      <td>0</td>\n",
              "      <td>0</td>\n",
              "      <td>0</td>\n",
              "      <td>0</td>\n",
              "      <td>0</td>\n",
              "      <td>0</td>\n",
              "    </tr>\n",
              "    <tr>\n",
              "      <th>841</th>\n",
              "      <td>0</td>\n",
              "      <td>0</td>\n",
              "      <td>0</td>\n",
              "      <td>0</td>\n",
              "      <td>0</td>\n",
              "      <td>0</td>\n",
              "      <td>0</td>\n",
              "      <td>0</td>\n",
              "      <td>0</td>\n",
              "      <td>0</td>\n",
              "      <td>...</td>\n",
              "      <td>0</td>\n",
              "      <td>0</td>\n",
              "      <td>0</td>\n",
              "      <td>0</td>\n",
              "      <td>0</td>\n",
              "      <td>0</td>\n",
              "      <td>0</td>\n",
              "      <td>0</td>\n",
              "      <td>0</td>\n",
              "      <td>0</td>\n",
              "    </tr>\n",
              "    <tr>\n",
              "      <th>1462</th>\n",
              "      <td>0</td>\n",
              "      <td>0</td>\n",
              "      <td>0</td>\n",
              "      <td>0</td>\n",
              "      <td>0</td>\n",
              "      <td>0</td>\n",
              "      <td>0</td>\n",
              "      <td>0</td>\n",
              "      <td>0</td>\n",
              "      <td>0</td>\n",
              "      <td>...</td>\n",
              "      <td>0</td>\n",
              "      <td>0</td>\n",
              "      <td>0</td>\n",
              "      <td>0</td>\n",
              "      <td>0</td>\n",
              "      <td>0</td>\n",
              "      <td>0</td>\n",
              "      <td>0</td>\n",
              "      <td>0</td>\n",
              "      <td>0</td>\n",
              "    </tr>\n",
              "    <tr>\n",
              "      <th>...</th>\n",
              "      <td>...</td>\n",
              "      <td>...</td>\n",
              "      <td>...</td>\n",
              "      <td>...</td>\n",
              "      <td>...</td>\n",
              "      <td>...</td>\n",
              "      <td>...</td>\n",
              "      <td>...</td>\n",
              "      <td>...</td>\n",
              "      <td>...</td>\n",
              "      <td>...</td>\n",
              "      <td>...</td>\n",
              "      <td>...</td>\n",
              "      <td>...</td>\n",
              "      <td>...</td>\n",
              "      <td>...</td>\n",
              "      <td>...</td>\n",
              "      <td>...</td>\n",
              "      <td>...</td>\n",
              "      <td>...</td>\n",
              "      <td>...</td>\n",
              "    </tr>\n",
              "    <tr>\n",
              "      <th>1130</th>\n",
              "      <td>0</td>\n",
              "      <td>0</td>\n",
              "      <td>0</td>\n",
              "      <td>0</td>\n",
              "      <td>0</td>\n",
              "      <td>0</td>\n",
              "      <td>0</td>\n",
              "      <td>0</td>\n",
              "      <td>0</td>\n",
              "      <td>0</td>\n",
              "      <td>...</td>\n",
              "      <td>0</td>\n",
              "      <td>0</td>\n",
              "      <td>0</td>\n",
              "      <td>0</td>\n",
              "      <td>0</td>\n",
              "      <td>0</td>\n",
              "      <td>0</td>\n",
              "      <td>0</td>\n",
              "      <td>0</td>\n",
              "      <td>0</td>\n",
              "    </tr>\n",
              "    <tr>\n",
              "      <th>1294</th>\n",
              "      <td>0</td>\n",
              "      <td>0</td>\n",
              "      <td>0</td>\n",
              "      <td>0</td>\n",
              "      <td>0</td>\n",
              "      <td>0</td>\n",
              "      <td>0</td>\n",
              "      <td>0</td>\n",
              "      <td>0</td>\n",
              "      <td>0</td>\n",
              "      <td>...</td>\n",
              "      <td>0</td>\n",
              "      <td>0</td>\n",
              "      <td>0</td>\n",
              "      <td>0</td>\n",
              "      <td>0</td>\n",
              "      <td>0</td>\n",
              "      <td>0</td>\n",
              "      <td>0</td>\n",
              "      <td>0</td>\n",
              "      <td>0</td>\n",
              "    </tr>\n",
              "    <tr>\n",
              "      <th>860</th>\n",
              "      <td>0</td>\n",
              "      <td>1</td>\n",
              "      <td>0</td>\n",
              "      <td>0</td>\n",
              "      <td>0</td>\n",
              "      <td>0</td>\n",
              "      <td>0</td>\n",
              "      <td>0</td>\n",
              "      <td>0</td>\n",
              "      <td>0</td>\n",
              "      <td>...</td>\n",
              "      <td>0</td>\n",
              "      <td>0</td>\n",
              "      <td>0</td>\n",
              "      <td>0</td>\n",
              "      <td>0</td>\n",
              "      <td>0</td>\n",
              "      <td>0</td>\n",
              "      <td>0</td>\n",
              "      <td>0</td>\n",
              "      <td>0</td>\n",
              "    </tr>\n",
              "    <tr>\n",
              "      <th>1459</th>\n",
              "      <td>0</td>\n",
              "      <td>2</td>\n",
              "      <td>0</td>\n",
              "      <td>0</td>\n",
              "      <td>0</td>\n",
              "      <td>0</td>\n",
              "      <td>0</td>\n",
              "      <td>0</td>\n",
              "      <td>0</td>\n",
              "      <td>0</td>\n",
              "      <td>...</td>\n",
              "      <td>0</td>\n",
              "      <td>0</td>\n",
              "      <td>0</td>\n",
              "      <td>0</td>\n",
              "      <td>0</td>\n",
              "      <td>0</td>\n",
              "      <td>0</td>\n",
              "      <td>0</td>\n",
              "      <td>0</td>\n",
              "      <td>0</td>\n",
              "    </tr>\n",
              "    <tr>\n",
              "      <th>1126</th>\n",
              "      <td>0</td>\n",
              "      <td>0</td>\n",
              "      <td>0</td>\n",
              "      <td>0</td>\n",
              "      <td>0</td>\n",
              "      <td>0</td>\n",
              "      <td>0</td>\n",
              "      <td>0</td>\n",
              "      <td>0</td>\n",
              "      <td>0</td>\n",
              "      <td>...</td>\n",
              "      <td>0</td>\n",
              "      <td>0</td>\n",
              "      <td>0</td>\n",
              "      <td>0</td>\n",
              "      <td>0</td>\n",
              "      <td>0</td>\n",
              "      <td>0</td>\n",
              "      <td>0</td>\n",
              "      <td>0</td>\n",
              "      <td>0</td>\n",
              "    </tr>\n",
              "  </tbody>\n",
              "</table>\n",
              "<p>1117 rows × 24456 columns</p>\n",
              "</div>\n",
              "      <button class=\"colab-df-convert\" onclick=\"convertToInteractive('df-903ad206-dac2-488a-b0fa-061a088c3f8c')\"\n",
              "              title=\"Convert this dataframe to an interactive table.\"\n",
              "              style=\"display:none;\">\n",
              "        \n",
              "  <svg xmlns=\"http://www.w3.org/2000/svg\" height=\"24px\"viewBox=\"0 0 24 24\"\n",
              "       width=\"24px\">\n",
              "    <path d=\"M0 0h24v24H0V0z\" fill=\"none\"/>\n",
              "    <path d=\"M18.56 5.44l.94 2.06.94-2.06 2.06-.94-2.06-.94-.94-2.06-.94 2.06-2.06.94zm-11 1L8.5 8.5l.94-2.06 2.06-.94-2.06-.94L8.5 2.5l-.94 2.06-2.06.94zm10 10l.94 2.06.94-2.06 2.06-.94-2.06-.94-.94-2.06-.94 2.06-2.06.94z\"/><path d=\"M17.41 7.96l-1.37-1.37c-.4-.4-.92-.59-1.43-.59-.52 0-1.04.2-1.43.59L10.3 9.45l-7.72 7.72c-.78.78-.78 2.05 0 2.83L4 21.41c.39.39.9.59 1.41.59.51 0 1.02-.2 1.41-.59l7.78-7.78 2.81-2.81c.8-.78.8-2.07 0-2.86zM5.41 20L4 18.59l7.72-7.72 1.47 1.35L5.41 20z\"/>\n",
              "  </svg>\n",
              "      </button>\n",
              "      \n",
              "  <style>\n",
              "    .colab-df-container {\n",
              "      display:flex;\n",
              "      flex-wrap:wrap;\n",
              "      gap: 12px;\n",
              "    }\n",
              "\n",
              "    .colab-df-convert {\n",
              "      background-color: #E8F0FE;\n",
              "      border: none;\n",
              "      border-radius: 50%;\n",
              "      cursor: pointer;\n",
              "      display: none;\n",
              "      fill: #1967D2;\n",
              "      height: 32px;\n",
              "      padding: 0 0 0 0;\n",
              "      width: 32px;\n",
              "    }\n",
              "\n",
              "    .colab-df-convert:hover {\n",
              "      background-color: #E2EBFA;\n",
              "      box-shadow: 0px 1px 2px rgba(60, 64, 67, 0.3), 0px 1px 3px 1px rgba(60, 64, 67, 0.15);\n",
              "      fill: #174EA6;\n",
              "    }\n",
              "\n",
              "    [theme=dark] .colab-df-convert {\n",
              "      background-color: #3B4455;\n",
              "      fill: #D2E3FC;\n",
              "    }\n",
              "\n",
              "    [theme=dark] .colab-df-convert:hover {\n",
              "      background-color: #434B5C;\n",
              "      box-shadow: 0px 1px 3px 1px rgba(0, 0, 0, 0.15);\n",
              "      filter: drop-shadow(0px 1px 2px rgba(0, 0, 0, 0.3));\n",
              "      fill: #FFFFFF;\n",
              "    }\n",
              "  </style>\n",
              "\n",
              "      <script>\n",
              "        const buttonEl =\n",
              "          document.querySelector('#df-903ad206-dac2-488a-b0fa-061a088c3f8c button.colab-df-convert');\n",
              "        buttonEl.style.display =\n",
              "          google.colab.kernel.accessAllowed ? 'block' : 'none';\n",
              "\n",
              "        async function convertToInteractive(key) {\n",
              "          const element = document.querySelector('#df-903ad206-dac2-488a-b0fa-061a088c3f8c');\n",
              "          const dataTable =\n",
              "            await google.colab.kernel.invokeFunction('convertToInteractive',\n",
              "                                                     [key], {});\n",
              "          if (!dataTable) return;\n",
              "\n",
              "          const docLinkHtml = 'Like what you see? Visit the ' +\n",
              "            '<a target=\"_blank\" href=https://colab.research.google.com/notebooks/data_table.ipynb>data table notebook</a>'\n",
              "            + ' to learn more about interactive tables.';\n",
              "          element.innerHTML = '';\n",
              "          dataTable['output_type'] = 'display_data';\n",
              "          await google.colab.output.renderOutput(dataTable, element);\n",
              "          const docLink = document.createElement('div');\n",
              "          docLink.innerHTML = docLinkHtml;\n",
              "          element.appendChild(docLink);\n",
              "        }\n",
              "      </script>\n",
              "    </div>\n",
              "  </div>\n",
              "  "
            ]
          },
          "metadata": {},
          "execution_count": 23
        }
      ]
    },
    {
      "cell_type": "markdown",
      "source": [
        "Now we will do the Modelling using different models and find out which one gives the best results"
      ],
      "metadata": {
        "id": "6rr7lOREfw2f"
      }
    },
    {
      "cell_type": "code",
      "source": [
        "from sklearn.linear_model import LogisticRegression\n",
        "from sklearn.svm import SVC\n",
        "from sklearn.tree import DecisionTreeClassifier\n",
        "from sklearn.ensemble import RandomForestClassifier\n",
        "from xgboost import XGBClassifier\n",
        "from sklearn.ensemble import AdaBoostClassifier\n",
        "from sklearn.ensemble import GradientBoostingClassifier\n",
        "from sklearn.ensemble import BaggingClassifier\n",
        "from sklearn.naive_bayes import GaussianNB\n",
        "from sklearn.model_selection import GridSearchCV\n",
        "from sklearn.metrics import f1_score\n",
        "from sklearn.metrics import recall_score\n",
        "from sklearn.metrics import precision_score\n",
        "from sklearn.metrics import accuracy_score\n",
        "from sklearn.metrics import confusion_matrix, classification_report"
      ],
      "metadata": {
        "id": "1drVXLp-_4yU"
      },
      "execution_count": 24,
      "outputs": []
    },
    {
      "cell_type": "markdown",
      "source": [
        "1.Logistic Regression"
      ],
      "metadata": {
        "id": "H1n43Q8badiL"
      }
    },
    {
      "cell_type": "code",
      "source": [
        "log_model=LogisticRegression()\n",
        "log_model.fit(X_train,y_train)\n",
        "\n",
        "y_predict=log_model.predict(X_test)"
      ],
      "metadata": {
        "id": "13XXb_mE_4wE"
      },
      "execution_count": 25,
      "outputs": []
    },
    {
      "cell_type": "code",
      "source": [
        "print(\"Results from logistic regression are as below\")\n",
        "log_result = classification_report(y_predict,y_test,output_dict=True)\n",
        "log_result = pd.DataFrame(log_result).transpose()\n",
        "log_result.style.background_gradient(cmap=\"BuPu\")"
      ],
      "metadata": {
        "colab": {
          "base_uri": "https://localhost:8080/",
          "height": 317
        },
        "id": "yqveIVZqaxHt",
        "outputId": "66d53661-4592-4621-8d01-27b050d68ab9"
      },
      "execution_count": 26,
      "outputs": [
        {
          "output_type": "stream",
          "name": "stdout",
          "text": [
            "Results from logistic regression are as below\n"
          ]
        },
        {
          "output_type": "execute_result",
          "data": {
            "text/plain": [
              "<pandas.io.formats.style.Styler at 0x7f7130b771f0>"
            ],
            "text/html": [
              "<style type=\"text/css\">\n",
              "#T_19db0_row0_col0 {\n",
              "  background-color: #8b65ae;\n",
              "  color: #f1f1f1;\n",
              "}\n",
              "#T_19db0_row0_col1, #T_19db0_row5_col0 {\n",
              "  background-color: #8c6eb3;\n",
              "  color: #f1f1f1;\n",
              "}\n",
              "#T_19db0_row0_col2 {\n",
              "  background-color: #8c75b6;\n",
              "  color: #f1f1f1;\n",
              "}\n",
              "#T_19db0_row0_col3 {\n",
              "  background-color: #c1d4e7;\n",
              "  color: #000000;\n",
              "}\n",
              "#T_19db0_row1_col0 {\n",
              "  background-color: #842289;\n",
              "  color: #f1f1f1;\n",
              "}\n",
              "#T_19db0_row1_col1, #T_19db0_row4_col0, #T_19db0_row4_col2, #T_19db0_row5_col3 {\n",
              "  background-color: #f7fcfd;\n",
              "  color: #000000;\n",
              "}\n",
              "#T_19db0_row1_col2 {\n",
              "  background-color: #8c6cb1;\n",
              "  color: #f1f1f1;\n",
              "}\n",
              "#T_19db0_row1_col3 {\n",
              "  background-color: #d3e2ef;\n",
              "  color: #000000;\n",
              "}\n",
              "#T_19db0_row2_col0 {\n",
              "  background-color: #8c89c0;\n",
              "  color: #f1f1f1;\n",
              "}\n",
              "#T_19db0_row2_col1 {\n",
              "  background-color: #d2e2ee;\n",
              "  color: #000000;\n",
              "}\n",
              "#T_19db0_row2_col2 {\n",
              "  background-color: #9ab3d5;\n",
              "  color: #000000;\n",
              "}\n",
              "#T_19db0_row2_col3 {\n",
              "  background-color: #cfdfed;\n",
              "  color: #000000;\n",
              "}\n",
              "#T_19db0_row3_col0, #T_19db0_row3_col1, #T_19db0_row3_col2, #T_19db0_row6_col3, #T_19db0_row7_col3 {\n",
              "  background-color: #4d004b;\n",
              "  color: #f1f1f1;\n",
              "}\n",
              "#T_19db0_row3_col3 {\n",
              "  background-color: #c7d9e9;\n",
              "  color: #000000;\n",
              "}\n",
              "#T_19db0_row4_col1 {\n",
              "  background-color: #8c69b0;\n",
              "  color: #f1f1f1;\n",
              "}\n",
              "#T_19db0_row4_col3 {\n",
              "  background-color: #d7e5f0;\n",
              "  color: #000000;\n",
              "}\n",
              "#T_19db0_row5_col1, #T_19db0_row7_col1 {\n",
              "  background-color: #8c91c4;\n",
              "  color: #f1f1f1;\n",
              "}\n",
              "#T_19db0_row5_col2 {\n",
              "  background-color: #8c85be;\n",
              "  color: #f1f1f1;\n",
              "}\n",
              "#T_19db0_row6_col0 {\n",
              "  background-color: #8c74b5;\n",
              "  color: #f1f1f1;\n",
              "}\n",
              "#T_19db0_row6_col1 {\n",
              "  background-color: #8f9bc9;\n",
              "  color: #f1f1f1;\n",
              "}\n",
              "#T_19db0_row6_col2 {\n",
              "  background-color: #8c8dc2;\n",
              "  color: #f1f1f1;\n",
              "}\n",
              "#T_19db0_row7_col0 {\n",
              "  background-color: #8c6ab1;\n",
              "  color: #f1f1f1;\n",
              "}\n",
              "#T_19db0_row7_col2 {\n",
              "  background-color: #8c84bd;\n",
              "  color: #f1f1f1;\n",
              "}\n",
              "</style>\n",
              "<table id=\"T_19db0_\" class=\"dataframe\">\n",
              "  <thead>\n",
              "    <tr>\n",
              "      <th class=\"blank level0\" >&nbsp;</th>\n",
              "      <th class=\"col_heading level0 col0\" >precision</th>\n",
              "      <th class=\"col_heading level0 col1\" >recall</th>\n",
              "      <th class=\"col_heading level0 col2\" >f1-score</th>\n",
              "      <th class=\"col_heading level0 col3\" >support</th>\n",
              "    </tr>\n",
              "  </thead>\n",
              "  <tbody>\n",
              "    <tr>\n",
              "      <th id=\"T_19db0_level0_row0\" class=\"row_heading level0 row0\" >0</th>\n",
              "      <td id=\"T_19db0_row0_col0\" class=\"data row0 col0\" >0.967391</td>\n",
              "      <td id=\"T_19db0_row0_col1\" class=\"data row0 col1\" >0.967391</td>\n",
              "      <td id=\"T_19db0_row0_col2\" class=\"data row0 col2\" >0.967391</td>\n",
              "      <td id=\"T_19db0_row0_col3\" class=\"data row0 col3\" >92.000000</td>\n",
              "    </tr>\n",
              "    <tr>\n",
              "      <th id=\"T_19db0_level0_row1\" class=\"row_heading level0 row1\" >1</th>\n",
              "      <td id=\"T_19db0_row1_col0\" class=\"data row1 col0\" >0.984127</td>\n",
              "      <td id=\"T_19db0_row1_col1\" class=\"data row1 col1\" >0.953846</td>\n",
              "      <td id=\"T_19db0_row1_col2\" class=\"data row1 col2\" >0.968750</td>\n",
              "      <td id=\"T_19db0_row1_col3\" class=\"data row1 col3\" >65.000000</td>\n",
              "    </tr>\n",
              "    <tr>\n",
              "      <th id=\"T_19db0_level0_row2\" class=\"row_heading level0 row2\" >2</th>\n",
              "      <td id=\"T_19db0_row2_col0\" class=\"data row2 col0\" >0.957746</td>\n",
              "      <td id=\"T_19db0_row2_col1\" class=\"data row2 col1\" >0.957746</td>\n",
              "      <td id=\"T_19db0_row2_col2\" class=\"data row2 col2\" >0.957746</td>\n",
              "      <td id=\"T_19db0_row2_col3\" class=\"data row2 col3\" >71.000000</td>\n",
              "    </tr>\n",
              "    <tr>\n",
              "      <th id=\"T_19db0_level0_row3\" class=\"row_heading level0 row3\" >3</th>\n",
              "      <td id=\"T_19db0_row3_col0\" class=\"data row3 col0\" >1.000000</td>\n",
              "      <td id=\"T_19db0_row3_col1\" class=\"data row3 col1\" >0.975904</td>\n",
              "      <td id=\"T_19db0_row3_col2\" class=\"data row3 col2\" >0.987805</td>\n",
              "      <td id=\"T_19db0_row3_col3\" class=\"data row3 col3\" >83.000000</td>\n",
              "    </tr>\n",
              "    <tr>\n",
              "      <th id=\"T_19db0_level0_row4\" class=\"row_heading level0 row4\" >4</th>\n",
              "      <td id=\"T_19db0_row4_col0\" class=\"data row4 col0\" >0.909091</td>\n",
              "      <td id=\"T_19db0_row4_col1\" class=\"data row4 col1\" >0.967742</td>\n",
              "      <td id=\"T_19db0_row4_col2\" class=\"data row4 col2\" >0.937500</td>\n",
              "      <td id=\"T_19db0_row4_col3\" class=\"data row4 col3\" >62.000000</td>\n",
              "    </tr>\n",
              "    <tr>\n",
              "      <th id=\"T_19db0_level0_row5\" class=\"row_heading level0 row5\" >accuracy</th>\n",
              "      <td id=\"T_19db0_row5_col0\" class=\"data row5 col0\" >0.965147</td>\n",
              "      <td id=\"T_19db0_row5_col1\" class=\"data row5 col1\" >0.965147</td>\n",
              "      <td id=\"T_19db0_row5_col2\" class=\"data row5 col2\" >0.965147</td>\n",
              "      <td id=\"T_19db0_row5_col3\" class=\"data row5 col3\" >0.965147</td>\n",
              "    </tr>\n",
              "    <tr>\n",
              "      <th id=\"T_19db0_level0_row6\" class=\"row_heading level0 row6\" >macro avg</th>\n",
              "      <td id=\"T_19db0_row6_col0\" class=\"data row6 col0\" >0.963671</td>\n",
              "      <td id=\"T_19db0_row6_col1\" class=\"data row6 col1\" >0.964526</td>\n",
              "      <td id=\"T_19db0_row6_col2\" class=\"data row6 col2\" >0.963839</td>\n",
              "      <td id=\"T_19db0_row6_col3\" class=\"data row6 col3\" >373.000000</td>\n",
              "    </tr>\n",
              "    <tr>\n",
              "      <th id=\"T_19db0_level0_row7\" class=\"row_heading level0 row7\" >weighted avg</th>\n",
              "      <td id=\"T_19db0_row7_col0\" class=\"data row7 col0\" >0.966037</td>\n",
              "      <td id=\"T_19db0_row7_col1\" class=\"data row7 col1\" >0.965147</td>\n",
              "      <td id=\"T_19db0_row7_col2\" class=\"data row7 col2\" >0.965366</td>\n",
              "      <td id=\"T_19db0_row7_col3\" class=\"data row7 col3\" >373.000000</td>\n",
              "    </tr>\n",
              "  </tbody>\n",
              "</table>\n"
            ]
          },
          "metadata": {},
          "execution_count": 26
        }
      ]
    },
    {
      "cell_type": "code",
      "source": [
        "print(\"Confusion Matrix of Logistic Regression \\n\" ,confusion_matrix(y_predict,y_test))"
      ],
      "metadata": {
        "colab": {
          "base_uri": "https://localhost:8080/"
        },
        "id": "A9dhXYFUbYHI",
        "outputId": "4e2d71d9-9f6e-44a8-a4f8-ecf98feaf02e"
      },
      "execution_count": 31,
      "outputs": [
        {
          "output_type": "stream",
          "name": "stdout",
          "text": [
            "Confusion Matrix of Logistic Regression \n",
            " [[89  1  1  0  1]\n",
            " [ 0 62  1  0  2]\n",
            " [ 1  0 68  0  2]\n",
            " [ 0  0  1 81  1]\n",
            " [ 2  0  0  0 60]]\n"
          ]
        }
      ]
    },
    {
      "cell_type": "markdown",
      "source": [
        "2.DECISION TREE"
      ],
      "metadata": {
        "id": "oi32m6Lga8ru"
      }
    },
    {
      "cell_type": "code",
      "source": [
        "DT = DecisionTreeClassifier()\n",
        "DT.fit(X_train, y_train)\n",
        "y_pred2 = DT.predict(X_test)"
      ],
      "metadata": {
        "id": "FXdYWatoa8gE"
      },
      "execution_count": 27,
      "outputs": []
    },
    {
      "cell_type": "code",
      "source": [
        "print(\"Results from Decision Tree are as below\")\n",
        "DT_result = classification_report(y_pred2,y_test,output_dict=True)\n",
        "DT_result = pd.DataFrame(DT_result).transpose()\n",
        "DT_result.style.background_gradient(cmap=\"BuPu\")"
      ],
      "metadata": {
        "colab": {
          "base_uri": "https://localhost:8080/",
          "height": 317
        },
        "id": "q8omJwsLa8dh",
        "outputId": "6213515b-f1b0-408a-8c46-5a13df607a9f"
      },
      "execution_count": 28,
      "outputs": [
        {
          "output_type": "stream",
          "name": "stdout",
          "text": [
            "Results from Decision Tree are as below\n"
          ]
        },
        {
          "output_type": "execute_result",
          "data": {
            "text/plain": [
              "<pandas.io.formats.style.Styler at 0x7f7130d21be0>"
            ],
            "text/html": [
              "<style type=\"text/css\">\n",
              "#T_ba5e9_row0_col0, #T_ba5e9_row0_col2, #T_ba5e9_row2_col1, #T_ba5e9_row5_col3 {\n",
              "  background-color: #f7fcfd;\n",
              "  color: #000000;\n",
              "}\n",
              "#T_ba5e9_row0_col1 {\n",
              "  background-color: #894ba2;\n",
              "  color: #f1f1f1;\n",
              "}\n",
              "#T_ba5e9_row0_col3 {\n",
              "  background-color: #cbdceb;\n",
              "  color: #000000;\n",
              "}\n",
              "#T_ba5e9_row1_col0 {\n",
              "  background-color: #93a5ce;\n",
              "  color: #f1f1f1;\n",
              "}\n",
              "#T_ba5e9_row1_col1 {\n",
              "  background-color: #adc7e0;\n",
              "  color: #000000;\n",
              "}\n",
              "#T_ba5e9_row1_col2 {\n",
              "  background-color: #bfd3e6;\n",
              "  color: #000000;\n",
              "}\n",
              "#T_ba5e9_row1_col3, #T_ba5e9_row4_col3 {\n",
              "  background-color: #d3e2ef;\n",
              "  color: #000000;\n",
              "}\n",
              "#T_ba5e9_row2_col0 {\n",
              "  background-color: #8d99c8;\n",
              "  color: #f1f1f1;\n",
              "}\n",
              "#T_ba5e9_row2_col2 {\n",
              "  background-color: #ddeaf3;\n",
              "  color: #000000;\n",
              "}\n",
              "#T_ba5e9_row2_col3 {\n",
              "  background-color: #cadbeb;\n",
              "  color: #000000;\n",
              "}\n",
              "#T_ba5e9_row3_col0, #T_ba5e9_row3_col1, #T_ba5e9_row3_col2, #T_ba5e9_row6_col3, #T_ba5e9_row7_col3 {\n",
              "  background-color: #4d004b;\n",
              "  color: #f1f1f1;\n",
              "}\n",
              "#T_ba5e9_row3_col3 {\n",
              "  background-color: #c4d7e8;\n",
              "  color: #000000;\n",
              "}\n",
              "#T_ba5e9_row4_col0 {\n",
              "  background-color: #c2d5e7;\n",
              "  color: #000000;\n",
              "}\n",
              "#T_ba5e9_row4_col1 {\n",
              "  background-color: #cfdfed;\n",
              "  color: #000000;\n",
              "}\n",
              "#T_ba5e9_row4_col2 {\n",
              "  background-color: #f4fafc;\n",
              "  color: #000000;\n",
              "}\n",
              "#T_ba5e9_row5_col0 {\n",
              "  background-color: #96acd2;\n",
              "  color: #f1f1f1;\n",
              "}\n",
              "#T_ba5e9_row5_col1, #T_ba5e9_row7_col1 {\n",
              "  background-color: #909eca;\n",
              "  color: #f1f1f1;\n",
              "}\n",
              "#T_ba5e9_row5_col2 {\n",
              "  background-color: #b2cae1;\n",
              "  color: #000000;\n",
              "}\n",
              "#T_ba5e9_row6_col0 {\n",
              "  background-color: #95aad0;\n",
              "  color: #f1f1f1;\n",
              "}\n",
              "#T_ba5e9_row6_col1 {\n",
              "  background-color: #94a7cf;\n",
              "  color: #f1f1f1;\n",
              "}\n",
              "#T_ba5e9_row6_col2 {\n",
              "  background-color: #b6cde3;\n",
              "  color: #000000;\n",
              "}\n",
              "#T_ba5e9_row7_col0 {\n",
              "  background-color: #92a3cd;\n",
              "  color: #f1f1f1;\n",
              "}\n",
              "#T_ba5e9_row7_col2 {\n",
              "  background-color: #afc8e0;\n",
              "  color: #000000;\n",
              "}\n",
              "</style>\n",
              "<table id=\"T_ba5e9_\" class=\"dataframe\">\n",
              "  <thead>\n",
              "    <tr>\n",
              "      <th class=\"blank level0\" >&nbsp;</th>\n",
              "      <th class=\"col_heading level0 col0\" >precision</th>\n",
              "      <th class=\"col_heading level0 col1\" >recall</th>\n",
              "      <th class=\"col_heading level0 col2\" >f1-score</th>\n",
              "      <th class=\"col_heading level0 col3\" >support</th>\n",
              "    </tr>\n",
              "  </thead>\n",
              "  <tbody>\n",
              "    <tr>\n",
              "      <th id=\"T_ba5e9_level0_row0\" class=\"row_heading level0 row0\" >0</th>\n",
              "      <td id=\"T_ba5e9_row0_col0\" class=\"data row0 col0\" >0.684783</td>\n",
              "      <td id=\"T_ba5e9_row0_col1\" class=\"data row0 col1\" >0.818182</td>\n",
              "      <td id=\"T_ba5e9_row0_col2\" class=\"data row0 col2\" >0.745562</td>\n",
              "      <td id=\"T_ba5e9_row0_col3\" class=\"data row0 col3\" >77.000000</td>\n",
              "    </tr>\n",
              "    <tr>\n",
              "      <th id=\"T_ba5e9_level0_row1\" class=\"row_heading level0 row1\" >1</th>\n",
              "      <td id=\"T_ba5e9_row1_col0\" class=\"data row1 col0\" >0.793651</td>\n",
              "      <td id=\"T_ba5e9_row1_col1\" class=\"data row1 col1\" >0.769231</td>\n",
              "      <td id=\"T_ba5e9_row1_col2\" class=\"data row1 col2\" >0.781250</td>\n",
              "      <td id=\"T_ba5e9_row1_col3\" class=\"data row1 col3\" >65.000000</td>\n",
              "    </tr>\n",
              "    <tr>\n",
              "      <th id=\"T_ba5e9_level0_row2\" class=\"row_heading level0 row2\" >2</th>\n",
              "      <td id=\"T_ba5e9_row2_col0\" class=\"data row2 col0\" >0.802817</td>\n",
              "      <td id=\"T_ba5e9_row2_col1\" class=\"data row2 col1\" >0.730769</td>\n",
              "      <td id=\"T_ba5e9_row2_col2\" class=\"data row2 col2\" >0.765101</td>\n",
              "      <td id=\"T_ba5e9_row2_col3\" class=\"data row2 col3\" >78.000000</td>\n",
              "    </tr>\n",
              "    <tr>\n",
              "      <th id=\"T_ba5e9_level0_row3\" class=\"row_heading level0 row3\" >3</th>\n",
              "      <td id=\"T_ba5e9_row3_col0\" class=\"data row3 col0\" >0.925926</td>\n",
              "      <td id=\"T_ba5e9_row3_col1\" class=\"data row3 col1\" >0.852273</td>\n",
              "      <td id=\"T_ba5e9_row3_col2\" class=\"data row3 col2\" >0.887574</td>\n",
              "      <td id=\"T_ba5e9_row3_col3\" class=\"data row3 col3\" >88.000000</td>\n",
              "    </tr>\n",
              "    <tr>\n",
              "      <th id=\"T_ba5e9_level0_row4\" class=\"row_heading level0 row4\" >4</th>\n",
              "      <td id=\"T_ba5e9_row4_col0\" class=\"data row4 col0\" >0.742424</td>\n",
              "      <td id=\"T_ba5e9_row4_col1\" class=\"data row4 col1\" >0.753846</td>\n",
              "      <td id=\"T_ba5e9_row4_col2\" class=\"data row4 col2\" >0.748092</td>\n",
              "      <td id=\"T_ba5e9_row4_col3\" class=\"data row4 col3\" >65.000000</td>\n",
              "    </tr>\n",
              "    <tr>\n",
              "      <th id=\"T_ba5e9_level0_row5\" class=\"row_heading level0 row5\" >accuracy</th>\n",
              "      <td id=\"T_ba5e9_row5_col0\" class=\"data row5 col0\" >0.788204</td>\n",
              "      <td id=\"T_ba5e9_row5_col1\" class=\"data row5 col1\" >0.788204</td>\n",
              "      <td id=\"T_ba5e9_row5_col2\" class=\"data row5 col2\" >0.788204</td>\n",
              "      <td id=\"T_ba5e9_row5_col3\" class=\"data row5 col3\" >0.788204</td>\n",
              "    </tr>\n",
              "    <tr>\n",
              "      <th id=\"T_ba5e9_level0_row6\" class=\"row_heading level0 row6\" >macro avg</th>\n",
              "      <td id=\"T_ba5e9_row6_col0\" class=\"data row6 col0\" >0.789920</td>\n",
              "      <td id=\"T_ba5e9_row6_col1\" class=\"data row6 col1\" >0.784860</td>\n",
              "      <td id=\"T_ba5e9_row6_col2\" class=\"data row6 col2\" >0.785516</td>\n",
              "      <td id=\"T_ba5e9_row6_col3\" class=\"data row6 col3\" >373.000000</td>\n",
              "    </tr>\n",
              "    <tr>\n",
              "      <th id=\"T_ba5e9_level0_row7\" class=\"row_heading level0 row7\" >weighted avg</th>\n",
              "      <td id=\"T_ba5e9_row7_col0\" class=\"data row7 col0\" >0.795374</td>\n",
              "      <td id=\"T_ba5e9_row7_col1\" class=\"data row7 col1\" >0.788204</td>\n",
              "      <td id=\"T_ba5e9_row7_col2\" class=\"data row7 col2\" >0.789812</td>\n",
              "      <td id=\"T_ba5e9_row7_col3\" class=\"data row7 col3\" >373.000000</td>\n",
              "    </tr>\n",
              "  </tbody>\n",
              "</table>\n"
            ]
          },
          "metadata": {},
          "execution_count": 28
        }
      ]
    },
    {
      "cell_type": "code",
      "source": [
        "print(\"Confusion Matrix of Decision Tree \\n\" ,confusion_matrix(y_pred2,y_test))"
      ],
      "metadata": {
        "colab": {
          "base_uri": "https://localhost:8080/"
        },
        "id": "dbHb8hedba7B",
        "outputId": "8a960567-6a5c-483d-f74b-33fa71ad22f2"
      },
      "execution_count": 32,
      "outputs": [
        {
          "output_type": "stream",
          "name": "stdout",
          "text": [
            "Confusion Matrix of Decision Tree \n",
            " [[63  3  4  2  5]\n",
            " [ 2 50  4  1  8]\n",
            " [12  4 57  3  2]\n",
            " [ 8  2  1 75  2]\n",
            " [ 7  4  5  0 49]]\n"
          ]
        }
      ]
    },
    {
      "cell_type": "markdown",
      "source": [
        "3.Random Forest"
      ],
      "metadata": {
        "id": "gmDOLTRebJRR"
      }
    },
    {
      "cell_type": "code",
      "source": [
        "RF = RandomForestClassifier()\n",
        "RF.fit(X_train,y_train) \n",
        "y_pred3 = RF.predict(X_test)"
      ],
      "metadata": {
        "id": "LyhoOSora8bK"
      },
      "execution_count": 29,
      "outputs": []
    },
    {
      "cell_type": "code",
      "source": [
        "print(\"Results from Random Forest are as below\")\n",
        "RF_result = classification_report(y_pred3,y_test,output_dict=True)\n",
        "RF_result = pd.DataFrame(RF_result).transpose()\n",
        "RF_result.style.background_gradient(cmap=\"BuPu\")"
      ],
      "metadata": {
        "colab": {
          "base_uri": "https://localhost:8080/",
          "height": 317
        },
        "id": "K83gW95Oa8Y7",
        "outputId": "3d3add7f-0fa0-4b99-e7ad-436bf54169e0"
      },
      "execution_count": 30,
      "outputs": [
        {
          "output_type": "stream",
          "name": "stdout",
          "text": [
            "Results from Random Forest are as below\n"
          ]
        },
        {
          "output_type": "execute_result",
          "data": {
            "text/plain": [
              "<pandas.io.formats.style.Styler at 0x7f7138cbb520>"
            ],
            "text/html": [
              "<style type=\"text/css\">\n",
              "#T_d3c59_row0_col0 {\n",
              "  background-color: #8c86be;\n",
              "  color: #f1f1f1;\n",
              "}\n",
              "#T_d3c59_row0_col1, #T_d3c59_row1_col0, #T_d3c59_row4_col2, #T_d3c59_row5_col3 {\n",
              "  background-color: #f7fcfd;\n",
              "  color: #000000;\n",
              "}\n",
              "#T_d3c59_row0_col2 {\n",
              "  background-color: #b3cbe2;\n",
              "  color: #000000;\n",
              "}\n",
              "#T_d3c59_row0_col3 {\n",
              "  background-color: #bfd3e6;\n",
              "  color: #000000;\n",
              "}\n",
              "#T_d3c59_row1_col1, #T_d3c59_row3_col0, #T_d3c59_row3_col2, #T_d3c59_row6_col3, #T_d3c59_row7_col3 {\n",
              "  background-color: #4d004b;\n",
              "  color: #f1f1f1;\n",
              "}\n",
              "#T_d3c59_row1_col2 {\n",
              "  background-color: #8a55a7;\n",
              "  color: #f1f1f1;\n",
              "}\n",
              "#T_d3c59_row1_col3 {\n",
              "  background-color: #d8e6f0;\n",
              "  color: #000000;\n",
              "}\n",
              "#T_d3c59_row2_col0 {\n",
              "  background-color: #99b2d5;\n",
              "  color: #000000;\n",
              "}\n",
              "#T_d3c59_row2_col1 {\n",
              "  background-color: #8b5daa;\n",
              "  color: #f1f1f1;\n",
              "}\n",
              "#T_d3c59_row2_col2 {\n",
              "  background-color: #831a83;\n",
              "  color: #f1f1f1;\n",
              "}\n",
              "#T_d3c59_row2_col3 {\n",
              "  background-color: #d0e0ed;\n",
              "  color: #000000;\n",
              "}\n",
              "#T_d3c59_row3_col1 {\n",
              "  background-color: #d7e5f0;\n",
              "  color: #000000;\n",
              "}\n",
              "#T_d3c59_row3_col3 {\n",
              "  background-color: #c6d8e9;\n",
              "  color: #000000;\n",
              "}\n",
              "#T_d3c59_row4_col0 {\n",
              "  background-color: #eff6fa;\n",
              "  color: #000000;\n",
              "}\n",
              "#T_d3c59_row4_col1 {\n",
              "  background-color: #b9cee4;\n",
              "  color: #000000;\n",
              "}\n",
              "#T_d3c59_row4_col3 {\n",
              "  background-color: #d3e2ef;\n",
              "  color: #000000;\n",
              "}\n",
              "#T_d3c59_row5_col0 {\n",
              "  background-color: #95aad0;\n",
              "  color: #f1f1f1;\n",
              "}\n",
              "#T_d3c59_row5_col1, #T_d3c59_row7_col1 {\n",
              "  background-color: #a0bddb;\n",
              "  color: #000000;\n",
              "}\n",
              "#T_d3c59_row5_col2, #T_d3c59_row7_col2 {\n",
              "  background-color: #8c7eba;\n",
              "  color: #f1f1f1;\n",
              "}\n",
              "#T_d3c59_row6_col0 {\n",
              "  background-color: #9ab4d6;\n",
              "  color: #000000;\n",
              "}\n",
              "#T_d3c59_row6_col1 {\n",
              "  background-color: #98aed3;\n",
              "  color: #000000;\n",
              "}\n",
              "#T_d3c59_row6_col2 {\n",
              "  background-color: #8c80bb;\n",
              "  color: #f1f1f1;\n",
              "}\n",
              "#T_d3c59_row7_col0 {\n",
              "  background-color: #94a6ce;\n",
              "  color: #f1f1f1;\n",
              "}\n",
              "</style>\n",
              "<table id=\"T_d3c59_\" class=\"dataframe\">\n",
              "  <thead>\n",
              "    <tr>\n",
              "      <th class=\"blank level0\" >&nbsp;</th>\n",
              "      <th class=\"col_heading level0 col0\" >precision</th>\n",
              "      <th class=\"col_heading level0 col1\" >recall</th>\n",
              "      <th class=\"col_heading level0 col2\" >f1-score</th>\n",
              "      <th class=\"col_heading level0 col3\" >support</th>\n",
              "    </tr>\n",
              "  </thead>\n",
              "  <tbody>\n",
              "    <tr>\n",
              "      <th id=\"T_d3c59_level0_row0\" class=\"row_heading level0 row0\" >0</th>\n",
              "      <td id=\"T_d3c59_row0_col0\" class=\"data row0 col0\" >0.978261</td>\n",
              "      <td id=\"T_d3c59_row0_col1\" class=\"data row0 col1\" >0.957447</td>\n",
              "      <td id=\"T_d3c59_row0_col2\" class=\"data row0 col2\" >0.967742</td>\n",
              "      <td id=\"T_d3c59_row0_col3\" class=\"data row0 col3\" >94.000000</td>\n",
              "    </tr>\n",
              "    <tr>\n",
              "      <th id=\"T_d3c59_level0_row1\" class=\"row_heading level0 row1\" >1</th>\n",
              "      <td id=\"T_d3c59_row1_col0\" class=\"data row1 col0\" >0.952381</td>\n",
              "      <td id=\"T_d3c59_row1_col1\" class=\"data row1 col1\" >1.000000</td>\n",
              "      <td id=\"T_d3c59_row1_col2\" class=\"data row1 col2\" >0.975610</td>\n",
              "      <td id=\"T_d3c59_row1_col3\" class=\"data row1 col3\" >60.000000</td>\n",
              "    </tr>\n",
              "    <tr>\n",
              "      <th id=\"T_d3c59_level0_row2\" class=\"row_heading level0 row2\" >2</th>\n",
              "      <td id=\"T_d3c59_row2_col0\" class=\"data row2 col0\" >0.971831</td>\n",
              "      <td id=\"T_d3c59_row2_col1\" class=\"data row2 col1\" >0.985714</td>\n",
              "      <td id=\"T_d3c59_row2_col2\" class=\"data row2 col2\" >0.978723</td>\n",
              "      <td id=\"T_d3c59_row2_col3\" class=\"data row2 col3\" >70.000000</td>\n",
              "    </tr>\n",
              "    <tr>\n",
              "      <th id=\"T_d3c59_level0_row3\" class=\"row_heading level0 row3\" >3</th>\n",
              "      <td id=\"T_d3c59_row3_col0\" class=\"data row3 col0\" >1.000000</td>\n",
              "      <td id=\"T_d3c59_row3_col1\" class=\"data row3 col1\" >0.964286</td>\n",
              "      <td id=\"T_d3c59_row3_col2\" class=\"data row3 col2\" >0.981818</td>\n",
              "      <td id=\"T_d3c59_row3_col3\" class=\"data row3 col3\" >84.000000</td>\n",
              "    </tr>\n",
              "    <tr>\n",
              "      <th id=\"T_d3c59_level0_row4\" class=\"row_heading level0 row4\" >4</th>\n",
              "      <td id=\"T_d3c59_row4_col0\" class=\"data row4 col0\" >0.954545</td>\n",
              "      <td id=\"T_d3c59_row4_col1\" class=\"data row4 col1\" >0.969231</td>\n",
              "      <td id=\"T_d3c59_row4_col2\" class=\"data row4 col2\" >0.961832</td>\n",
              "      <td id=\"T_d3c59_row4_col3\" class=\"data row4 col3\" >65.000000</td>\n",
              "    </tr>\n",
              "    <tr>\n",
              "      <th id=\"T_d3c59_level0_row5\" class=\"row_heading level0 row5\" >accuracy</th>\n",
              "      <td id=\"T_d3c59_row5_col0\" class=\"data row5 col0\" >0.973190</td>\n",
              "      <td id=\"T_d3c59_row5_col1\" class=\"data row5 col1\" >0.973190</td>\n",
              "      <td id=\"T_d3c59_row5_col2\" class=\"data row5 col2\" >0.973190</td>\n",
              "      <td id=\"T_d3c59_row5_col3\" class=\"data row5 col3\" >0.973190</td>\n",
              "    </tr>\n",
              "    <tr>\n",
              "      <th id=\"T_d3c59_level0_row6\" class=\"row_heading level0 row6\" >macro avg</th>\n",
              "      <td id=\"T_d3c59_row6_col0\" class=\"data row6 col0\" >0.971404</td>\n",
              "      <td id=\"T_d3c59_row6_col1\" class=\"data row6 col1\" >0.975336</td>\n",
              "      <td id=\"T_d3c59_row6_col2\" class=\"data row6 col2\" >0.973145</td>\n",
              "      <td id=\"T_d3c59_row6_col3\" class=\"data row6 col3\" >373.000000</td>\n",
              "    </tr>\n",
              "    <tr>\n",
              "      <th id=\"T_d3c59_level0_row7\" class=\"row_heading level0 row7\" >weighted avg</th>\n",
              "      <td id=\"T_d3c59_row7_col0\" class=\"data row7 col0\" >0.973654</td>\n",
              "      <td id=\"T_d3c59_row7_col1\" class=\"data row7 col1\" >0.973190</td>\n",
              "      <td id=\"T_d3c59_row7_col2\" class=\"data row7 col2\" >0.973209</td>\n",
              "      <td id=\"T_d3c59_row7_col3\" class=\"data row7 col3\" >373.000000</td>\n",
              "    </tr>\n",
              "  </tbody>\n",
              "</table>\n"
            ]
          },
          "metadata": {},
          "execution_count": 30
        }
      ]
    },
    {
      "cell_type": "code",
      "source": [
        "print(\"Confusion Matrix of Random Forest \\n\" ,confusion_matrix(y_pred3,y_test))"
      ],
      "metadata": {
        "colab": {
          "base_uri": "https://localhost:8080/"
        },
        "id": "gQjyc4B2a8VG",
        "outputId": "709c6a80-4b4c-4186-814f-911979513a88"
      },
      "execution_count": 33,
      "outputs": [
        {
          "output_type": "stream",
          "name": "stdout",
          "text": [
            "Confusion Matrix of Random Forest \n",
            " [[90  0  2  0  2]\n",
            " [ 0 60  0  0  0]\n",
            " [ 1  0 69  0  0]\n",
            " [ 0  2  0 81  1]\n",
            " [ 1  1  0  0 63]]\n"
          ]
        }
      ]
    },
    {
      "cell_type": "markdown",
      "source": [
        "4.Gradient boosting"
      ],
      "metadata": {
        "id": "_Cas6nMZblZa"
      }
    },
    {
      "cell_type": "code",
      "source": [
        "GB = GradientBoostingClassifier()\n",
        "model = GB.fit(X_train,y_train)\n",
        "y_pred4 = model.predict(X_test)"
      ],
      "metadata": {
        "id": "NCZo_fV5a8S6"
      },
      "execution_count": 34,
      "outputs": []
    },
    {
      "cell_type": "code",
      "source": [
        "print(\"Results from Gradient Boosting are as below\")\n",
        "GB_result = classification_report(y_pred4,y_test,output_dict=True)\n",
        "GB_result = pd.DataFrame(GB_result).transpose()\n",
        "GB_result.style.background_gradient(cmap=\"BuPu\")"
      ],
      "metadata": {
        "colab": {
          "base_uri": "https://localhost:8080/",
          "height": 317
        },
        "id": "IUSI2i79a8Q1",
        "outputId": "dc440d9c-69b8-4933-ea30-fca2ba7b92ce"
      },
      "execution_count": 35,
      "outputs": [
        {
          "output_type": "stream",
          "name": "stdout",
          "text": [
            "Results from Gradient Boosting are as below\n"
          ]
        },
        {
          "output_type": "execute_result",
          "data": {
            "text/plain": [
              "<pandas.io.formats.style.Styler at 0x7f7126a46d30>"
            ],
            "text/html": [
              "<style type=\"text/css\">\n",
              "#T_e2161_row0_col0 {\n",
              "  background-color: #ddeaf3;\n",
              "  color: #000000;\n",
              "}\n",
              "#T_e2161_row0_col1, #T_e2161_row0_col2, #T_e2161_row4_col0, #T_e2161_row5_col3 {\n",
              "  background-color: #f7fcfd;\n",
              "  color: #000000;\n",
              "}\n",
              "#T_e2161_row0_col3 {\n",
              "  background-color: #c1d4e7;\n",
              "  color: #000000;\n",
              "}\n",
              "#T_e2161_row1_col0 {\n",
              "  background-color: #d7e5f0;\n",
              "  color: #000000;\n",
              "}\n",
              "#T_e2161_row1_col1 {\n",
              "  background-color: #99b2d5;\n",
              "  color: #000000;\n",
              "}\n",
              "#T_e2161_row1_col2 {\n",
              "  background-color: #d3e2ef;\n",
              "  color: #000000;\n",
              "}\n",
              "#T_e2161_row1_col3 {\n",
              "  background-color: #d6e4f0;\n",
              "  color: #000000;\n",
              "}\n",
              "#T_e2161_row2_col0 {\n",
              "  background-color: #8c6ab1;\n",
              "  color: #f1f1f1;\n",
              "}\n",
              "#T_e2161_row2_col1, #T_e2161_row2_col2 {\n",
              "  background-color: #8c7dba;\n",
              "  color: #f1f1f1;\n",
              "}\n",
              "#T_e2161_row2_col3 {\n",
              "  background-color: #cfdfed;\n",
              "  color: #000000;\n",
              "}\n",
              "#T_e2161_row3_col0, #T_e2161_row3_col1, #T_e2161_row3_col2, #T_e2161_row6_col3, #T_e2161_row7_col3 {\n",
              "  background-color: #4d004b;\n",
              "  color: #f1f1f1;\n",
              "}\n",
              "#T_e2161_row3_col3 {\n",
              "  background-color: #c7d9e9;\n",
              "  color: #000000;\n",
              "}\n",
              "#T_e2161_row4_col1 {\n",
              "  background-color: #94a6ce;\n",
              "  color: #f1f1f1;\n",
              "}\n",
              "#T_e2161_row4_col2 {\n",
              "  background-color: #ebf3f8;\n",
              "  color: #000000;\n",
              "}\n",
              "#T_e2161_row4_col3 {\n",
              "  background-color: #d4e3ef;\n",
              "  color: #000000;\n",
              "}\n",
              "#T_e2161_row5_col0 {\n",
              "  background-color: #9bb6d7;\n",
              "  color: #000000;\n",
              "}\n",
              "#T_e2161_row5_col1, #T_e2161_row7_col1 {\n",
              "  background-color: #8f9dc9;\n",
              "  color: #f1f1f1;\n",
              "}\n",
              "#T_e2161_row5_col2 {\n",
              "  background-color: #a0bddb;\n",
              "  color: #000000;\n",
              "}\n",
              "#T_e2161_row6_col0 {\n",
              "  background-color: #9db9d9;\n",
              "  color: #000000;\n",
              "}\n",
              "#T_e2161_row6_col1 {\n",
              "  background-color: #8e9ac8;\n",
              "  color: #f1f1f1;\n",
              "}\n",
              "#T_e2161_row6_col2 {\n",
              "  background-color: #a2bfdb;\n",
              "  color: #000000;\n",
              "}\n",
              "#T_e2161_row7_col0 {\n",
              "  background-color: #9ab3d5;\n",
              "  color: #000000;\n",
              "}\n",
              "#T_e2161_row7_col2 {\n",
              "  background-color: #9fbcda;\n",
              "  color: #000000;\n",
              "}\n",
              "</style>\n",
              "<table id=\"T_e2161_\" class=\"dataframe\">\n",
              "  <thead>\n",
              "    <tr>\n",
              "      <th class=\"blank level0\" >&nbsp;</th>\n",
              "      <th class=\"col_heading level0 col0\" >precision</th>\n",
              "      <th class=\"col_heading level0 col1\" >recall</th>\n",
              "      <th class=\"col_heading level0 col2\" >f1-score</th>\n",
              "      <th class=\"col_heading level0 col3\" >support</th>\n",
              "    </tr>\n",
              "  </thead>\n",
              "  <tbody>\n",
              "    <tr>\n",
              "      <th id=\"T_e2161_level0_row0\" class=\"row_heading level0 row0\" >0</th>\n",
              "      <td id=\"T_e2161_row0_col0\" class=\"data row0 col0\" >0.934783</td>\n",
              "      <td id=\"T_e2161_row0_col1\" class=\"data row0 col1\" >0.934783</td>\n",
              "      <td id=\"T_e2161_row0_col2\" class=\"data row0 col2\" >0.934783</td>\n",
              "      <td id=\"T_e2161_row0_col3\" class=\"data row0 col3\" >92.000000</td>\n",
              "    </tr>\n",
              "    <tr>\n",
              "      <th id=\"T_e2161_level0_row1\" class=\"row_heading level0 row1\" >1</th>\n",
              "      <td id=\"T_e2161_row1_col0\" class=\"data row1 col0\" >0.936508</td>\n",
              "      <td id=\"T_e2161_row1_col1\" class=\"data row1 col1\" >0.951613</td>\n",
              "      <td id=\"T_e2161_row1_col2\" class=\"data row1 col2\" >0.944000</td>\n",
              "      <td id=\"T_e2161_row1_col3\" class=\"data row1 col3\" >62.000000</td>\n",
              "    </tr>\n",
              "    <tr>\n",
              "      <th id=\"T_e2161_level0_row2\" class=\"row_heading level0 row2\" >2</th>\n",
              "      <td id=\"T_e2161_row2_col0\" class=\"data row2 col0\" >0.971831</td>\n",
              "      <td id=\"T_e2161_row2_col1\" class=\"data row2 col1\" >0.958333</td>\n",
              "      <td id=\"T_e2161_row2_col2\" class=\"data row2 col2\" >0.965035</td>\n",
              "      <td id=\"T_e2161_row2_col3\" class=\"data row2 col3\" >72.000000</td>\n",
              "    </tr>\n",
              "    <tr>\n",
              "      <th id=\"T_e2161_level0_row3\" class=\"row_heading level0 row3\" >3</th>\n",
              "      <td id=\"T_e2161_row3_col0\" class=\"data row3 col0\" >1.000000</td>\n",
              "      <td id=\"T_e2161_row3_col1\" class=\"data row3 col1\" >0.975904</td>\n",
              "      <td id=\"T_e2161_row3_col2\" class=\"data row3 col2\" >0.987805</td>\n",
              "      <td id=\"T_e2161_row3_col3\" class=\"data row3 col3\" >83.000000</td>\n",
              "    </tr>\n",
              "    <tr>\n",
              "      <th id=\"T_e2161_level0_row4\" class=\"row_heading level0 row4\" >4</th>\n",
              "      <td id=\"T_e2161_row4_col0\" class=\"data row4 col0\" >0.924242</td>\n",
              "      <td id=\"T_e2161_row4_col1\" class=\"data row4 col1\" >0.953125</td>\n",
              "      <td id=\"T_e2161_row4_col2\" class=\"data row4 col2\" >0.938462</td>\n",
              "      <td id=\"T_e2161_row4_col3\" class=\"data row4 col3\" >64.000000</td>\n",
              "    </tr>\n",
              "    <tr>\n",
              "      <th id=\"T_e2161_level0_row5\" class=\"row_heading level0 row5\" >accuracy</th>\n",
              "      <td id=\"T_e2161_row5_col0\" class=\"data row5 col0\" >0.954424</td>\n",
              "      <td id=\"T_e2161_row5_col1\" class=\"data row5 col1\" >0.954424</td>\n",
              "      <td id=\"T_e2161_row5_col2\" class=\"data row5 col2\" >0.954424</td>\n",
              "      <td id=\"T_e2161_row5_col3\" class=\"data row5 col3\" >0.954424</td>\n",
              "    </tr>\n",
              "    <tr>\n",
              "      <th id=\"T_e2161_level0_row6\" class=\"row_heading level0 row6\" >macro avg</th>\n",
              "      <td id=\"T_e2161_row6_col0\" class=\"data row6 col0\" >0.953473</td>\n",
              "      <td id=\"T_e2161_row6_col1\" class=\"data row6 col1\" >0.954751</td>\n",
              "      <td id=\"T_e2161_row6_col2\" class=\"data row6 col2\" >0.954017</td>\n",
              "      <td id=\"T_e2161_row6_col3\" class=\"data row6 col3\" >373.000000</td>\n",
              "    </tr>\n",
              "    <tr>\n",
              "      <th id=\"T_e2161_level0_row7\" class=\"row_heading level0 row7\" >weighted avg</th>\n",
              "      <td id=\"T_e2161_row7_col0\" class=\"data row7 col0\" >0.954924</td>\n",
              "      <td id=\"T_e2161_row7_col1\" class=\"data row7 col1\" >0.954424</td>\n",
              "      <td id=\"T_e2161_row7_col2\" class=\"data row7 col2\" >0.954584</td>\n",
              "      <td id=\"T_e2161_row7_col3\" class=\"data row7 col3\" >373.000000</td>\n",
              "    </tr>\n",
              "  </tbody>\n",
              "</table>\n"
            ]
          },
          "metadata": {},
          "execution_count": 35
        }
      ]
    },
    {
      "cell_type": "code",
      "source": [
        "print(\"Confusion Matrix of Gradient boosting \\n\" ,confusion_matrix(y_pred4,y_test))"
      ],
      "metadata": {
        "colab": {
          "base_uri": "https://localhost:8080/"
        },
        "id": "jAfMBX49a8Ob",
        "outputId": "a7200f97-90ac-4aa0-c2d3-741bc7f7eb7c"
      },
      "execution_count": 36,
      "outputs": [
        {
          "output_type": "stream",
          "name": "stdout",
          "text": [
            "Confusion Matrix of Gradient boosting \n",
            " [[86  2  2  0  2]\n",
            " [ 0 59  0  0  3]\n",
            " [ 3  0 69  0  0]\n",
            " [ 1  1  0 81  0]\n",
            " [ 2  1  0  0 61]]\n"
          ]
        }
      ]
    },
    {
      "cell_type": "markdown",
      "source": [
        "5.Xtreme Gradient Boosting"
      ],
      "metadata": {
        "id": "PELUiikqcvY1"
      }
    },
    {
      "cell_type": "code",
      "source": [
        "xgb= XGBClassifier()\n",
        "xgb_model = xgb.fit(X_train,y_train)\n",
        "y_pred5 = xgb_model.predict(X_test)"
      ],
      "metadata": {
        "id": "bnWMNm4na8Mp"
      },
      "execution_count": 37,
      "outputs": []
    },
    {
      "cell_type": "code",
      "source": [
        "print(\"Results from Xtreme Gradient boosting are as below\")\n",
        "xgb_result = classification_report(y_pred5,y_test,output_dict=True)\n",
        "xgb_result = pd.DataFrame(xgb_result).transpose()\n",
        "xgb_result.style.background_gradient(cmap=\"BuPu\")"
      ],
      "metadata": {
        "colab": {
          "base_uri": "https://localhost:8080/",
          "height": 317
        },
        "id": "nYd5sRjua8Ki",
        "outputId": "e770b743-4090-4054-d54b-cd2b6f505ab4"
      },
      "execution_count": 38,
      "outputs": [
        {
          "output_type": "stream",
          "name": "stdout",
          "text": [
            "Results from Xtreme Gradient boosting are as below\n"
          ]
        },
        {
          "output_type": "execute_result",
          "data": {
            "text/plain": [
              "<pandas.io.formats.style.Styler at 0x7f7126a462e0>"
            ],
            "text/html": [
              "<style type=\"text/css\">\n",
              "#T_289ed_row0_col0 {\n",
              "  background-color: #aec7e0;\n",
              "  color: #000000;\n",
              "}\n",
              "#T_289ed_row0_col1, #T_289ed_row0_col2, #T_289ed_row1_col0, #T_289ed_row5_col3 {\n",
              "  background-color: #f7fcfd;\n",
              "  color: #000000;\n",
              "}\n",
              "#T_289ed_row0_col3 {\n",
              "  background-color: #c0d4e6;\n",
              "  color: #000000;\n",
              "}\n",
              "#T_289ed_row1_col1, #T_289ed_row3_col0, #T_289ed_row3_col2, #T_289ed_row6_col3, #T_289ed_row7_col3 {\n",
              "  background-color: #4d004b;\n",
              "  color: #f1f1f1;\n",
              "}\n",
              "#T_289ed_row1_col2 {\n",
              "  background-color: #c2d5e7;\n",
              "  color: #000000;\n",
              "}\n",
              "#T_289ed_row1_col3 {\n",
              "  background-color: #d9e6f1;\n",
              "  color: #000000;\n",
              "}\n",
              "#T_289ed_row2_col0 {\n",
              "  background-color: #821781;\n",
              "  color: #f1f1f1;\n",
              "}\n",
              "#T_289ed_row2_col1 {\n",
              "  background-color: #84258b;\n",
              "  color: #f1f1f1;\n",
              "}\n",
              "#T_289ed_row2_col2 {\n",
              "  background-color: #62065f;\n",
              "  color: #f1f1f1;\n",
              "}\n",
              "#T_289ed_row2_col3 {\n",
              "  background-color: #cfdfed;\n",
              "  color: #000000;\n",
              "}\n",
              "#T_289ed_row3_col1 {\n",
              "  background-color: #8a58a8;\n",
              "  color: #f1f1f1;\n",
              "}\n",
              "#T_289ed_row3_col3 {\n",
              "  background-color: #c6d8e9;\n",
              "  color: #000000;\n",
              "}\n",
              "#T_289ed_row4_col0 {\n",
              "  background-color: #a1bedb;\n",
              "  color: #000000;\n",
              "}\n",
              "#T_289ed_row4_col1 {\n",
              "  background-color: #bfd3e6;\n",
              "  color: #000000;\n",
              "}\n",
              "#T_289ed_row4_col2 {\n",
              "  background-color: #d0e0ed;\n",
              "  color: #000000;\n",
              "}\n",
              "#T_289ed_row4_col3 {\n",
              "  background-color: #d3e2ef;\n",
              "  color: #000000;\n",
              "}\n",
              "#T_289ed_row5_col0 {\n",
              "  background-color: #8c8fc2;\n",
              "  color: #f1f1f1;\n",
              "}\n",
              "#T_289ed_row5_col1, #T_289ed_row7_col1 {\n",
              "  background-color: #8c93c4;\n",
              "  color: #f1f1f1;\n",
              "}\n",
              "#T_289ed_row5_col2, #T_289ed_row6_col2 {\n",
              "  background-color: #909eca;\n",
              "  color: #f1f1f1;\n",
              "}\n",
              "#T_289ed_row6_col0 {\n",
              "  background-color: #8c94c5;\n",
              "  color: #f1f1f1;\n",
              "}\n",
              "#T_289ed_row6_col1 {\n",
              "  background-color: #8c85be;\n",
              "  color: #f1f1f1;\n",
              "}\n",
              "#T_289ed_row7_col0 {\n",
              "  background-color: #8c8bc0;\n",
              "  color: #f1f1f1;\n",
              "}\n",
              "#T_289ed_row7_col2 {\n",
              "  background-color: #8f9dc9;\n",
              "  color: #f1f1f1;\n",
              "}\n",
              "</style>\n",
              "<table id=\"T_289ed_\" class=\"dataframe\">\n",
              "  <thead>\n",
              "    <tr>\n",
              "      <th class=\"blank level0\" >&nbsp;</th>\n",
              "      <th class=\"col_heading level0 col0\" >precision</th>\n",
              "      <th class=\"col_heading level0 col1\" >recall</th>\n",
              "      <th class=\"col_heading level0 col2\" >f1-score</th>\n",
              "      <th class=\"col_heading level0 col3\" >support</th>\n",
              "    </tr>\n",
              "  </thead>\n",
              "  <tbody>\n",
              "    <tr>\n",
              "      <th id=\"T_289ed_level0_row0\" class=\"row_heading level0 row0\" >0</th>\n",
              "      <td id=\"T_289ed_row0_col0\" class=\"data row0 col0\" >0.934783</td>\n",
              "      <td id=\"T_289ed_row0_col1\" class=\"data row0 col1\" >0.924731</td>\n",
              "      <td id=\"T_289ed_row0_col2\" class=\"data row0 col2\" >0.929730</td>\n",
              "      <td id=\"T_289ed_row0_col3\" class=\"data row0 col3\" >93.000000</td>\n",
              "    </tr>\n",
              "    <tr>\n",
              "      <th id=\"T_289ed_level0_row1\" class=\"row_heading level0 row1\" >1</th>\n",
              "      <td id=\"T_289ed_row1_col0\" class=\"data row1 col0\" >0.904762</td>\n",
              "      <td id=\"T_289ed_row1_col1\" class=\"data row1 col1\" >0.982759</td>\n",
              "      <td id=\"T_289ed_row1_col2\" class=\"data row1 col2\" >0.942149</td>\n",
              "      <td id=\"T_289ed_row1_col3\" class=\"data row1 col3\" >58.000000</td>\n",
              "    </tr>\n",
              "    <tr>\n",
              "      <th id=\"T_289ed_level0_row2\" class=\"row_heading level0 row2\" >2</th>\n",
              "      <td id=\"T_289ed_row2_col0\" class=\"data row2 col0\" >0.985915</td>\n",
              "      <td id=\"T_289ed_row2_col1\" class=\"data row2 col1\" >0.972222</td>\n",
              "      <td id=\"T_289ed_row2_col2\" class=\"data row2 col2\" >0.979021</td>\n",
              "      <td id=\"T_289ed_row2_col3\" class=\"data row2 col3\" >72.000000</td>\n",
              "    </tr>\n",
              "    <tr>\n",
              "      <th id=\"T_289ed_level0_row3\" class=\"row_heading level0 row3\" >3</th>\n",
              "      <td id=\"T_289ed_row3_col0\" class=\"data row3 col0\" >1.000000</td>\n",
              "      <td id=\"T_289ed_row3_col1\" class=\"data row3 col1\" >0.964286</td>\n",
              "      <td id=\"T_289ed_row3_col2\" class=\"data row3 col2\" >0.981818</td>\n",
              "      <td id=\"T_289ed_row3_col3\" class=\"data row3 col3\" >84.000000</td>\n",
              "    </tr>\n",
              "    <tr>\n",
              "      <th id=\"T_289ed_level0_row4\" class=\"row_heading level0 row4\" >4</th>\n",
              "      <td id=\"T_289ed_row4_col0\" class=\"data row4 col0\" >0.939394</td>\n",
              "      <td id=\"T_289ed_row4_col1\" class=\"data row4 col1\" >0.939394</td>\n",
              "      <td id=\"T_289ed_row4_col2\" class=\"data row4 col2\" >0.939394</td>\n",
              "      <td id=\"T_289ed_row4_col3\" class=\"data row4 col3\" >66.000000</td>\n",
              "    </tr>\n",
              "    <tr>\n",
              "      <th id=\"T_289ed_level0_row5\" class=\"row_heading level0 row5\" >accuracy</th>\n",
              "      <td id=\"T_289ed_row5_col0\" class=\"data row5 col0\" >0.954424</td>\n",
              "      <td id=\"T_289ed_row5_col1\" class=\"data row5 col1\" >0.954424</td>\n",
              "      <td id=\"T_289ed_row5_col2\" class=\"data row5 col2\" >0.954424</td>\n",
              "      <td id=\"T_289ed_row5_col3\" class=\"data row5 col3\" >0.954424</td>\n",
              "    </tr>\n",
              "    <tr>\n",
              "      <th id=\"T_289ed_level0_row6\" class=\"row_heading level0 row6\" >macro avg</th>\n",
              "      <td id=\"T_289ed_row6_col0\" class=\"data row6 col0\" >0.952971</td>\n",
              "      <td id=\"T_289ed_row6_col1\" class=\"data row6 col1\" >0.956678</td>\n",
              "      <td id=\"T_289ed_row6_col2\" class=\"data row6 col2\" >0.954422</td>\n",
              "      <td id=\"T_289ed_row6_col3\" class=\"data row6 col3\" >373.000000</td>\n",
              "    </tr>\n",
              "    <tr>\n",
              "      <th id=\"T_289ed_level0_row7\" class=\"row_heading level0 row7\" >weighted avg</th>\n",
              "      <td id=\"T_289ed_row7_col0\" class=\"data row7 col0\" >0.955488</td>\n",
              "      <td id=\"T_289ed_row7_col1\" class=\"data row7 col1\" >0.954424</td>\n",
              "      <td id=\"T_289ed_row7_col2\" class=\"data row7 col2\" >0.954616</td>\n",
              "      <td id=\"T_289ed_row7_col3\" class=\"data row7 col3\" >373.000000</td>\n",
              "    </tr>\n",
              "  </tbody>\n",
              "</table>\n"
            ]
          },
          "metadata": {},
          "execution_count": 38
        }
      ]
    },
    {
      "cell_type": "code",
      "source": [
        "print(\"Confusion Matrix of XGB \\n\" ,confusion_matrix(y_pred5,y_test))"
      ],
      "metadata": {
        "colab": {
          "base_uri": "https://localhost:8080/"
        },
        "id": "LWz7nbBDc267",
        "outputId": "92236fcb-72f8-4e88-da3d-2cd5d3d71c55"
      },
      "execution_count": 39,
      "outputs": [
        {
          "output_type": "stream",
          "name": "stdout",
          "text": [
            "Confusion Matrix of XGB \n",
            " [[86  3  1  0  3]\n",
            " [ 0 57  0  0  1]\n",
            " [ 2  0 70  0  0]\n",
            " [ 1  2  0 81  0]\n",
            " [ 3  1  0  0 62]]\n"
          ]
        }
      ]
    },
    {
      "cell_type": "markdown",
      "source": [
        "6.Bagging Clasifier"
      ],
      "metadata": {
        "id": "sKYzDK5Kc5nQ"
      }
    },
    {
      "cell_type": "code",
      "source": [
        "BC=BaggingClassifier()\n",
        "BC_model=BC.fit(X_train , y_train)\n",
        "y_pred8=BC_model.predict(X_test)"
      ],
      "metadata": {
        "id": "ZlEDGywFc2zM"
      },
      "execution_count": 40,
      "outputs": []
    },
    {
      "cell_type": "code",
      "source": [
        "print(\"Results from Bagging classifier are as below\")\n",
        "BC_result = classification_report(y_pred8,y_test,output_dict=True)\n",
        "BC_result = pd.DataFrame(BC_result).transpose()\n",
        "BC_result.style.background_gradient(cmap=\"BuPu\")"
      ],
      "metadata": {
        "colab": {
          "base_uri": "https://localhost:8080/",
          "height": 317
        },
        "id": "Q87pURYmc2ti",
        "outputId": "3d20302a-0f1e-4728-e8b7-85d7bbd7c387"
      },
      "execution_count": 41,
      "outputs": [
        {
          "output_type": "stream",
          "name": "stdout",
          "text": [
            "Results from Bagging classifier are as below\n"
          ]
        },
        {
          "output_type": "execute_result",
          "data": {
            "text/plain": [
              "<pandas.io.formats.style.Styler at 0x7f7127367cd0>"
            ],
            "text/html": [
              "<style type=\"text/css\">\n",
              "#T_32114_row0_col0, #T_32114_row0_col3 {\n",
              "  background-color: #c1d4e7;\n",
              "  color: #000000;\n",
              "}\n",
              "#T_32114_row0_col1, #T_32114_row0_col2, #T_32114_row4_col0, #T_32114_row5_col3 {\n",
              "  background-color: #f7fcfd;\n",
              "  color: #000000;\n",
              "}\n",
              "#T_32114_row1_col0 {\n",
              "  background-color: #8c94c5;\n",
              "  color: #f1f1f1;\n",
              "}\n",
              "#T_32114_row1_col1 {\n",
              "  background-color: #8c70b3;\n",
              "  color: #f1f1f1;\n",
              "}\n",
              "#T_32114_row1_col2 {\n",
              "  background-color: #8b65ae;\n",
              "  color: #f1f1f1;\n",
              "}\n",
              "#T_32114_row1_col3 {\n",
              "  background-color: #d6e4f0;\n",
              "  color: #000000;\n",
              "}\n",
              "#T_32114_row2_col0 {\n",
              "  background-color: #8c66af;\n",
              "  color: #f1f1f1;\n",
              "}\n",
              "#T_32114_row2_col1 {\n",
              "  background-color: #5a0457;\n",
              "  color: #f1f1f1;\n",
              "}\n",
              "#T_32114_row2_col2, #T_32114_row3_col0, #T_32114_row4_col1, #T_32114_row6_col3, #T_32114_row7_col3 {\n",
              "  background-color: #4d004b;\n",
              "  color: #f1f1f1;\n",
              "}\n",
              "#T_32114_row2_col3 {\n",
              "  background-color: #d1e1ee;\n",
              "  color: #000000;\n",
              "}\n",
              "#T_32114_row3_col1 {\n",
              "  background-color: #eef6fa;\n",
              "  color: #000000;\n",
              "}\n",
              "#T_32114_row3_col2 {\n",
              "  background-color: #863293;\n",
              "  color: #f1f1f1;\n",
              "}\n",
              "#T_32114_row3_col3 {\n",
              "  background-color: #bfd3e6;\n",
              "  color: #000000;\n",
              "}\n",
              "#T_32114_row4_col2 {\n",
              "  background-color: #c0d4e6;\n",
              "  color: #000000;\n",
              "}\n",
              "#T_32114_row4_col3 {\n",
              "  background-color: #dbe8f2;\n",
              "  color: #000000;\n",
              "}\n",
              "#T_32114_row5_col0 {\n",
              "  background-color: #8e9ac8;\n",
              "  color: #f1f1f1;\n",
              "}\n",
              "#T_32114_row5_col1, #T_32114_row7_col1 {\n",
              "  background-color: #95a8d0;\n",
              "  color: #f1f1f1;\n",
              "}\n",
              "#T_32114_row5_col2 {\n",
              "  background-color: #8c8fc2;\n",
              "  color: #f1f1f1;\n",
              "}\n",
              "#T_32114_row6_col0 {\n",
              "  background-color: #8f9dc9;\n",
              "  color: #f1f1f1;\n",
              "}\n",
              "#T_32114_row6_col1 {\n",
              "  background-color: #8c8dc2;\n",
              "  color: #f1f1f1;\n",
              "}\n",
              "#T_32114_row6_col2 {\n",
              "  background-color: #8c89c0;\n",
              "  color: #f1f1f1;\n",
              "}\n",
              "#T_32114_row7_col0 {\n",
              "  background-color: #8c90c3;\n",
              "  color: #f1f1f1;\n",
              "}\n",
              "#T_32114_row7_col2 {\n",
              "  background-color: #8c8cc1;\n",
              "  color: #f1f1f1;\n",
              "}\n",
              "</style>\n",
              "<table id=\"T_32114_\" class=\"dataframe\">\n",
              "  <thead>\n",
              "    <tr>\n",
              "      <th class=\"blank level0\" >&nbsp;</th>\n",
              "      <th class=\"col_heading level0 col0\" >precision</th>\n",
              "      <th class=\"col_heading level0 col1\" >recall</th>\n",
              "      <th class=\"col_heading level0 col2\" >f1-score</th>\n",
              "      <th class=\"col_heading level0 col3\" >support</th>\n",
              "    </tr>\n",
              "  </thead>\n",
              "  <tbody>\n",
              "    <tr>\n",
              "      <th id=\"T_32114_level0_row0\" class=\"row_heading level0 row0\" >0</th>\n",
              "      <td id=\"T_32114_row0_col0\" class=\"data row0 col0\" >0.836957</td>\n",
              "      <td id=\"T_32114_row0_col1\" class=\"data row0 col1\" >0.836957</td>\n",
              "      <td id=\"T_32114_row0_col2\" class=\"data row0 col2\" >0.836957</td>\n",
              "      <td id=\"T_32114_row0_col3\" class=\"data row0 col3\" >92.000000</td>\n",
              "    </tr>\n",
              "    <tr>\n",
              "      <th id=\"T_32114_level0_row1\" class=\"row_heading level0 row1\" >1</th>\n",
              "      <td id=\"T_32114_row1_col0\" class=\"data row1 col0\" >0.888889</td>\n",
              "      <td id=\"T_32114_row1_col1\" class=\"data row1 col1\" >0.903226</td>\n",
              "      <td id=\"T_32114_row1_col2\" class=\"data row1 col2\" >0.896000</td>\n",
              "      <td id=\"T_32114_row1_col3\" class=\"data row1 col3\" >62.000000</td>\n",
              "    </tr>\n",
              "    <tr>\n",
              "      <th id=\"T_32114_level0_row2\" class=\"row_heading level0 row2\" >2</th>\n",
              "      <td id=\"T_32114_row2_col0\" class=\"data row2 col0\" >0.915493</td>\n",
              "      <td id=\"T_32114_row2_col1\" class=\"data row2 col1\" >0.942029</td>\n",
              "      <td id=\"T_32114_row2_col2\" class=\"data row2 col2\" >0.928571</td>\n",
              "      <td id=\"T_32114_row2_col3\" class=\"data row2 col3\" >69.000000</td>\n",
              "    </tr>\n",
              "    <tr>\n",
              "      <th id=\"T_32114_level0_row3\" class=\"row_heading level0 row3\" >3</th>\n",
              "      <td id=\"T_32114_row3_col0\" class=\"data row3 col0\" >0.987654</td>\n",
              "      <td id=\"T_32114_row3_col1\" class=\"data row3 col1\" >0.842105</td>\n",
              "      <td id=\"T_32114_row3_col2\" class=\"data row3 col2\" >0.909091</td>\n",
              "      <td id=\"T_32114_row3_col3\" class=\"data row3 col3\" >95.000000</td>\n",
              "    </tr>\n",
              "    <tr>\n",
              "      <th id=\"T_32114_level0_row4\" class=\"row_heading level0 row4\" >4</th>\n",
              "      <td id=\"T_32114_row4_col0\" class=\"data row4 col0\" >0.787879</td>\n",
              "      <td id=\"T_32114_row4_col1\" class=\"data row4 col1\" >0.945455</td>\n",
              "      <td id=\"T_32114_row4_col2\" class=\"data row4 col2\" >0.859504</td>\n",
              "      <td id=\"T_32114_row4_col3\" class=\"data row4 col3\" >55.000000</td>\n",
              "    </tr>\n",
              "    <tr>\n",
              "      <th id=\"T_32114_level0_row5\" class=\"row_heading level0 row5\" >accuracy</th>\n",
              "      <td id=\"T_32114_row5_col0\" class=\"data row5 col0\" >0.884718</td>\n",
              "      <td id=\"T_32114_row5_col1\" class=\"data row5 col1\" >0.884718</td>\n",
              "      <td id=\"T_32114_row5_col2\" class=\"data row5 col2\" >0.884718</td>\n",
              "      <td id=\"T_32114_row5_col3\" class=\"data row5 col3\" >0.884718</td>\n",
              "    </tr>\n",
              "    <tr>\n",
              "      <th id=\"T_32114_level0_row6\" class=\"row_heading level0 row6\" >macro avg</th>\n",
              "      <td id=\"T_32114_row6_col0\" class=\"data row6 col0\" >0.883374</td>\n",
              "      <td id=\"T_32114_row6_col1\" class=\"data row6 col1\" >0.893954</td>\n",
              "      <td id=\"T_32114_row6_col2\" class=\"data row6 col2\" >0.886025</td>\n",
              "      <td id=\"T_32114_row6_col3\" class=\"data row6 col3\" >373.000000</td>\n",
              "    </tr>\n",
              "    <tr>\n",
              "      <th id=\"T_32114_level0_row7\" class=\"row_heading level0 row7\" >weighted avg</th>\n",
              "      <td id=\"T_32114_row7_col0\" class=\"data row7 col0\" >0.891262</td>\n",
              "      <td id=\"T_32114_row7_col1\" class=\"data row7 col1\" >0.884718</td>\n",
              "      <td id=\"T_32114_row7_col2\" class=\"data row7 col2\" >0.885415</td>\n",
              "      <td id=\"T_32114_row7_col3\" class=\"data row7 col3\" >373.000000</td>\n",
              "    </tr>\n",
              "  </tbody>\n",
              "</table>\n"
            ]
          },
          "metadata": {},
          "execution_count": 41
        }
      ]
    },
    {
      "cell_type": "code",
      "source": [
        "print(\"Confusion Matrix of Bagging classifier  \\n\" ,confusion_matrix(y_pred8,y_test))"
      ],
      "metadata": {
        "colab": {
          "base_uri": "https://localhost:8080/"
        },
        "id": "BoY05qJGa8I9",
        "outputId": "18d0e08a-6b19-480c-d283-30183a4957a8"
      },
      "execution_count": 42,
      "outputs": [
        {
          "output_type": "stream",
          "name": "stdout",
          "text": [
            "Confusion Matrix of Bagging classifier  \n",
            " [[77  4  2  1  8]\n",
            " [ 1 56  2  0  3]\n",
            " [ 4  0 65  0  0]\n",
            " [ 9  2  1 80  3]\n",
            " [ 1  1  1  0 52]]\n"
          ]
        }
      ]
    },
    {
      "cell_type": "markdown",
      "source": [
        "7.Navies Bayers"
      ],
      "metadata": {
        "id": "ma2vZfsAdFDR"
      }
    },
    {
      "cell_type": "code",
      "source": [
        "from sklearn.naive_bayes import MultinomialNB\n",
        "\n",
        "NB = MultinomialNB()\n",
        "NB_model=NB.fit(X_train, y_train)\n",
        "y_pred9=NB_model.predict(X_test)"
      ],
      "metadata": {
        "id": "qLMWavyFdB-O"
      },
      "execution_count": 43,
      "outputs": []
    },
    {
      "cell_type": "code",
      "source": [
        "print(\"Results from Naives bayers classifier are as below\")\n",
        "NB_result = classification_report(y_pred9,y_test,output_dict=True)\n",
        "NB_result = pd.DataFrame(NB_result).transpose()\n",
        "NB_result.style.background_gradient(cmap=\"BuPu\")"
      ],
      "metadata": {
        "colab": {
          "base_uri": "https://localhost:8080/",
          "height": 317
        },
        "id": "fdmux9rqdB7_",
        "outputId": "cce3e71e-337f-4c12-d391-d11131b493ea"
      },
      "execution_count": 44,
      "outputs": [
        {
          "output_type": "stream",
          "name": "stdout",
          "text": [
            "Results from Naives bayers classifier are as below\n"
          ]
        },
        {
          "output_type": "execute_result",
          "data": {
            "text/plain": [
              "<pandas.io.formats.style.Styler at 0x7f7126a4e550>"
            ],
            "text/html": [
              "<style type=\"text/css\">\n",
              "#T_77573_row0_col0, #T_77573_row0_col1, #T_77573_row0_col2 {\n",
              "  background-color: #c5d8e9;\n",
              "  color: #000000;\n",
              "}\n",
              "#T_77573_row0_col3 {\n",
              "  background-color: #c1d4e7;\n",
              "  color: #000000;\n",
              "}\n",
              "#T_77573_row1_col0, #T_77573_row1_col1, #T_77573_row1_col2, #T_77573_row3_col0, #T_77573_row3_col1, #T_77573_row3_col2, #T_77573_row6_col3, #T_77573_row7_col3 {\n",
              "  background-color: #4d004b;\n",
              "  color: #f1f1f1;\n",
              "}\n",
              "#T_77573_row1_col3 {\n",
              "  background-color: #d6e4f0;\n",
              "  color: #000000;\n",
              "}\n",
              "#T_77573_row2_col0, #T_77573_row2_col1, #T_77573_row2_col2, #T_77573_row5_col3 {\n",
              "  background-color: #f7fcfd;\n",
              "  color: #000000;\n",
              "}\n",
              "#T_77573_row2_col3 {\n",
              "  background-color: #cfdfed;\n",
              "  color: #000000;\n",
              "}\n",
              "#T_77573_row3_col3 {\n",
              "  background-color: #c8daea;\n",
              "  color: #000000;\n",
              "}\n",
              "#T_77573_row4_col0, #T_77573_row4_col1, #T_77573_row4_col2 {\n",
              "  background-color: #b6cde3;\n",
              "  color: #000000;\n",
              "}\n",
              "#T_77573_row4_col3 {\n",
              "  background-color: #d3e2ef;\n",
              "  color: #000000;\n",
              "}\n",
              "#T_77573_row5_col0, #T_77573_row5_col1, #T_77573_row5_col2, #T_77573_row7_col0, #T_77573_row7_col1, #T_77573_row7_col2 {\n",
              "  background-color: #8d98c7;\n",
              "  color: #f1f1f1;\n",
              "}\n",
              "#T_77573_row6_col0, #T_77573_row6_col1, #T_77573_row6_col2 {\n",
              "  background-color: #8c95c6;\n",
              "  color: #f1f1f1;\n",
              "}\n",
              "</style>\n",
              "<table id=\"T_77573_\" class=\"dataframe\">\n",
              "  <thead>\n",
              "    <tr>\n",
              "      <th class=\"blank level0\" >&nbsp;</th>\n",
              "      <th class=\"col_heading level0 col0\" >precision</th>\n",
              "      <th class=\"col_heading level0 col1\" >recall</th>\n",
              "      <th class=\"col_heading level0 col2\" >f1-score</th>\n",
              "      <th class=\"col_heading level0 col3\" >support</th>\n",
              "    </tr>\n",
              "  </thead>\n",
              "  <tbody>\n",
              "    <tr>\n",
              "      <th id=\"T_77573_level0_row0\" class=\"row_heading level0 row0\" >0</th>\n",
              "      <td id=\"T_77573_row0_col0\" class=\"data row0 col0\" >0.967391</td>\n",
              "      <td id=\"T_77573_row0_col1\" class=\"data row0 col1\" >0.967391</td>\n",
              "      <td id=\"T_77573_row0_col2\" class=\"data row0 col2\" >0.967391</td>\n",
              "      <td id=\"T_77573_row0_col3\" class=\"data row0 col3\" >92.000000</td>\n",
              "    </tr>\n",
              "    <tr>\n",
              "      <th id=\"T_77573_level0_row1\" class=\"row_heading level0 row1\" >1</th>\n",
              "      <td id=\"T_77573_row1_col0\" class=\"data row1 col0\" >1.000000</td>\n",
              "      <td id=\"T_77573_row1_col1\" class=\"data row1 col1\" >1.000000</td>\n",
              "      <td id=\"T_77573_row1_col2\" class=\"data row1 col2\" >1.000000</td>\n",
              "      <td id=\"T_77573_row1_col3\" class=\"data row1 col3\" >63.000000</td>\n",
              "    </tr>\n",
              "    <tr>\n",
              "      <th id=\"T_77573_level0_row2\" class=\"row_heading level0 row2\" >2</th>\n",
              "      <td id=\"T_77573_row2_col0\" class=\"data row2 col0\" >0.957746</td>\n",
              "      <td id=\"T_77573_row2_col1\" class=\"data row2 col1\" >0.957746</td>\n",
              "      <td id=\"T_77573_row2_col2\" class=\"data row2 col2\" >0.957746</td>\n",
              "      <td id=\"T_77573_row2_col3\" class=\"data row2 col3\" >71.000000</td>\n",
              "    </tr>\n",
              "    <tr>\n",
              "      <th id=\"T_77573_level0_row3\" class=\"row_heading level0 row3\" >3</th>\n",
              "      <td id=\"T_77573_row3_col0\" class=\"data row3 col0\" >1.000000</td>\n",
              "      <td id=\"T_77573_row3_col1\" class=\"data row3 col1\" >1.000000</td>\n",
              "      <td id=\"T_77573_row3_col2\" class=\"data row3 col2\" >1.000000</td>\n",
              "      <td id=\"T_77573_row3_col3\" class=\"data row3 col3\" >81.000000</td>\n",
              "    </tr>\n",
              "    <tr>\n",
              "      <th id=\"T_77573_level0_row4\" class=\"row_heading level0 row4\" >4</th>\n",
              "      <td id=\"T_77573_row4_col0\" class=\"data row4 col0\" >0.969697</td>\n",
              "      <td id=\"T_77573_row4_col1\" class=\"data row4 col1\" >0.969697</td>\n",
              "      <td id=\"T_77573_row4_col2\" class=\"data row4 col2\" >0.969697</td>\n",
              "      <td id=\"T_77573_row4_col3\" class=\"data row4 col3\" >66.000000</td>\n",
              "    </tr>\n",
              "    <tr>\n",
              "      <th id=\"T_77573_level0_row5\" class=\"row_heading level0 row5\" >accuracy</th>\n",
              "      <td id=\"T_77573_row5_col0\" class=\"data row5 col0\" >0.978552</td>\n",
              "      <td id=\"T_77573_row5_col1\" class=\"data row5 col1\" >0.978552</td>\n",
              "      <td id=\"T_77573_row5_col2\" class=\"data row5 col2\" >0.978552</td>\n",
              "      <td id=\"T_77573_row5_col3\" class=\"data row5 col3\" >0.978552</td>\n",
              "    </tr>\n",
              "    <tr>\n",
              "      <th id=\"T_77573_level0_row6\" class=\"row_heading level0 row6\" >macro avg</th>\n",
              "      <td id=\"T_77573_row6_col0\" class=\"data row6 col0\" >0.978967</td>\n",
              "      <td id=\"T_77573_row6_col1\" class=\"data row6 col1\" >0.978967</td>\n",
              "      <td id=\"T_77573_row6_col2\" class=\"data row6 col2\" >0.978967</td>\n",
              "      <td id=\"T_77573_row6_col3\" class=\"data row6 col3\" >373.000000</td>\n",
              "    </tr>\n",
              "    <tr>\n",
              "      <th id=\"T_77573_level0_row7\" class=\"row_heading level0 row7\" >weighted avg</th>\n",
              "      <td id=\"T_77573_row7_col0\" class=\"data row7 col0\" >0.978552</td>\n",
              "      <td id=\"T_77573_row7_col1\" class=\"data row7 col1\" >0.978552</td>\n",
              "      <td id=\"T_77573_row7_col2\" class=\"data row7 col2\" >0.978552</td>\n",
              "      <td id=\"T_77573_row7_col3\" class=\"data row7 col3\" >373.000000</td>\n",
              "    </tr>\n",
              "  </tbody>\n",
              "</table>\n"
            ]
          },
          "metadata": {},
          "execution_count": 44
        }
      ]
    },
    {
      "cell_type": "code",
      "source": [
        "print(\"Confusion Matrix of Naives bayers classifier  \\n\" ,confusion_matrix(y_pred9,y_test))"
      ],
      "metadata": {
        "colab": {
          "base_uri": "https://localhost:8080/"
        },
        "id": "pjYHo0lwdB6G",
        "outputId": "2ab6d69e-b85e-46e9-9f29-0e9f15009189"
      },
      "execution_count": 45,
      "outputs": [
        {
          "output_type": "stream",
          "name": "stdout",
          "text": [
            "Confusion Matrix of Naives bayers classifier  \n",
            " [[89  0  3  0  0]\n",
            " [ 0 63  0  0  0]\n",
            " [ 1  0 68  0  2]\n",
            " [ 0  0  0 81  0]\n",
            " [ 2  0  0  0 64]]\n"
          ]
        }
      ]
    },
    {
      "cell_type": "code",
      "source": [
        "dfc =pd.concat([log_result[\"f1-score\"], DT_result[\"f1-score\"],RF_result[\"f1-score\"],GB_result[\"f1-score\"], xgb_result[\"f1-score\"],BC_result[\"f1-score\"],NB_result[\"f1-score\"]],axis=1)\n",
        "df2 = dfc.set_axis([\"log_result\",\"DT_result\",\"RF_result\",\"GB_result\", \"xgb_result\",\"BC_result\",\"NB_result\"], axis=1, inplace=False)\n",
        "df2"
      ],
      "metadata": {
        "colab": {
          "base_uri": "https://localhost:8080/",
          "height": 300
        },
        "id": "rxQkK9JBdB3s",
        "outputId": "868cdb08-367f-4a48-f8a6-1c1ab47664a2"
      },
      "execution_count": 47,
      "outputs": [
        {
          "output_type": "execute_result",
          "data": {
            "text/plain": [
              "              log_result  DT_result  RF_result  GB_result  xgb_result  \\\n",
              "0               0.967391   0.745562   0.967742   0.934783    0.929730   \n",
              "1               0.968750   0.781250   0.975610   0.944000    0.942149   \n",
              "2               0.957746   0.765101   0.978723   0.965035    0.979021   \n",
              "3               0.987805   0.887574   0.981818   0.987805    0.981818   \n",
              "4               0.937500   0.748092   0.961832   0.938462    0.939394   \n",
              "accuracy        0.965147   0.788204   0.973190   0.954424    0.954424   \n",
              "macro avg       0.963839   0.785516   0.973145   0.954017    0.954422   \n",
              "weighted avg    0.965366   0.789812   0.973209   0.954584    0.954616   \n",
              "\n",
              "              BC_result  NB_result  \n",
              "0              0.836957   0.967391  \n",
              "1              0.896000   1.000000  \n",
              "2              0.928571   0.957746  \n",
              "3              0.909091   1.000000  \n",
              "4              0.859504   0.969697  \n",
              "accuracy       0.884718   0.978552  \n",
              "macro avg      0.886025   0.978967  \n",
              "weighted avg   0.885415   0.978552  "
            ],
            "text/html": [
              "\n",
              "  <div id=\"df-98f54018-eff2-4863-9d12-1b760c2ec5e2\">\n",
              "    <div class=\"colab-df-container\">\n",
              "      <div>\n",
              "<style scoped>\n",
              "    .dataframe tbody tr th:only-of-type {\n",
              "        vertical-align: middle;\n",
              "    }\n",
              "\n",
              "    .dataframe tbody tr th {\n",
              "        vertical-align: top;\n",
              "    }\n",
              "\n",
              "    .dataframe thead th {\n",
              "        text-align: right;\n",
              "    }\n",
              "</style>\n",
              "<table border=\"1\" class=\"dataframe\">\n",
              "  <thead>\n",
              "    <tr style=\"text-align: right;\">\n",
              "      <th></th>\n",
              "      <th>log_result</th>\n",
              "      <th>DT_result</th>\n",
              "      <th>RF_result</th>\n",
              "      <th>GB_result</th>\n",
              "      <th>xgb_result</th>\n",
              "      <th>BC_result</th>\n",
              "      <th>NB_result</th>\n",
              "    </tr>\n",
              "  </thead>\n",
              "  <tbody>\n",
              "    <tr>\n",
              "      <th>0</th>\n",
              "      <td>0.967391</td>\n",
              "      <td>0.745562</td>\n",
              "      <td>0.967742</td>\n",
              "      <td>0.934783</td>\n",
              "      <td>0.929730</td>\n",
              "      <td>0.836957</td>\n",
              "      <td>0.967391</td>\n",
              "    </tr>\n",
              "    <tr>\n",
              "      <th>1</th>\n",
              "      <td>0.968750</td>\n",
              "      <td>0.781250</td>\n",
              "      <td>0.975610</td>\n",
              "      <td>0.944000</td>\n",
              "      <td>0.942149</td>\n",
              "      <td>0.896000</td>\n",
              "      <td>1.000000</td>\n",
              "    </tr>\n",
              "    <tr>\n",
              "      <th>2</th>\n",
              "      <td>0.957746</td>\n",
              "      <td>0.765101</td>\n",
              "      <td>0.978723</td>\n",
              "      <td>0.965035</td>\n",
              "      <td>0.979021</td>\n",
              "      <td>0.928571</td>\n",
              "      <td>0.957746</td>\n",
              "    </tr>\n",
              "    <tr>\n",
              "      <th>3</th>\n",
              "      <td>0.987805</td>\n",
              "      <td>0.887574</td>\n",
              "      <td>0.981818</td>\n",
              "      <td>0.987805</td>\n",
              "      <td>0.981818</td>\n",
              "      <td>0.909091</td>\n",
              "      <td>1.000000</td>\n",
              "    </tr>\n",
              "    <tr>\n",
              "      <th>4</th>\n",
              "      <td>0.937500</td>\n",
              "      <td>0.748092</td>\n",
              "      <td>0.961832</td>\n",
              "      <td>0.938462</td>\n",
              "      <td>0.939394</td>\n",
              "      <td>0.859504</td>\n",
              "      <td>0.969697</td>\n",
              "    </tr>\n",
              "    <tr>\n",
              "      <th>accuracy</th>\n",
              "      <td>0.965147</td>\n",
              "      <td>0.788204</td>\n",
              "      <td>0.973190</td>\n",
              "      <td>0.954424</td>\n",
              "      <td>0.954424</td>\n",
              "      <td>0.884718</td>\n",
              "      <td>0.978552</td>\n",
              "    </tr>\n",
              "    <tr>\n",
              "      <th>macro avg</th>\n",
              "      <td>0.963839</td>\n",
              "      <td>0.785516</td>\n",
              "      <td>0.973145</td>\n",
              "      <td>0.954017</td>\n",
              "      <td>0.954422</td>\n",
              "      <td>0.886025</td>\n",
              "      <td>0.978967</td>\n",
              "    </tr>\n",
              "    <tr>\n",
              "      <th>weighted avg</th>\n",
              "      <td>0.965366</td>\n",
              "      <td>0.789812</td>\n",
              "      <td>0.973209</td>\n",
              "      <td>0.954584</td>\n",
              "      <td>0.954616</td>\n",
              "      <td>0.885415</td>\n",
              "      <td>0.978552</td>\n",
              "    </tr>\n",
              "  </tbody>\n",
              "</table>\n",
              "</div>\n",
              "      <button class=\"colab-df-convert\" onclick=\"convertToInteractive('df-98f54018-eff2-4863-9d12-1b760c2ec5e2')\"\n",
              "              title=\"Convert this dataframe to an interactive table.\"\n",
              "              style=\"display:none;\">\n",
              "        \n",
              "  <svg xmlns=\"http://www.w3.org/2000/svg\" height=\"24px\"viewBox=\"0 0 24 24\"\n",
              "       width=\"24px\">\n",
              "    <path d=\"M0 0h24v24H0V0z\" fill=\"none\"/>\n",
              "    <path d=\"M18.56 5.44l.94 2.06.94-2.06 2.06-.94-2.06-.94-.94-2.06-.94 2.06-2.06.94zm-11 1L8.5 8.5l.94-2.06 2.06-.94-2.06-.94L8.5 2.5l-.94 2.06-2.06.94zm10 10l.94 2.06.94-2.06 2.06-.94-2.06-.94-.94-2.06-.94 2.06-2.06.94z\"/><path d=\"M17.41 7.96l-1.37-1.37c-.4-.4-.92-.59-1.43-.59-.52 0-1.04.2-1.43.59L10.3 9.45l-7.72 7.72c-.78.78-.78 2.05 0 2.83L4 21.41c.39.39.9.59 1.41.59.51 0 1.02-.2 1.41-.59l7.78-7.78 2.81-2.81c.8-.78.8-2.07 0-2.86zM5.41 20L4 18.59l7.72-7.72 1.47 1.35L5.41 20z\"/>\n",
              "  </svg>\n",
              "      </button>\n",
              "      \n",
              "  <style>\n",
              "    .colab-df-container {\n",
              "      display:flex;\n",
              "      flex-wrap:wrap;\n",
              "      gap: 12px;\n",
              "    }\n",
              "\n",
              "    .colab-df-convert {\n",
              "      background-color: #E8F0FE;\n",
              "      border: none;\n",
              "      border-radius: 50%;\n",
              "      cursor: pointer;\n",
              "      display: none;\n",
              "      fill: #1967D2;\n",
              "      height: 32px;\n",
              "      padding: 0 0 0 0;\n",
              "      width: 32px;\n",
              "    }\n",
              "\n",
              "    .colab-df-convert:hover {\n",
              "      background-color: #E2EBFA;\n",
              "      box-shadow: 0px 1px 2px rgba(60, 64, 67, 0.3), 0px 1px 3px 1px rgba(60, 64, 67, 0.15);\n",
              "      fill: #174EA6;\n",
              "    }\n",
              "\n",
              "    [theme=dark] .colab-df-convert {\n",
              "      background-color: #3B4455;\n",
              "      fill: #D2E3FC;\n",
              "    }\n",
              "\n",
              "    [theme=dark] .colab-df-convert:hover {\n",
              "      background-color: #434B5C;\n",
              "      box-shadow: 0px 1px 3px 1px rgba(0, 0, 0, 0.15);\n",
              "      filter: drop-shadow(0px 1px 2px rgba(0, 0, 0, 0.3));\n",
              "      fill: #FFFFFF;\n",
              "    }\n",
              "  </style>\n",
              "\n",
              "      <script>\n",
              "        const buttonEl =\n",
              "          document.querySelector('#df-98f54018-eff2-4863-9d12-1b760c2ec5e2 button.colab-df-convert');\n",
              "        buttonEl.style.display =\n",
              "          google.colab.kernel.accessAllowed ? 'block' : 'none';\n",
              "\n",
              "        async function convertToInteractive(key) {\n",
              "          const element = document.querySelector('#df-98f54018-eff2-4863-9d12-1b760c2ec5e2');\n",
              "          const dataTable =\n",
              "            await google.colab.kernel.invokeFunction('convertToInteractive',\n",
              "                                                     [key], {});\n",
              "          if (!dataTable) return;\n",
              "\n",
              "          const docLinkHtml = 'Like what you see? Visit the ' +\n",
              "            '<a target=\"_blank\" href=https://colab.research.google.com/notebooks/data_table.ipynb>data table notebook</a>'\n",
              "            + ' to learn more about interactive tables.';\n",
              "          element.innerHTML = '';\n",
              "          dataTable['output_type'] = 'display_data';\n",
              "          await google.colab.output.renderOutput(dataTable, element);\n",
              "          const docLink = document.createElement('div');\n",
              "          docLink.innerHTML = docLinkHtml;\n",
              "          element.appendChild(docLink);\n",
              "        }\n",
              "      </script>\n",
              "    </div>\n",
              "  </div>\n",
              "  "
            ]
          },
          "metadata": {},
          "execution_count": 47
        }
      ]
    },
    {
      "cell_type": "code",
      "source": [
        "df2.loc[[\"macro avg\",\"accuracy\"]].transpose().sort_values(by=\"macro avg\",ascending=False).style.background_gradient(cmap=\"RdPu\")"
      ],
      "metadata": {
        "colab": {
          "base_uri": "https://localhost:8080/",
          "height": 269
        },
        "id": "ZWyLIRyRdB1m",
        "outputId": "98c8696a-4f96-40f4-fb11-e77e45076651"
      },
      "execution_count": 48,
      "outputs": [
        {
          "output_type": "execute_result",
          "data": {
            "text/plain": [
              "<pandas.io.formats.style.Styler at 0x7f7127353d30>"
            ],
            "text/html": [
              "<style type=\"text/css\">\n",
              "#T_05946_row0_col0, #T_05946_row0_col1 {\n",
              "  background-color: #49006a;\n",
              "  color: #f1f1f1;\n",
              "}\n",
              "#T_05946_row1_col0, #T_05946_row1_col1 {\n",
              "  background-color: #54006d;\n",
              "  color: #f1f1f1;\n",
              "}\n",
              "#T_05946_row2_col0 {\n",
              "  background-color: #680172;\n",
              "  color: #f1f1f1;\n",
              "}\n",
              "#T_05946_row2_col1 {\n",
              "  background-color: #650171;\n",
              "  color: #f1f1f1;\n",
              "}\n",
              "#T_05946_row3_col0, #T_05946_row3_col1, #T_05946_row4_col1 {\n",
              "  background-color: #7a0177;\n",
              "  color: #f1f1f1;\n",
              "}\n",
              "#T_05946_row4_col0 {\n",
              "  background-color: #7c0177;\n",
              "  color: #f1f1f1;\n",
              "}\n",
              "#T_05946_row5_col0 {\n",
              "  background-color: #f35f9f;\n",
              "  color: #f1f1f1;\n",
              "}\n",
              "#T_05946_row5_col1 {\n",
              "  background-color: #f666a1;\n",
              "  color: #f1f1f1;\n",
              "}\n",
              "#T_05946_row6_col0, #T_05946_row6_col1 {\n",
              "  background-color: #fff7f3;\n",
              "  color: #000000;\n",
              "}\n",
              "</style>\n",
              "<table id=\"T_05946_\" class=\"dataframe\">\n",
              "  <thead>\n",
              "    <tr>\n",
              "      <th class=\"blank level0\" >&nbsp;</th>\n",
              "      <th class=\"col_heading level0 col0\" >macro avg</th>\n",
              "      <th class=\"col_heading level0 col1\" >accuracy</th>\n",
              "    </tr>\n",
              "  </thead>\n",
              "  <tbody>\n",
              "    <tr>\n",
              "      <th id=\"T_05946_level0_row0\" class=\"row_heading level0 row0\" >NB_result</th>\n",
              "      <td id=\"T_05946_row0_col0\" class=\"data row0 col0\" >0.978967</td>\n",
              "      <td id=\"T_05946_row0_col1\" class=\"data row0 col1\" >0.978552</td>\n",
              "    </tr>\n",
              "    <tr>\n",
              "      <th id=\"T_05946_level0_row1\" class=\"row_heading level0 row1\" >RF_result</th>\n",
              "      <td id=\"T_05946_row1_col0\" class=\"data row1 col0\" >0.973145</td>\n",
              "      <td id=\"T_05946_row1_col1\" class=\"data row1 col1\" >0.973190</td>\n",
              "    </tr>\n",
              "    <tr>\n",
              "      <th id=\"T_05946_level0_row2\" class=\"row_heading level0 row2\" >log_result</th>\n",
              "      <td id=\"T_05946_row2_col0\" class=\"data row2 col0\" >0.963839</td>\n",
              "      <td id=\"T_05946_row2_col1\" class=\"data row2 col1\" >0.965147</td>\n",
              "    </tr>\n",
              "    <tr>\n",
              "      <th id=\"T_05946_level0_row3\" class=\"row_heading level0 row3\" >xgb_result</th>\n",
              "      <td id=\"T_05946_row3_col0\" class=\"data row3 col0\" >0.954422</td>\n",
              "      <td id=\"T_05946_row3_col1\" class=\"data row3 col1\" >0.954424</td>\n",
              "    </tr>\n",
              "    <tr>\n",
              "      <th id=\"T_05946_level0_row4\" class=\"row_heading level0 row4\" >GB_result</th>\n",
              "      <td id=\"T_05946_row4_col0\" class=\"data row4 col0\" >0.954017</td>\n",
              "      <td id=\"T_05946_row4_col1\" class=\"data row4 col1\" >0.954424</td>\n",
              "    </tr>\n",
              "    <tr>\n",
              "      <th id=\"T_05946_level0_row5\" class=\"row_heading level0 row5\" >BC_result</th>\n",
              "      <td id=\"T_05946_row5_col0\" class=\"data row5 col0\" >0.886025</td>\n",
              "      <td id=\"T_05946_row5_col1\" class=\"data row5 col1\" >0.884718</td>\n",
              "    </tr>\n",
              "    <tr>\n",
              "      <th id=\"T_05946_level0_row6\" class=\"row_heading level0 row6\" >DT_result</th>\n",
              "      <td id=\"T_05946_row6_col0\" class=\"data row6 col0\" >0.785516</td>\n",
              "      <td id=\"T_05946_row6_col1\" class=\"data row6 col1\" >0.788204</td>\n",
              "    </tr>\n",
              "  </tbody>\n",
              "</table>\n"
            ]
          },
          "metadata": {},
          "execution_count": 48
        }
      ]
    },
    {
      "cell_type": "markdown",
      "source": [
        "Here we can see that the Naives bayers Algorithm has the best F1 score and Accuracy when compared with the other models \n",
        "Second best is for the random forest "
      ],
      "metadata": {
        "id": "kG0F9ZJEfHyZ"
      }
    },
    {
      "cell_type": "code",
      "source": [],
      "metadata": {
        "id": "1zQl760-dBz0"
      },
      "execution_count": null,
      "outputs": []
    },
    {
      "cell_type": "code",
      "source": [],
      "metadata": {
        "id": "3W84socXdBxq"
      },
      "execution_count": null,
      "outputs": []
    },
    {
      "cell_type": "code",
      "source": [],
      "metadata": {
        "id": "vd3K4HkBdBvu"
      },
      "execution_count": null,
      "outputs": []
    },
    {
      "cell_type": "code",
      "source": [],
      "metadata": {
        "id": "kcC9s3rpdBts"
      },
      "execution_count": null,
      "outputs": []
    },
    {
      "cell_type": "code",
      "source": [],
      "metadata": {
        "id": "7R5zMP4WdBr3"
      },
      "execution_count": null,
      "outputs": []
    },
    {
      "cell_type": "code",
      "source": [],
      "metadata": {
        "id": "AztAb_4kdBp0"
      },
      "execution_count": null,
      "outputs": []
    },
    {
      "cell_type": "code",
      "source": [],
      "metadata": {
        "id": "bHNlOmcOa8Gl"
      },
      "execution_count": null,
      "outputs": []
    },
    {
      "cell_type": "code",
      "source": [],
      "metadata": {
        "id": "-n-ulwQ1a8EN"
      },
      "execution_count": null,
      "outputs": []
    },
    {
      "cell_type": "code",
      "source": [],
      "metadata": {
        "id": "GVDd8am-a7_D"
      },
      "execution_count": null,
      "outputs": []
    }
  ]
}