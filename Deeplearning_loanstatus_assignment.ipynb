{
  "cells": [
    {
      "cell_type": "markdown",
      "metadata": {
        "id": "view-in-github",
        "colab_type": "text"
      },
      "source": [
        "<a href=\"https://colab.research.google.com/github/Bharat-Moorthy/MLAI---Paathsalaassignments/blob/main/Deeplearning_loanstatus_assignment.ipynb\" target=\"_parent\"><img src=\"https://colab.research.google.com/assets/colab-badge.svg\" alt=\"Open In Colab\"/></a>"
      ]
    },
    {
      "cell_type": "code",
      "execution_count": 2,
      "id": "195584e4",
      "metadata": {
        "id": "195584e4"
      },
      "outputs": [],
      "source": [
        "import pandas as pd\n",
        "import numpy as np\n",
        "import matplotlib.pyplot as plt\n",
        "import seaborn as sns"
      ]
    },
    {
      "cell_type": "code",
      "execution_count": 3,
      "id": "3ee9fa2d",
      "metadata": {
        "id": "3ee9fa2d",
        "colab": {
          "base_uri": "https://localhost:8080/"
        },
        "outputId": "4a1f112f-c361-4374-8f1e-2730a8b48f71"
      },
      "outputs": [
        {
          "output_type": "stream",
          "name": "stderr",
          "text": [
            "/usr/local/lib/python3.8/dist-packages/IPython/core/interactiveshell.py:3326: DtypeWarning: Columns (47) have mixed types.Specify dtype option on import or set low_memory=False.\n",
            "  exec(code_obj, self.user_global_ns, self.user_ns)\n"
          ]
        }
      ],
      "source": [
        "data=pd.read_csv(\"/content/loan.csv\")"
      ]
    },
    {
      "cell_type": "code",
      "execution_count": 4,
      "id": "8da1de21",
      "metadata": {
        "colab": {
          "base_uri": "https://localhost:8080/"
        },
        "id": "8da1de21",
        "outputId": "06e2fb22-65e5-4b8c-cb85-c20721b9e73b"
      },
      "outputs": [
        {
          "output_type": "execute_result",
          "data": {
            "text/plain": [
              "(39717, 111)"
            ]
          },
          "metadata": {},
          "execution_count": 4
        }
      ],
      "source": [
        "data.shape"
      ]
    },
    {
      "cell_type": "code",
      "execution_count": 5,
      "id": "54a83b5e",
      "metadata": {
        "colab": {
          "base_uri": "https://localhost:8080/",
          "height": 386
        },
        "id": "54a83b5e",
        "outputId": "9b8b081d-b2f4-4422-d164-002cd487d3e8"
      },
      "outputs": [
        {
          "output_type": "execute_result",
          "data": {
            "text/plain": [
              "        id  member_id  loan_amnt  funded_amnt  funded_amnt_inv        term  \\\n",
              "0  1077501    1296599       5000         5000           4975.0   36 months   \n",
              "1  1077430    1314167       2500         2500           2500.0   60 months   \n",
              "2  1077175    1313524       2400         2400           2400.0   36 months   \n",
              "3  1076863    1277178      10000        10000          10000.0   36 months   \n",
              "4  1075358    1311748       3000         3000           3000.0   60 months   \n",
              "\n",
              "  int_rate  installment grade sub_grade  ... num_tl_90g_dpd_24m  \\\n",
              "0   10.65%       162.87     B        B2  ...                NaN   \n",
              "1   15.27%        59.83     C        C4  ...                NaN   \n",
              "2   15.96%        84.33     C        C5  ...                NaN   \n",
              "3   13.49%       339.31     C        C1  ...                NaN   \n",
              "4   12.69%        67.79     B        B5  ...                NaN   \n",
              "\n",
              "  num_tl_op_past_12m pct_tl_nvr_dlq  percent_bc_gt_75 pub_rec_bankruptcies  \\\n",
              "0                NaN            NaN               NaN                  0.0   \n",
              "1                NaN            NaN               NaN                  0.0   \n",
              "2                NaN            NaN               NaN                  0.0   \n",
              "3                NaN            NaN               NaN                  0.0   \n",
              "4                NaN            NaN               NaN                  0.0   \n",
              "\n",
              "  tax_liens tot_hi_cred_lim total_bal_ex_mort total_bc_limit  \\\n",
              "0       0.0             NaN               NaN            NaN   \n",
              "1       0.0             NaN               NaN            NaN   \n",
              "2       0.0             NaN               NaN            NaN   \n",
              "3       0.0             NaN               NaN            NaN   \n",
              "4       0.0             NaN               NaN            NaN   \n",
              "\n",
              "  total_il_high_credit_limit  \n",
              "0                        NaN  \n",
              "1                        NaN  \n",
              "2                        NaN  \n",
              "3                        NaN  \n",
              "4                        NaN  \n",
              "\n",
              "[5 rows x 111 columns]"
            ],
            "text/html": [
              "\n",
              "  <div id=\"df-059d5135-20be-448d-a3f5-a9e97369868e\">\n",
              "    <div class=\"colab-df-container\">\n",
              "      <div>\n",
              "<style scoped>\n",
              "    .dataframe tbody tr th:only-of-type {\n",
              "        vertical-align: middle;\n",
              "    }\n",
              "\n",
              "    .dataframe tbody tr th {\n",
              "        vertical-align: top;\n",
              "    }\n",
              "\n",
              "    .dataframe thead th {\n",
              "        text-align: right;\n",
              "    }\n",
              "</style>\n",
              "<table border=\"1\" class=\"dataframe\">\n",
              "  <thead>\n",
              "    <tr style=\"text-align: right;\">\n",
              "      <th></th>\n",
              "      <th>id</th>\n",
              "      <th>member_id</th>\n",
              "      <th>loan_amnt</th>\n",
              "      <th>funded_amnt</th>\n",
              "      <th>funded_amnt_inv</th>\n",
              "      <th>term</th>\n",
              "      <th>int_rate</th>\n",
              "      <th>installment</th>\n",
              "      <th>grade</th>\n",
              "      <th>sub_grade</th>\n",
              "      <th>...</th>\n",
              "      <th>num_tl_90g_dpd_24m</th>\n",
              "      <th>num_tl_op_past_12m</th>\n",
              "      <th>pct_tl_nvr_dlq</th>\n",
              "      <th>percent_bc_gt_75</th>\n",
              "      <th>pub_rec_bankruptcies</th>\n",
              "      <th>tax_liens</th>\n",
              "      <th>tot_hi_cred_lim</th>\n",
              "      <th>total_bal_ex_mort</th>\n",
              "      <th>total_bc_limit</th>\n",
              "      <th>total_il_high_credit_limit</th>\n",
              "    </tr>\n",
              "  </thead>\n",
              "  <tbody>\n",
              "    <tr>\n",
              "      <th>0</th>\n",
              "      <td>1077501</td>\n",
              "      <td>1296599</td>\n",
              "      <td>5000</td>\n",
              "      <td>5000</td>\n",
              "      <td>4975.0</td>\n",
              "      <td>36 months</td>\n",
              "      <td>10.65%</td>\n",
              "      <td>162.87</td>\n",
              "      <td>B</td>\n",
              "      <td>B2</td>\n",
              "      <td>...</td>\n",
              "      <td>NaN</td>\n",
              "      <td>NaN</td>\n",
              "      <td>NaN</td>\n",
              "      <td>NaN</td>\n",
              "      <td>0.0</td>\n",
              "      <td>0.0</td>\n",
              "      <td>NaN</td>\n",
              "      <td>NaN</td>\n",
              "      <td>NaN</td>\n",
              "      <td>NaN</td>\n",
              "    </tr>\n",
              "    <tr>\n",
              "      <th>1</th>\n",
              "      <td>1077430</td>\n",
              "      <td>1314167</td>\n",
              "      <td>2500</td>\n",
              "      <td>2500</td>\n",
              "      <td>2500.0</td>\n",
              "      <td>60 months</td>\n",
              "      <td>15.27%</td>\n",
              "      <td>59.83</td>\n",
              "      <td>C</td>\n",
              "      <td>C4</td>\n",
              "      <td>...</td>\n",
              "      <td>NaN</td>\n",
              "      <td>NaN</td>\n",
              "      <td>NaN</td>\n",
              "      <td>NaN</td>\n",
              "      <td>0.0</td>\n",
              "      <td>0.0</td>\n",
              "      <td>NaN</td>\n",
              "      <td>NaN</td>\n",
              "      <td>NaN</td>\n",
              "      <td>NaN</td>\n",
              "    </tr>\n",
              "    <tr>\n",
              "      <th>2</th>\n",
              "      <td>1077175</td>\n",
              "      <td>1313524</td>\n",
              "      <td>2400</td>\n",
              "      <td>2400</td>\n",
              "      <td>2400.0</td>\n",
              "      <td>36 months</td>\n",
              "      <td>15.96%</td>\n",
              "      <td>84.33</td>\n",
              "      <td>C</td>\n",
              "      <td>C5</td>\n",
              "      <td>...</td>\n",
              "      <td>NaN</td>\n",
              "      <td>NaN</td>\n",
              "      <td>NaN</td>\n",
              "      <td>NaN</td>\n",
              "      <td>0.0</td>\n",
              "      <td>0.0</td>\n",
              "      <td>NaN</td>\n",
              "      <td>NaN</td>\n",
              "      <td>NaN</td>\n",
              "      <td>NaN</td>\n",
              "    </tr>\n",
              "    <tr>\n",
              "      <th>3</th>\n",
              "      <td>1076863</td>\n",
              "      <td>1277178</td>\n",
              "      <td>10000</td>\n",
              "      <td>10000</td>\n",
              "      <td>10000.0</td>\n",
              "      <td>36 months</td>\n",
              "      <td>13.49%</td>\n",
              "      <td>339.31</td>\n",
              "      <td>C</td>\n",
              "      <td>C1</td>\n",
              "      <td>...</td>\n",
              "      <td>NaN</td>\n",
              "      <td>NaN</td>\n",
              "      <td>NaN</td>\n",
              "      <td>NaN</td>\n",
              "      <td>0.0</td>\n",
              "      <td>0.0</td>\n",
              "      <td>NaN</td>\n",
              "      <td>NaN</td>\n",
              "      <td>NaN</td>\n",
              "      <td>NaN</td>\n",
              "    </tr>\n",
              "    <tr>\n",
              "      <th>4</th>\n",
              "      <td>1075358</td>\n",
              "      <td>1311748</td>\n",
              "      <td>3000</td>\n",
              "      <td>3000</td>\n",
              "      <td>3000.0</td>\n",
              "      <td>60 months</td>\n",
              "      <td>12.69%</td>\n",
              "      <td>67.79</td>\n",
              "      <td>B</td>\n",
              "      <td>B5</td>\n",
              "      <td>...</td>\n",
              "      <td>NaN</td>\n",
              "      <td>NaN</td>\n",
              "      <td>NaN</td>\n",
              "      <td>NaN</td>\n",
              "      <td>0.0</td>\n",
              "      <td>0.0</td>\n",
              "      <td>NaN</td>\n",
              "      <td>NaN</td>\n",
              "      <td>NaN</td>\n",
              "      <td>NaN</td>\n",
              "    </tr>\n",
              "  </tbody>\n",
              "</table>\n",
              "<p>5 rows × 111 columns</p>\n",
              "</div>\n",
              "      <button class=\"colab-df-convert\" onclick=\"convertToInteractive('df-059d5135-20be-448d-a3f5-a9e97369868e')\"\n",
              "              title=\"Convert this dataframe to an interactive table.\"\n",
              "              style=\"display:none;\">\n",
              "        \n",
              "  <svg xmlns=\"http://www.w3.org/2000/svg\" height=\"24px\"viewBox=\"0 0 24 24\"\n",
              "       width=\"24px\">\n",
              "    <path d=\"M0 0h24v24H0V0z\" fill=\"none\"/>\n",
              "    <path d=\"M18.56 5.44l.94 2.06.94-2.06 2.06-.94-2.06-.94-.94-2.06-.94 2.06-2.06.94zm-11 1L8.5 8.5l.94-2.06 2.06-.94-2.06-.94L8.5 2.5l-.94 2.06-2.06.94zm10 10l.94 2.06.94-2.06 2.06-.94-2.06-.94-.94-2.06-.94 2.06-2.06.94z\"/><path d=\"M17.41 7.96l-1.37-1.37c-.4-.4-.92-.59-1.43-.59-.52 0-1.04.2-1.43.59L10.3 9.45l-7.72 7.72c-.78.78-.78 2.05 0 2.83L4 21.41c.39.39.9.59 1.41.59.51 0 1.02-.2 1.41-.59l7.78-7.78 2.81-2.81c.8-.78.8-2.07 0-2.86zM5.41 20L4 18.59l7.72-7.72 1.47 1.35L5.41 20z\"/>\n",
              "  </svg>\n",
              "      </button>\n",
              "      \n",
              "  <style>\n",
              "    .colab-df-container {\n",
              "      display:flex;\n",
              "      flex-wrap:wrap;\n",
              "      gap: 12px;\n",
              "    }\n",
              "\n",
              "    .colab-df-convert {\n",
              "      background-color: #E8F0FE;\n",
              "      border: none;\n",
              "      border-radius: 50%;\n",
              "      cursor: pointer;\n",
              "      display: none;\n",
              "      fill: #1967D2;\n",
              "      height: 32px;\n",
              "      padding: 0 0 0 0;\n",
              "      width: 32px;\n",
              "    }\n",
              "\n",
              "    .colab-df-convert:hover {\n",
              "      background-color: #E2EBFA;\n",
              "      box-shadow: 0px 1px 2px rgba(60, 64, 67, 0.3), 0px 1px 3px 1px rgba(60, 64, 67, 0.15);\n",
              "      fill: #174EA6;\n",
              "    }\n",
              "\n",
              "    [theme=dark] .colab-df-convert {\n",
              "      background-color: #3B4455;\n",
              "      fill: #D2E3FC;\n",
              "    }\n",
              "\n",
              "    [theme=dark] .colab-df-convert:hover {\n",
              "      background-color: #434B5C;\n",
              "      box-shadow: 0px 1px 3px 1px rgba(0, 0, 0, 0.15);\n",
              "      filter: drop-shadow(0px 1px 2px rgba(0, 0, 0, 0.3));\n",
              "      fill: #FFFFFF;\n",
              "    }\n",
              "  </style>\n",
              "\n",
              "      <script>\n",
              "        const buttonEl =\n",
              "          document.querySelector('#df-059d5135-20be-448d-a3f5-a9e97369868e button.colab-df-convert');\n",
              "        buttonEl.style.display =\n",
              "          google.colab.kernel.accessAllowed ? 'block' : 'none';\n",
              "\n",
              "        async function convertToInteractive(key) {\n",
              "          const element = document.querySelector('#df-059d5135-20be-448d-a3f5-a9e97369868e');\n",
              "          const dataTable =\n",
              "            await google.colab.kernel.invokeFunction('convertToInteractive',\n",
              "                                                     [key], {});\n",
              "          if (!dataTable) return;\n",
              "\n",
              "          const docLinkHtml = 'Like what you see? Visit the ' +\n",
              "            '<a target=\"_blank\" href=https://colab.research.google.com/notebooks/data_table.ipynb>data table notebook</a>'\n",
              "            + ' to learn more about interactive tables.';\n",
              "          element.innerHTML = '';\n",
              "          dataTable['output_type'] = 'display_data';\n",
              "          await google.colab.output.renderOutput(dataTable, element);\n",
              "          const docLink = document.createElement('div');\n",
              "          docLink.innerHTML = docLinkHtml;\n",
              "          element.appendChild(docLink);\n",
              "        }\n",
              "      </script>\n",
              "    </div>\n",
              "  </div>\n",
              "  "
            ]
          },
          "metadata": {},
          "execution_count": 5
        }
      ],
      "source": [
        "data.head()"
      ]
    },
    {
      "cell_type": "code",
      "execution_count": 6,
      "id": "647fa872",
      "metadata": {
        "colab": {
          "base_uri": "https://localhost:8080/"
        },
        "id": "647fa872",
        "outputId": "41fcadf1-eb28-49cd-9f82-01d014246af1"
      },
      "outputs": [
        {
          "output_type": "stream",
          "name": "stdout",
          "text": [
            "<class 'pandas.core.frame.DataFrame'>\n",
            "RangeIndex: 39717 entries, 0 to 39716\n",
            "Columns: 111 entries, id to total_il_high_credit_limit\n",
            "dtypes: float64(74), int64(13), object(24)\n",
            "memory usage: 33.6+ MB\n"
          ]
        }
      ],
      "source": [
        "data.info()"
      ]
    },
    {
      "cell_type": "code",
      "execution_count": 7,
      "id": "69968e32",
      "metadata": {
        "colab": {
          "base_uri": "https://localhost:8080/"
        },
        "id": "69968e32",
        "outputId": "7124337e-2176-4481-d16a-f07f3091aea7"
      },
      "outputs": [
        {
          "output_type": "execute_result",
          "data": {
            "text/plain": [
              "float64    74\n",
              "object     24\n",
              "int64      13\n",
              "dtype: int64"
            ]
          },
          "metadata": {},
          "execution_count": 7
        }
      ],
      "source": [
        "data.dtypes.value_counts()"
      ]
    },
    {
      "cell_type": "code",
      "execution_count": 8,
      "id": "531ef8bb",
      "metadata": {
        "id": "531ef8bb"
      },
      "outputs": [],
      "source": [
        "pd.options.display.max_rows = 999"
      ]
    },
    {
      "cell_type": "code",
      "execution_count": 9,
      "id": "d1e70b64",
      "metadata": {
        "id": "d1e70b64"
      },
      "outputs": [],
      "source": [
        "datacopy=data"
      ]
    },
    {
      "cell_type": "code",
      "execution_count": 10,
      "id": "29ca5f92",
      "metadata": {
        "id": "29ca5f92"
      },
      "outputs": [],
      "source": [
        "missing_cols=datacopy.columns[datacopy.isnull().sum()/len(datacopy.index)*100>90]"
      ]
    },
    {
      "cell_type": "code",
      "execution_count": 11,
      "id": "36b9e7e9",
      "metadata": {
        "colab": {
          "base_uri": "https://localhost:8080/"
        },
        "id": "36b9e7e9",
        "outputId": "ac2dfc1c-4719-4858-eae1-f2c0ccc69e67"
      },
      "outputs": [
        {
          "output_type": "execute_result",
          "data": {
            "text/plain": [
              "56"
            ]
          },
          "metadata": {},
          "execution_count": 11
        }
      ],
      "source": [
        "len(missing_cols)"
      ]
    },
    {
      "cell_type": "code",
      "execution_count": 12,
      "id": "d07bd460",
      "metadata": {
        "id": "d07bd460"
      },
      "outputs": [],
      "source": [
        "datacopy=datacopy.drop(missing_cols,axis=1)"
      ]
    },
    {
      "cell_type": "code",
      "execution_count": 13,
      "id": "291ffcf0",
      "metadata": {
        "colab": {
          "base_uri": "https://localhost:8080/"
        },
        "id": "291ffcf0",
        "outputId": "be2d46c6-2a01-4593-bcfb-f96daf2a2ccc"
      },
      "outputs": [
        {
          "output_type": "execute_result",
          "data": {
            "text/plain": [
              "id                             0.000000\n",
              "member_id                      0.000000\n",
              "loan_amnt                      0.000000\n",
              "funded_amnt                    0.000000\n",
              "funded_amnt_inv                0.000000\n",
              "term                           0.000000\n",
              "int_rate                       0.000000\n",
              "installment                    0.000000\n",
              "grade                          0.000000\n",
              "sub_grade                      0.000000\n",
              "emp_title                      6.191303\n",
              "emp_length                     2.706650\n",
              "home_ownership                 0.000000\n",
              "annual_inc                     0.000000\n",
              "verification_status            0.000000\n",
              "issue_d                        0.000000\n",
              "loan_status                    0.000000\n",
              "pymnt_plan                     0.000000\n",
              "url                            0.000000\n",
              "desc                          32.580507\n",
              "purpose                        0.000000\n",
              "title                          0.027696\n",
              "zip_code                       0.000000\n",
              "addr_state                     0.000000\n",
              "dti                            0.000000\n",
              "delinq_2yrs                    0.000000\n",
              "earliest_cr_line               0.000000\n",
              "inq_last_6mths                 0.000000\n",
              "mths_since_last_delinq        64.662487\n",
              "open_acc                       0.000000\n",
              "pub_rec                        0.000000\n",
              "revol_bal                      0.000000\n",
              "revol_util                     0.125891\n",
              "total_acc                      0.000000\n",
              "initial_list_status            0.000000\n",
              "out_prncp                      0.000000\n",
              "out_prncp_inv                  0.000000\n",
              "total_pymnt                    0.000000\n",
              "total_pymnt_inv                0.000000\n",
              "total_rec_prncp                0.000000\n",
              "total_rec_int                  0.000000\n",
              "total_rec_late_fee             0.000000\n",
              "recoveries                     0.000000\n",
              "collection_recovery_fee        0.000000\n",
              "last_pymnt_d                   0.178765\n",
              "last_pymnt_amnt                0.000000\n",
              "last_credit_pull_d             0.005036\n",
              "collections_12_mths_ex_med     0.140998\n",
              "policy_code                    0.000000\n",
              "application_type               0.000000\n",
              "acc_now_delinq                 0.000000\n",
              "chargeoff_within_12_mths       0.140998\n",
              "delinq_amnt                    0.000000\n",
              "pub_rec_bankruptcies           1.754916\n",
              "tax_liens                      0.098195\n",
              "dtype: float64"
            ]
          },
          "metadata": {},
          "execution_count": 13
        }
      ],
      "source": [
        "datacopy.isnull().sum()/len(datacopy.index)*100"
      ]
    },
    {
      "cell_type": "code",
      "execution_count": 14,
      "id": "fabdfc06",
      "metadata": {
        "colab": {
          "base_uri": "https://localhost:8080/",
          "height": 424
        },
        "id": "fabdfc06",
        "outputId": "434406ed-12cd-4257-d51d-c227effc64d3"
      },
      "outputs": [
        {
          "output_type": "execute_result",
          "data": {
            "text/plain": [
              "                                                    desc  \\\n",
              "0        Borrower added on 12/22/11 > I need to upgra...   \n",
              "1        Borrower added on 12/22/11 > I plan to use t...   \n",
              "2                                                    NaN   \n",
              "3        Borrower added on 12/21/11 > to pay for prop...   \n",
              "4        Borrower added on 12/21/11 > I plan on combi...   \n",
              "...                                                  ...   \n",
              "39712  Our current gutter system on our home is old a...   \n",
              "39713  The rate of interest and fees incurred by carr...   \n",
              "39714                                                NaN   \n",
              "39715                                                NaN   \n",
              "39716  I plan to consolidate over $7,000 of debt: a c...   \n",
              "\n",
              "       mths_since_last_delinq  \n",
              "0                         NaN  \n",
              "1                         NaN  \n",
              "2                         NaN  \n",
              "3                        35.0  \n",
              "4                        38.0  \n",
              "...                       ...  \n",
              "39712                     0.0  \n",
              "39713                     5.0  \n",
              "39714                     0.0  \n",
              "39715                     0.0  \n",
              "39716                    11.0  \n",
              "\n",
              "[39717 rows x 2 columns]"
            ],
            "text/html": [
              "\n",
              "  <div id=\"df-29b6c6d7-dbb5-46ec-9dbb-40a2771026b2\">\n",
              "    <div class=\"colab-df-container\">\n",
              "      <div>\n",
              "<style scoped>\n",
              "    .dataframe tbody tr th:only-of-type {\n",
              "        vertical-align: middle;\n",
              "    }\n",
              "\n",
              "    .dataframe tbody tr th {\n",
              "        vertical-align: top;\n",
              "    }\n",
              "\n",
              "    .dataframe thead th {\n",
              "        text-align: right;\n",
              "    }\n",
              "</style>\n",
              "<table border=\"1\" class=\"dataframe\">\n",
              "  <thead>\n",
              "    <tr style=\"text-align: right;\">\n",
              "      <th></th>\n",
              "      <th>desc</th>\n",
              "      <th>mths_since_last_delinq</th>\n",
              "    </tr>\n",
              "  </thead>\n",
              "  <tbody>\n",
              "    <tr>\n",
              "      <th>0</th>\n",
              "      <td>Borrower added on 12/22/11 &gt; I need to upgra...</td>\n",
              "      <td>NaN</td>\n",
              "    </tr>\n",
              "    <tr>\n",
              "      <th>1</th>\n",
              "      <td>Borrower added on 12/22/11 &gt; I plan to use t...</td>\n",
              "      <td>NaN</td>\n",
              "    </tr>\n",
              "    <tr>\n",
              "      <th>2</th>\n",
              "      <td>NaN</td>\n",
              "      <td>NaN</td>\n",
              "    </tr>\n",
              "    <tr>\n",
              "      <th>3</th>\n",
              "      <td>Borrower added on 12/21/11 &gt; to pay for prop...</td>\n",
              "      <td>35.0</td>\n",
              "    </tr>\n",
              "    <tr>\n",
              "      <th>4</th>\n",
              "      <td>Borrower added on 12/21/11 &gt; I plan on combi...</td>\n",
              "      <td>38.0</td>\n",
              "    </tr>\n",
              "    <tr>\n",
              "      <th>...</th>\n",
              "      <td>...</td>\n",
              "      <td>...</td>\n",
              "    </tr>\n",
              "    <tr>\n",
              "      <th>39712</th>\n",
              "      <td>Our current gutter system on our home is old a...</td>\n",
              "      <td>0.0</td>\n",
              "    </tr>\n",
              "    <tr>\n",
              "      <th>39713</th>\n",
              "      <td>The rate of interest and fees incurred by carr...</td>\n",
              "      <td>5.0</td>\n",
              "    </tr>\n",
              "    <tr>\n",
              "      <th>39714</th>\n",
              "      <td>NaN</td>\n",
              "      <td>0.0</td>\n",
              "    </tr>\n",
              "    <tr>\n",
              "      <th>39715</th>\n",
              "      <td>NaN</td>\n",
              "      <td>0.0</td>\n",
              "    </tr>\n",
              "    <tr>\n",
              "      <th>39716</th>\n",
              "      <td>I plan to consolidate over $7,000 of debt: a c...</td>\n",
              "      <td>11.0</td>\n",
              "    </tr>\n",
              "  </tbody>\n",
              "</table>\n",
              "<p>39717 rows × 2 columns</p>\n",
              "</div>\n",
              "      <button class=\"colab-df-convert\" onclick=\"convertToInteractive('df-29b6c6d7-dbb5-46ec-9dbb-40a2771026b2')\"\n",
              "              title=\"Convert this dataframe to an interactive table.\"\n",
              "              style=\"display:none;\">\n",
              "        \n",
              "  <svg xmlns=\"http://www.w3.org/2000/svg\" height=\"24px\"viewBox=\"0 0 24 24\"\n",
              "       width=\"24px\">\n",
              "    <path d=\"M0 0h24v24H0V0z\" fill=\"none\"/>\n",
              "    <path d=\"M18.56 5.44l.94 2.06.94-2.06 2.06-.94-2.06-.94-.94-2.06-.94 2.06-2.06.94zm-11 1L8.5 8.5l.94-2.06 2.06-.94-2.06-.94L8.5 2.5l-.94 2.06-2.06.94zm10 10l.94 2.06.94-2.06 2.06-.94-2.06-.94-.94-2.06-.94 2.06-2.06.94z\"/><path d=\"M17.41 7.96l-1.37-1.37c-.4-.4-.92-.59-1.43-.59-.52 0-1.04.2-1.43.59L10.3 9.45l-7.72 7.72c-.78.78-.78 2.05 0 2.83L4 21.41c.39.39.9.59 1.41.59.51 0 1.02-.2 1.41-.59l7.78-7.78 2.81-2.81c.8-.78.8-2.07 0-2.86zM5.41 20L4 18.59l7.72-7.72 1.47 1.35L5.41 20z\"/>\n",
              "  </svg>\n",
              "      </button>\n",
              "      \n",
              "  <style>\n",
              "    .colab-df-container {\n",
              "      display:flex;\n",
              "      flex-wrap:wrap;\n",
              "      gap: 12px;\n",
              "    }\n",
              "\n",
              "    .colab-df-convert {\n",
              "      background-color: #E8F0FE;\n",
              "      border: none;\n",
              "      border-radius: 50%;\n",
              "      cursor: pointer;\n",
              "      display: none;\n",
              "      fill: #1967D2;\n",
              "      height: 32px;\n",
              "      padding: 0 0 0 0;\n",
              "      width: 32px;\n",
              "    }\n",
              "\n",
              "    .colab-df-convert:hover {\n",
              "      background-color: #E2EBFA;\n",
              "      box-shadow: 0px 1px 2px rgba(60, 64, 67, 0.3), 0px 1px 3px 1px rgba(60, 64, 67, 0.15);\n",
              "      fill: #174EA6;\n",
              "    }\n",
              "\n",
              "    [theme=dark] .colab-df-convert {\n",
              "      background-color: #3B4455;\n",
              "      fill: #D2E3FC;\n",
              "    }\n",
              "\n",
              "    [theme=dark] .colab-df-convert:hover {\n",
              "      background-color: #434B5C;\n",
              "      box-shadow: 0px 1px 3px 1px rgba(0, 0, 0, 0.15);\n",
              "      filter: drop-shadow(0px 1px 2px rgba(0, 0, 0, 0.3));\n",
              "      fill: #FFFFFF;\n",
              "    }\n",
              "  </style>\n",
              "\n",
              "      <script>\n",
              "        const buttonEl =\n",
              "          document.querySelector('#df-29b6c6d7-dbb5-46ec-9dbb-40a2771026b2 button.colab-df-convert');\n",
              "        buttonEl.style.display =\n",
              "          google.colab.kernel.accessAllowed ? 'block' : 'none';\n",
              "\n",
              "        async function convertToInteractive(key) {\n",
              "          const element = document.querySelector('#df-29b6c6d7-dbb5-46ec-9dbb-40a2771026b2');\n",
              "          const dataTable =\n",
              "            await google.colab.kernel.invokeFunction('convertToInteractive',\n",
              "                                                     [key], {});\n",
              "          if (!dataTable) return;\n",
              "\n",
              "          const docLinkHtml = 'Like what you see? Visit the ' +\n",
              "            '<a target=\"_blank\" href=https://colab.research.google.com/notebooks/data_table.ipynb>data table notebook</a>'\n",
              "            + ' to learn more about interactive tables.';\n",
              "          element.innerHTML = '';\n",
              "          dataTable['output_type'] = 'display_data';\n",
              "          await google.colab.output.renderOutput(dataTable, element);\n",
              "          const docLink = document.createElement('div');\n",
              "          docLink.innerHTML = docLinkHtml;\n",
              "          element.appendChild(docLink);\n",
              "        }\n",
              "      </script>\n",
              "    </div>\n",
              "  </div>\n",
              "  "
            ]
          },
          "metadata": {},
          "execution_count": 14
        }
      ],
      "source": [
        "datacopy[[\"desc\",\"mths_since_last_delinq\"]]"
      ]
    },
    {
      "cell_type": "code",
      "execution_count": 15,
      "id": "9d27879b",
      "metadata": {
        "id": "9d27879b"
      },
      "outputs": [],
      "source": [
        "datacopy=datacopy.drop([\"desc\",\"mths_since_last_delinq\"],axis=1)"
      ]
    },
    {
      "cell_type": "code",
      "execution_count": 16,
      "id": "da2576fb",
      "metadata": {
        "colab": {
          "base_uri": "https://localhost:8080/"
        },
        "id": "da2576fb",
        "outputId": "e01feecc-c708-4a4c-848f-4df9618e15b5"
      },
      "outputs": [
        {
          "output_type": "execute_result",
          "data": {
            "text/plain": [
              "(39717, 53)"
            ]
          },
          "metadata": {},
          "execution_count": 16
        }
      ],
      "source": [
        "datacopy.shape"
      ]
    },
    {
      "cell_type": "code",
      "execution_count": 17,
      "id": "6474ad88",
      "metadata": {
        "colab": {
          "base_uri": "https://localhost:8080/"
        },
        "id": "6474ad88",
        "outputId": "ef37abae-ec65-467e-da31-0e4ae31f2cbb"
      },
      "outputs": [
        {
          "output_type": "stream",
          "name": "stdout",
          "text": [
            "<class 'pandas.core.frame.DataFrame'>\n",
            "RangeIndex: 39717 entries, 0 to 39716\n",
            "Data columns (total 53 columns):\n",
            " #   Column                      Non-Null Count  Dtype  \n",
            "---  ------                      --------------  -----  \n",
            " 0   id                          39717 non-null  int64  \n",
            " 1   member_id                   39717 non-null  int64  \n",
            " 2   loan_amnt                   39717 non-null  int64  \n",
            " 3   funded_amnt                 39717 non-null  int64  \n",
            " 4   funded_amnt_inv             39717 non-null  float64\n",
            " 5   term                        39717 non-null  object \n",
            " 6   int_rate                    39717 non-null  object \n",
            " 7   installment                 39717 non-null  float64\n",
            " 8   grade                       39717 non-null  object \n",
            " 9   sub_grade                   39717 non-null  object \n",
            " 10  emp_title                   37258 non-null  object \n",
            " 11  emp_length                  38642 non-null  object \n",
            " 12  home_ownership              39717 non-null  object \n",
            " 13  annual_inc                  39717 non-null  float64\n",
            " 14  verification_status         39717 non-null  object \n",
            " 15  issue_d                     39717 non-null  object \n",
            " 16  loan_status                 39717 non-null  object \n",
            " 17  pymnt_plan                  39717 non-null  object \n",
            " 18  url                         39717 non-null  object \n",
            " 19  purpose                     39717 non-null  object \n",
            " 20  title                       39706 non-null  object \n",
            " 21  zip_code                    39717 non-null  object \n",
            " 22  addr_state                  39717 non-null  object \n",
            " 23  dti                         39717 non-null  float64\n",
            " 24  delinq_2yrs                 39717 non-null  int64  \n",
            " 25  earliest_cr_line            39717 non-null  object \n",
            " 26  inq_last_6mths              39717 non-null  int64  \n",
            " 27  open_acc                    39717 non-null  int64  \n",
            " 28  pub_rec                     39717 non-null  int64  \n",
            " 29  revol_bal                   39717 non-null  int64  \n",
            " 30  revol_util                  39667 non-null  object \n",
            " 31  total_acc                   39717 non-null  int64  \n",
            " 32  initial_list_status         39717 non-null  object \n",
            " 33  out_prncp                   39717 non-null  float64\n",
            " 34  out_prncp_inv               39717 non-null  float64\n",
            " 35  total_pymnt                 39717 non-null  float64\n",
            " 36  total_pymnt_inv             39717 non-null  float64\n",
            " 37  total_rec_prncp             39717 non-null  float64\n",
            " 38  total_rec_int               39717 non-null  float64\n",
            " 39  total_rec_late_fee          39717 non-null  float64\n",
            " 40  recoveries                  39717 non-null  float64\n",
            " 41  collection_recovery_fee     39717 non-null  float64\n",
            " 42  last_pymnt_d                39646 non-null  object \n",
            " 43  last_pymnt_amnt             39717 non-null  float64\n",
            " 44  last_credit_pull_d          39715 non-null  object \n",
            " 45  collections_12_mths_ex_med  39661 non-null  float64\n",
            " 46  policy_code                 39717 non-null  int64  \n",
            " 47  application_type            39717 non-null  object \n",
            " 48  acc_now_delinq              39717 non-null  int64  \n",
            " 49  chargeoff_within_12_mths    39661 non-null  float64\n",
            " 50  delinq_amnt                 39717 non-null  int64  \n",
            " 51  pub_rec_bankruptcies        39020 non-null  float64\n",
            " 52  tax_liens                   39678 non-null  float64\n",
            "dtypes: float64(18), int64(13), object(22)\n",
            "memory usage: 16.1+ MB\n"
          ]
        }
      ],
      "source": [
        "datacopy.info()"
      ]
    },
    {
      "cell_type": "code",
      "execution_count": 18,
      "id": "24389ea2",
      "metadata": {
        "id": "24389ea2"
      },
      "outputs": [],
      "source": [
        "datacopy[\"int_rate\"] = datacopy[\"int_rate\"].str.replace(\"%\",\"\").astype(float)"
      ]
    },
    {
      "cell_type": "code",
      "execution_count": 19,
      "id": "53bae2ba",
      "metadata": {
        "id": "53bae2ba"
      },
      "outputs": [],
      "source": [
        "emp_len_mv=datacopy[datacopy[\"emp_length\"].isnull()].index"
      ]
    },
    {
      "cell_type": "code",
      "execution_count": 20,
      "id": "5decebb2",
      "metadata": {
        "id": "5decebb2"
      },
      "outputs": [],
      "source": [
        "datacopy=datacopy.drop(emp_len_mv)"
      ]
    },
    {
      "cell_type": "code",
      "execution_count": 21,
      "id": "4e0b699e",
      "metadata": {
        "colab": {
          "base_uri": "https://localhost:8080/"
        },
        "id": "4e0b699e",
        "outputId": "28092b0a-4b24-4f5e-9b4d-16fbb64edea4"
      },
      "outputs": [
        {
          "output_type": "execute_result",
          "data": {
            "text/plain": [
              "Int64Index([  168,   323,   394,   422,   439,   534,   555,   562,   569,\n",
              "              678,\n",
              "            ...\n",
              "            32418, 32435, 32466, 32517, 32545, 32591, 32608, 32621, 32631,\n",
              "            32665],\n",
              "           dtype='int64', length=1075)"
            ]
          },
          "metadata": {},
          "execution_count": 21
        }
      ],
      "source": [
        "emp_len_mv"
      ]
    },
    {
      "cell_type": "code",
      "execution_count": 22,
      "id": "fa3c3492",
      "metadata": {
        "colab": {
          "base_uri": "https://localhost:8080/",
          "height": 661
        },
        "id": "fa3c3492",
        "outputId": "3ce2538b-4dc4-4527-998d-6eaecc7e23d3"
      },
      "outputs": [
        {
          "output_type": "execute_result",
          "data": {
            "text/plain": [
              "            id  member_id  loan_amnt  funded_amnt  funded_amnt_inv  \\\n",
              "0      1077501    1296599       5000         5000           4975.0   \n",
              "1      1077430    1314167       2500         2500           2500.0   \n",
              "2      1077175    1313524       2400         2400           2400.0   \n",
              "3      1076863    1277178      10000        10000          10000.0   \n",
              "4      1075358    1311748       3000         3000           3000.0   \n",
              "...        ...        ...        ...          ...              ...   \n",
              "39712    92187      92174       2500         2500           1075.0   \n",
              "39713    90665      90607       8500         8500            875.0   \n",
              "39714    90395      90390       5000         5000           1325.0   \n",
              "39715    90376      89243       5000         5000            650.0   \n",
              "39716    87023      86999       7500         7500            800.0   \n",
              "\n",
              "             term  int_rate  installment grade sub_grade  ... last_pymnt_amnt  \\\n",
              "0       36 months     10.65       162.87     B        B2  ...          171.62   \n",
              "1       60 months     15.27        59.83     C        C4  ...          119.66   \n",
              "2       36 months     15.96        84.33     C        C5  ...          649.91   \n",
              "3       36 months     13.49       339.31     C        C1  ...          357.48   \n",
              "4       60 months     12.69        67.79     B        B5  ...           67.79   \n",
              "...           ...       ...          ...   ...       ...  ...             ...   \n",
              "39712   36 months      8.07        78.42     A        A4  ...           80.90   \n",
              "39713   36 months     10.28       275.38     C        C1  ...          281.94   \n",
              "39714   36 months      8.07       156.84     A        A4  ...            0.00   \n",
              "39715   36 months      7.43       155.38     A        A2  ...            0.00   \n",
              "39716   36 months     13.75       255.43     E        E2  ...          256.59   \n",
              "\n",
              "      last_credit_pull_d collections_12_mths_ex_med  policy_code  \\\n",
              "0                 May-16                        0.0            1   \n",
              "1                 Sep-13                        0.0            1   \n",
              "2                 May-16                        0.0            1   \n",
              "3                 Apr-16                        0.0            1   \n",
              "4                 May-16                        0.0            1   \n",
              "...                  ...                        ...          ...   \n",
              "39712             Jun-10                        NaN            1   \n",
              "39713             Jul-10                        NaN            1   \n",
              "39714             Jun-07                        NaN            1   \n",
              "39715             Jun-07                        NaN            1   \n",
              "39716             Jun-10                        NaN            1   \n",
              "\n",
              "      application_type acc_now_delinq chargeoff_within_12_mths delinq_amnt  \\\n",
              "0           INDIVIDUAL              0                      0.0           0   \n",
              "1           INDIVIDUAL              0                      0.0           0   \n",
              "2           INDIVIDUAL              0                      0.0           0   \n",
              "3           INDIVIDUAL              0                      0.0           0   \n",
              "4           INDIVIDUAL              0                      0.0           0   \n",
              "...                ...            ...                      ...         ...   \n",
              "39712       INDIVIDUAL              0                      NaN           0   \n",
              "39713       INDIVIDUAL              0                      NaN           0   \n",
              "39714       INDIVIDUAL              0                      NaN           0   \n",
              "39715       INDIVIDUAL              0                      NaN           0   \n",
              "39716       INDIVIDUAL              0                      NaN           0   \n",
              "\n",
              "      pub_rec_bankruptcies tax_liens  \n",
              "0                      0.0       0.0  \n",
              "1                      0.0       0.0  \n",
              "2                      0.0       0.0  \n",
              "3                      0.0       0.0  \n",
              "4                      0.0       0.0  \n",
              "...                    ...       ...  \n",
              "39712                  NaN       NaN  \n",
              "39713                  NaN       NaN  \n",
              "39714                  NaN       NaN  \n",
              "39715                  NaN       NaN  \n",
              "39716                  NaN       NaN  \n",
              "\n",
              "[38642 rows x 53 columns]"
            ],
            "text/html": [
              "\n",
              "  <div id=\"df-33c2b52a-111e-4635-9dce-aad54a838e00\">\n",
              "    <div class=\"colab-df-container\">\n",
              "      <div>\n",
              "<style scoped>\n",
              "    .dataframe tbody tr th:only-of-type {\n",
              "        vertical-align: middle;\n",
              "    }\n",
              "\n",
              "    .dataframe tbody tr th {\n",
              "        vertical-align: top;\n",
              "    }\n",
              "\n",
              "    .dataframe thead th {\n",
              "        text-align: right;\n",
              "    }\n",
              "</style>\n",
              "<table border=\"1\" class=\"dataframe\">\n",
              "  <thead>\n",
              "    <tr style=\"text-align: right;\">\n",
              "      <th></th>\n",
              "      <th>id</th>\n",
              "      <th>member_id</th>\n",
              "      <th>loan_amnt</th>\n",
              "      <th>funded_amnt</th>\n",
              "      <th>funded_amnt_inv</th>\n",
              "      <th>term</th>\n",
              "      <th>int_rate</th>\n",
              "      <th>installment</th>\n",
              "      <th>grade</th>\n",
              "      <th>sub_grade</th>\n",
              "      <th>...</th>\n",
              "      <th>last_pymnt_amnt</th>\n",
              "      <th>last_credit_pull_d</th>\n",
              "      <th>collections_12_mths_ex_med</th>\n",
              "      <th>policy_code</th>\n",
              "      <th>application_type</th>\n",
              "      <th>acc_now_delinq</th>\n",
              "      <th>chargeoff_within_12_mths</th>\n",
              "      <th>delinq_amnt</th>\n",
              "      <th>pub_rec_bankruptcies</th>\n",
              "      <th>tax_liens</th>\n",
              "    </tr>\n",
              "  </thead>\n",
              "  <tbody>\n",
              "    <tr>\n",
              "      <th>0</th>\n",
              "      <td>1077501</td>\n",
              "      <td>1296599</td>\n",
              "      <td>5000</td>\n",
              "      <td>5000</td>\n",
              "      <td>4975.0</td>\n",
              "      <td>36 months</td>\n",
              "      <td>10.65</td>\n",
              "      <td>162.87</td>\n",
              "      <td>B</td>\n",
              "      <td>B2</td>\n",
              "      <td>...</td>\n",
              "      <td>171.62</td>\n",
              "      <td>May-16</td>\n",
              "      <td>0.0</td>\n",
              "      <td>1</td>\n",
              "      <td>INDIVIDUAL</td>\n",
              "      <td>0</td>\n",
              "      <td>0.0</td>\n",
              "      <td>0</td>\n",
              "      <td>0.0</td>\n",
              "      <td>0.0</td>\n",
              "    </tr>\n",
              "    <tr>\n",
              "      <th>1</th>\n",
              "      <td>1077430</td>\n",
              "      <td>1314167</td>\n",
              "      <td>2500</td>\n",
              "      <td>2500</td>\n",
              "      <td>2500.0</td>\n",
              "      <td>60 months</td>\n",
              "      <td>15.27</td>\n",
              "      <td>59.83</td>\n",
              "      <td>C</td>\n",
              "      <td>C4</td>\n",
              "      <td>...</td>\n",
              "      <td>119.66</td>\n",
              "      <td>Sep-13</td>\n",
              "      <td>0.0</td>\n",
              "      <td>1</td>\n",
              "      <td>INDIVIDUAL</td>\n",
              "      <td>0</td>\n",
              "      <td>0.0</td>\n",
              "      <td>0</td>\n",
              "      <td>0.0</td>\n",
              "      <td>0.0</td>\n",
              "    </tr>\n",
              "    <tr>\n",
              "      <th>2</th>\n",
              "      <td>1077175</td>\n",
              "      <td>1313524</td>\n",
              "      <td>2400</td>\n",
              "      <td>2400</td>\n",
              "      <td>2400.0</td>\n",
              "      <td>36 months</td>\n",
              "      <td>15.96</td>\n",
              "      <td>84.33</td>\n",
              "      <td>C</td>\n",
              "      <td>C5</td>\n",
              "      <td>...</td>\n",
              "      <td>649.91</td>\n",
              "      <td>May-16</td>\n",
              "      <td>0.0</td>\n",
              "      <td>1</td>\n",
              "      <td>INDIVIDUAL</td>\n",
              "      <td>0</td>\n",
              "      <td>0.0</td>\n",
              "      <td>0</td>\n",
              "      <td>0.0</td>\n",
              "      <td>0.0</td>\n",
              "    </tr>\n",
              "    <tr>\n",
              "      <th>3</th>\n",
              "      <td>1076863</td>\n",
              "      <td>1277178</td>\n",
              "      <td>10000</td>\n",
              "      <td>10000</td>\n",
              "      <td>10000.0</td>\n",
              "      <td>36 months</td>\n",
              "      <td>13.49</td>\n",
              "      <td>339.31</td>\n",
              "      <td>C</td>\n",
              "      <td>C1</td>\n",
              "      <td>...</td>\n",
              "      <td>357.48</td>\n",
              "      <td>Apr-16</td>\n",
              "      <td>0.0</td>\n",
              "      <td>1</td>\n",
              "      <td>INDIVIDUAL</td>\n",
              "      <td>0</td>\n",
              "      <td>0.0</td>\n",
              "      <td>0</td>\n",
              "      <td>0.0</td>\n",
              "      <td>0.0</td>\n",
              "    </tr>\n",
              "    <tr>\n",
              "      <th>4</th>\n",
              "      <td>1075358</td>\n",
              "      <td>1311748</td>\n",
              "      <td>3000</td>\n",
              "      <td>3000</td>\n",
              "      <td>3000.0</td>\n",
              "      <td>60 months</td>\n",
              "      <td>12.69</td>\n",
              "      <td>67.79</td>\n",
              "      <td>B</td>\n",
              "      <td>B5</td>\n",
              "      <td>...</td>\n",
              "      <td>67.79</td>\n",
              "      <td>May-16</td>\n",
              "      <td>0.0</td>\n",
              "      <td>1</td>\n",
              "      <td>INDIVIDUAL</td>\n",
              "      <td>0</td>\n",
              "      <td>0.0</td>\n",
              "      <td>0</td>\n",
              "      <td>0.0</td>\n",
              "      <td>0.0</td>\n",
              "    </tr>\n",
              "    <tr>\n",
              "      <th>...</th>\n",
              "      <td>...</td>\n",
              "      <td>...</td>\n",
              "      <td>...</td>\n",
              "      <td>...</td>\n",
              "      <td>...</td>\n",
              "      <td>...</td>\n",
              "      <td>...</td>\n",
              "      <td>...</td>\n",
              "      <td>...</td>\n",
              "      <td>...</td>\n",
              "      <td>...</td>\n",
              "      <td>...</td>\n",
              "      <td>...</td>\n",
              "      <td>...</td>\n",
              "      <td>...</td>\n",
              "      <td>...</td>\n",
              "      <td>...</td>\n",
              "      <td>...</td>\n",
              "      <td>...</td>\n",
              "      <td>...</td>\n",
              "      <td>...</td>\n",
              "    </tr>\n",
              "    <tr>\n",
              "      <th>39712</th>\n",
              "      <td>92187</td>\n",
              "      <td>92174</td>\n",
              "      <td>2500</td>\n",
              "      <td>2500</td>\n",
              "      <td>1075.0</td>\n",
              "      <td>36 months</td>\n",
              "      <td>8.07</td>\n",
              "      <td>78.42</td>\n",
              "      <td>A</td>\n",
              "      <td>A4</td>\n",
              "      <td>...</td>\n",
              "      <td>80.90</td>\n",
              "      <td>Jun-10</td>\n",
              "      <td>NaN</td>\n",
              "      <td>1</td>\n",
              "      <td>INDIVIDUAL</td>\n",
              "      <td>0</td>\n",
              "      <td>NaN</td>\n",
              "      <td>0</td>\n",
              "      <td>NaN</td>\n",
              "      <td>NaN</td>\n",
              "    </tr>\n",
              "    <tr>\n",
              "      <th>39713</th>\n",
              "      <td>90665</td>\n",
              "      <td>90607</td>\n",
              "      <td>8500</td>\n",
              "      <td>8500</td>\n",
              "      <td>875.0</td>\n",
              "      <td>36 months</td>\n",
              "      <td>10.28</td>\n",
              "      <td>275.38</td>\n",
              "      <td>C</td>\n",
              "      <td>C1</td>\n",
              "      <td>...</td>\n",
              "      <td>281.94</td>\n",
              "      <td>Jul-10</td>\n",
              "      <td>NaN</td>\n",
              "      <td>1</td>\n",
              "      <td>INDIVIDUAL</td>\n",
              "      <td>0</td>\n",
              "      <td>NaN</td>\n",
              "      <td>0</td>\n",
              "      <td>NaN</td>\n",
              "      <td>NaN</td>\n",
              "    </tr>\n",
              "    <tr>\n",
              "      <th>39714</th>\n",
              "      <td>90395</td>\n",
              "      <td>90390</td>\n",
              "      <td>5000</td>\n",
              "      <td>5000</td>\n",
              "      <td>1325.0</td>\n",
              "      <td>36 months</td>\n",
              "      <td>8.07</td>\n",
              "      <td>156.84</td>\n",
              "      <td>A</td>\n",
              "      <td>A4</td>\n",
              "      <td>...</td>\n",
              "      <td>0.00</td>\n",
              "      <td>Jun-07</td>\n",
              "      <td>NaN</td>\n",
              "      <td>1</td>\n",
              "      <td>INDIVIDUAL</td>\n",
              "      <td>0</td>\n",
              "      <td>NaN</td>\n",
              "      <td>0</td>\n",
              "      <td>NaN</td>\n",
              "      <td>NaN</td>\n",
              "    </tr>\n",
              "    <tr>\n",
              "      <th>39715</th>\n",
              "      <td>90376</td>\n",
              "      <td>89243</td>\n",
              "      <td>5000</td>\n",
              "      <td>5000</td>\n",
              "      <td>650.0</td>\n",
              "      <td>36 months</td>\n",
              "      <td>7.43</td>\n",
              "      <td>155.38</td>\n",
              "      <td>A</td>\n",
              "      <td>A2</td>\n",
              "      <td>...</td>\n",
              "      <td>0.00</td>\n",
              "      <td>Jun-07</td>\n",
              "      <td>NaN</td>\n",
              "      <td>1</td>\n",
              "      <td>INDIVIDUAL</td>\n",
              "      <td>0</td>\n",
              "      <td>NaN</td>\n",
              "      <td>0</td>\n",
              "      <td>NaN</td>\n",
              "      <td>NaN</td>\n",
              "    </tr>\n",
              "    <tr>\n",
              "      <th>39716</th>\n",
              "      <td>87023</td>\n",
              "      <td>86999</td>\n",
              "      <td>7500</td>\n",
              "      <td>7500</td>\n",
              "      <td>800.0</td>\n",
              "      <td>36 months</td>\n",
              "      <td>13.75</td>\n",
              "      <td>255.43</td>\n",
              "      <td>E</td>\n",
              "      <td>E2</td>\n",
              "      <td>...</td>\n",
              "      <td>256.59</td>\n",
              "      <td>Jun-10</td>\n",
              "      <td>NaN</td>\n",
              "      <td>1</td>\n",
              "      <td>INDIVIDUAL</td>\n",
              "      <td>0</td>\n",
              "      <td>NaN</td>\n",
              "      <td>0</td>\n",
              "      <td>NaN</td>\n",
              "      <td>NaN</td>\n",
              "    </tr>\n",
              "  </tbody>\n",
              "</table>\n",
              "<p>38642 rows × 53 columns</p>\n",
              "</div>\n",
              "      <button class=\"colab-df-convert\" onclick=\"convertToInteractive('df-33c2b52a-111e-4635-9dce-aad54a838e00')\"\n",
              "              title=\"Convert this dataframe to an interactive table.\"\n",
              "              style=\"display:none;\">\n",
              "        \n",
              "  <svg xmlns=\"http://www.w3.org/2000/svg\" height=\"24px\"viewBox=\"0 0 24 24\"\n",
              "       width=\"24px\">\n",
              "    <path d=\"M0 0h24v24H0V0z\" fill=\"none\"/>\n",
              "    <path d=\"M18.56 5.44l.94 2.06.94-2.06 2.06-.94-2.06-.94-.94-2.06-.94 2.06-2.06.94zm-11 1L8.5 8.5l.94-2.06 2.06-.94-2.06-.94L8.5 2.5l-.94 2.06-2.06.94zm10 10l.94 2.06.94-2.06 2.06-.94-2.06-.94-.94-2.06-.94 2.06-2.06.94z\"/><path d=\"M17.41 7.96l-1.37-1.37c-.4-.4-.92-.59-1.43-.59-.52 0-1.04.2-1.43.59L10.3 9.45l-7.72 7.72c-.78.78-.78 2.05 0 2.83L4 21.41c.39.39.9.59 1.41.59.51 0 1.02-.2 1.41-.59l7.78-7.78 2.81-2.81c.8-.78.8-2.07 0-2.86zM5.41 20L4 18.59l7.72-7.72 1.47 1.35L5.41 20z\"/>\n",
              "  </svg>\n",
              "      </button>\n",
              "      \n",
              "  <style>\n",
              "    .colab-df-container {\n",
              "      display:flex;\n",
              "      flex-wrap:wrap;\n",
              "      gap: 12px;\n",
              "    }\n",
              "\n",
              "    .colab-df-convert {\n",
              "      background-color: #E8F0FE;\n",
              "      border: none;\n",
              "      border-radius: 50%;\n",
              "      cursor: pointer;\n",
              "      display: none;\n",
              "      fill: #1967D2;\n",
              "      height: 32px;\n",
              "      padding: 0 0 0 0;\n",
              "      width: 32px;\n",
              "    }\n",
              "\n",
              "    .colab-df-convert:hover {\n",
              "      background-color: #E2EBFA;\n",
              "      box-shadow: 0px 1px 2px rgba(60, 64, 67, 0.3), 0px 1px 3px 1px rgba(60, 64, 67, 0.15);\n",
              "      fill: #174EA6;\n",
              "    }\n",
              "\n",
              "    [theme=dark] .colab-df-convert {\n",
              "      background-color: #3B4455;\n",
              "      fill: #D2E3FC;\n",
              "    }\n",
              "\n",
              "    [theme=dark] .colab-df-convert:hover {\n",
              "      background-color: #434B5C;\n",
              "      box-shadow: 0px 1px 3px 1px rgba(0, 0, 0, 0.15);\n",
              "      filter: drop-shadow(0px 1px 2px rgba(0, 0, 0, 0.3));\n",
              "      fill: #FFFFFF;\n",
              "    }\n",
              "  </style>\n",
              "\n",
              "      <script>\n",
              "        const buttonEl =\n",
              "          document.querySelector('#df-33c2b52a-111e-4635-9dce-aad54a838e00 button.colab-df-convert');\n",
              "        buttonEl.style.display =\n",
              "          google.colab.kernel.accessAllowed ? 'block' : 'none';\n",
              "\n",
              "        async function convertToInteractive(key) {\n",
              "          const element = document.querySelector('#df-33c2b52a-111e-4635-9dce-aad54a838e00');\n",
              "          const dataTable =\n",
              "            await google.colab.kernel.invokeFunction('convertToInteractive',\n",
              "                                                     [key], {});\n",
              "          if (!dataTable) return;\n",
              "\n",
              "          const docLinkHtml = 'Like what you see? Visit the ' +\n",
              "            '<a target=\"_blank\" href=https://colab.research.google.com/notebooks/data_table.ipynb>data table notebook</a>'\n",
              "            + ' to learn more about interactive tables.';\n",
              "          element.innerHTML = '';\n",
              "          dataTable['output_type'] = 'display_data';\n",
              "          await google.colab.output.renderOutput(dataTable, element);\n",
              "          const docLink = document.createElement('div');\n",
              "          docLink.innerHTML = docLinkHtml;\n",
              "          element.appendChild(docLink);\n",
              "        }\n",
              "      </script>\n",
              "    </div>\n",
              "  </div>\n",
              "  "
            ]
          },
          "metadata": {},
          "execution_count": 22
        }
      ],
      "source": [
        "datacopy[~datacopy[\"emp_length\"].isnull()]"
      ]
    },
    {
      "cell_type": "code",
      "execution_count": 23,
      "id": "52073ccb",
      "metadata": {
        "id": "52073ccb"
      },
      "outputs": [],
      "source": [
        "import re"
      ]
    },
    {
      "cell_type": "code",
      "execution_count": 24,
      "id": "8d970b5a",
      "metadata": {
        "id": "8d970b5a"
      },
      "outputs": [],
      "source": [
        "datacopy[\"emp_length\"] = datacopy[\"emp_length\"].apply(lambda x: re.findall(\"\\d+\",str(x))[0])"
      ]
    },
    {
      "cell_type": "code",
      "execution_count": 25,
      "id": "0f3b7853",
      "metadata": {
        "id": "0f3b7853"
      },
      "outputs": [],
      "source": [
        "datacopy[\"emp_length\"]=datacopy[\"emp_length\"].astype(int)"
      ]
    },
    {
      "cell_type": "code",
      "execution_count": 26,
      "id": "cef45e87",
      "metadata": {
        "colab": {
          "base_uri": "https://localhost:8080/"
        },
        "id": "cef45e87",
        "outputId": "2e1aca2e-1a38-4d02-abac-7e2ec63ec856"
      },
      "outputs": [
        {
          "output_type": "execute_result",
          "data": {
            "text/plain": [
              "Fully Paid     32145\n",
              "Charged Off     5399\n",
              "Current         1098\n",
              "Name: loan_status, dtype: int64"
            ]
          },
          "metadata": {},
          "execution_count": 26
        }
      ],
      "source": [
        "datacopy['loan_status'].value_counts()"
      ]
    },
    {
      "cell_type": "code",
      "execution_count": 27,
      "id": "9982d2a4",
      "metadata": {
        "id": "9982d2a4"
      },
      "outputs": [],
      "source": [
        "datacopy=datacopy[datacopy['loan_status']!=\"Current\"]"
      ]
    },
    {
      "cell_type": "code",
      "execution_count": 28,
      "id": "3abdd52a",
      "metadata": {
        "colab": {
          "base_uri": "https://localhost:8080/"
        },
        "id": "3abdd52a",
        "outputId": "3f5bc21f-830a-40b7-d67f-2f76130d7b3f"
      },
      "outputs": [
        {
          "output_type": "execute_result",
          "data": {
            "text/plain": [
              "Fully Paid     32145\n",
              "Charged Off     5399\n",
              "Name: loan_status, dtype: int64"
            ]
          },
          "metadata": {},
          "execution_count": 28
        }
      ],
      "source": [
        "datacopy['loan_status'].value_counts()"
      ]
    },
    {
      "cell_type": "code",
      "execution_count": 29,
      "id": "60f5c936",
      "metadata": {
        "colab": {
          "base_uri": "https://localhost:8080/"
        },
        "id": "60f5c936",
        "outputId": "a4b8e483-d60e-4802-94f1-a0a5b807f0ad"
      },
      "outputs": [
        {
          "output_type": "execute_result",
          "data": {
            "text/plain": [
              "0        Dec-11\n",
              "1        Dec-11\n",
              "2        Dec-11\n",
              "3        Dec-11\n",
              "5        Dec-11\n",
              "          ...  \n",
              "39712    Jul-07\n",
              "39713    Jul-07\n",
              "39714    Jul-07\n",
              "39715    Jul-07\n",
              "39716    Jun-07\n",
              "Name: issue_d, Length: 37544, dtype: object"
            ]
          },
          "metadata": {},
          "execution_count": 29
        }
      ],
      "source": [
        "datacopy[\"issue_d\"]"
      ]
    },
    {
      "cell_type": "code",
      "execution_count": 30,
      "id": "ba395e80",
      "metadata": {
        "id": "ba395e80"
      },
      "outputs": [],
      "source": [
        "from datetime import datetime"
      ]
    },
    {
      "cell_type": "code",
      "execution_count": 31,
      "id": "0489a46e",
      "metadata": {
        "id": "0489a46e"
      },
      "outputs": [],
      "source": [
        "datacopy[\"issue_d\"]=datacopy[\"issue_d\"].apply(lambda x:datetime.strptime(x,\"%b-%y\"))"
      ]
    },
    {
      "cell_type": "code",
      "execution_count": 32,
      "id": "fb493d38",
      "metadata": {
        "colab": {
          "base_uri": "https://localhost:8080/"
        },
        "id": "fb493d38",
        "outputId": "e4e9ce1e-5f08-4d42-c413-7ed3df375cfe"
      },
      "outputs": [
        {
          "output_type": "execute_result",
          "data": {
            "text/plain": [
              "0       2011-12-01\n",
              "1       2011-12-01\n",
              "2       2011-12-01\n",
              "3       2011-12-01\n",
              "5       2011-12-01\n",
              "           ...    \n",
              "39712   2007-07-01\n",
              "39713   2007-07-01\n",
              "39714   2007-07-01\n",
              "39715   2007-07-01\n",
              "39716   2007-06-01\n",
              "Name: issue_d, Length: 37544, dtype: datetime64[ns]"
            ]
          },
          "metadata": {},
          "execution_count": 32
        }
      ],
      "source": [
        "datacopy[\"issue_d\"]"
      ]
    },
    {
      "cell_type": "code",
      "execution_count": 33,
      "id": "c24ce651",
      "metadata": {
        "id": "c24ce651"
      },
      "outputs": [],
      "source": [
        "datacopy[\"isd_month\"]=datacopy[\"issue_d\"].apply(lambda x:x.month)"
      ]
    },
    {
      "cell_type": "code",
      "execution_count": 34,
      "id": "22162e65",
      "metadata": {
        "colab": {
          "base_uri": "https://localhost:8080/"
        },
        "id": "22162e65",
        "outputId": "cc72001e-961e-4d17-a2b4-9fd9a1f16175"
      },
      "outputs": [
        {
          "output_type": "execute_result",
          "data": {
            "text/plain": [
              "0        2011\n",
              "1        2011\n",
              "2        2011\n",
              "3        2011\n",
              "5        2011\n",
              "         ... \n",
              "39712    2007\n",
              "39713    2007\n",
              "39714    2007\n",
              "39715    2007\n",
              "39716    2007\n",
              "Name: isd_year, Length: 37544, dtype: int64"
            ]
          },
          "metadata": {},
          "execution_count": 34
        }
      ],
      "source": [
        "datacopy[\"isd_year\"]=datacopy[\"issue_d\"].apply(lambda x:x.year)\n",
        "datacopy[\"isd_year\"]"
      ]
    },
    {
      "cell_type": "code",
      "execution_count": 35,
      "id": "aec75014",
      "metadata": {
        "colab": {
          "base_uri": "https://localhost:8080/"
        },
        "id": "aec75014",
        "outputId": "b928c020-2520-4cf8-86a4-8bdbb109f193"
      },
      "outputs": [
        {
          "output_type": "execute_result",
          "data": {
            "text/plain": [
              "0        83.70%\n",
              "1         9.40%\n",
              "2        98.50%\n",
              "3           21%\n",
              "5        28.30%\n",
              "          ...  \n",
              "39712    13.10%\n",
              "39713    26.90%\n",
              "39714    19.40%\n",
              "39715     0.70%\n",
              "39716    51.50%\n",
              "Name: revol_util, Length: 37544, dtype: object"
            ]
          },
          "metadata": {},
          "execution_count": 35
        }
      ],
      "source": [
        "datacopy[\"revol_util\"]"
      ]
    },
    {
      "cell_type": "code",
      "execution_count": 36,
      "id": "269fdb0b",
      "metadata": {
        "id": "269fdb0b"
      },
      "outputs": [],
      "source": [
        "datacopy[\"revol_util\"]=datacopy[\"revol_util\"].str.replace(\"%\",\"\").astype(float)"
      ]
    },
    {
      "cell_type": "code",
      "execution_count": 37,
      "id": "015ea0d8",
      "metadata": {
        "colab": {
          "base_uri": "https://localhost:8080/"
        },
        "id": "015ea0d8",
        "outputId": "fecf7a4d-cce5-44c6-b149-ae939edc2481"
      },
      "outputs": [
        {
          "output_type": "execute_result",
          "data": {
            "text/plain": [
              "0        83.7\n",
              "1         9.4\n",
              "2        98.5\n",
              "3        21.0\n",
              "5        28.3\n",
              "         ... \n",
              "39712    13.1\n",
              "39713    26.9\n",
              "39714    19.4\n",
              "39715     0.7\n",
              "39716    51.5\n",
              "Name: revol_util, Length: 37544, dtype: float64"
            ]
          },
          "metadata": {},
          "execution_count": 37
        }
      ],
      "source": [
        "datacopy[\"revol_util\"]"
      ]
    },
    {
      "cell_type": "code",
      "execution_count": 38,
      "id": "12374711",
      "metadata": {
        "colab": {
          "base_uri": "https://localhost:8080/"
        },
        "id": "12374711",
        "outputId": "047642d6-e13f-40eb-ea77-227bc4c42e05"
      },
      "outputs": [
        {
          "output_type": "execute_result",
          "data": {
            "text/plain": [
              "array(['n'], dtype=object)"
            ]
          },
          "metadata": {},
          "execution_count": 38
        }
      ],
      "source": [
        "datacopy[\"pymnt_plan\"].unique() # not needed"
      ]
    },
    {
      "cell_type": "code",
      "execution_count": 39,
      "id": "04ce9335",
      "metadata": {
        "colab": {
          "base_uri": "https://localhost:8080/"
        },
        "id": "04ce9335",
        "outputId": "5b9cadff-9823-428f-b94b-182cad64d416"
      },
      "outputs": [
        {
          "output_type": "execute_result",
          "data": {
            "text/plain": [
              "0        Jan-85\n",
              "1        Apr-99\n",
              "2        Nov-01\n",
              "3        Feb-96\n",
              "5        Nov-04\n",
              "          ...  \n",
              "39712    Nov-90\n",
              "39713    Dec-86\n",
              "39714    Oct-98\n",
              "39715    Nov-88\n",
              "39716    Oct-03\n",
              "Name: earliest_cr_line, Length: 37544, dtype: object"
            ]
          },
          "metadata": {},
          "execution_count": 39
        }
      ],
      "source": [
        "datacopy[\"earliest_cr_line\"]   # not needed"
      ]
    },
    {
      "cell_type": "code",
      "execution_count": 40,
      "id": "73f4737f",
      "metadata": {
        "colab": {
          "base_uri": "https://localhost:8080/"
        },
        "id": "73f4737f",
        "outputId": "d3db6957-684f-4b9a-8584-308bbb318f4f"
      },
      "outputs": [
        {
          "output_type": "execute_result",
          "data": {
            "text/plain": [
              "array(['f'], dtype=object)"
            ]
          },
          "metadata": {},
          "execution_count": 40
        }
      ],
      "source": [
        "datacopy[\"initial_list_status\"].unique()"
      ]
    },
    {
      "cell_type": "code",
      "execution_count": 41,
      "id": "ed3b5cf9",
      "metadata": {
        "colab": {
          "base_uri": "https://localhost:8080/"
        },
        "id": "ed3b5cf9",
        "outputId": "4eb75ab9-fbdb-4e30-e5a5-e65980b75052"
      },
      "outputs": [
        {
          "output_type": "execute_result",
          "data": {
            "text/plain": [
              "array([0.])"
            ]
          },
          "metadata": {},
          "execution_count": 41
        }
      ],
      "source": [
        "datacopy[\"out_prncp_inv\"].unique()"
      ]
    },
    {
      "cell_type": "code",
      "execution_count": 42,
      "id": "c84ae829",
      "metadata": {
        "colab": {
          "base_uri": "https://localhost:8080/"
        },
        "id": "c84ae829",
        "outputId": "faf44a1a-d316-425a-ad67-0dd6dc7056de"
      },
      "outputs": [
        {
          "output_type": "execute_result",
          "data": {
            "text/plain": [
              "0        Jan-15\n",
              "1        Apr-13\n",
              "2        Jun-14\n",
              "3        Jan-15\n",
              "5        Jan-15\n",
              "          ...  \n",
              "39712    Jul-10\n",
              "39713    Jul-10\n",
              "39714    Apr-08\n",
              "39715    Jan-08\n",
              "39716    Jun-10\n",
              "Name: last_pymnt_d, Length: 37544, dtype: object"
            ]
          },
          "metadata": {},
          "execution_count": 42
        }
      ],
      "source": [
        "datacopy[\"last_pymnt_d\"]"
      ]
    },
    {
      "cell_type": "code",
      "execution_count": 43,
      "id": "defc875a",
      "metadata": {
        "id": "defc875a"
      },
      "outputs": [],
      "source": [
        "#datacopy[\"last_pymnt_d\"]=datacopy[\"last_pymnt_d\"].apply(lambda x:datetime.strptime(x,\"%b-%y\"))\n"
      ]
    },
    {
      "cell_type": "code",
      "execution_count": 44,
      "id": "484960f9",
      "metadata": {
        "id": "484960f9"
      },
      "outputs": [],
      "source": [
        "#datacopy[\"lpd_month\"]=datacopy[\"last_pymnt_d\"].apply(lambda x:x.month)\n",
        "#datacopy[\"lpd_year\"]=datacopy[\"last_pymnt_d\"].apply(lambda x:x.year)"
      ]
    },
    {
      "cell_type": "code",
      "execution_count": 45,
      "id": "d79ae4de",
      "metadata": {
        "colab": {
          "base_uri": "https://localhost:8080/"
        },
        "id": "d79ae4de",
        "outputId": "cd439d47-c863-427e-f673-8371b0d1fb78"
      },
      "outputs": [
        {
          "output_type": "execute_result",
          "data": {
            "text/plain": [
              "array([ 0., nan])"
            ]
          },
          "metadata": {},
          "execution_count": 45
        }
      ],
      "source": [
        "datacopy[\"collections_12_mths_ex_med\"].unique()"
      ]
    },
    {
      "cell_type": "code",
      "execution_count": 46,
      "id": "1ea7003a",
      "metadata": {
        "colab": {
          "base_uri": "https://localhost:8080/"
        },
        "id": "1ea7003a",
        "outputId": "a8b0202b-7693-4816-8ca1-450b7cc3448a"
      },
      "outputs": [
        {
          "output_type": "execute_result",
          "data": {
            "text/plain": [
              "array([1])"
            ]
          },
          "metadata": {},
          "execution_count": 46
        }
      ],
      "source": [
        "datacopy[\"policy_code\"].unique()"
      ]
    },
    {
      "cell_type": "code",
      "execution_count": 47,
      "id": "467d787d",
      "metadata": {
        "colab": {
          "base_uri": "https://localhost:8080/"
        },
        "id": "467d787d",
        "outputId": "4d18d6af-a831-4873-ce8a-e3681964eddc"
      },
      "outputs": [
        {
          "output_type": "execute_result",
          "data": {
            "text/plain": [
              "array(['INDIVIDUAL'], dtype=object)"
            ]
          },
          "metadata": {},
          "execution_count": 47
        }
      ],
      "source": [
        "datacopy[\"application_type\"].unique()"
      ]
    },
    {
      "cell_type": "code",
      "execution_count": 48,
      "id": "5205b18a",
      "metadata": {
        "colab": {
          "base_uri": "https://localhost:8080/"
        },
        "id": "5205b18a",
        "outputId": "b4e0e9c5-bc83-40b0-8144-ca4d1cbf1615"
      },
      "outputs": [
        {
          "output_type": "execute_result",
          "data": {
            "text/plain": [
              "array([0])"
            ]
          },
          "metadata": {},
          "execution_count": 48
        }
      ],
      "source": [
        "datacopy[\"acc_now_delinq\"].unique()"
      ]
    },
    {
      "cell_type": "code",
      "execution_count": 49,
      "id": "62f986bb",
      "metadata": {
        "colab": {
          "base_uri": "https://localhost:8080/"
        },
        "id": "62f986bb",
        "outputId": "8f4877be-0e22-4788-8350-1af55831c7c4"
      },
      "outputs": [
        {
          "output_type": "execute_result",
          "data": {
            "text/plain": [
              "array([0])"
            ]
          },
          "metadata": {},
          "execution_count": 49
        }
      ],
      "source": [
        "datacopy[\"delinq_amnt\"].unique()"
      ]
    },
    {
      "cell_type": "code",
      "execution_count": 50,
      "id": "61bc4edc",
      "metadata": {
        "colab": {
          "base_uri": "https://localhost:8080/"
        },
        "id": "61bc4edc",
        "outputId": "b824e22f-25bf-49c9-bd1a-dce14bbff4bc"
      },
      "outputs": [
        {
          "output_type": "execute_result",
          "data": {
            "text/plain": [
              "array([ 0.,  1.,  2., nan])"
            ]
          },
          "metadata": {},
          "execution_count": 50
        }
      ],
      "source": [
        "datacopy[\"pub_rec_bankruptcies\"].unique()"
      ]
    },
    {
      "cell_type": "code",
      "execution_count": 51,
      "id": "28daef00",
      "metadata": {
        "colab": {
          "base_uri": "https://localhost:8080/"
        },
        "id": "28daef00",
        "outputId": "b1e7ece4-6106-429a-e265-ae51b2a47376"
      },
      "outputs": [
        {
          "output_type": "execute_result",
          "data": {
            "text/plain": [
              "array([ 0., nan])"
            ]
          },
          "metadata": {},
          "execution_count": 51
        }
      ],
      "source": [
        "datacopy[\"tax_liens\"].unique()"
      ]
    },
    {
      "cell_type": "code",
      "execution_count": 52,
      "id": "d871b59a",
      "metadata": {
        "id": "d871b59a"
      },
      "outputs": [],
      "source": [
        "req_cols = ['loan_amnt', 'funded_amnt', 'funded_amnt_inv',\n",
        "       'term', 'int_rate', 'installment', 'grade', 'sub_grade',\n",
        "       'emp_length', 'home_ownership', 'annual_inc', 'verification_status',\n",
        "        'purpose', 'dti', 'delinq_2yrs',\n",
        "       'inq_last_6mths', 'open_acc', 'pub_rec', 'revol_bal', 'revol_util',\n",
        "       'total_acc', 'total_pymnt', 'total_pymnt_inv', 'total_rec_prncp', 'total_rec_int',\n",
        "       'total_rec_late_fee', 'recoveries', 'collection_recovery_fee', 'last_pymnt_amnt',\n",
        "     'chargeoff_within_12_mths', 'pub_rec_bankruptcies', 'tax_liens', 'isd_month', 'isd_year',\"loan_status\"]"
      ]
    },
    {
      "cell_type": "code",
      "execution_count": 53,
      "id": "868d55be",
      "metadata": {
        "id": "868d55be"
      },
      "outputs": [],
      "source": [
        "datacopy[req_cols].to_csv(\"loan_processed.csv\",index=False)"
      ]
    },
    {
      "cell_type": "code",
      "execution_count": 54,
      "id": "1cce4fec",
      "metadata": {
        "id": "1cce4fec"
      },
      "outputs": [],
      "source": [
        "new_data=pd.read_csv(\"loan_processed.csv\")"
      ]
    },
    {
      "cell_type": "code",
      "execution_count": 55,
      "id": "9edd31c7",
      "metadata": {
        "colab": {
          "base_uri": "https://localhost:8080/"
        },
        "id": "9edd31c7",
        "outputId": "871a6646-eea4-4cf8-fe33-e63960afcd37"
      },
      "outputs": [
        {
          "output_type": "execute_result",
          "data": {
            "text/plain": [
              "loan_amnt                     0\n",
              "funded_amnt                   0\n",
              "funded_amnt_inv               0\n",
              "term                          0\n",
              "int_rate                      0\n",
              "installment                   0\n",
              "grade                         0\n",
              "sub_grade                     0\n",
              "emp_length                    0\n",
              "home_ownership                0\n",
              "annual_inc                    0\n",
              "verification_status           0\n",
              "purpose                       0\n",
              "dti                           0\n",
              "delinq_2yrs                   0\n",
              "inq_last_6mths                0\n",
              "open_acc                      0\n",
              "pub_rec                       0\n",
              "revol_bal                     0\n",
              "revol_util                   47\n",
              "total_acc                     0\n",
              "total_pymnt                   0\n",
              "total_pymnt_inv               0\n",
              "total_rec_prncp               0\n",
              "total_rec_int                 0\n",
              "total_rec_late_fee            0\n",
              "recoveries                    0\n",
              "collection_recovery_fee       0\n",
              "last_pymnt_amnt               0\n",
              "chargeoff_within_12_mths     56\n",
              "pub_rec_bankruptcies        697\n",
              "tax_liens                    39\n",
              "isd_month                     0\n",
              "isd_year                      0\n",
              "loan_status                   0\n",
              "dtype: int64"
            ]
          },
          "metadata": {},
          "execution_count": 55
        }
      ],
      "source": [
        "new_data.isnull().sum()"
      ]
    },
    {
      "cell_type": "code",
      "execution_count": 56,
      "id": "2bddde4b",
      "metadata": {
        "colab": {
          "base_uri": "https://localhost:8080/",
          "height": 265
        },
        "id": "2bddde4b",
        "outputId": "764ffb69-da87-425b-a9f9-2e72e259b3bb"
      },
      "outputs": [
        {
          "output_type": "display_data",
          "data": {
            "text/plain": [
              "<Figure size 432x288 with 1 Axes>"
            ],
            "image/png": "[encoded data removed]"
          },
          "metadata": {
            "needs_background": "light"
          }
        }
      ],
      "source": [
        "plt.hist(new_data[\"revol_util\"])\n",
        "plt.show()"
      ]
    },
    {
      "cell_type": "code",
      "execution_count": 57,
      "id": "27e01248",
      "metadata": {
        "id": "27e01248"
      },
      "outputs": [],
      "source": [
        "median_ru=new_data[\"revol_util\"].median()\n",
        "new_data[\"revol_util\"] = new_data[\"revol_util\"].fillna(median_ru)"
      ]
    },
    {
      "cell_type": "code",
      "execution_count": 58,
      "id": "ce85f3c1",
      "metadata": {
        "colab": {
          "base_uri": "https://localhost:8080/"
        },
        "id": "ce85f3c1",
        "outputId": "bd02c053-1340-49ff-ccba-9394b1c8ac1a"
      },
      "outputs": [
        {
          "output_type": "execute_result",
          "data": {
            "text/plain": [
              "0"
            ]
          },
          "metadata": {},
          "execution_count": 58
        }
      ],
      "source": [
        "new_data[\"revol_util\"].isnull().sum()"
      ]
    },
    {
      "cell_type": "code",
      "execution_count": 59,
      "id": "cd16081d",
      "metadata": {
        "colab": {
          "base_uri": "https://localhost:8080/"
        },
        "id": "cd16081d",
        "outputId": "a350f389-eb13-4d69-f70c-cd1468b19955"
      },
      "outputs": [
        {
          "output_type": "execute_result",
          "data": {
            "text/plain": [
              "array([ 0., nan])"
            ]
          },
          "metadata": {},
          "execution_count": 59
        }
      ],
      "source": [
        "new_data[\"chargeoff_within_12_mths\"].unique()    \n",
        "    "
      ]
    },
    {
      "cell_type": "code",
      "execution_count": 60,
      "id": "60bfaa0d",
      "metadata": {
        "id": "60bfaa0d"
      },
      "outputs": [],
      "source": [
        "new_data = new_data.drop(\"chargeoff_within_12_mths\",axis=1)"
      ]
    },
    {
      "cell_type": "code",
      "execution_count": 61,
      "id": "700db140",
      "metadata": {
        "colab": {
          "base_uri": "https://localhost:8080/"
        },
        "id": "700db140",
        "outputId": "95cb5ed8-aafc-4c05-a0f9-82101d0c5ea5"
      },
      "outputs": [
        {
          "output_type": "execute_result",
          "data": {
            "text/plain": [
              "loan_amnt                    0\n",
              "funded_amnt                  0\n",
              "funded_amnt_inv              0\n",
              "term                         0\n",
              "int_rate                     0\n",
              "installment                  0\n",
              "grade                        0\n",
              "sub_grade                    0\n",
              "emp_length                   0\n",
              "home_ownership               0\n",
              "annual_inc                   0\n",
              "verification_status          0\n",
              "purpose                      0\n",
              "dti                          0\n",
              "delinq_2yrs                  0\n",
              "inq_last_6mths               0\n",
              "open_acc                     0\n",
              "pub_rec                      0\n",
              "revol_bal                    0\n",
              "revol_util                   0\n",
              "total_acc                    0\n",
              "total_pymnt                  0\n",
              "total_pymnt_inv              0\n",
              "total_rec_prncp              0\n",
              "total_rec_int                0\n",
              "total_rec_late_fee           0\n",
              "recoveries                   0\n",
              "collection_recovery_fee      0\n",
              "last_pymnt_amnt              0\n",
              "pub_rec_bankruptcies       697\n",
              "tax_liens                   39\n",
              "isd_month                    0\n",
              "isd_year                     0\n",
              "loan_status                  0\n",
              "dtype: int64"
            ]
          },
          "metadata": {},
          "execution_count": 61
        }
      ],
      "source": [
        "new_data.isnull().sum()"
      ]
    },
    {
      "cell_type": "code",
      "execution_count": 62,
      "id": "edf18392",
      "metadata": {
        "colab": {
          "base_uri": "https://localhost:8080/"
        },
        "id": "edf18392",
        "outputId": "a987dae8-0099-4362-aca3-9edd1fdf7515"
      },
      "outputs": [
        {
          "output_type": "execute_result",
          "data": {
            "text/plain": [
              "array([ 0.,  1.,  2., nan])"
            ]
          },
          "metadata": {},
          "execution_count": 62
        }
      ],
      "source": [
        "new_data[\"pub_rec_bankruptcies\"].unique()"
      ]
    },
    {
      "cell_type": "code",
      "execution_count": 63,
      "id": "0955beee",
      "metadata": {
        "colab": {
          "base_uri": "https://localhost:8080/",
          "height": 265
        },
        "id": "0955beee",
        "outputId": "1bb21fa3-a0f4-4f98-8bb4-531400e84b76"
      },
      "outputs": [
        {
          "output_type": "display_data",
          "data": {
            "text/plain": [
              "<Figure size 432x288 with 1 Axes>"
            ],
            "image/png": "[encoded data removed]"
          },
          "metadata": {
            "needs_background": "light"
          }
        }
      ],
      "source": [
        "plt.hist(new_data[\"pub_rec_bankruptcies\"])\n",
        "plt.show()"
      ]
    },
    {
      "cell_type": "code",
      "execution_count": 64,
      "id": "b0d8927e",
      "metadata": {
        "id": "b0d8927e"
      },
      "outputs": [],
      "source": [
        "new_data[\"pub_rec_bankruptcies\"] = new_data[\"pub_rec_bankruptcies\"].fillna(0)"
      ]
    },
    {
      "cell_type": "code",
      "execution_count": 65,
      "id": "2628f9ba",
      "metadata": {
        "colab": {
          "base_uri": "https://localhost:8080/"
        },
        "id": "2628f9ba",
        "outputId": "2f77efb0-e699-4e32-88cd-6d1ccb093210"
      },
      "outputs": [
        {
          "output_type": "execute_result",
          "data": {
            "text/plain": [
              "loan_amnt                   0\n",
              "funded_amnt                 0\n",
              "funded_amnt_inv             0\n",
              "term                        0\n",
              "int_rate                    0\n",
              "installment                 0\n",
              "grade                       0\n",
              "sub_grade                   0\n",
              "emp_length                  0\n",
              "home_ownership              0\n",
              "annual_inc                  0\n",
              "verification_status         0\n",
              "purpose                     0\n",
              "dti                         0\n",
              "delinq_2yrs                 0\n",
              "inq_last_6mths              0\n",
              "open_acc                    0\n",
              "pub_rec                     0\n",
              "revol_bal                   0\n",
              "revol_util                  0\n",
              "total_acc                   0\n",
              "total_pymnt                 0\n",
              "total_pymnt_inv             0\n",
              "total_rec_prncp             0\n",
              "total_rec_int               0\n",
              "total_rec_late_fee          0\n",
              "recoveries                  0\n",
              "collection_recovery_fee     0\n",
              "last_pymnt_amnt             0\n",
              "pub_rec_bankruptcies        0\n",
              "tax_liens                  39\n",
              "isd_month                   0\n",
              "isd_year                    0\n",
              "loan_status                 0\n",
              "dtype: int64"
            ]
          },
          "metadata": {},
          "execution_count": 65
        }
      ],
      "source": [
        "new_data.isnull().sum()"
      ]
    },
    {
      "cell_type": "code",
      "execution_count": 66,
      "id": "e4c5f0dc",
      "metadata": {
        "colab": {
          "base_uri": "https://localhost:8080/"
        },
        "id": "e4c5f0dc",
        "outputId": "6996b0bc-0b17-48d5-d6c8-419ccb8f1f86"
      },
      "outputs": [
        {
          "output_type": "execute_result",
          "data": {
            "text/plain": [
              "array([ 0., nan])"
            ]
          },
          "metadata": {},
          "execution_count": 66
        }
      ],
      "source": [
        "new_data[\"tax_liens\"].unique()"
      ]
    },
    {
      "cell_type": "code",
      "execution_count": 67,
      "id": "dbb8c5b4",
      "metadata": {
        "id": "dbb8c5b4"
      },
      "outputs": [],
      "source": [
        "new_data=new_data.drop(\"tax_liens\",axis=1)"
      ]
    },
    {
      "cell_type": "code",
      "execution_count": 68,
      "id": "11ba7ccf",
      "metadata": {
        "colab": {
          "base_uri": "https://localhost:8080/"
        },
        "id": "11ba7ccf",
        "outputId": "d6a1e4bb-519c-4ac2-95d5-0a5eb71ad75b"
      },
      "outputs": [
        {
          "output_type": "execute_result",
          "data": {
            "text/plain": [
              "loan_amnt                  0\n",
              "funded_amnt                0\n",
              "funded_amnt_inv            0\n",
              "term                       0\n",
              "int_rate                   0\n",
              "installment                0\n",
              "grade                      0\n",
              "sub_grade                  0\n",
              "emp_length                 0\n",
              "home_ownership             0\n",
              "annual_inc                 0\n",
              "verification_status        0\n",
              "purpose                    0\n",
              "dti                        0\n",
              "delinq_2yrs                0\n",
              "inq_last_6mths             0\n",
              "open_acc                   0\n",
              "pub_rec                    0\n",
              "revol_bal                  0\n",
              "revol_util                 0\n",
              "total_acc                  0\n",
              "total_pymnt                0\n",
              "total_pymnt_inv            0\n",
              "total_rec_prncp            0\n",
              "total_rec_int              0\n",
              "total_rec_late_fee         0\n",
              "recoveries                 0\n",
              "collection_recovery_fee    0\n",
              "last_pymnt_amnt            0\n",
              "pub_rec_bankruptcies       0\n",
              "isd_month                  0\n",
              "isd_year                   0\n",
              "loan_status                0\n",
              "dtype: int64"
            ]
          },
          "metadata": {},
          "execution_count": 68
        }
      ],
      "source": [
        "new_data.isnull().sum()"
      ]
    },
    {
      "cell_type": "code",
      "execution_count": 69,
      "id": "dc41d9b6",
      "metadata": {
        "colab": {
          "base_uri": "https://localhost:8080/"
        },
        "id": "dc41d9b6",
        "outputId": "e8aa4940-a596-4a22-a7b4-5117db4fc43a"
      },
      "outputs": [
        {
          "output_type": "stream",
          "name": "stdout",
          "text": [
            "<class 'pandas.core.frame.DataFrame'>\n",
            "RangeIndex: 37544 entries, 0 to 37543\n",
            "Data columns (total 33 columns):\n",
            " #   Column                   Non-Null Count  Dtype  \n",
            "---  ------                   --------------  -----  \n",
            " 0   loan_amnt                37544 non-null  int64  \n",
            " 1   funded_amnt              37544 non-null  int64  \n",
            " 2   funded_amnt_inv          37544 non-null  float64\n",
            " 3   term                     37544 non-null  object \n",
            " 4   int_rate                 37544 non-null  float64\n",
            " 5   installment              37544 non-null  float64\n",
            " 6   grade                    37544 non-null  object \n",
            " 7   sub_grade                37544 non-null  object \n",
            " 8   emp_length               37544 non-null  int64  \n",
            " 9   home_ownership           37544 non-null  object \n",
            " 10  annual_inc               37544 non-null  float64\n",
            " 11  verification_status      37544 non-null  object \n",
            " 12  purpose                  37544 non-null  object \n",
            " 13  dti                      37544 non-null  float64\n",
            " 14  delinq_2yrs              37544 non-null  int64  \n",
            " 15  inq_last_6mths           37544 non-null  int64  \n",
            " 16  open_acc                 37544 non-null  int64  \n",
            " 17  pub_rec                  37544 non-null  int64  \n",
            " 18  revol_bal                37544 non-null  int64  \n",
            " 19  revol_util               37544 non-null  float64\n",
            " 20  total_acc                37544 non-null  int64  \n",
            " 21  total_pymnt              37544 non-null  float64\n",
            " 22  total_pymnt_inv          37544 non-null  float64\n",
            " 23  total_rec_prncp          37544 non-null  float64\n",
            " 24  total_rec_int            37544 non-null  float64\n",
            " 25  total_rec_late_fee       37544 non-null  float64\n",
            " 26  recoveries               37544 non-null  float64\n",
            " 27  collection_recovery_fee  37544 non-null  float64\n",
            " 28  last_pymnt_amnt          37544 non-null  float64\n",
            " 29  pub_rec_bankruptcies     37544 non-null  float64\n",
            " 30  isd_month                37544 non-null  int64  \n",
            " 31  isd_year                 37544 non-null  int64  \n",
            " 32  loan_status              37544 non-null  object \n",
            "dtypes: float64(15), int64(11), object(7)\n",
            "memory usage: 9.5+ MB\n"
          ]
        }
      ],
      "source": [
        "new_data.info()"
      ]
    },
    {
      "cell_type": "code",
      "execution_count": 70,
      "id": "31083dbb",
      "metadata": {
        "colab": {
          "base_uri": "https://localhost:8080/"
        },
        "id": "31083dbb",
        "outputId": "ffe15dff-e7a7-4971-a72f-a4b75e9f77a3"
      },
      "outputs": [
        {
          "output_type": "execute_result",
          "data": {
            "text/plain": [
              "array([' 36 months', ' 60 months'], dtype=object)"
            ]
          },
          "metadata": {},
          "execution_count": 70
        }
      ],
      "source": [
        "new_data[\"term\"].unique()"
      ]
    },
    {
      "cell_type": "code",
      "execution_count": 71,
      "id": "e0061939",
      "metadata": {
        "id": "e0061939"
      },
      "outputs": [],
      "source": [
        "new_data[\"term\"]= new_data[\"term\"].map({' 36 months':36,' 60 months':60})"
      ]
    },
    {
      "cell_type": "code",
      "execution_count": 72,
      "id": "4af1f0a5",
      "metadata": {
        "colab": {
          "base_uri": "https://localhost:8080/"
        },
        "id": "4af1f0a5",
        "outputId": "7327fcce-f690-4506-98cf-c2ef4c7ce181"
      },
      "outputs": [
        {
          "output_type": "execute_result",
          "data": {
            "text/plain": [
              "0        36\n",
              "1        60\n",
              "2        36\n",
              "3        36\n",
              "4        36\n",
              "         ..\n",
              "37539    36\n",
              "37540    36\n",
              "37541    36\n",
              "37542    36\n",
              "37543    36\n",
              "Name: term, Length: 37544, dtype: int64"
            ]
          },
          "metadata": {},
          "execution_count": 72
        }
      ],
      "source": [
        "new_data[\"term\"]"
      ]
    },
    {
      "cell_type": "code",
      "execution_count": 73,
      "id": "933775c1",
      "metadata": {
        "colab": {
          "base_uri": "https://localhost:8080/"
        },
        "id": "933775c1",
        "outputId": "1bb7a03d-4537-4ad8-e5ee-74e3937bfe86"
      },
      "outputs": [
        {
          "output_type": "execute_result",
          "data": {
            "text/plain": [
              "array(['B', 'C', 'A', 'E', 'F', 'D', 'G'], dtype=object)"
            ]
          },
          "metadata": {},
          "execution_count": 73
        }
      ],
      "source": [
        "new_data[\"grade\"].unique()"
      ]
    },
    {
      "cell_type": "code",
      "execution_count": 74,
      "id": "18758842",
      "metadata": {
        "colab": {
          "base_uri": "https://localhost:8080/"
        },
        "id": "18758842",
        "outputId": "c76f281a-3a94-4e20-871f-a31d1f4fd734"
      },
      "outputs": [
        {
          "output_type": "execute_result",
          "data": {
            "text/plain": [
              "array(['B2', 'C4', 'C5', 'C1', 'A4', 'E1', 'F2', 'B5', 'C3', 'B1', 'D1',\n",
              "       'A1', 'B3', 'B4', 'C2', 'D2', 'A3', 'A5', 'D5', 'A2', 'E4', 'D3',\n",
              "       'D4', 'F3', 'E3', 'F1', 'E5', 'G4', 'E2', 'G2', 'G1', 'F5', 'F4',\n",
              "       'G5', 'G3'], dtype=object)"
            ]
          },
          "metadata": {},
          "execution_count": 74
        }
      ],
      "source": [
        "new_data[\"sub_grade\"].unique()"
      ]
    },
    {
      "cell_type": "code",
      "execution_count": 75,
      "id": "185a1e4c",
      "metadata": {
        "colab": {
          "base_uri": "https://localhost:8080/"
        },
        "id": "185a1e4c",
        "outputId": "3c53c94b-dbf0-47e4-dfd4-16f012f201a2"
      },
      "outputs": [
        {
          "output_type": "execute_result",
          "data": {
            "text/plain": [
              "array(['RENT', 'OWN', 'MORTGAGE', 'OTHER', 'NONE'], dtype=object)"
            ]
          },
          "metadata": {},
          "execution_count": 75
        }
      ],
      "source": [
        "new_data[\"home_ownership\"].unique()"
      ]
    },
    {
      "cell_type": "code",
      "execution_count": 76,
      "id": "1623ad5b",
      "metadata": {
        "colab": {
          "base_uri": "https://localhost:8080/"
        },
        "id": "1623ad5b",
        "outputId": "db8bea62-c51a-412b-e714-15f43ba9d0ca"
      },
      "outputs": [
        {
          "output_type": "execute_result",
          "data": {
            "text/plain": [
              "array(['Verified', 'Source Verified', 'Not Verified'], dtype=object)"
            ]
          },
          "metadata": {},
          "execution_count": 76
        }
      ],
      "source": [
        "new_data[\"verification_status\"].unique() "
      ]
    },
    {
      "cell_type": "code",
      "execution_count": 77,
      "id": "c79714eb",
      "metadata": {
        "colab": {
          "base_uri": "https://localhost:8080/"
        },
        "id": "c79714eb",
        "outputId": "10b9ec89-f361-48a0-d7ba-d6e7d54f88f9"
      },
      "outputs": [
        {
          "output_type": "execute_result",
          "data": {
            "text/plain": [
              "array(['credit_card', 'car', 'small_business', 'other', 'wedding',\n",
              "       'debt_consolidation', 'home_improvement', 'major_purchase',\n",
              "       'medical', 'moving', 'vacation', 'house', 'renewable_energy',\n",
              "       'educational'], dtype=object)"
            ]
          },
          "metadata": {},
          "execution_count": 77
        }
      ],
      "source": [
        "new_data[\"purpose\"].unique() "
      ]
    },
    {
      "cell_type": "code",
      "execution_count": 78,
      "id": "04f7942b",
      "metadata": {
        "id": "04f7942b"
      },
      "outputs": [],
      "source": [
        "from sklearn.preprocessing import LabelEncoder\n",
        "le=LabelEncoder()\n",
        "new_data[\"grade\"]=le.fit_transform(new_data[\"grade\"])\n",
        "new_data[\"loan_status\"]=le.fit_transform(new_data[\"loan_status\"])"
      ]
    },
    {
      "cell_type": "code",
      "source": [
        "new_data[\"loan_status\"]=new_data[\"loan_status\"].apply(lambda x: 0 if x==\"Charged Off\" else 1)"
      ],
      "metadata": {
        "id": "j7Volj66pMPn"
      },
      "id": "j7Volj66pMPn",
      "execution_count": 79,
      "outputs": []
    },
    {
      "cell_type": "code",
      "execution_count": 80,
      "id": "43a4e212",
      "metadata": {
        "colab": {
          "base_uri": "https://localhost:8080/"
        },
        "id": "43a4e212",
        "outputId": "c8fff005-01e0-4c88-f8dd-bae137a4d5b1"
      },
      "outputs": [
        {
          "output_type": "execute_result",
          "data": {
            "text/plain": [
              "(37544, 33)"
            ]
          },
          "metadata": {},
          "execution_count": 80
        }
      ],
      "source": [
        "new_data.shape"
      ]
    },
    {
      "cell_type": "code",
      "execution_count": 81,
      "id": "22bc315f",
      "metadata": {
        "colab": {
          "base_uri": "https://localhost:8080/"
        },
        "id": "22bc315f",
        "outputId": "3238d4b6-bb63-483f-e078-c0c7905716f6"
      },
      "outputs": [
        {
          "output_type": "execute_result",
          "data": {
            "text/plain": [
              "Index(['loan_amnt', 'funded_amnt', 'funded_amnt_inv', 'term', 'int_rate',\n",
              "       'installment', 'grade', 'sub_grade', 'emp_length', 'home_ownership',\n",
              "       'annual_inc', 'verification_status', 'purpose', 'dti', 'delinq_2yrs',\n",
              "       'inq_last_6mths', 'open_acc', 'pub_rec', 'revol_bal', 'revol_util',\n",
              "       'total_acc', 'total_pymnt', 'total_pymnt_inv', 'total_rec_prncp',\n",
              "       'total_rec_int', 'total_rec_late_fee', 'recoveries',\n",
              "       'collection_recovery_fee', 'last_pymnt_amnt', 'pub_rec_bankruptcies',\n",
              "       'isd_month', 'isd_year', 'loan_status'],\n",
              "      dtype='object')"
            ]
          },
          "metadata": {},
          "execution_count": 81
        }
      ],
      "source": [
        "new_data.columns"
      ]
    },
    {
      "cell_type": "code",
      "execution_count": 82,
      "id": "c29bb71c",
      "metadata": {
        "id": "c29bb71c"
      },
      "outputs": [],
      "source": [
        "x=new_data.drop('loan_status',axis=1)\n",
        "y=new_data['loan_status']"
      ]
    },
    {
      "cell_type": "code",
      "execution_count": 83,
      "id": "65d130c9",
      "metadata": {
        "id": "65d130c9"
      },
      "outputs": [],
      "source": [
        "x=pd.get_dummies(x)"
      ]
    },
    {
      "cell_type": "code",
      "execution_count": 83,
      "id": "a2217b43",
      "metadata": {
        "id": "a2217b43"
      },
      "outputs": [],
      "source": []
    },
    {
      "cell_type": "code",
      "source": [],
      "metadata": {
        "id": "YlEzozkhlkBP"
      },
      "id": "YlEzozkhlkBP",
      "execution_count": 83,
      "outputs": []
    },
    {
      "cell_type": "code",
      "source": [],
      "metadata": {
        "id": "teZR4c05otte"
      },
      "id": "teZR4c05otte",
      "execution_count": 83,
      "outputs": []
    },
    {
      "cell_type": "code",
      "source": [],
      "metadata": {
        "id": "gKqc-tUJnD4Y"
      },
      "id": "gKqc-tUJnD4Y",
      "execution_count": 83,
      "outputs": []
    },
    {
      "cell_type": "code",
      "execution_count": 84,
      "id": "f340cf96",
      "metadata": {
        "id": "f340cf96"
      },
      "outputs": [],
      "source": [
        "from sklearn.model_selection import train_test_split\n",
        "x_train,x_test,y_train,y_test=train_test_split(x,y,test_size=0.2,random_state=134)"
      ]
    },
    {
      "cell_type": "code",
      "execution_count": 85,
      "id": "4089921f",
      "metadata": {
        "id": "4089921f"
      },
      "outputs": [],
      "source": [
        "\n",
        "import tensorflow as tf\n",
        "from tensorflow.keras.models import Sequential\n",
        "from tensorflow.keras.layers import Dense, Activation,Dropout,Flatten\n",
        "from tensorflow.keras.constraints import max_norm\n",
        "from tensorflow.keras.callbacks import EarlyStopping\n"
      ]
    },
    {
      "cell_type": "code",
      "source": [
        "#early_stop = EarlyStopping(monitor='val_loss', mode='min', verbose=1, patience=25)"
      ],
      "metadata": {
        "id": "XOE_VX0FtPhm"
      },
      "id": "XOE_VX0FtPhm",
      "execution_count": 86,
      "outputs": []
    },
    {
      "cell_type": "code",
      "execution_count": 87,
      "id": "767407ee",
      "metadata": {
        "id": "767407ee"
      },
      "outputs": [],
      "source": [
        "#model = Sequential()\n",
        "\n",
        "#model.add(Dense(78, activation = 'relu'))\n",
        "#model.add(Dropout(0.2))\n",
        "\n",
        "#model.add(Dense(39, activation = 'relu'))\n",
        "#model.add(Dropout(0.2))\n",
        "\n",
        "#model.add(Dense(19, activation = 'relu'))\n",
        "#model.add(Dropout(0.2))\n",
        "\n",
        "#model.add(Dense(1, activation = 'sigmoid'))\n",
        "\n",
        "#model.compile(loss = 'binary_crossentropy', optimizer = 'adam',metrics=[\"accuracy\"])"
      ]
    },
    {
      "cell_type": "code",
      "source": [
        "def nn_model(var_activation,var_optimizer):\n",
        "  \"\"\" Uses arguments to build Keras model. \"\"\"\n",
        "  model = Sequential()\n",
        "  model.add(Dense(78,activation=var_activation))\n",
        "  model.add(Dropout(0.2))\n",
        "  model.add(Dense(39,activation=var_activation))\n",
        "  model.add(Dropout(0.2))\n",
        "  model.add(Dense(19,activation=var_activation))\n",
        "  model.add(Dropout(0.2))\n",
        "  model.add(Dense(1,activation='sigmoid'))\n",
        "  model.compile(loss=\"binary_crossentropy\",\n",
        "                optimizer=var_optimizer,\n",
        "                metrics=[\"accuracy\"])\n",
        "  return model"
      ],
      "metadata": {
        "id": "WrBAuP6Qwg0M"
      },
      "id": "WrBAuP6Qwg0M",
      "execution_count": 88,
      "outputs": []
    },
    {
      "cell_type": "code",
      "source": [
        "model = nn_model(var_activation='relu',var_optimizer='adam')\n"
      ],
      "metadata": {
        "id": "uYS12OUQeLHJ"
      },
      "id": "uYS12OUQeLHJ",
      "execution_count": 89,
      "outputs": []
    },
    {
      "cell_type": "code",
      "source": [
        "acti=['tanh','relu','sigmoid']\n",
        "opti=['sgd','RMSprop', 'Adam']\n",
        "b_size=[5,10]\n",
        "epochs = [10, 20]\n",
        "\n",
        "space=dict(var_activation=acti,\n",
        "            var_optimizer=opti,\n",
        "            batch_size=b_size,epochs = epochs)\n",
        "print(space)"
      ],
      "metadata": {
        "colab": {
          "base_uri": "https://localhost:8080/"
        },
        "id": "1ZrqLTnaxTC_",
        "outputId": "e637bfd2-afd5-4da9-c3b1-4ae21f7a5c48"
      },
      "id": "1ZrqLTnaxTC_",
      "execution_count": 90,
      "outputs": [
        {
          "output_type": "stream",
          "name": "stdout",
          "text": [
            "{'var_activation': ['tanh', 'relu', 'sigmoid'], 'var_optimizer': ['sgd', 'RMSprop', 'Adam'], 'batch_size': [5, 10], 'epochs': [10, 20]}\n"
          ]
        }
      ]
    },
    {
      "cell_type": "code",
      "source": [
        "from tensorflow.keras.wrappers.scikit_learn import KerasClassifier\n",
        "classifier_model = KerasClassifier(build_fn=nn_model)"
      ],
      "metadata": {
        "colab": {
          "base_uri": "https://localhost:8080/"
        },
        "id": "bKB0dmRjxXz7",
        "outputId": "880fb281-8b1e-4664-8661-a43f711c3851"
      },
      "id": "bKB0dmRjxXz7",
      "execution_count": 91,
      "outputs": [
        {
          "output_type": "stream",
          "name": "stderr",
          "text": [
            "<ipython-input-91-d03679b3702c>:2: DeprecationWarning: KerasClassifier is deprecated, use Sci-Keras (https://github.com/adriangb/scikeras) instead. See https://www.adriangb.com/scikeras/stable/migration.html for help migrating.\n",
            "  classifier_model = KerasClassifier(build_fn=nn_model)\n"
          ]
        }
      ]
    },
    {
      "cell_type": "code",
      "execution_count": 92,
      "id": "74aa1767",
      "metadata": {
        "id": "74aa1767"
      },
      "outputs": [],
      "source": [
        "from sklearn.model_selection import RandomizedSearchCV\n",
        "ranser = RandomizedSearchCV(classifier_model, param_distributions=space, cv=3,  n_iter=3)\n",
        "# rscv_results = ranser.fit(X_train, y_train)"
      ]
    },
    {
      "cell_type": "code",
      "execution_count": 93,
      "id": "44a9613f",
      "metadata": {
        "id": "44a9613f",
        "colab": {
          "base_uri": "https://localhost:8080/"
        },
        "outputId": "17db7584-3107-46f0-d3b2-ca5a6df171b4"
      },
      "outputs": [
        {
          "output_type": "stream",
          "name": "stdout",
          "text": [
            "Epoch 1/10\n",
            "4005/4005 [==============================] - 15s 3ms/step - loss: 0.5277 - accuracy: 0.9993\n",
            "Epoch 2/10\n",
            "4005/4005 [==============================] - 12s 3ms/step - loss: 0.0617 - accuracy: 1.0000\n",
            "Epoch 3/10\n",
            "4005/4005 [==============================] - 12s 3ms/step - loss: 0.1795 - accuracy: 1.0000\n",
            "Epoch 4/10\n",
            "4005/4005 [==============================] - 12s 3ms/step - loss: 0.0000e+00 - accuracy: 1.0000\n",
            "Epoch 5/10\n",
            "4005/4005 [==============================] - 12s 3ms/step - loss: 0.0000e+00 - accuracy: 1.0000\n",
            "Epoch 6/10\n",
            "4005/4005 [==============================] - 12s 3ms/step - loss: 0.0000e+00 - accuracy: 1.0000\n",
            "Epoch 7/10\n",
            "4005/4005 [==============================] - 18s 4ms/step - loss: 0.0000e+00 - accuracy: 1.0000\n",
            "Epoch 8/10\n",
            "4005/4005 [==============================] - 13s 3ms/step - loss: 0.0000e+00 - accuracy: 1.0000\n",
            "Epoch 9/10\n",
            "4005/4005 [==============================] - 12s 3ms/step - loss: 0.0000e+00 - accuracy: 1.0000\n",
            "Epoch 10/10\n",
            "4005/4005 [==============================] - 12s 3ms/step - loss: 0.0000e+00 - accuracy: 1.0000\n",
            "2003/2003 [==============================] - 4s 2ms/step - loss: 0.0000e+00 - accuracy: 1.0000\n",
            "Epoch 1/10\n",
            "4005/4005 [==============================] - 13s 3ms/step - loss: 0.5975 - accuracy: 0.9997\n",
            "Epoch 2/10\n",
            "4005/4005 [==============================] - 13s 3ms/step - loss: 0.0000e+00 - accuracy: 1.0000\n",
            "Epoch 3/10\n",
            "4005/4005 [==============================] - 12s 3ms/step - loss: 0.0343 - accuracy: 0.9999\n",
            "Epoch 4/10\n",
            "4005/4005 [==============================] - 12s 3ms/step - loss: 0.0000e+00 - accuracy: 1.0000\n",
            "Epoch 5/10\n",
            "4005/4005 [==============================] - 12s 3ms/step - loss: 0.0000e+00 - accuracy: 1.0000\n",
            "Epoch 6/10\n",
            "4005/4005 [==============================] - 13s 3ms/step - loss: 0.0000e+00 - accuracy: 1.0000\n",
            "Epoch 7/10\n",
            "4005/4005 [==============================] - 13s 3ms/step - loss: 0.0000e+00 - accuracy: 1.0000\n",
            "Epoch 8/10\n",
            "4005/4005 [==============================] - 12s 3ms/step - loss: 0.0000e+00 - accuracy: 1.0000\n",
            "Epoch 9/10\n",
            "4005/4005 [==============================] - 12s 3ms/step - loss: 0.2718 - accuracy: 1.0000\n",
            "Epoch 10/10\n",
            "4005/4005 [==============================] - 12s 3ms/step - loss: 0.0000e+00 - accuracy: 1.0000\n",
            "2003/2003 [==============================] - 4s 2ms/step - loss: 0.0000e+00 - accuracy: 1.0000\n",
            "Epoch 1/10\n",
            "4005/4005 [==============================] - 13s 3ms/step - loss: 2.5908 - accuracy: 0.9984\n",
            "Epoch 2/10\n",
            "4005/4005 [==============================] - 12s 3ms/step - loss: 0.0000e+00 - accuracy: 1.0000\n",
            "Epoch 3/10\n",
            "4005/4005 [==============================] - 12s 3ms/step - loss: 2.8079e-11 - accuracy: 1.0000\n",
            "Epoch 4/10\n",
            "4005/4005 [==============================] - 12s 3ms/step - loss: 0.0000e+00 - accuracy: 1.0000\n",
            "Epoch 5/10\n",
            "4005/4005 [==============================] - 12s 3ms/step - loss: 0.0000e+00 - accuracy: 1.0000\n",
            "Epoch 6/10\n",
            "4005/4005 [==============================] - 12s 3ms/step - loss: 0.0000e+00 - accuracy: 1.0000\n",
            "Epoch 7/10\n",
            "4005/4005 [==============================] - 12s 3ms/step - loss: 0.0000e+00 - accuracy: 1.0000\n",
            "Epoch 8/10\n",
            "4005/4005 [==============================] - 12s 3ms/step - loss: 0.0000e+00 - accuracy: 1.0000\n",
            "Epoch 9/10\n",
            "4005/4005 [==============================] - 12s 3ms/step - loss: 0.0329 - accuracy: 1.0000\n",
            "Epoch 10/10\n",
            "4005/4005 [==============================] - 12s 3ms/step - loss: 0.0000e+00 - accuracy: 1.0000\n",
            "2003/2003 [==============================] - 4s 2ms/step - loss: 0.0000e+00 - accuracy: 1.0000\n",
            "Epoch 1/10\n",
            "4005/4005 [==============================] - 16s 4ms/step - loss: 191.7279 - accuracy: 0.9998\n",
            "Epoch 2/10\n",
            "4005/4005 [==============================] - 17s 4ms/step - loss: 0.0000e+00 - accuracy: 1.0000\n",
            "Epoch 3/10\n",
            "4005/4005 [==============================] - 12s 3ms/step - loss: 0.0000e+00 - accuracy: 1.0000\n",
            "Epoch 4/10\n",
            "4005/4005 [==============================] - 12s 3ms/step - loss: 0.0000e+00 - accuracy: 1.0000\n",
            "Epoch 5/10\n",
            "4005/4005 [==============================] - 13s 3ms/step - loss: 0.0000e+00 - accuracy: 1.0000\n",
            "Epoch 6/10\n",
            "4005/4005 [==============================] - 12s 3ms/step - loss: 0.0000e+00 - accuracy: 1.0000\n",
            "Epoch 7/10\n",
            "4005/4005 [==============================] - 15s 4ms/step - loss: 0.0000e+00 - accuracy: 1.0000\n",
            "Epoch 8/10\n",
            "4005/4005 [==============================] - 13s 3ms/step - loss: 0.0000e+00 - accuracy: 1.0000\n",
            "Epoch 9/10\n",
            "4005/4005 [==============================] - 12s 3ms/step - loss: 0.0000e+00 - accuracy: 1.0000\n",
            "Epoch 10/10\n",
            "4005/4005 [==============================] - 12s 3ms/step - loss: 0.0000e+00 - accuracy: 1.0000\n",
            "2003/2003 [==============================] - 5s 3ms/step - loss: 0.0000e+00 - accuracy: 1.0000\n",
            "Epoch 1/10\n",
            "4005/4005 [==============================] - 14s 3ms/step - loss: 339.4120 - accuracy: 0.9999\n",
            "Epoch 2/10\n",
            "4005/4005 [==============================] - 15s 4ms/step - loss: 0.0000e+00 - accuracy: 1.0000\n",
            "Epoch 3/10\n",
            "4005/4005 [==============================] - 12s 3ms/step - loss: 0.0000e+00 - accuracy: 1.0000\n",
            "Epoch 4/10\n",
            "4005/4005 [==============================] - 12s 3ms/step - loss: 0.0000e+00 - accuracy: 1.0000\n",
            "Epoch 5/10\n",
            "4005/4005 [==============================] - 16s 4ms/step - loss: 0.0000e+00 - accuracy: 1.0000\n",
            "Epoch 6/10\n",
            "4005/4005 [==============================] - 12s 3ms/step - loss: 0.0000e+00 - accuracy: 1.0000\n",
            "Epoch 7/10\n",
            "4005/4005 [==============================] - 12s 3ms/step - loss: 7366.6299 - accuracy: 1.0000\n",
            "Epoch 8/10\n",
            "4005/4005 [==============================] - 12s 3ms/step - loss: 498.1861 - accuracy: 1.0000\n",
            "Epoch 9/10\n",
            "4005/4005 [==============================] - 12s 3ms/step - loss: 0.0000e+00 - accuracy: 1.0000\n",
            "Epoch 10/10\n",
            "4005/4005 [==============================] - 12s 3ms/step - loss: 0.0000e+00 - accuracy: 1.0000\n",
            "2003/2003 [==============================] - 5s 2ms/step - loss: 0.0000e+00 - accuracy: 1.0000\n",
            "Epoch 1/10\n",
            "4005/4005 [==============================] - 13s 3ms/step - loss: 11533.2822 - accuracy: 0.9999\n",
            "Epoch 2/10\n",
            "4005/4005 [==============================] - 12s 3ms/step - loss: 428877.2500 - accuracy: 1.0000\n",
            "Epoch 3/10\n",
            "4005/4005 [==============================] - 12s 3ms/step - loss: 0.0000e+00 - accuracy: 1.0000\n",
            "Epoch 4/10\n",
            "4005/4005 [==============================] - 12s 3ms/step - loss: 0.0000e+00 - accuracy: 1.0000\n",
            "Epoch 5/10\n",
            "4005/4005 [==============================] - 12s 3ms/step - loss: 3.4466e-05 - accuracy: 1.0000\n",
            "Epoch 6/10\n",
            "4005/4005 [==============================] - 12s 3ms/step - loss: 4.6165e-06 - accuracy: 1.0000\n",
            "Epoch 7/10\n",
            "4005/4005 [==============================] - 12s 3ms/step - loss: 0.0000e+00 - accuracy: 1.0000\n",
            "Epoch 8/10\n",
            "4005/4005 [==============================] - 12s 3ms/step - loss: 0.0000e+00 - accuracy: 1.0000\n",
            "Epoch 9/10\n",
            "4005/4005 [==============================] - 12s 3ms/step - loss: 0.0000e+00 - accuracy: 1.0000\n",
            "Epoch 10/10\n",
            "4005/4005 [==============================] - 12s 3ms/step - loss: 0.0000e+00 - accuracy: 1.0000\n",
            "2003/2003 [==============================] - 4s 2ms/step - loss: 0.0000e+00 - accuracy: 1.0000\n",
            "Epoch 1/20\n",
            "4005/4005 [==============================] - 15s 3ms/step - loss: 3.4762 - accuracy: 0.9979\n",
            "Epoch 2/20\n",
            "4005/4005 [==============================] - 14s 3ms/step - loss: 0.2001 - accuracy: 0.9997\n",
            "Epoch 3/20\n",
            "4005/4005 [==============================] - 14s 3ms/step - loss: 0.6362 - accuracy: 0.9997\n",
            "Epoch 4/20\n",
            "4005/4005 [==============================] - 14s 3ms/step - loss: 0.0510 - accuracy: 1.0000\n",
            "Epoch 5/20\n",
            "4005/4005 [==============================] - 14s 3ms/step - loss: 0.0163 - accuracy: 0.9999\n",
            "Epoch 6/20\n",
            "4005/4005 [==============================] - 14s 3ms/step - loss: 0.0068 - accuracy: 0.9999\n",
            "Epoch 7/20\n",
            "4005/4005 [==============================] - 14s 3ms/step - loss: 3.0801e-05 - accuracy: 1.0000\n",
            "Epoch 8/20\n",
            "4005/4005 [==============================] - 14s 3ms/step - loss: 0.0031 - accuracy: 1.0000\n",
            "Epoch 9/20\n",
            "4005/4005 [==============================] - 14s 3ms/step - loss: 0.1354 - accuracy: 0.9999\n",
            "Epoch 10/20\n",
            "4005/4005 [==============================] - 14s 3ms/step - loss: 0.0000e+00 - accuracy: 1.0000\n",
            "Epoch 11/20\n",
            "4005/4005 [==============================] - 14s 3ms/step - loss: 3.2417e-38 - accuracy: 1.0000\n",
            "Epoch 12/20\n",
            "4005/4005 [==============================] - 14s 3ms/step - loss: 0.0030 - accuracy: 1.0000\n",
            "Epoch 13/20\n",
            "4005/4005 [==============================] - 14s 3ms/step - loss: 0.0000e+00 - accuracy: 1.0000\n",
            "Epoch 14/20\n",
            "4005/4005 [==============================] - 14s 3ms/step - loss: 0.0000e+00 - accuracy: 1.0000\n",
            "Epoch 15/20\n",
            "4005/4005 [==============================] - 14s 3ms/step - loss: 0.1284 - accuracy: 0.9999\n",
            "Epoch 16/20\n",
            "4005/4005 [==============================] - 14s 3ms/step - loss: 0.1344 - accuracy: 1.0000\n",
            "Epoch 17/20\n",
            "4005/4005 [==============================] - 14s 3ms/step - loss: 0.0000e+00 - accuracy: 1.0000\n",
            "Epoch 18/20\n",
            "4005/4005 [==============================] - 14s 3ms/step - loss: 0.0000e+00 - accuracy: 1.0000\n",
            "Epoch 19/20\n",
            "4005/4005 [==============================] - 14s 3ms/step - loss: 0.0000e+00 - accuracy: 1.0000\n",
            "Epoch 20/20\n",
            "4005/4005 [==============================] - 14s 4ms/step - loss: 3.6382e-34 - accuracy: 1.0000\n",
            "2003/2003 [==============================] - 5s 2ms/step - loss: 0.0000e+00 - accuracy: 1.0000\n",
            "Epoch 1/20\n",
            "4005/4005 [==============================] - 15s 3ms/step - loss: 10.9838 - accuracy: 0.9956\n",
            "Epoch 2/20\n",
            "4005/4005 [==============================] - 14s 3ms/step - loss: 0.2101 - accuracy: 0.9998\n",
            "Epoch 3/20\n",
            "4005/4005 [==============================] - 14s 3ms/step - loss: 0.2491 - accuracy: 0.9996\n",
            "Epoch 4/20\n",
            "4005/4005 [==============================] - 14s 3ms/step - loss: 0.0441 - accuracy: 0.9999\n",
            "Epoch 5/20\n",
            "4005/4005 [==============================] - 14s 3ms/step - loss: 0.1279 - accuracy: 0.9998\n",
            "Epoch 6/20\n",
            "4005/4005 [==============================] - 14s 3ms/step - loss: 0.0419 - accuracy: 0.9999\n",
            "Epoch 7/20\n",
            "4005/4005 [==============================] - 14s 3ms/step - loss: 0.0031 - accuracy: 1.0000\n",
            "Epoch 8/20\n",
            "4005/4005 [==============================] - 14s 3ms/step - loss: 0.1487 - accuracy: 0.9998\n",
            "Epoch 9/20\n",
            "4005/4005 [==============================] - 14s 3ms/step - loss: 0.2055 - accuracy: 0.9998\n",
            "Epoch 10/20\n",
            "4005/4005 [==============================] - 14s 3ms/step - loss: 0.6004 - accuracy: 0.9999\n",
            "Epoch 11/20\n",
            "4005/4005 [==============================] - 14s 3ms/step - loss: 0.0061 - accuracy: 1.0000\n",
            "Epoch 12/20\n",
            "4005/4005 [==============================] - 13s 3ms/step - loss: 8.6306e-05 - accuracy: 1.0000\n",
            "Epoch 13/20\n",
            "4005/4005 [==============================] - 14s 3ms/step - loss: 2.8631e-05 - accuracy: 1.0000\n",
            "Epoch 14/20\n",
            "4005/4005 [==============================] - 13s 3ms/step - loss: 5.7055e-05 - accuracy: 1.0000\n",
            "Epoch 15/20\n",
            "4005/4005 [==============================] - 14s 3ms/step - loss: 0.0528 - accuracy: 0.9999\n",
            "Epoch 16/20\n",
            "4005/4005 [==============================] - 13s 3ms/step - loss: 0.0000e+00 - accuracy: 1.0000\n",
            "Epoch 17/20\n",
            "4005/4005 [==============================] - 13s 3ms/step - loss: 5.6235e-05 - accuracy: 1.0000\n",
            "Epoch 18/20\n",
            "4005/4005 [==============================] - 13s 3ms/step - loss: 2.8016e-05 - accuracy: 1.0000\n",
            "Epoch 19/20\n",
            "4005/4005 [==============================] - 14s 3ms/step - loss: 0.0084 - accuracy: 1.0000\n",
            "Epoch 20/20\n",
            "4005/4005 [==============================] - 14s 3ms/step - loss: 0.0333 - accuracy: 1.0000\n",
            "2003/2003 [==============================] - 5s 2ms/step - loss: 0.0000e+00 - accuracy: 1.0000\n",
            "Epoch 1/20\n",
            "4005/4005 [==============================] - 14s 3ms/step - loss: 7.7957 - accuracy: 0.9964\n",
            "Epoch 2/20\n",
            "4005/4005 [==============================] - 14s 3ms/step - loss: 0.0626 - accuracy: 0.9998\n",
            "Epoch 3/20\n",
            "4005/4005 [==============================] - 14s 3ms/step - loss: 0.1105 - accuracy: 0.9997\n",
            "Epoch 4/20\n",
            "4005/4005 [==============================] - 14s 3ms/step - loss: 0.0393 - accuracy: 0.9999\n",
            "Epoch 5/20\n",
            "4005/4005 [==============================] - 14s 3ms/step - loss: 0.1318 - accuracy: 0.9999\n",
            "Epoch 6/20\n",
            "4005/4005 [==============================] - 14s 3ms/step - loss: 0.0999 - accuracy: 0.9998\n",
            "Epoch 7/20\n",
            "4005/4005 [==============================] - 14s 3ms/step - loss: 0.0764 - accuracy: 1.0000\n",
            "Epoch 8/20\n",
            "4005/4005 [==============================] - 13s 3ms/step - loss: 6.7696e-04 - accuracy: 1.0000\n",
            "Epoch 9/20\n",
            "4005/4005 [==============================] - 14s 3ms/step - loss: 0.0000e+00 - accuracy: 1.0000\n",
            "Epoch 10/20\n",
            "4005/4005 [==============================] - 14s 3ms/step - loss: 0.0000e+00 - accuracy: 1.0000\n",
            "Epoch 11/20\n",
            "4005/4005 [==============================] - 14s 3ms/step - loss: 7.9287e-30 - accuracy: 1.0000\n",
            "Epoch 12/20\n",
            "4005/4005 [==============================] - 13s 3ms/step - loss: 0.0000e+00 - accuracy: 1.0000\n",
            "Epoch 13/20\n",
            "4005/4005 [==============================] - 13s 3ms/step - loss: 0.0000e+00 - accuracy: 1.0000\n",
            "Epoch 14/20\n",
            "4005/4005 [==============================] - 14s 3ms/step - loss: 0.1456 - accuracy: 0.9999\n",
            "Epoch 15/20\n",
            "4005/4005 [==============================] - 14s 3ms/step - loss: 0.0821 - accuracy: 1.0000\n",
            "Epoch 16/20\n",
            "4005/4005 [==============================] - 14s 3ms/step - loss: 0.0177 - accuracy: 1.0000\n",
            "Epoch 17/20\n",
            "4005/4005 [==============================] - 13s 3ms/step - loss: 0.0764 - accuracy: 0.9999\n",
            "Epoch 18/20\n",
            "4005/4005 [==============================] - 14s 3ms/step - loss: 0.0197 - accuracy: 1.0000\n",
            "Epoch 19/20\n",
            "4005/4005 [==============================] - 14s 3ms/step - loss: 2.9658e-05 - accuracy: 1.0000\n",
            "Epoch 20/20\n",
            "4005/4005 [==============================] - 14s 3ms/step - loss: 0.0742 - accuracy: 1.0000\n",
            "2003/2003 [==============================] - 4s 2ms/step - loss: 0.0000e+00 - accuracy: 1.0000\n",
            "Epoch 1/10\n",
            "6007/6007 [==============================] - 16s 3ms/step - loss: 16.5955 - accuracy: 0.9971\n",
            "Epoch 2/10\n",
            "6007/6007 [==============================] - 15s 3ms/step - loss: 0.0000e+00 - accuracy: 1.0000\n",
            "Epoch 3/10\n",
            "6007/6007 [==============================] - 15s 3ms/step - loss: 0.0249 - accuracy: 1.0000\n",
            "Epoch 4/10\n",
            "6007/6007 [==============================] - 15s 3ms/step - loss: 0.0000e+00 - accuracy: 1.0000\n",
            "Epoch 5/10\n",
            "6007/6007 [==============================] - 15s 3ms/step - loss: 0.0000e+00 - accuracy: 1.0000\n",
            "Epoch 6/10\n",
            "6007/6007 [==============================] - 15s 3ms/step - loss: 0.0758 - accuracy: 1.0000\n",
            "Epoch 7/10\n",
            "6007/6007 [==============================] - 15s 2ms/step - loss: 0.0000e+00 - accuracy: 1.0000\n",
            "Epoch 8/10\n",
            "6007/6007 [==============================] - 15s 2ms/step - loss: 0.0000e+00 - accuracy: 1.0000\n",
            "Epoch 9/10\n",
            "6007/6007 [==============================] - 15s 2ms/step - loss: 0.0000e+00 - accuracy: 1.0000\n",
            "Epoch 10/10\n",
            "6007/6007 [==============================] - 15s 2ms/step - loss: 0.0000e+00 - accuracy: 1.0000\n"
          ]
        }
      ],
      "source": [
        "rscv_results = ranser.fit(x_train, y_train )"
      ]
    },
    {
      "cell_type": "code",
      "execution_count": 94,
      "id": "aaaa50a2",
      "metadata": {
        "id": "aaaa50a2",
        "colab": {
          "base_uri": "https://localhost:8080/"
        },
        "outputId": "5483ad95-37ff-4fbe-fabf-914c3fc5d25b"
      },
      "outputs": [
        {
          "output_type": "execute_result",
          "data": {
            "text/plain": [
              "1.0"
            ]
          },
          "metadata": {},
          "execution_count": 94
        }
      ],
      "source": [
        "ranser.best_score_"
      ]
    },
    {
      "cell_type": "code",
      "execution_count": 95,
      "id": "674680a9",
      "metadata": {
        "id": "674680a9",
        "colab": {
          "base_uri": "https://localhost:8080/"
        },
        "outputId": "efa1fa67-43e2-4cfb-e9b5-aa134d8351ef"
      },
      "outputs": [
        {
          "output_type": "execute_result",
          "data": {
            "text/plain": [
              "{'var_optimizer': 'Adam',\n",
              " 'var_activation': 'relu',\n",
              " 'epochs': 10,\n",
              " 'batch_size': 5}"
            ]
          },
          "metadata": {},
          "execution_count": 95
        }
      ],
      "source": [
        "ranser.best_params_"
      ]
    },
    {
      "cell_type": "code",
      "execution_count": 98,
      "id": "70af14be",
      "metadata": {
        "id": "70af14be",
        "colab": {
          "base_uri": "https://localhost:8080/"
        },
        "outputId": "2f84897b-5af2-4bf3-f9c7-0e325bad1fe6"
      },
      "outputs": [
        {
          "output_type": "stream",
          "name": "stdout",
          "text": [
            "Epoch 1/10\n",
            "6007/6007 - 15s - loss: 2.9197 - accuracy: 0.8105 - val_loss: 0.0000e+00 - val_accuracy: 1.0000 - 15s/epoch - 2ms/step\n",
            "Epoch 2/10\n",
            "6007/6007 - 14s - loss: 0.4408 - accuracy: 0.9713 - val_loss: 0.0000e+00 - val_accuracy: 1.0000 - 14s/epoch - 2ms/step\n",
            "Epoch 3/10\n",
            "6007/6007 - 14s - loss: 0.4137 - accuracy: 0.9729 - val_loss: 0.0000e+00 - val_accuracy: 1.0000 - 14s/epoch - 2ms/step\n",
            "Epoch 4/10\n",
            "6007/6007 - 14s - loss: 0.4214 - accuracy: 0.9725 - val_loss: 0.0000e+00 - val_accuracy: 1.0000 - 14s/epoch - 2ms/step\n",
            "Epoch 5/10\n",
            "6007/6007 - 14s - loss: 0.4793 - accuracy: 0.9689 - val_loss: 0.0000e+00 - val_accuracy: 1.0000 - 14s/epoch - 2ms/step\n",
            "Epoch 6/10\n",
            "6007/6007 - 14s - loss: 0.4217 - accuracy: 0.9727 - val_loss: 0.0000e+00 - val_accuracy: 1.0000 - 14s/epoch - 2ms/step\n",
            "Epoch 7/10\n",
            "6007/6007 - 14s - loss: 0.4360 - accuracy: 0.9717 - val_loss: 0.0000e+00 - val_accuracy: 1.0000 - 14s/epoch - 2ms/step\n",
            "Epoch 8/10\n",
            "6007/6007 - 14s - loss: 0.1480 - accuracy: 0.9904 - val_loss: 0.0000e+00 - val_accuracy: 1.0000 - 14s/epoch - 2ms/step\n",
            "Epoch 9/10\n",
            "6007/6007 - 14s - loss: 0.0180 - accuracy: 0.9988 - val_loss: 0.0000e+00 - val_accuracy: 1.0000 - 14s/epoch - 2ms/step\n",
            "Epoch 10/10\n",
            "6007/6007 - 14s - loss: 0.0200 - accuracy: 0.9987 - val_loss: 0.0000e+00 - val_accuracy: 1.0000 - 14s/epoch - 2ms/step\n"
          ]
        },
        {
          "output_type": "execute_result",
          "data": {
            "text/plain": [
              "<keras.callbacks.History at 0x7fe1cc3bfa30>"
            ]
          },
          "metadata": {},
          "execution_count": 98
        }
      ],
      "source": [
        "batch_size = ranser.best_params_['batch_size']\n",
        "epochs = ranser.best_params_['epochs']\n",
        "var_activation = ranser.best_params_['var_activation']\n",
        "optimizer = ranser.best_params_['var_optimizer']\n",
        "\n",
        "model = Sequential()\n",
        "model.add(Dense(78,activation=var_activation))\n",
        "model.add(Dropout(0.2))\n",
        "model.add(Dense(39,activation=var_activation))\n",
        "model.add(Dropout(0.2))\n",
        "model.add(Dense(19,activation=var_activation))\n",
        "model.add(Dropout(0.2))\n",
        "model.add(Dense(1,activation=var_activation))\n",
        "model.compile(loss=\"binary_crossentropy\",\n",
        "                optimizer=optimizer,metrics=[\"accuracy\"])\n",
        "model.fit(x_train, y_train, epochs=epochs, batch_size=batch_size, validation_data=(x_test, y_test), verbose = 2)"
      ]
    },
    {
      "cell_type": "code",
      "execution_count": 95,
      "id": "fd70d216",
      "metadata": {
        "id": "fd70d216"
      },
      "outputs": [],
      "source": []
    },
    {
      "cell_type": "code",
      "execution_count": 95,
      "id": "ea678a6d",
      "metadata": {
        "id": "ea678a6d"
      },
      "outputs": [],
      "source": []
    },
    {
      "cell_type": "code",
      "execution_count": 95,
      "id": "e4c9ba18",
      "metadata": {
        "id": "e4c9ba18"
      },
      "outputs": [],
      "source": []
    },
    {
      "cell_type": "code",
      "execution_count": 95,
      "id": "92009974",
      "metadata": {
        "id": "92009974"
      },
      "outputs": [],
      "source": []
    },
    {
      "cell_type": "code",
      "execution_count": 95,
      "id": "c987f7e1",
      "metadata": {
        "id": "c987f7e1"
      },
      "outputs": [],
      "source": []
    },
    {
      "cell_type": "code",
      "execution_count": 95,
      "id": "2257ee1c",
      "metadata": {
        "id": "2257ee1c"
      },
      "outputs": [],
      "source": []
    },
    {
      "cell_type": "code",
      "execution_count": 95,
      "id": "47b57612",
      "metadata": {
        "id": "47b57612"
      },
      "outputs": [],
      "source": []
    },
    {
      "cell_type": "code",
      "execution_count": 95,
      "id": "051e54ce",
      "metadata": {
        "id": "051e54ce"
      },
      "outputs": [],
      "source": []
    },
    {
      "cell_type": "code",
      "execution_count": 95,
      "id": "dabdbfe9",
      "metadata": {
        "scrolled": false,
        "id": "dabdbfe9"
      },
      "outputs": [],
      "source": []
    },
    {
      "cell_type": "code",
      "execution_count": 95,
      "id": "ea653129",
      "metadata": {
        "id": "ea653129"
      },
      "outputs": [],
      "source": []
    },
    {
      "cell_type": "code",
      "execution_count": 95,
      "id": "4f37377d",
      "metadata": {
        "id": "4f37377d"
      },
      "outputs": [],
      "source": []
    },
    {
      "cell_type": "code",
      "execution_count": 95,
      "id": "0c64b6c1",
      "metadata": {
        "id": "0c64b6c1"
      },
      "outputs": [],
      "source": []
    },
    {
      "cell_type": "code",
      "execution_count": 95,
      "id": "65669104",
      "metadata": {
        "id": "65669104"
      },
      "outputs": [],
      "source": []
    },
    {
      "cell_type": "code",
      "execution_count": 95,
      "id": "c92d47fe",
      "metadata": {
        "id": "c92d47fe"
      },
      "outputs": [],
      "source": []
    },
    {
      "cell_type": "code",
      "execution_count": 95,
      "id": "9b433d48",
      "metadata": {
        "id": "9b433d48"
      },
      "outputs": [],
      "source": []
    },
    {
      "cell_type": "code",
      "execution_count": 95,
      "id": "f74acf2b",
      "metadata": {
        "id": "f74acf2b"
      },
      "outputs": [],
      "source": []
    },
    {
      "cell_type": "code",
      "execution_count": 95,
      "id": "b5cd98bb",
      "metadata": {
        "id": "b5cd98bb"
      },
      "outputs": [],
      "source": []
    },
    {
      "cell_type": "code",
      "execution_count": 95,
      "id": "b741bd36",
      "metadata": {
        "id": "b741bd36"
      },
      "outputs": [],
      "source": []
    },
    {
      "cell_type": "code",
      "execution_count": 95,
      "id": "16d9ba2d",
      "metadata": {
        "id": "16d9ba2d"
      },
      "outputs": [],
      "source": []
    },
    {
      "cell_type": "code",
      "execution_count": 95,
      "id": "6f2e4ecb",
      "metadata": {
        "id": "6f2e4ecb"
      },
      "outputs": [],
      "source": []
    }
  ],
  "metadata": {
    "kernelspec": {
      "display_name": "Python 3 (ipykernel)",
      "language": "python",
      "name": "python3"
    },
    "language_info": {
      "codemirror_mode": {
        "name": "ipython",
        "version": 3
      },
      "file_extension": ".py",
      "mimetype": "text/x-python",
      "name": "python",
      "nbconvert_exporter": "python",
      "pygments_lexer": "ipython3",
      "version": "3.9.7"
    },
    "colab": {
      "provenance": [],
      "include_colab_link": true
    },
    "accelerator": "GPU",
    "gpuClass": "standard"
  },
  "nbformat": 4,
  "nbformat_minor": 5
}