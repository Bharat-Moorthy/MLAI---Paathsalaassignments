{
  "nbformat": 4,
  "nbformat_minor": 0,
  "metadata": {
    "colab": {
      "provenance": [],
      "authorship_tag": "ABX9TyM4cPpGD5XUeaLK67Qs+yX6",
      "include_colab_link": true
    },
    "kernelspec": {
      "name": "python3",
      "display_name": "Python 3"
    },
    "language_info": {
      "name": "python"
    },
    "accelerator": "GPU",
    "gpuClass": "standard"
  },
  "cells": [
    {
      "cell_type": "markdown",
      "metadata": {
        "id": "view-in-github",
        "colab_type": "text"
      },
      "source": [
        "<a href=\"https://colab.research.google.com/github/Bharat-Moorthy/MLAI---Paathsalaassignments/blob/main/Car_price_prediction.ipynb\" target=\"_parent\"><img src=\"https://colab.research.google.com/assets/colab-badge.svg\" alt=\"Open In Colab\"/></a>"
      ]
    },
    {
      "cell_type": "code",
      "execution_count": 1,
      "metadata": {
        "id": "aSpGU9jo97_L"
      },
      "outputs": [],
      "source": [
        "import numpy as np \n",
        "import pandas as pd \n",
        "import tensorflow as tf\n",
        "import matplotlib.pyplot as plt\n",
        "from tensorflow.keras.models import Model\n",
        "from tensorflow.keras.models import Sequential \n",
        "from tensorflow.keras.layers import Dense, Input\n",
        "from sklearn.model_selection import train_test_split"
      ]
    },
    {
      "cell_type": "code",
      "source": [
        "#LOading the dataset"
      ],
      "metadata": {
        "id": "6wf7XqJKfZvr"
      },
      "execution_count": 42,
      "outputs": []
    },
    {
      "cell_type": "code",
      "source": [
        "car_price=pd.read_csv(\"/content/car_purchasing.csv\",encoding='latin-1')"
      ],
      "metadata": {
        "id": "P04Yexe1-Zwo"
      },
      "execution_count": 2,
      "outputs": []
    },
    {
      "cell_type": "code",
      "source": [
        "#Basic information of the dataset"
      ],
      "metadata": {
        "id": "WrD1PEdSfcTT"
      },
      "execution_count": 43,
      "outputs": []
    },
    {
      "cell_type": "code",
      "source": [
        "car_price.info()"
      ],
      "metadata": {
        "colab": {
          "base_uri": "https://localhost:8080/"
        },
        "id": "ORjbwz7G-ufs",
        "outputId": "06b83b54-2aa7-4221-8ad0-f07dcac41dd4"
      },
      "execution_count": 3,
      "outputs": [
        {
          "output_type": "stream",
          "name": "stdout",
          "text": [
            "<class 'pandas.core.frame.DataFrame'>\n",
            "RangeIndex: 500 entries, 0 to 499\n",
            "Data columns (total 9 columns):\n",
            " #   Column               Non-Null Count  Dtype  \n",
            "---  ------               --------------  -----  \n",
            " 0   customer name        500 non-null    object \n",
            " 1   customer e-mail      500 non-null    object \n",
            " 2   country              500 non-null    object \n",
            " 3   gender               500 non-null    int64  \n",
            " 4   age                  500 non-null    float64\n",
            " 5   annual Salary        500 non-null    float64\n",
            " 6   credit card debt     500 non-null    float64\n",
            " 7   net worth            500 non-null    float64\n",
            " 8   car purchase amount  500 non-null    float64\n",
            "dtypes: float64(5), int64(1), object(3)\n",
            "memory usage: 35.3+ KB\n"
          ]
        }
      ]
    },
    {
      "cell_type": "code",
      "source": [
        "#Check the missing values of the dataset"
      ],
      "metadata": {
        "id": "LtvnQVyIfgDd"
      },
      "execution_count": 44,
      "outputs": []
    },
    {
      "cell_type": "code",
      "source": [
        "car_price.isnull().sum()"
      ],
      "metadata": {
        "colab": {
          "base_uri": "https://localhost:8080/"
        },
        "id": "7w2VL_Qy_xrY",
        "outputId": "370d9956-1d96-488a-c457-a94f397554f9"
      },
      "execution_count": 4,
      "outputs": [
        {
          "output_type": "execute_result",
          "data": {
            "text/plain": [
              "customer name          0\n",
              "customer e-mail        0\n",
              "country                0\n",
              "gender                 0\n",
              "age                    0\n",
              "annual Salary          0\n",
              "credit card debt       0\n",
              "net worth              0\n",
              "car purchase amount    0\n",
              "dtype: int64"
            ]
          },
          "metadata": {},
          "execution_count": 4
        }
      ]
    },
    {
      "cell_type": "code",
      "source": [
        "#NO null values found "
      ],
      "metadata": {
        "id": "PAUdz6AVfjOx"
      },
      "execution_count": 45,
      "outputs": []
    },
    {
      "cell_type": "code",
      "source": [
        "car_price.head()"
      ],
      "metadata": {
        "colab": {
          "base_uri": "https://localhost:8080/",
          "height": 302
        },
        "id": "wog3tyBJ_4Fw",
        "outputId": "db46d23e-9fd8-44c4-f940-8a2ae2e04705"
      },
      "execution_count": 5,
      "outputs": [
        {
          "output_type": "execute_result",
          "data": {
            "text/plain": [
              "     customer name                                    customer e-mail  \\\n",
              "0    Martina Avila  cubilia.Curae.Phasellus@quisaccumsanconvallis.edu   \n",
              "1    Harlan Barnes                                eu.dolor@diam.co.uk   \n",
              "2  Naomi Rodriquez  vulputate.mauris.sagittis@ametconsectetueradip...   \n",
              "3  Jade Cunningham                            malesuada@dignissim.com   \n",
              "4     Cedric Leach     felis.ullamcorper.viverra@egetmollislectus.net   \n",
              "\n",
              "        country  gender        age  annual Salary  credit card debt  \\\n",
              "0      Bulgaria       0  41.851720    62812.09301      11609.380910   \n",
              "1        Belize       0  40.870623    66646.89292       9572.957136   \n",
              "2       Algeria       1  43.152897    53798.55112      11160.355060   \n",
              "3  Cook Islands       1  58.271369    79370.03798      14426.164850   \n",
              "4        Brazil       1  57.313749    59729.15130       5358.712177   \n",
              "\n",
              "     net worth  car purchase amount  \n",
              "0  238961.2505          35321.45877  \n",
              "1  530973.9078          45115.52566  \n",
              "2  638467.1773          42925.70921  \n",
              "3  548599.0524          67422.36313  \n",
              "4  560304.0671          55915.46248  "
            ],
            "text/html": [
              "\n",
              "  <div id=\"df-f846a0a8-84ea-45c1-ab93-9e0bcc4df059\">\n",
              "    <div class=\"colab-df-container\">\n",
              "      <div>\n",
              "<style scoped>\n",
              "    .dataframe tbody tr th:only-of-type {\n",
              "        vertical-align: middle;\n",
              "    }\n",
              "\n",
              "    .dataframe tbody tr th {\n",
              "        vertical-align: top;\n",
              "    }\n",
              "\n",
              "    .dataframe thead th {\n",
              "        text-align: right;\n",
              "    }\n",
              "</style>\n",
              "<table border=\"1\" class=\"dataframe\">\n",
              "  <thead>\n",
              "    <tr style=\"text-align: right;\">\n",
              "      <th></th>\n",
              "      <th>customer name</th>\n",
              "      <th>customer e-mail</th>\n",
              "      <th>country</th>\n",
              "      <th>gender</th>\n",
              "      <th>age</th>\n",
              "      <th>annual Salary</th>\n",
              "      <th>credit card debt</th>\n",
              "      <th>net worth</th>\n",
              "      <th>car purchase amount</th>\n",
              "    </tr>\n",
              "  </thead>\n",
              "  <tbody>\n",
              "    <tr>\n",
              "      <th>0</th>\n",
              "      <td>Martina Avila</td>\n",
              "      <td>cubilia.Curae.Phasellus@quisaccumsanconvallis.edu</td>\n",
              "      <td>Bulgaria</td>\n",
              "      <td>0</td>\n",
              "      <td>41.851720</td>\n",
              "      <td>62812.09301</td>\n",
              "      <td>11609.380910</td>\n",
              "      <td>238961.2505</td>\n",
              "      <td>35321.45877</td>\n",
              "    </tr>\n",
              "    <tr>\n",
              "      <th>1</th>\n",
              "      <td>Harlan Barnes</td>\n",
              "      <td>eu.dolor@diam.co.uk</td>\n",
              "      <td>Belize</td>\n",
              "      <td>0</td>\n",
              "      <td>40.870623</td>\n",
              "      <td>66646.89292</td>\n",
              "      <td>9572.957136</td>\n",
              "      <td>530973.9078</td>\n",
              "      <td>45115.52566</td>\n",
              "    </tr>\n",
              "    <tr>\n",
              "      <th>2</th>\n",
              "      <td>Naomi Rodriquez</td>\n",
              "      <td>vulputate.mauris.sagittis@ametconsectetueradip...</td>\n",
              "      <td>Algeria</td>\n",
              "      <td>1</td>\n",
              "      <td>43.152897</td>\n",
              "      <td>53798.55112</td>\n",
              "      <td>11160.355060</td>\n",
              "      <td>638467.1773</td>\n",
              "      <td>42925.70921</td>\n",
              "    </tr>\n",
              "    <tr>\n",
              "      <th>3</th>\n",
              "      <td>Jade Cunningham</td>\n",
              "      <td>malesuada@dignissim.com</td>\n",
              "      <td>Cook Islands</td>\n",
              "      <td>1</td>\n",
              "      <td>58.271369</td>\n",
              "      <td>79370.03798</td>\n",
              "      <td>14426.164850</td>\n",
              "      <td>548599.0524</td>\n",
              "      <td>67422.36313</td>\n",
              "    </tr>\n",
              "    <tr>\n",
              "      <th>4</th>\n",
              "      <td>Cedric Leach</td>\n",
              "      <td>felis.ullamcorper.viverra@egetmollislectus.net</td>\n",
              "      <td>Brazil</td>\n",
              "      <td>1</td>\n",
              "      <td>57.313749</td>\n",
              "      <td>59729.15130</td>\n",
              "      <td>5358.712177</td>\n",
              "      <td>560304.0671</td>\n",
              "      <td>55915.46248</td>\n",
              "    </tr>\n",
              "  </tbody>\n",
              "</table>\n",
              "</div>\n",
              "      <button class=\"colab-df-convert\" onclick=\"convertToInteractive('df-f846a0a8-84ea-45c1-ab93-9e0bcc4df059')\"\n",
              "              title=\"Convert this dataframe to an interactive table.\"\n",
              "              style=\"display:none;\">\n",
              "        \n",
              "  <svg xmlns=\"http://www.w3.org/2000/svg\" height=\"24px\"viewBox=\"0 0 24 24\"\n",
              "       width=\"24px\">\n",
              "    <path d=\"M0 0h24v24H0V0z\" fill=\"none\"/>\n",
              "    <path d=\"M18.56 5.44l.94 2.06.94-2.06 2.06-.94-2.06-.94-.94-2.06-.94 2.06-2.06.94zm-11 1L8.5 8.5l.94-2.06 2.06-.94-2.06-.94L8.5 2.5l-.94 2.06-2.06.94zm10 10l.94 2.06.94-2.06 2.06-.94-2.06-.94-.94-2.06-.94 2.06-2.06.94z\"/><path d=\"M17.41 7.96l-1.37-1.37c-.4-.4-.92-.59-1.43-.59-.52 0-1.04.2-1.43.59L10.3 9.45l-7.72 7.72c-.78.78-.78 2.05 0 2.83L4 21.41c.39.39.9.59 1.41.59.51 0 1.02-.2 1.41-.59l7.78-7.78 2.81-2.81c.8-.78.8-2.07 0-2.86zM5.41 20L4 18.59l7.72-7.72 1.47 1.35L5.41 20z\"/>\n",
              "  </svg>\n",
              "      </button>\n",
              "      \n",
              "  <style>\n",
              "    .colab-df-container {\n",
              "      display:flex;\n",
              "      flex-wrap:wrap;\n",
              "      gap: 12px;\n",
              "    }\n",
              "\n",
              "    .colab-df-convert {\n",
              "      background-color: #E8F0FE;\n",
              "      border: none;\n",
              "      border-radius: 50%;\n",
              "      cursor: pointer;\n",
              "      display: none;\n",
              "      fill: #1967D2;\n",
              "      height: 32px;\n",
              "      padding: 0 0 0 0;\n",
              "      width: 32px;\n",
              "    }\n",
              "\n",
              "    .colab-df-convert:hover {\n",
              "      background-color: #E2EBFA;\n",
              "      box-shadow: 0px 1px 2px rgba(60, 64, 67, 0.3), 0px 1px 3px 1px rgba(60, 64, 67, 0.15);\n",
              "      fill: #174EA6;\n",
              "    }\n",
              "\n",
              "    [theme=dark] .colab-df-convert {\n",
              "      background-color: #3B4455;\n",
              "      fill: #D2E3FC;\n",
              "    }\n",
              "\n",
              "    [theme=dark] .colab-df-convert:hover {\n",
              "      background-color: #434B5C;\n",
              "      box-shadow: 0px 1px 3px 1px rgba(0, 0, 0, 0.15);\n",
              "      filter: drop-shadow(0px 1px 2px rgba(0, 0, 0, 0.3));\n",
              "      fill: #FFFFFF;\n",
              "    }\n",
              "  </style>\n",
              "\n",
              "      <script>\n",
              "        const buttonEl =\n",
              "          document.querySelector('#df-f846a0a8-84ea-45c1-ab93-9e0bcc4df059 button.colab-df-convert');\n",
              "        buttonEl.style.display =\n",
              "          google.colab.kernel.accessAllowed ? 'block' : 'none';\n",
              "\n",
              "        async function convertToInteractive(key) {\n",
              "          const element = document.querySelector('#df-f846a0a8-84ea-45c1-ab93-9e0bcc4df059');\n",
              "          const dataTable =\n",
              "            await google.colab.kernel.invokeFunction('convertToInteractive',\n",
              "                                                     [key], {});\n",
              "          if (!dataTable) return;\n",
              "\n",
              "          const docLinkHtml = 'Like what you see? Visit the ' +\n",
              "            '<a target=\"_blank\" href=https://colab.research.google.com/notebooks/data_table.ipynb>data table notebook</a>'\n",
              "            + ' to learn more about interactive tables.';\n",
              "          element.innerHTML = '';\n",
              "          dataTable['output_type'] = 'display_data';\n",
              "          await google.colab.output.renderOutput(dataTable, element);\n",
              "          const docLink = document.createElement('div');\n",
              "          docLink.innerHTML = docLinkHtml;\n",
              "          element.appendChild(docLink);\n",
              "        }\n",
              "      </script>\n",
              "    </div>\n",
              "  </div>\n",
              "  "
            ]
          },
          "metadata": {},
          "execution_count": 5
        }
      ]
    },
    {
      "cell_type": "code",
      "source": [
        "#Taking the statistical summary of the Dataset"
      ],
      "metadata": {
        "id": "FMx79P3RfmQq"
      },
      "execution_count": 46,
      "outputs": []
    },
    {
      "cell_type": "code",
      "source": [
        "car_price.describe(include=\"all\")"
      ],
      "metadata": {
        "colab": {
          "base_uri": "https://localhost:8080/",
          "height": 493
        },
        "id": "mhWFXOW9AC1i",
        "outputId": "646d26bd-0b18-4ce0-fee1-686ddda29028"
      },
      "execution_count": 6,
      "outputs": [
        {
          "output_type": "execute_result",
          "data": {
            "text/plain": [
              "       customer name                                    customer e-mail  \\\n",
              "count            500                                                500   \n",
              "unique           498                                                500   \n",
              "top             Seth  cubilia.Curae.Phasellus@quisaccumsanconvallis.edu   \n",
              "freq               2                                                  1   \n",
              "mean             NaN                                                NaN   \n",
              "std              NaN                                                NaN   \n",
              "min              NaN                                                NaN   \n",
              "25%              NaN                                                NaN   \n",
              "50%              NaN                                                NaN   \n",
              "75%              NaN                                                NaN   \n",
              "max              NaN                                                NaN   \n",
              "\n",
              "       country      gender         age  annual Salary  credit card debt  \\\n",
              "count      500  500.000000  500.000000     500.000000        500.000000   \n",
              "unique     211         NaN         NaN            NaN               NaN   \n",
              "top     Israel         NaN         NaN            NaN               NaN   \n",
              "freq         6         NaN         NaN            NaN               NaN   \n",
              "mean       NaN    0.506000   46.241674   62127.239608       9607.645049   \n",
              "std        NaN    0.500465    7.978862   11703.378228       3489.187973   \n",
              "min        NaN    0.000000   20.000000   20000.000000        100.000000   \n",
              "25%        NaN    0.000000   40.949969   54391.977195       7397.515792   \n",
              "50%        NaN    1.000000   46.049901   62915.497035       9655.035568   \n",
              "75%        NaN    1.000000   51.612263   70117.862005      11798.867487   \n",
              "max        NaN    1.000000   70.000000  100000.000000      20000.000000   \n",
              "\n",
              "             net worth  car purchase amount  \n",
              "count       500.000000           500.000000  \n",
              "unique             NaN                  NaN  \n",
              "top                NaN                  NaN  \n",
              "freq               NaN                  NaN  \n",
              "mean     431475.713625         44209.799218  \n",
              "std      173536.756340         10773.178744  \n",
              "min       20000.000000          9000.000000  \n",
              "25%      299824.195900         37629.896040  \n",
              "50%      426750.120650         43997.783390  \n",
              "75%      557324.478725         51254.709517  \n",
              "max     1000000.000000         80000.000000  "
            ],
            "text/html": [
              "\n",
              "  <div id=\"df-8a45f542-67af-4b05-bd19-7f6d6c68491f\">\n",
              "    <div class=\"colab-df-container\">\n",
              "      <div>\n",
              "<style scoped>\n",
              "    .dataframe tbody tr th:only-of-type {\n",
              "        vertical-align: middle;\n",
              "    }\n",
              "\n",
              "    .dataframe tbody tr th {\n",
              "        vertical-align: top;\n",
              "    }\n",
              "\n",
              "    .dataframe thead th {\n",
              "        text-align: right;\n",
              "    }\n",
              "</style>\n",
              "<table border=\"1\" class=\"dataframe\">\n",
              "  <thead>\n",
              "    <tr style=\"text-align: right;\">\n",
              "      <th></th>\n",
              "      <th>customer name</th>\n",
              "      <th>customer e-mail</th>\n",
              "      <th>country</th>\n",
              "      <th>gender</th>\n",
              "      <th>age</th>\n",
              "      <th>annual Salary</th>\n",
              "      <th>credit card debt</th>\n",
              "      <th>net worth</th>\n",
              "      <th>car purchase amount</th>\n",
              "    </tr>\n",
              "  </thead>\n",
              "  <tbody>\n",
              "    <tr>\n",
              "      <th>count</th>\n",
              "      <td>500</td>\n",
              "      <td>500</td>\n",
              "      <td>500</td>\n",
              "      <td>500.000000</td>\n",
              "      <td>500.000000</td>\n",
              "      <td>500.000000</td>\n",
              "      <td>500.000000</td>\n",
              "      <td>500.000000</td>\n",
              "      <td>500.000000</td>\n",
              "    </tr>\n",
              "    <tr>\n",
              "      <th>unique</th>\n",
              "      <td>498</td>\n",
              "      <td>500</td>\n",
              "      <td>211</td>\n",
              "      <td>NaN</td>\n",
              "      <td>NaN</td>\n",
              "      <td>NaN</td>\n",
              "      <td>NaN</td>\n",
              "      <td>NaN</td>\n",
              "      <td>NaN</td>\n",
              "    </tr>\n",
              "    <tr>\n",
              "      <th>top</th>\n",
              "      <td>Seth</td>\n",
              "      <td>cubilia.Curae.Phasellus@quisaccumsanconvallis.edu</td>\n",
              "      <td>Israel</td>\n",
              "      <td>NaN</td>\n",
              "      <td>NaN</td>\n",
              "      <td>NaN</td>\n",
              "      <td>NaN</td>\n",
              "      <td>NaN</td>\n",
              "      <td>NaN</td>\n",
              "    </tr>\n",
              "    <tr>\n",
              "      <th>freq</th>\n",
              "      <td>2</td>\n",
              "      <td>1</td>\n",
              "      <td>6</td>\n",
              "      <td>NaN</td>\n",
              "      <td>NaN</td>\n",
              "      <td>NaN</td>\n",
              "      <td>NaN</td>\n",
              "      <td>NaN</td>\n",
              "      <td>NaN</td>\n",
              "    </tr>\n",
              "    <tr>\n",
              "      <th>mean</th>\n",
              "      <td>NaN</td>\n",
              "      <td>NaN</td>\n",
              "      <td>NaN</td>\n",
              "      <td>0.506000</td>\n",
              "      <td>46.241674</td>\n",
              "      <td>62127.239608</td>\n",
              "      <td>9607.645049</td>\n",
              "      <td>431475.713625</td>\n",
              "      <td>44209.799218</td>\n",
              "    </tr>\n",
              "    <tr>\n",
              "      <th>std</th>\n",
              "      <td>NaN</td>\n",
              "      <td>NaN</td>\n",
              "      <td>NaN</td>\n",
              "      <td>0.500465</td>\n",
              "      <td>7.978862</td>\n",
              "      <td>11703.378228</td>\n",
              "      <td>3489.187973</td>\n",
              "      <td>173536.756340</td>\n",
              "      <td>10773.178744</td>\n",
              "    </tr>\n",
              "    <tr>\n",
              "      <th>min</th>\n",
              "      <td>NaN</td>\n",
              "      <td>NaN</td>\n",
              "      <td>NaN</td>\n",
              "      <td>0.000000</td>\n",
              "      <td>20.000000</td>\n",
              "      <td>20000.000000</td>\n",
              "      <td>100.000000</td>\n",
              "      <td>20000.000000</td>\n",
              "      <td>9000.000000</td>\n",
              "    </tr>\n",
              "    <tr>\n",
              "      <th>25%</th>\n",
              "      <td>NaN</td>\n",
              "      <td>NaN</td>\n",
              "      <td>NaN</td>\n",
              "      <td>0.000000</td>\n",
              "      <td>40.949969</td>\n",
              "      <td>54391.977195</td>\n",
              "      <td>7397.515792</td>\n",
              "      <td>299824.195900</td>\n",
              "      <td>37629.896040</td>\n",
              "    </tr>\n",
              "    <tr>\n",
              "      <th>50%</th>\n",
              "      <td>NaN</td>\n",
              "      <td>NaN</td>\n",
              "      <td>NaN</td>\n",
              "      <td>1.000000</td>\n",
              "      <td>46.049901</td>\n",
              "      <td>62915.497035</td>\n",
              "      <td>9655.035568</td>\n",
              "      <td>426750.120650</td>\n",
              "      <td>43997.783390</td>\n",
              "    </tr>\n",
              "    <tr>\n",
              "      <th>75%</th>\n",
              "      <td>NaN</td>\n",
              "      <td>NaN</td>\n",
              "      <td>NaN</td>\n",
              "      <td>1.000000</td>\n",
              "      <td>51.612263</td>\n",
              "      <td>70117.862005</td>\n",
              "      <td>11798.867487</td>\n",
              "      <td>557324.478725</td>\n",
              "      <td>51254.709517</td>\n",
              "    </tr>\n",
              "    <tr>\n",
              "      <th>max</th>\n",
              "      <td>NaN</td>\n",
              "      <td>NaN</td>\n",
              "      <td>NaN</td>\n",
              "      <td>1.000000</td>\n",
              "      <td>70.000000</td>\n",
              "      <td>100000.000000</td>\n",
              "      <td>20000.000000</td>\n",
              "      <td>1000000.000000</td>\n",
              "      <td>80000.000000</td>\n",
              "    </tr>\n",
              "  </tbody>\n",
              "</table>\n",
              "</div>\n",
              "      <button class=\"colab-df-convert\" onclick=\"convertToInteractive('df-8a45f542-67af-4b05-bd19-7f6d6c68491f')\"\n",
              "              title=\"Convert this dataframe to an interactive table.\"\n",
              "              style=\"display:none;\">\n",
              "        \n",
              "  <svg xmlns=\"http://www.w3.org/2000/svg\" height=\"24px\"viewBox=\"0 0 24 24\"\n",
              "       width=\"24px\">\n",
              "    <path d=\"M0 0h24v24H0V0z\" fill=\"none\"/>\n",
              "    <path d=\"M18.56 5.44l.94 2.06.94-2.06 2.06-.94-2.06-.94-.94-2.06-.94 2.06-2.06.94zm-11 1L8.5 8.5l.94-2.06 2.06-.94-2.06-.94L8.5 2.5l-.94 2.06-2.06.94zm10 10l.94 2.06.94-2.06 2.06-.94-2.06-.94-.94-2.06-.94 2.06-2.06.94z\"/><path d=\"M17.41 7.96l-1.37-1.37c-.4-.4-.92-.59-1.43-.59-.52 0-1.04.2-1.43.59L10.3 9.45l-7.72 7.72c-.78.78-.78 2.05 0 2.83L4 21.41c.39.39.9.59 1.41.59.51 0 1.02-.2 1.41-.59l7.78-7.78 2.81-2.81c.8-.78.8-2.07 0-2.86zM5.41 20L4 18.59l7.72-7.72 1.47 1.35L5.41 20z\"/>\n",
              "  </svg>\n",
              "      </button>\n",
              "      \n",
              "  <style>\n",
              "    .colab-df-container {\n",
              "      display:flex;\n",
              "      flex-wrap:wrap;\n",
              "      gap: 12px;\n",
              "    }\n",
              "\n",
              "    .colab-df-convert {\n",
              "      background-color: #E8F0FE;\n",
              "      border: none;\n",
              "      border-radius: 50%;\n",
              "      cursor: pointer;\n",
              "      display: none;\n",
              "      fill: #1967D2;\n",
              "      height: 32px;\n",
              "      padding: 0 0 0 0;\n",
              "      width: 32px;\n",
              "    }\n",
              "\n",
              "    .colab-df-convert:hover {\n",
              "      background-color: #E2EBFA;\n",
              "      box-shadow: 0px 1px 2px rgba(60, 64, 67, 0.3), 0px 1px 3px 1px rgba(60, 64, 67, 0.15);\n",
              "      fill: #174EA6;\n",
              "    }\n",
              "\n",
              "    [theme=dark] .colab-df-convert {\n",
              "      background-color: #3B4455;\n",
              "      fill: #D2E3FC;\n",
              "    }\n",
              "\n",
              "    [theme=dark] .colab-df-convert:hover {\n",
              "      background-color: #434B5C;\n",
              "      box-shadow: 0px 1px 3px 1px rgba(0, 0, 0, 0.15);\n",
              "      filter: drop-shadow(0px 1px 2px rgba(0, 0, 0, 0.3));\n",
              "      fill: #FFFFFF;\n",
              "    }\n",
              "  </style>\n",
              "\n",
              "      <script>\n",
              "        const buttonEl =\n",
              "          document.querySelector('#df-8a45f542-67af-4b05-bd19-7f6d6c68491f button.colab-df-convert');\n",
              "        buttonEl.style.display =\n",
              "          google.colab.kernel.accessAllowed ? 'block' : 'none';\n",
              "\n",
              "        async function convertToInteractive(key) {\n",
              "          const element = document.querySelector('#df-8a45f542-67af-4b05-bd19-7f6d6c68491f');\n",
              "          const dataTable =\n",
              "            await google.colab.kernel.invokeFunction('convertToInteractive',\n",
              "                                                     [key], {});\n",
              "          if (!dataTable) return;\n",
              "\n",
              "          const docLinkHtml = 'Like what you see? Visit the ' +\n",
              "            '<a target=\"_blank\" href=https://colab.research.google.com/notebooks/data_table.ipynb>data table notebook</a>'\n",
              "            + ' to learn more about interactive tables.';\n",
              "          element.innerHTML = '';\n",
              "          dataTable['output_type'] = 'display_data';\n",
              "          await google.colab.output.renderOutput(dataTable, element);\n",
              "          const docLink = document.createElement('div');\n",
              "          docLink.innerHTML = docLinkHtml;\n",
              "          element.appendChild(docLink);\n",
              "        }\n",
              "      </script>\n",
              "    </div>\n",
              "  </div>\n",
              "  "
            ]
          },
          "metadata": {},
          "execution_count": 6
        }
      ]
    },
    {
      "cell_type": "code",
      "source": [
        "#From the above we can see that the scaling is required for the columns as they are in different ranges"
      ],
      "metadata": {
        "id": "hoNJBhvXfyM5"
      },
      "execution_count": 47,
      "outputs": []
    },
    {
      "cell_type": "code",
      "source": [
        "#Basic visualisation of the columns "
      ],
      "metadata": {
        "id": "1Yvb0torf5sM"
      },
      "execution_count": 48,
      "outputs": []
    },
    {
      "cell_type": "code",
      "source": [
        "car_price.hist(figsize=(15,20))\n",
        "plt.title(\"Feature distribution\")\n",
        "plt.show()"
      ],
      "metadata": {
        "colab": {
          "base_uri": "https://localhost:8080/",
          "height": 1000
        },
        "id": "9AJDi58XAMQq",
        "outputId": "176f1e11-49ff-4271-ad77-d050bd87e756"
      },
      "execution_count": 7,
      "outputs": [
        {
          "output_type": "display_data",
          "data": {
            "text/plain": [
              "<Figure size 1080x1440 with 6 Axes>"
            ],
            "image/png": "[encoded data removed]"
          },
          "metadata": {
            "needs_background": "light"
          }
        }
      ]
    },
    {
      "cell_type": "code",
      "source": [
        "#Almost all feature look close to normal distribution and there is not much skewness in the data"
      ],
      "metadata": {
        "id": "66scZOOjAzup"
      },
      "execution_count": 8,
      "outputs": []
    },
    {
      "cell_type": "code",
      "source": [
        "#We can drop the 3 object variables as they are not much contributing to the prediction"
      ],
      "metadata": {
        "id": "tTB4nU0kf_j3"
      },
      "execution_count": 49,
      "outputs": []
    },
    {
      "cell_type": "code",
      "source": [
        "car_price.drop(['customer name', 'country', 'customer e-mail'],axis=1,inplace=True)"
      ],
      "metadata": {
        "id": "ta6XS2ElBCZo"
      },
      "execution_count": 9,
      "outputs": []
    },
    {
      "cell_type": "code",
      "source": [
        "car_price.head()"
      ],
      "metadata": {
        "colab": {
          "base_uri": "https://localhost:8080/",
          "height": 206
        },
        "id": "3fvJj6U4BKnt",
        "outputId": "9b84e6e7-2979-4719-ff08-5084dcb8d83b"
      },
      "execution_count": 10,
      "outputs": [
        {
          "output_type": "execute_result",
          "data": {
            "text/plain": [
              "   gender        age  annual Salary  credit card debt    net worth  \\\n",
              "0       0  41.851720    62812.09301      11609.380910  238961.2505   \n",
              "1       0  40.870623    66646.89292       9572.957136  530973.9078   \n",
              "2       1  43.152897    53798.55112      11160.355060  638467.1773   \n",
              "3       1  58.271369    79370.03798      14426.164850  548599.0524   \n",
              "4       1  57.313749    59729.15130       5358.712177  560304.0671   \n",
              "\n",
              "   car purchase amount  \n",
              "0          35321.45877  \n",
              "1          45115.52566  \n",
              "2          42925.70921  \n",
              "3          67422.36313  \n",
              "4          55915.46248  "
            ],
            "text/html": [
              "\n",
              "  <div id=\"df-ea2ad089-7d8b-43a8-a715-e3b7b08d4999\">\n",
              "    <div class=\"colab-df-container\">\n",
              "      <div>\n",
              "<style scoped>\n",
              "    .dataframe tbody tr th:only-of-type {\n",
              "        vertical-align: middle;\n",
              "    }\n",
              "\n",
              "    .dataframe tbody tr th {\n",
              "        vertical-align: top;\n",
              "    }\n",
              "\n",
              "    .dataframe thead th {\n",
              "        text-align: right;\n",
              "    }\n",
              "</style>\n",
              "<table border=\"1\" class=\"dataframe\">\n",
              "  <thead>\n",
              "    <tr style=\"text-align: right;\">\n",
              "      <th></th>\n",
              "      <th>gender</th>\n",
              "      <th>age</th>\n",
              "      <th>annual Salary</th>\n",
              "      <th>credit card debt</th>\n",
              "      <th>net worth</th>\n",
              "      <th>car purchase amount</th>\n",
              "    </tr>\n",
              "  </thead>\n",
              "  <tbody>\n",
              "    <tr>\n",
              "      <th>0</th>\n",
              "      <td>0</td>\n",
              "      <td>41.851720</td>\n",
              "      <td>62812.09301</td>\n",
              "      <td>11609.380910</td>\n",
              "      <td>238961.2505</td>\n",
              "      <td>35321.45877</td>\n",
              "    </tr>\n",
              "    <tr>\n",
              "      <th>1</th>\n",
              "      <td>0</td>\n",
              "      <td>40.870623</td>\n",
              "      <td>66646.89292</td>\n",
              "      <td>9572.957136</td>\n",
              "      <td>530973.9078</td>\n",
              "      <td>45115.52566</td>\n",
              "    </tr>\n",
              "    <tr>\n",
              "      <th>2</th>\n",
              "      <td>1</td>\n",
              "      <td>43.152897</td>\n",
              "      <td>53798.55112</td>\n",
              "      <td>11160.355060</td>\n",
              "      <td>638467.1773</td>\n",
              "      <td>42925.70921</td>\n",
              "    </tr>\n",
              "    <tr>\n",
              "      <th>3</th>\n",
              "      <td>1</td>\n",
              "      <td>58.271369</td>\n",
              "      <td>79370.03798</td>\n",
              "      <td>14426.164850</td>\n",
              "      <td>548599.0524</td>\n",
              "      <td>67422.36313</td>\n",
              "    </tr>\n",
              "    <tr>\n",
              "      <th>4</th>\n",
              "      <td>1</td>\n",
              "      <td>57.313749</td>\n",
              "      <td>59729.15130</td>\n",
              "      <td>5358.712177</td>\n",
              "      <td>560304.0671</td>\n",
              "      <td>55915.46248</td>\n",
              "    </tr>\n",
              "  </tbody>\n",
              "</table>\n",
              "</div>\n",
              "      <button class=\"colab-df-convert\" onclick=\"convertToInteractive('df-ea2ad089-7d8b-43a8-a715-e3b7b08d4999')\"\n",
              "              title=\"Convert this dataframe to an interactive table.\"\n",
              "              style=\"display:none;\">\n",
              "        \n",
              "  <svg xmlns=\"http://www.w3.org/2000/svg\" height=\"24px\"viewBox=\"0 0 24 24\"\n",
              "       width=\"24px\">\n",
              "    <path d=\"M0 0h24v24H0V0z\" fill=\"none\"/>\n",
              "    <path d=\"M18.56 5.44l.94 2.06.94-2.06 2.06-.94-2.06-.94-.94-2.06-.94 2.06-2.06.94zm-11 1L8.5 8.5l.94-2.06 2.06-.94-2.06-.94L8.5 2.5l-.94 2.06-2.06.94zm10 10l.94 2.06.94-2.06 2.06-.94-2.06-.94-.94-2.06-.94 2.06-2.06.94z\"/><path d=\"M17.41 7.96l-1.37-1.37c-.4-.4-.92-.59-1.43-.59-.52 0-1.04.2-1.43.59L10.3 9.45l-7.72 7.72c-.78.78-.78 2.05 0 2.83L4 21.41c.39.39.9.59 1.41.59.51 0 1.02-.2 1.41-.59l7.78-7.78 2.81-2.81c.8-.78.8-2.07 0-2.86zM5.41 20L4 18.59l7.72-7.72 1.47 1.35L5.41 20z\"/>\n",
              "  </svg>\n",
              "      </button>\n",
              "      \n",
              "  <style>\n",
              "    .colab-df-container {\n",
              "      display:flex;\n",
              "      flex-wrap:wrap;\n",
              "      gap: 12px;\n",
              "    }\n",
              "\n",
              "    .colab-df-convert {\n",
              "      background-color: #E8F0FE;\n",
              "      border: none;\n",
              "      border-radius: 50%;\n",
              "      cursor: pointer;\n",
              "      display: none;\n",
              "      fill: #1967D2;\n",
              "      height: 32px;\n",
              "      padding: 0 0 0 0;\n",
              "      width: 32px;\n",
              "    }\n",
              "\n",
              "    .colab-df-convert:hover {\n",
              "      background-color: #E2EBFA;\n",
              "      box-shadow: 0px 1px 2px rgba(60, 64, 67, 0.3), 0px 1px 3px 1px rgba(60, 64, 67, 0.15);\n",
              "      fill: #174EA6;\n",
              "    }\n",
              "\n",
              "    [theme=dark] .colab-df-convert {\n",
              "      background-color: #3B4455;\n",
              "      fill: #D2E3FC;\n",
              "    }\n",
              "\n",
              "    [theme=dark] .colab-df-convert:hover {\n",
              "      background-color: #434B5C;\n",
              "      box-shadow: 0px 1px 3px 1px rgba(0, 0, 0, 0.15);\n",
              "      filter: drop-shadow(0px 1px 2px rgba(0, 0, 0, 0.3));\n",
              "      fill: #FFFFFF;\n",
              "    }\n",
              "  </style>\n",
              "\n",
              "      <script>\n",
              "        const buttonEl =\n",
              "          document.querySelector('#df-ea2ad089-7d8b-43a8-a715-e3b7b08d4999 button.colab-df-convert');\n",
              "        buttonEl.style.display =\n",
              "          google.colab.kernel.accessAllowed ? 'block' : 'none';\n",
              "\n",
              "        async function convertToInteractive(key) {\n",
              "          const element = document.querySelector('#df-ea2ad089-7d8b-43a8-a715-e3b7b08d4999');\n",
              "          const dataTable =\n",
              "            await google.colab.kernel.invokeFunction('convertToInteractive',\n",
              "                                                     [key], {});\n",
              "          if (!dataTable) return;\n",
              "\n",
              "          const docLinkHtml = 'Like what you see? Visit the ' +\n",
              "            '<a target=\"_blank\" href=https://colab.research.google.com/notebooks/data_table.ipynb>data table notebook</a>'\n",
              "            + ' to learn more about interactive tables.';\n",
              "          element.innerHTML = '';\n",
              "          dataTable['output_type'] = 'display_data';\n",
              "          await google.colab.output.renderOutput(dataTable, element);\n",
              "          const docLink = document.createElement('div');\n",
              "          docLink.innerHTML = docLinkHtml;\n",
              "          element.appendChild(docLink);\n",
              "        }\n",
              "      </script>\n",
              "    </div>\n",
              "  </div>\n",
              "  "
            ]
          },
          "metadata": {},
          "execution_count": 10
        }
      ]
    },
    {
      "cell_type": "code",
      "source": [
        "car_price.dtypes"
      ],
      "metadata": {
        "colab": {
          "base_uri": "https://localhost:8080/"
        },
        "id": "GZ2dcCDBBPrm",
        "outputId": "16d7c066-65a1-4dff-eae9-b6468816db76"
      },
      "execution_count": 11,
      "outputs": [
        {
          "output_type": "execute_result",
          "data": {
            "text/plain": [
              "gender                   int64\n",
              "age                    float64\n",
              "annual Salary          float64\n",
              "credit card debt       float64\n",
              "net worth              float64\n",
              "car purchase amount    float64\n",
              "dtype: object"
            ]
          },
          "metadata": {},
          "execution_count": 11
        }
      ]
    },
    {
      "cell_type": "code",
      "source": [
        "#We can see that now only numerical data types are there "
      ],
      "metadata": {
        "id": "xh2tOHKZgHNA"
      },
      "execution_count": 50,
      "outputs": []
    },
    {
      "cell_type": "code",
      "source": [
        "#We can split in to X and Y "
      ],
      "metadata": {
        "id": "dij7IpEPgLw8"
      },
      "execution_count": 51,
      "outputs": []
    },
    {
      "cell_type": "code",
      "source": [
        "x=car_price.drop([\"car purchase amount\"],axis=1)\n",
        "y=car_price[\"car purchase amount\"]"
      ],
      "metadata": {
        "id": "mg6lJm_lBcLe"
      },
      "execution_count": 12,
      "outputs": []
    },
    {
      "cell_type": "code",
      "source": [
        "#We are doing the scaling as there is a wide spred of the data understood from the statistical summary"
      ],
      "metadata": {
        "id": "YYRyPcPEgOTm"
      },
      "execution_count": 52,
      "outputs": []
    },
    {
      "cell_type": "code",
      "source": [
        "from sklearn.preprocessing import MinMaxScaler\n",
        "scaler = MinMaxScaler()\n",
        "x = scaler.fit_transform(x)\n",
        "y=scaler.fit_transform(y.values.reshape(-1,1))"
      ],
      "metadata": {
        "id": "DnZyfGAFKT3D"
      },
      "execution_count": 13,
      "outputs": []
    },
    {
      "cell_type": "code",
      "source": [
        "#We are splitting the dataset in X train, X test , y train and y test "
      ],
      "metadata": {
        "id": "AilpcWtwgUIU"
      },
      "execution_count": 53,
      "outputs": []
    },
    {
      "cell_type": "code",
      "source": [
        "x_train,x_test,y_train,y_test=train_test_split(x,y,test_size=0.25,random_state=42)\n",
        "\n",
        "#from sklearn.preprocessing import StandardScaler\n",
        "\n",
        "#sc=StandardScaler()\n",
        "#x_train=sc.fit_transform(x_train)\n",
        "#x_test=sc.fit_transform(x_test)"
      ],
      "metadata": {
        "id": "mANc0zXhBoG2"
      },
      "execution_count": 14,
      "outputs": []
    },
    {
      "cell_type": "code",
      "source": [
        "#NOW we will do the modelling using the different hidden layers and see the difference in MSE "
      ],
      "metadata": {
        "id": "BVGOz9apgZqZ"
      },
      "execution_count": 54,
      "outputs": []
    },
    {
      "cell_type": "code",
      "source": [
        "#5 hidden layers and 64 neurons and epochs =100 - model 1"
      ],
      "metadata": {
        "id": "hdWHLgawExwt"
      },
      "execution_count": 55,
      "outputs": []
    },
    {
      "cell_type": "code",
      "source": [
        "classifier1=Sequential()\n",
        "#model : input layer , H1,H2,output layer\n",
        "#input layer\n",
        "classifier1.add(Dense(units=64,kernel_initializer=\"uniform\",activation=\"relu\",input_dim=5))\n",
        "classifier1.add(Dense(units=64,kernel_initializer=\"uniform\",activation=\"relu\"))\n",
        "classifier1.add(Dense(units=64,kernel_initializer=\"uniform\",activation=\"relu\"))\n",
        "classifier1.add(Dense(units=64,kernel_initializer=\"uniform\",activation=\"relu\"))\n",
        "classifier1.add(Dense(units=64,kernel_initializer=\"uniform\",activation=\"relu\"))\n",
        "classifier1.add(Dense(units=1,kernel_initializer=\"uniform\",activation=\"sigmoid\"))\n",
        "\n",
        "classifier1.compile(optimizer=\"adam\",loss='mean_squared_error',metrics=[\"mse\"])"
      ],
      "metadata": {
        "id": "fdBJZDskCDM9"
      },
      "execution_count": 16,
      "outputs": []
    },
    {
      "cell_type": "code",
      "source": [
        "history1 = classifier1.fit(x_train , y_train , epochs = 100, batch_size = 64,\n",
        "           validation_split = 0.2,verbose=1)"
      ],
      "metadata": {
        "colab": {
          "base_uri": "https://localhost:8080/"
        },
        "id": "aAmwZHCuFI9h",
        "outputId": "56d7ae6b-4cb9-431c-8f84-bf062bf8c160"
      },
      "execution_count": 17,
      "outputs": [
        {
          "output_type": "stream",
          "name": "stdout",
          "text": [
            "Epoch 1/100\n",
            "5/5 [==============================] - 3s 48ms/step - loss: 0.0246 - mse: 0.0246 - val_loss: 0.0196 - val_mse: 0.0196\n",
            "Epoch 2/100\n",
            "5/5 [==============================] - 0s 8ms/step - loss: 0.0246 - mse: 0.0246 - val_loss: 0.0196 - val_mse: 0.0196\n",
            "Epoch 3/100\n",
            "5/5 [==============================] - 0s 7ms/step - loss: 0.0246 - mse: 0.0246 - val_loss: 0.0196 - val_mse: 0.0196\n",
            "Epoch 4/100\n",
            "5/5 [==============================] - 0s 7ms/step - loss: 0.0246 - mse: 0.0246 - val_loss: 0.0196 - val_mse: 0.0196\n",
            "Epoch 5/100\n",
            "5/5 [==============================] - 0s 8ms/step - loss: 0.0246 - mse: 0.0246 - val_loss: 0.0196 - val_mse: 0.0196\n",
            "Epoch 6/100\n",
            "5/5 [==============================] - 0s 8ms/step - loss: 0.0246 - mse: 0.0246 - val_loss: 0.0196 - val_mse: 0.0196\n",
            "Epoch 7/100\n",
            "5/5 [==============================] - 0s 7ms/step - loss: 0.0246 - mse: 0.0246 - val_loss: 0.0195 - val_mse: 0.0195\n",
            "Epoch 8/100\n",
            "5/5 [==============================] - 0s 7ms/step - loss: 0.0245 - mse: 0.0245 - val_loss: 0.0195 - val_mse: 0.0195\n",
            "Epoch 9/100\n",
            "5/5 [==============================] - 0s 7ms/step - loss: 0.0245 - mse: 0.0245 - val_loss: 0.0195 - val_mse: 0.0195\n",
            "Epoch 10/100\n",
            "5/5 [==============================] - 0s 10ms/step - loss: 0.0245 - mse: 0.0245 - val_loss: 0.0195 - val_mse: 0.0195\n",
            "Epoch 11/100\n",
            "5/5 [==============================] - 0s 7ms/step - loss: 0.0245 - mse: 0.0245 - val_loss: 0.0195 - val_mse: 0.0195\n",
            "Epoch 12/100\n",
            "5/5 [==============================] - 0s 7ms/step - loss: 0.0245 - mse: 0.0245 - val_loss: 0.0195 - val_mse: 0.0195\n",
            "Epoch 13/100\n",
            "5/5 [==============================] - 0s 8ms/step - loss: 0.0245 - mse: 0.0245 - val_loss: 0.0195 - val_mse: 0.0195\n",
            "Epoch 14/100\n",
            "5/5 [==============================] - 0s 8ms/step - loss: 0.0245 - mse: 0.0245 - val_loss: 0.0195 - val_mse: 0.0195\n",
            "Epoch 15/100\n",
            "5/5 [==============================] - 0s 8ms/step - loss: 0.0245 - mse: 0.0245 - val_loss: 0.0195 - val_mse: 0.0195\n",
            "Epoch 16/100\n",
            "5/5 [==============================] - 0s 8ms/step - loss: 0.0245 - mse: 0.0245 - val_loss: 0.0194 - val_mse: 0.0194\n",
            "Epoch 17/100\n",
            "5/5 [==============================] - 0s 8ms/step - loss: 0.0245 - mse: 0.0245 - val_loss: 0.0193 - val_mse: 0.0193\n",
            "Epoch 18/100\n",
            "5/5 [==============================] - 0s 7ms/step - loss: 0.0243 - mse: 0.0243 - val_loss: 0.0191 - val_mse: 0.0191\n",
            "Epoch 19/100\n",
            "5/5 [==============================] - 0s 8ms/step - loss: 0.0239 - mse: 0.0239 - val_loss: 0.0183 - val_mse: 0.0183\n",
            "Epoch 20/100\n",
            "5/5 [==============================] - 0s 8ms/step - loss: 0.0228 - mse: 0.0228 - val_loss: 0.0168 - val_mse: 0.0168\n",
            "Epoch 21/100\n",
            "5/5 [==============================] - 0s 7ms/step - loss: 0.0207 - mse: 0.0207 - val_loss: 0.0139 - val_mse: 0.0139\n",
            "Epoch 22/100\n",
            "5/5 [==============================] - 0s 12ms/step - loss: 0.0166 - mse: 0.0166 - val_loss: 0.0102 - val_mse: 0.0102\n",
            "Epoch 23/100\n",
            "5/5 [==============================] - 0s 8ms/step - loss: 0.0124 - mse: 0.0124 - val_loss: 0.0073 - val_mse: 0.0073\n",
            "Epoch 24/100\n",
            "5/5 [==============================] - 0s 8ms/step - loss: 0.0090 - mse: 0.0090 - val_loss: 0.0054 - val_mse: 0.0054\n",
            "Epoch 25/100\n",
            "5/5 [==============================] - 0s 7ms/step - loss: 0.0067 - mse: 0.0067 - val_loss: 0.0039 - val_mse: 0.0039\n",
            "Epoch 26/100\n",
            "5/5 [==============================] - 0s 7ms/step - loss: 0.0043 - mse: 0.0043 - val_loss: 0.0042 - val_mse: 0.0042\n",
            "Epoch 27/100\n",
            "5/5 [==============================] - 0s 8ms/step - loss: 0.0035 - mse: 0.0035 - val_loss: 0.0023 - val_mse: 0.0023\n",
            "Epoch 28/100\n",
            "5/5 [==============================] - 0s 8ms/step - loss: 0.0018 - mse: 0.0018 - val_loss: 0.0021 - val_mse: 0.0021\n",
            "Epoch 29/100\n",
            "5/5 [==============================] - 0s 11ms/step - loss: 0.0011 - mse: 0.0011 - val_loss: 0.0019 - val_mse: 0.0019\n",
            "Epoch 30/100\n",
            "5/5 [==============================] - 0s 8ms/step - loss: 0.0010 - mse: 0.0010 - val_loss: 0.0012 - val_mse: 0.0012\n",
            "Epoch 31/100\n",
            "5/5 [==============================] - 0s 7ms/step - loss: 7.4853e-04 - mse: 7.4853e-04 - val_loss: 6.4020e-04 - val_mse: 6.4020e-04\n",
            "Epoch 32/100\n",
            "5/5 [==============================] - 0s 7ms/step - loss: 4.9913e-04 - mse: 4.9913e-04 - val_loss: 5.9917e-04 - val_mse: 5.9917e-04\n",
            "Epoch 33/100\n",
            "5/5 [==============================] - 0s 8ms/step - loss: 3.7325e-04 - mse: 3.7325e-04 - val_loss: 5.6729e-04 - val_mse: 5.6729e-04\n",
            "Epoch 34/100\n",
            "5/5 [==============================] - 0s 9ms/step - loss: 3.3236e-04 - mse: 3.3236e-04 - val_loss: 5.2047e-04 - val_mse: 5.2047e-04\n",
            "Epoch 35/100\n",
            "5/5 [==============================] - 0s 9ms/step - loss: 2.7594e-04 - mse: 2.7594e-04 - val_loss: 4.6824e-04 - val_mse: 4.6824e-04\n",
            "Epoch 36/100\n",
            "5/5 [==============================] - 0s 8ms/step - loss: 2.3659e-04 - mse: 2.3659e-04 - val_loss: 4.5145e-04 - val_mse: 4.5145e-04\n",
            "Epoch 37/100\n",
            "5/5 [==============================] - 0s 8ms/step - loss: 2.3650e-04 - mse: 2.3650e-04 - val_loss: 4.5772e-04 - val_mse: 4.5772e-04\n",
            "Epoch 38/100\n",
            "5/5 [==============================] - 0s 8ms/step - loss: 2.4364e-04 - mse: 2.4364e-04 - val_loss: 4.1517e-04 - val_mse: 4.1517e-04\n",
            "Epoch 39/100\n",
            "5/5 [==============================] - 0s 9ms/step - loss: 2.0761e-04 - mse: 2.0761e-04 - val_loss: 4.0173e-04 - val_mse: 4.0173e-04\n",
            "Epoch 40/100\n",
            "5/5 [==============================] - 0s 8ms/step - loss: 1.9116e-04 - mse: 1.9116e-04 - val_loss: 3.9302e-04 - val_mse: 3.9302e-04\n",
            "Epoch 41/100\n",
            "5/5 [==============================] - 0s 8ms/step - loss: 1.8612e-04 - mse: 1.8612e-04 - val_loss: 3.8552e-04 - val_mse: 3.8552e-04\n",
            "Epoch 42/100\n",
            "5/5 [==============================] - 0s 8ms/step - loss: 1.7638e-04 - mse: 1.7638e-04 - val_loss: 3.8004e-04 - val_mse: 3.8004e-04\n",
            "Epoch 43/100\n",
            "5/5 [==============================] - 0s 8ms/step - loss: 1.7318e-04 - mse: 1.7318e-04 - val_loss: 3.6084e-04 - val_mse: 3.6084e-04\n",
            "Epoch 44/100\n",
            "5/5 [==============================] - 0s 7ms/step - loss: 1.6766e-04 - mse: 1.6766e-04 - val_loss: 3.5292e-04 - val_mse: 3.5292e-04\n",
            "Epoch 45/100\n",
            "5/5 [==============================] - 0s 8ms/step - loss: 1.6519e-04 - mse: 1.6519e-04 - val_loss: 3.5741e-04 - val_mse: 3.5741e-04\n",
            "Epoch 46/100\n",
            "5/5 [==============================] - 0s 8ms/step - loss: 1.7349e-04 - mse: 1.7349e-04 - val_loss: 3.4904e-04 - val_mse: 3.4904e-04\n",
            "Epoch 47/100\n",
            "5/5 [==============================] - 0s 9ms/step - loss: 1.6310e-04 - mse: 1.6310e-04 - val_loss: 3.2811e-04 - val_mse: 3.2811e-04\n",
            "Epoch 48/100\n",
            "5/5 [==============================] - 0s 8ms/step - loss: 1.5213e-04 - mse: 1.5213e-04 - val_loss: 3.2697e-04 - val_mse: 3.2697e-04\n",
            "Epoch 49/100\n",
            "5/5 [==============================] - 0s 7ms/step - loss: 1.5832e-04 - mse: 1.5832e-04 - val_loss: 3.1666e-04 - val_mse: 3.1666e-04\n",
            "Epoch 50/100\n",
            "5/5 [==============================] - 0s 8ms/step - loss: 1.5552e-04 - mse: 1.5552e-04 - val_loss: 3.2130e-04 - val_mse: 3.2130e-04\n",
            "Epoch 51/100\n",
            "5/5 [==============================] - 0s 8ms/step - loss: 1.4828e-04 - mse: 1.4828e-04 - val_loss: 3.1731e-04 - val_mse: 3.1731e-04\n",
            "Epoch 52/100\n",
            "5/5 [==============================] - 0s 9ms/step - loss: 1.4567e-04 - mse: 1.4567e-04 - val_loss: 3.0039e-04 - val_mse: 3.0039e-04\n",
            "Epoch 53/100\n",
            "5/5 [==============================] - 0s 8ms/step - loss: 1.4372e-04 - mse: 1.4372e-04 - val_loss: 2.9399e-04 - val_mse: 2.9399e-04\n",
            "Epoch 54/100\n",
            "5/5 [==============================] - 0s 7ms/step - loss: 1.3387e-04 - mse: 1.3387e-04 - val_loss: 2.8881e-04 - val_mse: 2.8881e-04\n",
            "Epoch 55/100\n",
            "5/5 [==============================] - 0s 8ms/step - loss: 1.3301e-04 - mse: 1.3301e-04 - val_loss: 2.8651e-04 - val_mse: 2.8651e-04\n",
            "Epoch 56/100\n",
            "5/5 [==============================] - 0s 9ms/step - loss: 1.2690e-04 - mse: 1.2690e-04 - val_loss: 2.8453e-04 - val_mse: 2.8453e-04\n",
            "Epoch 57/100\n",
            "5/5 [==============================] - 0s 8ms/step - loss: 1.3065e-04 - mse: 1.3065e-04 - val_loss: 2.8271e-04 - val_mse: 2.8271e-04\n",
            "Epoch 58/100\n",
            "5/5 [==============================] - 0s 8ms/step - loss: 1.2556e-04 - mse: 1.2556e-04 - val_loss: 2.7658e-04 - val_mse: 2.7658e-04\n",
            "Epoch 59/100\n",
            "5/5 [==============================] - 0s 8ms/step - loss: 1.2315e-04 - mse: 1.2315e-04 - val_loss: 2.7347e-04 - val_mse: 2.7347e-04\n",
            "Epoch 60/100\n",
            "5/5 [==============================] - 0s 8ms/step - loss: 1.1788e-04 - mse: 1.1788e-04 - val_loss: 2.6759e-04 - val_mse: 2.6759e-04\n",
            "Epoch 61/100\n",
            "5/5 [==============================] - 0s 8ms/step - loss: 1.1650e-04 - mse: 1.1650e-04 - val_loss: 2.6340e-04 - val_mse: 2.6340e-04\n",
            "Epoch 62/100\n",
            "5/5 [==============================] - 0s 8ms/step - loss: 1.1669e-04 - mse: 1.1669e-04 - val_loss: 2.6505e-04 - val_mse: 2.6505e-04\n",
            "Epoch 63/100\n",
            "5/5 [==============================] - 0s 8ms/step - loss: 1.1615e-04 - mse: 1.1615e-04 - val_loss: 2.5229e-04 - val_mse: 2.5229e-04\n",
            "Epoch 64/100\n",
            "5/5 [==============================] - 0s 9ms/step - loss: 1.0761e-04 - mse: 1.0761e-04 - val_loss: 2.8155e-04 - val_mse: 2.8155e-04\n",
            "Epoch 65/100\n",
            "5/5 [==============================] - 0s 8ms/step - loss: 1.1747e-04 - mse: 1.1747e-04 - val_loss: 2.4470e-04 - val_mse: 2.4470e-04\n",
            "Epoch 66/100\n",
            "5/5 [==============================] - 0s 8ms/step - loss: 1.0520e-04 - mse: 1.0520e-04 - val_loss: 2.8042e-04 - val_mse: 2.8042e-04\n",
            "Epoch 67/100\n",
            "5/5 [==============================] - 0s 7ms/step - loss: 1.2238e-04 - mse: 1.2238e-04 - val_loss: 2.3622e-04 - val_mse: 2.3622e-04\n",
            "Epoch 68/100\n",
            "5/5 [==============================] - 0s 7ms/step - loss: 1.0768e-04 - mse: 1.0768e-04 - val_loss: 2.7571e-04 - val_mse: 2.7571e-04\n",
            "Epoch 69/100\n",
            "5/5 [==============================] - 0s 8ms/step - loss: 1.1265e-04 - mse: 1.1265e-04 - val_loss: 2.2667e-04 - val_mse: 2.2667e-04\n",
            "Epoch 70/100\n",
            "5/5 [==============================] - 0s 8ms/step - loss: 9.9370e-05 - mse: 9.9370e-05 - val_loss: 2.4481e-04 - val_mse: 2.4481e-04\n",
            "Epoch 71/100\n",
            "5/5 [==============================] - 0s 10ms/step - loss: 9.4240e-05 - mse: 9.4240e-05 - val_loss: 2.2003e-04 - val_mse: 2.2003e-04\n",
            "Epoch 72/100\n",
            "5/5 [==============================] - 0s 8ms/step - loss: 8.7066e-05 - mse: 8.7066e-05 - val_loss: 2.1509e-04 - val_mse: 2.1509e-04\n",
            "Epoch 73/100\n",
            "5/5 [==============================] - 0s 8ms/step - loss: 8.4127e-05 - mse: 8.4127e-05 - val_loss: 2.2253e-04 - val_mse: 2.2253e-04\n",
            "Epoch 74/100\n",
            "5/5 [==============================] - 0s 8ms/step - loss: 8.4432e-05 - mse: 8.4432e-05 - val_loss: 2.0941e-04 - val_mse: 2.0941e-04\n",
            "Epoch 75/100\n",
            "5/5 [==============================] - 0s 9ms/step - loss: 7.9846e-05 - mse: 7.9846e-05 - val_loss: 2.0763e-04 - val_mse: 2.0763e-04\n",
            "Epoch 76/100\n",
            "5/5 [==============================] - 0s 10ms/step - loss: 8.0436e-05 - mse: 8.0436e-05 - val_loss: 2.0007e-04 - val_mse: 2.0007e-04\n",
            "Epoch 77/100\n",
            "5/5 [==============================] - 0s 8ms/step - loss: 7.4027e-05 - mse: 7.4027e-05 - val_loss: 1.9932e-04 - val_mse: 1.9932e-04\n",
            "Epoch 78/100\n",
            "5/5 [==============================] - 0s 7ms/step - loss: 8.0500e-05 - mse: 8.0500e-05 - val_loss: 2.1194e-04 - val_mse: 2.1194e-04\n",
            "Epoch 79/100\n",
            "5/5 [==============================] - 0s 8ms/step - loss: 8.0483e-05 - mse: 8.0483e-05 - val_loss: 1.9726e-04 - val_mse: 1.9726e-04\n",
            "Epoch 80/100\n",
            "5/5 [==============================] - 0s 10ms/step - loss: 7.7445e-05 - mse: 7.7445e-05 - val_loss: 1.8935e-04 - val_mse: 1.8935e-04\n",
            "Epoch 81/100\n",
            "5/5 [==============================] - 0s 8ms/step - loss: 7.9386e-05 - mse: 7.9386e-05 - val_loss: 1.9470e-04 - val_mse: 1.9470e-04\n",
            "Epoch 82/100\n",
            "5/5 [==============================] - 0s 12ms/step - loss: 8.7655e-05 - mse: 8.7655e-05 - val_loss: 1.8724e-04 - val_mse: 1.8724e-04\n",
            "Epoch 83/100\n",
            "5/5 [==============================] - 0s 8ms/step - loss: 6.6463e-05 - mse: 6.6463e-05 - val_loss: 1.8636e-04 - val_mse: 1.8636e-04\n",
            "Epoch 84/100\n",
            "5/5 [==============================] - 0s 8ms/step - loss: 6.5146e-05 - mse: 6.5146e-05 - val_loss: 1.7996e-04 - val_mse: 1.7996e-04\n",
            "Epoch 85/100\n",
            "5/5 [==============================] - 0s 7ms/step - loss: 6.1043e-05 - mse: 6.1043e-05 - val_loss: 1.7859e-04 - val_mse: 1.7859e-04\n",
            "Epoch 86/100\n",
            "5/5 [==============================] - 0s 8ms/step - loss: 6.2044e-05 - mse: 6.2044e-05 - val_loss: 1.7206e-04 - val_mse: 1.7206e-04\n",
            "Epoch 87/100\n",
            "5/5 [==============================] - 0s 7ms/step - loss: 5.7719e-05 - mse: 5.7719e-05 - val_loss: 1.7804e-04 - val_mse: 1.7804e-04\n",
            "Epoch 88/100\n",
            "5/5 [==============================] - 0s 10ms/step - loss: 6.0651e-05 - mse: 6.0651e-05 - val_loss: 1.6649e-04 - val_mse: 1.6649e-04\n",
            "Epoch 89/100\n",
            "5/5 [==============================] - 0s 7ms/step - loss: 5.4482e-05 - mse: 5.4482e-05 - val_loss: 1.7080e-04 - val_mse: 1.7080e-04\n",
            "Epoch 90/100\n",
            "5/5 [==============================] - 0s 7ms/step - loss: 5.5435e-05 - mse: 5.5435e-05 - val_loss: 1.6098e-04 - val_mse: 1.6098e-04\n",
            "Epoch 91/100\n",
            "5/5 [==============================] - 0s 7ms/step - loss: 5.8525e-05 - mse: 5.8525e-05 - val_loss: 1.6221e-04 - val_mse: 1.6221e-04\n",
            "Epoch 92/100\n",
            "5/5 [==============================] - 0s 8ms/step - loss: 5.4984e-05 - mse: 5.4984e-05 - val_loss: 1.6787e-04 - val_mse: 1.6787e-04\n",
            "Epoch 93/100\n",
            "5/5 [==============================] - 0s 9ms/step - loss: 5.4897e-05 - mse: 5.4897e-05 - val_loss: 1.5374e-04 - val_mse: 1.5374e-04\n",
            "Epoch 94/100\n",
            "5/5 [==============================] - 0s 7ms/step - loss: 6.5954e-05 - mse: 6.5954e-05 - val_loss: 1.5403e-04 - val_mse: 1.5403e-04\n",
            "Epoch 95/100\n",
            "5/5 [==============================] - 0s 8ms/step - loss: 5.5428e-05 - mse: 5.5428e-05 - val_loss: 1.5204e-04 - val_mse: 1.5204e-04\n",
            "Epoch 96/100\n",
            "5/5 [==============================] - 0s 8ms/step - loss: 4.7942e-05 - mse: 4.7942e-05 - val_loss: 1.6950e-04 - val_mse: 1.6950e-04\n",
            "Epoch 97/100\n",
            "5/5 [==============================] - 0s 9ms/step - loss: 4.8900e-05 - mse: 4.8900e-05 - val_loss: 1.4868e-04 - val_mse: 1.4868e-04\n",
            "Epoch 98/100\n",
            "5/5 [==============================] - 0s 8ms/step - loss: 4.7441e-05 - mse: 4.7441e-05 - val_loss: 1.5474e-04 - val_mse: 1.5474e-04\n",
            "Epoch 99/100\n",
            "5/5 [==============================] - 0s 8ms/step - loss: 5.2562e-05 - mse: 5.2562e-05 - val_loss: 1.4412e-04 - val_mse: 1.4412e-04\n",
            "Epoch 100/100\n",
            "5/5 [==============================] - 0s 8ms/step - loss: 4.5942e-05 - mse: 4.5942e-05 - val_loss: 1.4177e-04 - val_mse: 1.4177e-04\n"
          ]
        }
      ]
    },
    {
      "cell_type": "code",
      "source": [
        "#3 hidden layers and epochs 100 , neurons = 64 - model 2 "
      ],
      "metadata": {
        "id": "7S_AKXnSF4aE"
      },
      "execution_count": 56,
      "outputs": []
    },
    {
      "cell_type": "code",
      "source": [
        "classifier2=Sequential()\n",
        "\n",
        "\n",
        "classifier2.add(Dense(units=64,kernel_initializer=\"uniform\",activation=\"relu\",input_dim=5))\n",
        "classifier2.add(Dense(units=64,kernel_initializer=\"uniform\",activation=\"relu\"))\n",
        "classifier2.add(Dense(units=64,kernel_initializer=\"uniform\",activation=\"relu\"))\n",
        "classifier2.add(Dense(units=1,kernel_initializer=\"uniform\",activation=\"sigmoid\"))\n",
        "\n",
        "classifier2.compile(optimizer=\"adam\",loss='mean_squared_error',metrics=[\"mse\"])"
      ],
      "metadata": {
        "id": "gI419sgNF44f"
      },
      "execution_count": 19,
      "outputs": []
    },
    {
      "cell_type": "code",
      "source": [
        "history2 = classifier2.fit(x_train , y_train , epochs = 100, batch_size = 64,\n",
        "           validation_split = 0.2,verbose=1)"
      ],
      "metadata": {
        "colab": {
          "base_uri": "https://localhost:8080/"
        },
        "id": "UHw1Wpi8GJ-7",
        "outputId": "19a6a5c5-069e-4a8b-e53e-d6d773141d0e"
      },
      "execution_count": 20,
      "outputs": [
        {
          "output_type": "stream",
          "name": "stdout",
          "text": [
            "Epoch 1/100\n",
            "5/5 [==============================] - 0s 35ms/step - loss: 0.0246 - mse: 0.0246 - val_loss: 0.0196 - val_mse: 0.0196\n",
            "Epoch 2/100\n",
            "5/5 [==============================] - 0s 8ms/step - loss: 0.0246 - mse: 0.0246 - val_loss: 0.0196 - val_mse: 0.0196\n",
            "Epoch 3/100\n",
            "5/5 [==============================] - 0s 8ms/step - loss: 0.0246 - mse: 0.0246 - val_loss: 0.0196 - val_mse: 0.0196\n",
            "Epoch 4/100\n",
            "5/5 [==============================] - 0s 8ms/step - loss: 0.0245 - mse: 0.0245 - val_loss: 0.0195 - val_mse: 0.0195\n",
            "Epoch 5/100\n",
            "5/5 [==============================] - 0s 7ms/step - loss: 0.0245 - mse: 0.0245 - val_loss: 0.0195 - val_mse: 0.0195\n",
            "Epoch 6/100\n",
            "5/5 [==============================] - 0s 7ms/step - loss: 0.0244 - mse: 0.0244 - val_loss: 0.0193 - val_mse: 0.0193\n",
            "Epoch 7/100\n",
            "5/5 [==============================] - 0s 7ms/step - loss: 0.0242 - mse: 0.0242 - val_loss: 0.0192 - val_mse: 0.0192\n",
            "Epoch 8/100\n",
            "5/5 [==============================] - 0s 7ms/step - loss: 0.0240 - mse: 0.0240 - val_loss: 0.0188 - val_mse: 0.0188\n",
            "Epoch 9/100\n",
            "5/5 [==============================] - 0s 7ms/step - loss: 0.0236 - mse: 0.0236 - val_loss: 0.0184 - val_mse: 0.0184\n",
            "Epoch 10/100\n",
            "5/5 [==============================] - 0s 7ms/step - loss: 0.0230 - mse: 0.0230 - val_loss: 0.0176 - val_mse: 0.0176\n",
            "Epoch 11/100\n",
            "5/5 [==============================] - 0s 9ms/step - loss: 0.0220 - mse: 0.0220 - val_loss: 0.0166 - val_mse: 0.0166\n",
            "Epoch 12/100\n",
            "5/5 [==============================] - 0s 8ms/step - loss: 0.0207 - mse: 0.0207 - val_loss: 0.0153 - val_mse: 0.0153\n",
            "Epoch 13/100\n",
            "5/5 [==============================] - 0s 7ms/step - loss: 0.0189 - mse: 0.0189 - val_loss: 0.0135 - val_mse: 0.0135\n",
            "Epoch 14/100\n",
            "5/5 [==============================] - 0s 7ms/step - loss: 0.0166 - mse: 0.0166 - val_loss: 0.0114 - val_mse: 0.0114\n",
            "Epoch 15/100\n",
            "5/5 [==============================] - 0s 9ms/step - loss: 0.0136 - mse: 0.0136 - val_loss: 0.0089 - val_mse: 0.0089\n",
            "Epoch 16/100\n",
            "5/5 [==============================] - 0s 7ms/step - loss: 0.0104 - mse: 0.0104 - val_loss: 0.0064 - val_mse: 0.0064\n",
            "Epoch 17/100\n",
            "5/5 [==============================] - 0s 9ms/step - loss: 0.0072 - mse: 0.0072 - val_loss: 0.0046 - val_mse: 0.0046\n",
            "Epoch 18/100\n",
            "5/5 [==============================] - 0s 12ms/step - loss: 0.0045 - mse: 0.0045 - val_loss: 0.0029 - val_mse: 0.0029\n",
            "Epoch 19/100\n",
            "5/5 [==============================] - 0s 7ms/step - loss: 0.0026 - mse: 0.0026 - val_loss: 0.0019 - val_mse: 0.0019\n",
            "Epoch 20/100\n",
            "5/5 [==============================] - 0s 7ms/step - loss: 0.0015 - mse: 0.0015 - val_loss: 0.0022 - val_mse: 0.0022\n",
            "Epoch 21/100\n",
            "5/5 [==============================] - 0s 7ms/step - loss: 0.0013 - mse: 0.0013 - val_loss: 0.0012 - val_mse: 0.0012\n",
            "Epoch 22/100\n",
            "5/5 [==============================] - 0s 7ms/step - loss: 9.2676e-04 - mse: 9.2676e-04 - val_loss: 0.0013 - val_mse: 0.0013\n",
            "Epoch 23/100\n",
            "5/5 [==============================] - 0s 7ms/step - loss: 6.7809e-04 - mse: 6.7809e-04 - val_loss: 8.0744e-04 - val_mse: 8.0744e-04\n",
            "Epoch 24/100\n",
            "5/5 [==============================] - 0s 9ms/step - loss: 5.4166e-04 - mse: 5.4166e-04 - val_loss: 7.7326e-04 - val_mse: 7.7326e-04\n",
            "Epoch 25/100\n",
            "5/5 [==============================] - 0s 7ms/step - loss: 4.0284e-04 - mse: 4.0284e-04 - val_loss: 5.8955e-04 - val_mse: 5.8955e-04\n",
            "Epoch 26/100\n",
            "5/5 [==============================] - 0s 8ms/step - loss: 3.6004e-04 - mse: 3.6004e-04 - val_loss: 6.6686e-04 - val_mse: 6.6686e-04\n",
            "Epoch 27/100\n",
            "5/5 [==============================] - 0s 8ms/step - loss: 3.5786e-04 - mse: 3.5786e-04 - val_loss: 5.0446e-04 - val_mse: 5.0446e-04\n",
            "Epoch 28/100\n",
            "5/5 [==============================] - 0s 9ms/step - loss: 2.9747e-04 - mse: 2.9747e-04 - val_loss: 5.3563e-04 - val_mse: 5.3563e-04\n",
            "Epoch 29/100\n",
            "5/5 [==============================] - 0s 8ms/step - loss: 2.8173e-04 - mse: 2.8173e-04 - val_loss: 4.4380e-04 - val_mse: 4.4380e-04\n",
            "Epoch 30/100\n",
            "5/5 [==============================] - 0s 8ms/step - loss: 2.4287e-04 - mse: 2.4287e-04 - val_loss: 4.6550e-04 - val_mse: 4.6550e-04\n",
            "Epoch 31/100\n",
            "5/5 [==============================] - 0s 8ms/step - loss: 2.2437e-04 - mse: 2.2437e-04 - val_loss: 4.1592e-04 - val_mse: 4.1592e-04\n",
            "Epoch 32/100\n",
            "5/5 [==============================] - 0s 8ms/step - loss: 2.0911e-04 - mse: 2.0911e-04 - val_loss: 4.1267e-04 - val_mse: 4.1267e-04\n",
            "Epoch 33/100\n",
            "5/5 [==============================] - 0s 7ms/step - loss: 1.9673e-04 - mse: 1.9673e-04 - val_loss: 3.9149e-04 - val_mse: 3.9149e-04\n",
            "Epoch 34/100\n",
            "5/5 [==============================] - 0s 7ms/step - loss: 1.8746e-04 - mse: 1.8746e-04 - val_loss: 3.7927e-04 - val_mse: 3.7927e-04\n",
            "Epoch 35/100\n",
            "5/5 [==============================] - 0s 7ms/step - loss: 1.8286e-04 - mse: 1.8286e-04 - val_loss: 3.6792e-04 - val_mse: 3.6792e-04\n",
            "Epoch 36/100\n",
            "5/5 [==============================] - 0s 7ms/step - loss: 1.7400e-04 - mse: 1.7400e-04 - val_loss: 3.5804e-04 - val_mse: 3.5804e-04\n",
            "Epoch 37/100\n",
            "5/5 [==============================] - 0s 8ms/step - loss: 1.6882e-04 - mse: 1.6882e-04 - val_loss: 3.4974e-04 - val_mse: 3.4974e-04\n",
            "Epoch 38/100\n",
            "5/5 [==============================] - 0s 7ms/step - loss: 1.6612e-04 - mse: 1.6612e-04 - val_loss: 3.4485e-04 - val_mse: 3.4485e-04\n",
            "Epoch 39/100\n",
            "5/5 [==============================] - 0s 9ms/step - loss: 1.6895e-04 - mse: 1.6895e-04 - val_loss: 3.6614e-04 - val_mse: 3.6614e-04\n",
            "Epoch 40/100\n",
            "5/5 [==============================] - 0s 8ms/step - loss: 1.7526e-04 - mse: 1.7526e-04 - val_loss: 3.5494e-04 - val_mse: 3.5494e-04\n",
            "Epoch 41/100\n",
            "5/5 [==============================] - 0s 9ms/step - loss: 1.7197e-04 - mse: 1.7197e-04 - val_loss: 3.3304e-04 - val_mse: 3.3304e-04\n",
            "Epoch 42/100\n",
            "5/5 [==============================] - 0s 8ms/step - loss: 1.6819e-04 - mse: 1.6819e-04 - val_loss: 3.2071e-04 - val_mse: 3.2071e-04\n",
            "Epoch 43/100\n",
            "5/5 [==============================] - 0s 8ms/step - loss: 1.5963e-04 - mse: 1.5963e-04 - val_loss: 3.1770e-04 - val_mse: 3.1770e-04\n",
            "Epoch 44/100\n",
            "5/5 [==============================] - 0s 8ms/step - loss: 1.5085e-04 - mse: 1.5085e-04 - val_loss: 3.2541e-04 - val_mse: 3.2541e-04\n",
            "Epoch 45/100\n",
            "5/5 [==============================] - 0s 8ms/step - loss: 1.4434e-04 - mse: 1.4434e-04 - val_loss: 3.0673e-04 - val_mse: 3.0673e-04\n",
            "Epoch 46/100\n",
            "5/5 [==============================] - 0s 8ms/step - loss: 1.4240e-04 - mse: 1.4240e-04 - val_loss: 3.2539e-04 - val_mse: 3.2539e-04\n",
            "Epoch 47/100\n",
            "5/5 [==============================] - 0s 8ms/step - loss: 1.4240e-04 - mse: 1.4240e-04 - val_loss: 3.0770e-04 - val_mse: 3.0770e-04\n",
            "Epoch 48/100\n",
            "5/5 [==============================] - 0s 12ms/step - loss: 1.3880e-04 - mse: 1.3880e-04 - val_loss: 3.0496e-04 - val_mse: 3.0496e-04\n",
            "Epoch 49/100\n",
            "5/5 [==============================] - 0s 7ms/step - loss: 1.3536e-04 - mse: 1.3536e-04 - val_loss: 2.9365e-04 - val_mse: 2.9365e-04\n",
            "Epoch 50/100\n",
            "5/5 [==============================] - 0s 7ms/step - loss: 1.3377e-04 - mse: 1.3377e-04 - val_loss: 2.9846e-04 - val_mse: 2.9846e-04\n",
            "Epoch 51/100\n",
            "5/5 [==============================] - 0s 8ms/step - loss: 1.3470e-04 - mse: 1.3470e-04 - val_loss: 2.9070e-04 - val_mse: 2.9070e-04\n",
            "Epoch 52/100\n",
            "5/5 [==============================] - 0s 8ms/step - loss: 1.3396e-04 - mse: 1.3396e-04 - val_loss: 2.8844e-04 - val_mse: 2.8844e-04\n",
            "Epoch 53/100\n",
            "5/5 [==============================] - 0s 10ms/step - loss: 1.3869e-04 - mse: 1.3869e-04 - val_loss: 2.8783e-04 - val_mse: 2.8783e-04\n",
            "Epoch 54/100\n",
            "5/5 [==============================] - 0s 8ms/step - loss: 1.3515e-04 - mse: 1.3515e-04 - val_loss: 2.8777e-04 - val_mse: 2.8777e-04\n",
            "Epoch 55/100\n",
            "5/5 [==============================] - 0s 8ms/step - loss: 1.3022e-04 - mse: 1.3022e-04 - val_loss: 2.7950e-04 - val_mse: 2.7950e-04\n",
            "Epoch 56/100\n",
            "5/5 [==============================] - 0s 8ms/step - loss: 1.2654e-04 - mse: 1.2654e-04 - val_loss: 2.8028e-04 - val_mse: 2.8028e-04\n",
            "Epoch 57/100\n",
            "5/5 [==============================] - 0s 8ms/step - loss: 1.2698e-04 - mse: 1.2698e-04 - val_loss: 2.7769e-04 - val_mse: 2.7769e-04\n",
            "Epoch 58/100\n",
            "5/5 [==============================] - 0s 7ms/step - loss: 1.2701e-04 - mse: 1.2701e-04 - val_loss: 2.7666e-04 - val_mse: 2.7666e-04\n",
            "Epoch 59/100\n",
            "5/5 [==============================] - 0s 7ms/step - loss: 1.2676e-04 - mse: 1.2676e-04 - val_loss: 2.7622e-04 - val_mse: 2.7622e-04\n",
            "Epoch 60/100\n",
            "5/5 [==============================] - 0s 7ms/step - loss: 1.2802e-04 - mse: 1.2802e-04 - val_loss: 2.7510e-04 - val_mse: 2.7510e-04\n",
            "Epoch 61/100\n",
            "5/5 [==============================] - 0s 8ms/step - loss: 1.3000e-04 - mse: 1.3000e-04 - val_loss: 2.7496e-04 - val_mse: 2.7496e-04\n",
            "Epoch 62/100\n",
            "5/5 [==============================] - 0s 9ms/step - loss: 1.2947e-04 - mse: 1.2947e-04 - val_loss: 2.7547e-04 - val_mse: 2.7547e-04\n",
            "Epoch 63/100\n",
            "5/5 [==============================] - 0s 8ms/step - loss: 1.2492e-04 - mse: 1.2492e-04 - val_loss: 2.6712e-04 - val_mse: 2.6712e-04\n",
            "Epoch 64/100\n",
            "5/5 [==============================] - 0s 9ms/step - loss: 1.2167e-04 - mse: 1.2167e-04 - val_loss: 2.7020e-04 - val_mse: 2.7020e-04\n",
            "Epoch 65/100\n",
            "5/5 [==============================] - 0s 8ms/step - loss: 1.2128e-04 - mse: 1.2128e-04 - val_loss: 2.6555e-04 - val_mse: 2.6555e-04\n",
            "Epoch 66/100\n",
            "5/5 [==============================] - 0s 8ms/step - loss: 1.2587e-04 - mse: 1.2587e-04 - val_loss: 2.7848e-04 - val_mse: 2.7848e-04\n",
            "Epoch 67/100\n",
            "5/5 [==============================] - 0s 8ms/step - loss: 1.2212e-04 - mse: 1.2212e-04 - val_loss: 2.6311e-04 - val_mse: 2.6311e-04\n",
            "Epoch 68/100\n",
            "5/5 [==============================] - 0s 8ms/step - loss: 1.1766e-04 - mse: 1.1766e-04 - val_loss: 2.6486e-04 - val_mse: 2.6486e-04\n",
            "Epoch 69/100\n",
            "5/5 [==============================] - 0s 8ms/step - loss: 1.2003e-04 - mse: 1.2003e-04 - val_loss: 2.6468e-04 - val_mse: 2.6468e-04\n",
            "Epoch 70/100\n",
            "5/5 [==============================] - 0s 8ms/step - loss: 1.1908e-04 - mse: 1.1908e-04 - val_loss: 2.5914e-04 - val_mse: 2.5914e-04\n",
            "Epoch 71/100\n",
            "5/5 [==============================] - 0s 7ms/step - loss: 1.1589e-04 - mse: 1.1589e-04 - val_loss: 2.6183e-04 - val_mse: 2.6183e-04\n",
            "Epoch 72/100\n",
            "5/5 [==============================] - 0s 7ms/step - loss: 1.1541e-04 - mse: 1.1541e-04 - val_loss: 2.5816e-04 - val_mse: 2.5816e-04\n",
            "Epoch 73/100\n",
            "5/5 [==============================] - 0s 7ms/step - loss: 1.2076e-04 - mse: 1.2076e-04 - val_loss: 2.6137e-04 - val_mse: 2.6137e-04\n",
            "Epoch 74/100\n",
            "5/5 [==============================] - 0s 8ms/step - loss: 1.1709e-04 - mse: 1.1709e-04 - val_loss: 2.5684e-04 - val_mse: 2.5684e-04\n",
            "Epoch 75/100\n",
            "5/5 [==============================] - 0s 11ms/step - loss: 1.1437e-04 - mse: 1.1437e-04 - val_loss: 2.6362e-04 - val_mse: 2.6362e-04\n",
            "Epoch 76/100\n",
            "5/5 [==============================] - 0s 9ms/step - loss: 1.1587e-04 - mse: 1.1587e-04 - val_loss: 2.5791e-04 - val_mse: 2.5791e-04\n",
            "Epoch 77/100\n",
            "5/5 [==============================] - 0s 8ms/step - loss: 1.1414e-04 - mse: 1.1414e-04 - val_loss: 2.6400e-04 - val_mse: 2.6400e-04\n",
            "Epoch 78/100\n",
            "5/5 [==============================] - 0s 11ms/step - loss: 1.2190e-04 - mse: 1.2190e-04 - val_loss: 2.7155e-04 - val_mse: 2.7155e-04\n",
            "Epoch 79/100\n",
            "5/5 [==============================] - 0s 8ms/step - loss: 1.2596e-04 - mse: 1.2596e-04 - val_loss: 2.5213e-04 - val_mse: 2.5213e-04\n",
            "Epoch 80/100\n",
            "5/5 [==============================] - 0s 8ms/step - loss: 1.2519e-04 - mse: 1.2519e-04 - val_loss: 2.6264e-04 - val_mse: 2.6264e-04\n",
            "Epoch 81/100\n",
            "5/5 [==============================] - 0s 8ms/step - loss: 1.1616e-04 - mse: 1.1616e-04 - val_loss: 2.5759e-04 - val_mse: 2.5759e-04\n",
            "Epoch 82/100\n",
            "5/5 [==============================] - 0s 8ms/step - loss: 1.1186e-04 - mse: 1.1186e-04 - val_loss: 2.5108e-04 - val_mse: 2.5108e-04\n",
            "Epoch 83/100\n",
            "5/5 [==============================] - 0s 8ms/step - loss: 1.1434e-04 - mse: 1.1434e-04 - val_loss: 2.6975e-04 - val_mse: 2.6975e-04\n",
            "Epoch 84/100\n",
            "5/5 [==============================] - 0s 7ms/step - loss: 1.1390e-04 - mse: 1.1390e-04 - val_loss: 2.6496e-04 - val_mse: 2.6496e-04\n",
            "Epoch 85/100\n",
            "5/5 [==============================] - 0s 7ms/step - loss: 1.2289e-04 - mse: 1.2289e-04 - val_loss: 2.5184e-04 - val_mse: 2.5184e-04\n",
            "Epoch 86/100\n",
            "5/5 [==============================] - 0s 9ms/step - loss: 1.1178e-04 - mse: 1.1178e-04 - val_loss: 2.5173e-04 - val_mse: 2.5173e-04\n",
            "Epoch 87/100\n",
            "5/5 [==============================] - 0s 8ms/step - loss: 1.1500e-04 - mse: 1.1500e-04 - val_loss: 2.7873e-04 - val_mse: 2.7873e-04\n",
            "Epoch 88/100\n",
            "5/5 [==============================] - 0s 8ms/step - loss: 1.1849e-04 - mse: 1.1849e-04 - val_loss: 3.0019e-04 - val_mse: 3.0019e-04\n",
            "Epoch 89/100\n",
            "5/5 [==============================] - 0s 8ms/step - loss: 1.4559e-04 - mse: 1.4559e-04 - val_loss: 2.5653e-04 - val_mse: 2.5653e-04\n",
            "Epoch 90/100\n",
            "5/5 [==============================] - 0s 8ms/step - loss: 1.3849e-04 - mse: 1.3849e-04 - val_loss: 2.6986e-04 - val_mse: 2.6986e-04\n",
            "Epoch 91/100\n",
            "5/5 [==============================] - 0s 7ms/step - loss: 1.1677e-04 - mse: 1.1677e-04 - val_loss: 2.5068e-04 - val_mse: 2.5068e-04\n",
            "Epoch 92/100\n",
            "5/5 [==============================] - 0s 8ms/step - loss: 1.0731e-04 - mse: 1.0731e-04 - val_loss: 2.5060e-04 - val_mse: 2.5060e-04\n",
            "Epoch 93/100\n",
            "5/5 [==============================] - 0s 7ms/step - loss: 1.0595e-04 - mse: 1.0595e-04 - val_loss: 2.4719e-04 - val_mse: 2.4719e-04\n",
            "Epoch 94/100\n",
            "5/5 [==============================] - 0s 7ms/step - loss: 1.1060e-04 - mse: 1.1060e-04 - val_loss: 2.5502e-04 - val_mse: 2.5502e-04\n",
            "Epoch 95/100\n",
            "5/5 [==============================] - 0s 8ms/step - loss: 1.0765e-04 - mse: 1.0765e-04 - val_loss: 2.4839e-04 - val_mse: 2.4839e-04\n",
            "Epoch 96/100\n",
            "5/5 [==============================] - 0s 8ms/step - loss: 1.0671e-04 - mse: 1.0671e-04 - val_loss: 2.4634e-04 - val_mse: 2.4634e-04\n",
            "Epoch 97/100\n",
            "5/5 [==============================] - 0s 8ms/step - loss: 1.0492e-04 - mse: 1.0492e-04 - val_loss: 2.4712e-04 - val_mse: 2.4712e-04\n",
            "Epoch 98/100\n",
            "5/5 [==============================] - 0s 10ms/step - loss: 1.0600e-04 - mse: 1.0600e-04 - val_loss: 2.9192e-04 - val_mse: 2.9192e-04\n",
            "Epoch 99/100\n",
            "5/5 [==============================] - 0s 10ms/step - loss: 1.2368e-04 - mse: 1.2368e-04 - val_loss: 2.7736e-04 - val_mse: 2.7736e-04\n",
            "Epoch 100/100\n",
            "5/5 [==============================] - 0s 8ms/step - loss: 1.2828e-04 - mse: 1.2828e-04 - val_loss: 2.4952e-04 - val_mse: 2.4952e-04\n"
          ]
        }
      ]
    },
    {
      "cell_type": "code",
      "source": [
        "#4 hidden layers and epochs 100 , neurons = 64 - model 3"
      ],
      "metadata": {
        "id": "RGy8aAsmGuGJ"
      },
      "execution_count": 57,
      "outputs": []
    },
    {
      "cell_type": "code",
      "source": [
        "classifier3=Sequential()\n",
        "#model : input layer , H1,H2,output layer\n",
        "#input layer\n",
        "classifier3.add(Dense(units=64,kernel_initializer=\"uniform\",activation=\"relu\",input_dim=5))\n",
        "classifier2.add(Dense(units=64,kernel_initializer=\"uniform\",activation=\"relu\"))\n",
        "classifier3.add(Dense(units=64,kernel_initializer=\"uniform\",activation=\"relu\"))\n",
        "classifier3.add(Dense(units=64,kernel_initializer=\"uniform\",activation=\"relu\"))\n",
        "classifier3.add(Dense(units=1,kernel_initializer=\"uniform\",activation=\"sigmoid\"))\n",
        "\n",
        "classifier3.compile(optimizer=\"adam\",loss='mean_squared_error',metrics=[\"mse\"])"
      ],
      "metadata": {
        "id": "o4No8kKoG2GJ"
      },
      "execution_count": 22,
      "outputs": []
    },
    {
      "cell_type": "code",
      "source": [
        "history3 = classifier3.fit(x_train , y_train , epochs = 100, batch_size = 64,\n",
        "           validation_split = 0.2,verbose=1)"
      ],
      "metadata": {
        "colab": {
          "base_uri": "https://localhost:8080/"
        },
        "id": "PEvYSkw3HAKH",
        "outputId": "fd1e4a9c-1b9d-4723-dfce-1be4b3616882"
      },
      "execution_count": 23,
      "outputs": [
        {
          "output_type": "stream",
          "name": "stdout",
          "text": [
            "Epoch 1/100\n",
            "5/5 [==============================] - 1s 37ms/step - loss: 0.0246 - mse: 0.0246 - val_loss: 0.0196 - val_mse: 0.0196\n",
            "Epoch 2/100\n",
            "5/5 [==============================] - 0s 7ms/step - loss: 0.0246 - mse: 0.0246 - val_loss: 0.0196 - val_mse: 0.0196\n",
            "Epoch 3/100\n",
            "5/5 [==============================] - 0s 9ms/step - loss: 0.0245 - mse: 0.0245 - val_loss: 0.0195 - val_mse: 0.0195\n",
            "Epoch 4/100\n",
            "5/5 [==============================] - 0s 7ms/step - loss: 0.0245 - mse: 0.0245 - val_loss: 0.0195 - val_mse: 0.0195\n",
            "Epoch 5/100\n",
            "5/5 [==============================] - 0s 7ms/step - loss: 0.0244 - mse: 0.0244 - val_loss: 0.0194 - val_mse: 0.0194\n",
            "Epoch 6/100\n",
            "5/5 [==============================] - 0s 8ms/step - loss: 0.0243 - mse: 0.0243 - val_loss: 0.0193 - val_mse: 0.0193\n",
            "Epoch 7/100\n",
            "5/5 [==============================] - 0s 7ms/step - loss: 0.0241 - mse: 0.0241 - val_loss: 0.0191 - val_mse: 0.0191\n",
            "Epoch 8/100\n",
            "5/5 [==============================] - 0s 8ms/step - loss: 0.0238 - mse: 0.0238 - val_loss: 0.0187 - val_mse: 0.0187\n",
            "Epoch 9/100\n",
            "5/5 [==============================] - 0s 7ms/step - loss: 0.0232 - mse: 0.0232 - val_loss: 0.0181 - val_mse: 0.0181\n",
            "Epoch 10/100\n",
            "5/5 [==============================] - 0s 7ms/step - loss: 0.0223 - mse: 0.0223 - val_loss: 0.0171 - val_mse: 0.0171\n",
            "Epoch 11/100\n",
            "5/5 [==============================] - 0s 7ms/step - loss: 0.0208 - mse: 0.0208 - val_loss: 0.0157 - val_mse: 0.0157\n",
            "Epoch 12/100\n",
            "5/5 [==============================] - 0s 7ms/step - loss: 0.0189 - mse: 0.0189 - val_loss: 0.0137 - val_mse: 0.0137\n",
            "Epoch 13/100\n",
            "5/5 [==============================] - 0s 7ms/step - loss: 0.0164 - mse: 0.0164 - val_loss: 0.0114 - val_mse: 0.0114\n",
            "Epoch 14/100\n",
            "5/5 [==============================] - 0s 7ms/step - loss: 0.0133 - mse: 0.0133 - val_loss: 0.0091 - val_mse: 0.0091\n",
            "Epoch 15/100\n",
            "5/5 [==============================] - 0s 7ms/step - loss: 0.0101 - mse: 0.0101 - val_loss: 0.0065 - val_mse: 0.0065\n",
            "Epoch 16/100\n",
            "5/5 [==============================] - 0s 8ms/step - loss: 0.0070 - mse: 0.0070 - val_loss: 0.0046 - val_mse: 0.0046\n",
            "Epoch 17/100\n",
            "5/5 [==============================] - 0s 7ms/step - loss: 0.0044 - mse: 0.0044 - val_loss: 0.0028 - val_mse: 0.0028\n",
            "Epoch 18/100\n",
            "5/5 [==============================] - 0s 7ms/step - loss: 0.0025 - mse: 0.0025 - val_loss: 0.0023 - val_mse: 0.0023\n",
            "Epoch 19/100\n",
            "5/5 [==============================] - 0s 8ms/step - loss: 0.0015 - mse: 0.0015 - val_loss: 0.0014 - val_mse: 0.0014\n",
            "Epoch 20/100\n",
            "5/5 [==============================] - 0s 7ms/step - loss: 9.6433e-04 - mse: 9.6433e-04 - val_loss: 0.0015 - val_mse: 0.0015\n",
            "Epoch 21/100\n",
            "5/5 [==============================] - 0s 7ms/step - loss: 8.0071e-04 - mse: 8.0071e-04 - val_loss: 8.8484e-04 - val_mse: 8.8484e-04\n",
            "Epoch 22/100\n",
            "5/5 [==============================] - 0s 7ms/step - loss: 5.4957e-04 - mse: 5.4957e-04 - val_loss: 8.0210e-04 - val_mse: 8.0210e-04\n",
            "Epoch 23/100\n",
            "5/5 [==============================] - 0s 7ms/step - loss: 4.3652e-04 - mse: 4.3652e-04 - val_loss: 6.4334e-04 - val_mse: 6.4334e-04\n",
            "Epoch 24/100\n",
            "5/5 [==============================] - 0s 8ms/step - loss: 4.0871e-04 - mse: 4.0871e-04 - val_loss: 5.9919e-04 - val_mse: 5.9919e-04\n",
            "Epoch 25/100\n",
            "5/5 [==============================] - 0s 7ms/step - loss: 3.5821e-04 - mse: 3.5821e-04 - val_loss: 5.7467e-04 - val_mse: 5.7467e-04\n",
            "Epoch 26/100\n",
            "5/5 [==============================] - 0s 9ms/step - loss: 3.3303e-04 - mse: 3.3303e-04 - val_loss: 5.1265e-04 - val_mse: 5.1265e-04\n",
            "Epoch 27/100\n",
            "5/5 [==============================] - 0s 7ms/step - loss: 2.9527e-04 - mse: 2.9527e-04 - val_loss: 4.8783e-04 - val_mse: 4.8783e-04\n",
            "Epoch 28/100\n",
            "5/5 [==============================] - 0s 9ms/step - loss: 2.7818e-04 - mse: 2.7818e-04 - val_loss: 4.5699e-04 - val_mse: 4.5699e-04\n",
            "Epoch 29/100\n",
            "5/5 [==============================] - 0s 7ms/step - loss: 2.5849e-04 - mse: 2.5849e-04 - val_loss: 4.3393e-04 - val_mse: 4.3393e-04\n",
            "Epoch 30/100\n",
            "5/5 [==============================] - 0s 7ms/step - loss: 2.4285e-04 - mse: 2.4285e-04 - val_loss: 4.1765e-04 - val_mse: 4.1765e-04\n",
            "Epoch 31/100\n",
            "5/5 [==============================] - 0s 7ms/step - loss: 2.3496e-04 - mse: 2.3496e-04 - val_loss: 4.0433e-04 - val_mse: 4.0433e-04\n",
            "Epoch 32/100\n",
            "5/5 [==============================] - 0s 7ms/step - loss: 2.2834e-04 - mse: 2.2834e-04 - val_loss: 3.9044e-04 - val_mse: 3.9044e-04\n",
            "Epoch 33/100\n",
            "5/5 [==============================] - 0s 8ms/step - loss: 2.1674e-04 - mse: 2.1674e-04 - val_loss: 3.6954e-04 - val_mse: 3.6954e-04\n",
            "Epoch 34/100\n",
            "5/5 [==============================] - 0s 7ms/step - loss: 2.0545e-04 - mse: 2.0545e-04 - val_loss: 3.6446e-04 - val_mse: 3.6446e-04\n",
            "Epoch 35/100\n",
            "5/5 [==============================] - 0s 7ms/step - loss: 2.0068e-04 - mse: 2.0068e-04 - val_loss: 3.4906e-04 - val_mse: 3.4906e-04\n",
            "Epoch 36/100\n",
            "5/5 [==============================] - 0s 7ms/step - loss: 1.9486e-04 - mse: 1.9486e-04 - val_loss: 3.5290e-04 - val_mse: 3.5290e-04\n",
            "Epoch 37/100\n",
            "5/5 [==============================] - 0s 11ms/step - loss: 1.9211e-04 - mse: 1.9211e-04 - val_loss: 3.4828e-04 - val_mse: 3.4828e-04\n",
            "Epoch 38/100\n",
            "5/5 [==============================] - 0s 7ms/step - loss: 1.9065e-04 - mse: 1.9065e-04 - val_loss: 3.5563e-04 - val_mse: 3.5563e-04\n",
            "Epoch 39/100\n",
            "5/5 [==============================] - 0s 7ms/step - loss: 1.8990e-04 - mse: 1.8990e-04 - val_loss: 3.1815e-04 - val_mse: 3.1815e-04\n",
            "Epoch 40/100\n",
            "5/5 [==============================] - 0s 9ms/step - loss: 1.8364e-04 - mse: 1.8364e-04 - val_loss: 3.2151e-04 - val_mse: 3.2151e-04\n",
            "Epoch 41/100\n",
            "5/5 [==============================] - 0s 7ms/step - loss: 1.7624e-04 - mse: 1.7624e-04 - val_loss: 3.2329e-04 - val_mse: 3.2329e-04\n",
            "Epoch 42/100\n",
            "5/5 [==============================] - 0s 8ms/step - loss: 1.8003e-04 - mse: 1.8003e-04 - val_loss: 3.0643e-04 - val_mse: 3.0643e-04\n",
            "Epoch 43/100\n",
            "5/5 [==============================] - 0s 10ms/step - loss: 1.6826e-04 - mse: 1.6826e-04 - val_loss: 3.0095e-04 - val_mse: 3.0095e-04\n",
            "Epoch 44/100\n",
            "5/5 [==============================] - 0s 8ms/step - loss: 1.6587e-04 - mse: 1.6587e-04 - val_loss: 2.9663e-04 - val_mse: 2.9663e-04\n",
            "Epoch 45/100\n",
            "5/5 [==============================] - 0s 8ms/step - loss: 1.6282e-04 - mse: 1.6282e-04 - val_loss: 2.9495e-04 - val_mse: 2.9495e-04\n",
            "Epoch 46/100\n",
            "5/5 [==============================] - 0s 7ms/step - loss: 1.6087e-04 - mse: 1.6087e-04 - val_loss: 3.0223e-04 - val_mse: 3.0223e-04\n",
            "Epoch 47/100\n",
            "5/5 [==============================] - 0s 7ms/step - loss: 1.6689e-04 - mse: 1.6689e-04 - val_loss: 3.3040e-04 - val_mse: 3.3040e-04\n",
            "Epoch 48/100\n",
            "5/5 [==============================] - 0s 7ms/step - loss: 1.7540e-04 - mse: 1.7540e-04 - val_loss: 2.8771e-04 - val_mse: 2.8771e-04\n",
            "Epoch 49/100\n",
            "5/5 [==============================] - 0s 7ms/step - loss: 1.6098e-04 - mse: 1.6098e-04 - val_loss: 2.8111e-04 - val_mse: 2.8111e-04\n",
            "Epoch 50/100\n",
            "5/5 [==============================] - 0s 7ms/step - loss: 1.6132e-04 - mse: 1.6132e-04 - val_loss: 2.7920e-04 - val_mse: 2.7920e-04\n",
            "Epoch 51/100\n",
            "5/5 [==============================] - 0s 8ms/step - loss: 1.6079e-04 - mse: 1.6079e-04 - val_loss: 2.7550e-04 - val_mse: 2.7550e-04\n",
            "Epoch 52/100\n",
            "5/5 [==============================] - 0s 8ms/step - loss: 1.5964e-04 - mse: 1.5964e-04 - val_loss: 2.6979e-04 - val_mse: 2.6979e-04\n",
            "Epoch 53/100\n",
            "5/5 [==============================] - 0s 8ms/step - loss: 1.5307e-04 - mse: 1.5307e-04 - val_loss: 2.6558e-04 - val_mse: 2.6558e-04\n",
            "Epoch 54/100\n",
            "5/5 [==============================] - 0s 7ms/step - loss: 1.5152e-04 - mse: 1.5152e-04 - val_loss: 2.6229e-04 - val_mse: 2.6229e-04\n",
            "Epoch 55/100\n",
            "5/5 [==============================] - 0s 8ms/step - loss: 1.4890e-04 - mse: 1.4890e-04 - val_loss: 2.6488e-04 - val_mse: 2.6488e-04\n",
            "Epoch 56/100\n",
            "5/5 [==============================] - 0s 8ms/step - loss: 1.4860e-04 - mse: 1.4860e-04 - val_loss: 2.6546e-04 - val_mse: 2.6546e-04\n",
            "Epoch 57/100\n",
            "5/5 [==============================] - 0s 8ms/step - loss: 1.4986e-04 - mse: 1.4986e-04 - val_loss: 2.7367e-04 - val_mse: 2.7367e-04\n",
            "Epoch 58/100\n",
            "5/5 [==============================] - 0s 7ms/step - loss: 1.4996e-04 - mse: 1.4996e-04 - val_loss: 2.8749e-04 - val_mse: 2.8749e-04\n",
            "Epoch 59/100\n",
            "5/5 [==============================] - 0s 7ms/step - loss: 1.5336e-04 - mse: 1.5336e-04 - val_loss: 3.0185e-04 - val_mse: 3.0185e-04\n",
            "Epoch 60/100\n",
            "5/5 [==============================] - 0s 7ms/step - loss: 1.6971e-04 - mse: 1.6971e-04 - val_loss: 2.5331e-04 - val_mse: 2.5331e-04\n",
            "Epoch 61/100\n",
            "5/5 [==============================] - 0s 7ms/step - loss: 1.7709e-04 - mse: 1.7709e-04 - val_loss: 2.5620e-04 - val_mse: 2.5620e-04\n",
            "Epoch 62/100\n",
            "5/5 [==============================] - 0s 7ms/step - loss: 1.6006e-04 - mse: 1.6006e-04 - val_loss: 2.6053e-04 - val_mse: 2.6053e-04\n",
            "Epoch 63/100\n",
            "5/5 [==============================] - 0s 8ms/step - loss: 1.5511e-04 - mse: 1.5511e-04 - val_loss: 2.6200e-04 - val_mse: 2.6200e-04\n",
            "Epoch 64/100\n",
            "5/5 [==============================] - 0s 8ms/step - loss: 1.4665e-04 - mse: 1.4665e-04 - val_loss: 2.5250e-04 - val_mse: 2.5250e-04\n",
            "Epoch 65/100\n",
            "5/5 [==============================] - 0s 8ms/step - loss: 1.4435e-04 - mse: 1.4435e-04 - val_loss: 2.4549e-04 - val_mse: 2.4549e-04\n",
            "Epoch 66/100\n",
            "5/5 [==============================] - 0s 8ms/step - loss: 1.4558e-04 - mse: 1.4558e-04 - val_loss: 2.7824e-04 - val_mse: 2.7824e-04\n",
            "Epoch 67/100\n",
            "5/5 [==============================] - 0s 8ms/step - loss: 1.4896e-04 - mse: 1.4896e-04 - val_loss: 3.3246e-04 - val_mse: 3.3246e-04\n",
            "Epoch 68/100\n",
            "5/5 [==============================] - 0s 8ms/step - loss: 1.6678e-04 - mse: 1.6678e-04 - val_loss: 2.4363e-04 - val_mse: 2.4363e-04\n",
            "Epoch 69/100\n",
            "5/5 [==============================] - 0s 7ms/step - loss: 1.5413e-04 - mse: 1.5413e-04 - val_loss: 2.4496e-04 - val_mse: 2.4496e-04\n",
            "Epoch 70/100\n",
            "5/5 [==============================] - 0s 8ms/step - loss: 1.4069e-04 - mse: 1.4069e-04 - val_loss: 2.4227e-04 - val_mse: 2.4227e-04\n",
            "Epoch 71/100\n",
            "5/5 [==============================] - 0s 8ms/step - loss: 1.5308e-04 - mse: 1.5308e-04 - val_loss: 2.4860e-04 - val_mse: 2.4860e-04\n",
            "Epoch 72/100\n",
            "5/5 [==============================] - 0s 7ms/step - loss: 1.4163e-04 - mse: 1.4163e-04 - val_loss: 2.5743e-04 - val_mse: 2.5743e-04\n",
            "Epoch 73/100\n",
            "5/5 [==============================] - 0s 9ms/step - loss: 1.5435e-04 - mse: 1.5435e-04 - val_loss: 2.4185e-04 - val_mse: 2.4185e-04\n",
            "Epoch 74/100\n",
            "5/5 [==============================] - 0s 9ms/step - loss: 1.3978e-04 - mse: 1.3978e-04 - val_loss: 2.5848e-04 - val_mse: 2.5848e-04\n",
            "Epoch 75/100\n",
            "5/5 [==============================] - 0s 8ms/step - loss: 1.4538e-04 - mse: 1.4538e-04 - val_loss: 2.3635e-04 - val_mse: 2.3635e-04\n",
            "Epoch 76/100\n",
            "5/5 [==============================] - 0s 9ms/step - loss: 1.5171e-04 - mse: 1.5171e-04 - val_loss: 2.4879e-04 - val_mse: 2.4879e-04\n",
            "Epoch 77/100\n",
            "5/5 [==============================] - 0s 7ms/step - loss: 1.4339e-04 - mse: 1.4339e-04 - val_loss: 2.4091e-04 - val_mse: 2.4091e-04\n",
            "Epoch 78/100\n",
            "5/5 [==============================] - 0s 8ms/step - loss: 1.4865e-04 - mse: 1.4865e-04 - val_loss: 2.3773e-04 - val_mse: 2.3773e-04\n",
            "Epoch 79/100\n",
            "5/5 [==============================] - 0s 7ms/step - loss: 1.4349e-04 - mse: 1.4349e-04 - val_loss: 2.8830e-04 - val_mse: 2.8830e-04\n",
            "Epoch 80/100\n",
            "5/5 [==============================] - 0s 8ms/step - loss: 1.5539e-04 - mse: 1.5539e-04 - val_loss: 2.9351e-04 - val_mse: 2.9351e-04\n",
            "Epoch 81/100\n",
            "5/5 [==============================] - 0s 7ms/step - loss: 1.5505e-04 - mse: 1.5505e-04 - val_loss: 2.2988e-04 - val_mse: 2.2988e-04\n",
            "Epoch 82/100\n",
            "5/5 [==============================] - 0s 7ms/step - loss: 1.3894e-04 - mse: 1.3894e-04 - val_loss: 2.3481e-04 - val_mse: 2.3481e-04\n",
            "Epoch 83/100\n",
            "5/5 [==============================] - 0s 7ms/step - loss: 1.3400e-04 - mse: 1.3400e-04 - val_loss: 2.4038e-04 - val_mse: 2.4038e-04\n",
            "Epoch 84/100\n",
            "5/5 [==============================] - 0s 7ms/step - loss: 1.4148e-04 - mse: 1.4148e-04 - val_loss: 2.3630e-04 - val_mse: 2.3630e-04\n",
            "Epoch 85/100\n",
            "5/5 [==============================] - 0s 7ms/step - loss: 1.4543e-04 - mse: 1.4543e-04 - val_loss: 2.9903e-04 - val_mse: 2.9903e-04\n",
            "Epoch 86/100\n",
            "5/5 [==============================] - 0s 7ms/step - loss: 1.6201e-04 - mse: 1.6201e-04 - val_loss: 2.8098e-04 - val_mse: 2.8098e-04\n",
            "Epoch 87/100\n",
            "5/5 [==============================] - 0s 10ms/step - loss: 1.6805e-04 - mse: 1.6805e-04 - val_loss: 2.3297e-04 - val_mse: 2.3297e-04\n",
            "Epoch 88/100\n",
            "5/5 [==============================] - 0s 9ms/step - loss: 1.4930e-04 - mse: 1.4930e-04 - val_loss: 2.4260e-04 - val_mse: 2.4260e-04\n",
            "Epoch 89/100\n",
            "5/5 [==============================] - 0s 7ms/step - loss: 1.4165e-04 - mse: 1.4165e-04 - val_loss: 2.4775e-04 - val_mse: 2.4775e-04\n",
            "Epoch 90/100\n",
            "5/5 [==============================] - 0s 12ms/step - loss: 1.4930e-04 - mse: 1.4930e-04 - val_loss: 2.2991e-04 - val_mse: 2.2991e-04\n",
            "Epoch 91/100\n",
            "5/5 [==============================] - 0s 8ms/step - loss: 1.4365e-04 - mse: 1.4365e-04 - val_loss: 2.4783e-04 - val_mse: 2.4783e-04\n",
            "Epoch 92/100\n",
            "5/5 [==============================] - 0s 8ms/step - loss: 1.3311e-04 - mse: 1.3311e-04 - val_loss: 2.3639e-04 - val_mse: 2.3639e-04\n",
            "Epoch 93/100\n",
            "5/5 [==============================] - 0s 9ms/step - loss: 1.3870e-04 - mse: 1.3870e-04 - val_loss: 2.3061e-04 - val_mse: 2.3061e-04\n",
            "Epoch 94/100\n",
            "5/5 [==============================] - 0s 8ms/step - loss: 1.3061e-04 - mse: 1.3061e-04 - val_loss: 2.4673e-04 - val_mse: 2.4673e-04\n",
            "Epoch 95/100\n",
            "5/5 [==============================] - 0s 8ms/step - loss: 1.3541e-04 - mse: 1.3541e-04 - val_loss: 2.3103e-04 - val_mse: 2.3103e-04\n",
            "Epoch 96/100\n",
            "5/5 [==============================] - 0s 8ms/step - loss: 1.3227e-04 - mse: 1.3227e-04 - val_loss: 2.7991e-04 - val_mse: 2.7991e-04\n",
            "Epoch 97/100\n",
            "5/5 [==============================] - 0s 8ms/step - loss: 1.5596e-04 - mse: 1.5596e-04 - val_loss: 3.4226e-04 - val_mse: 3.4226e-04\n",
            "Epoch 98/100\n",
            "5/5 [==============================] - 0s 7ms/step - loss: 1.8712e-04 - mse: 1.8712e-04 - val_loss: 2.3084e-04 - val_mse: 2.3084e-04\n",
            "Epoch 99/100\n",
            "5/5 [==============================] - 0s 8ms/step - loss: 1.4852e-04 - mse: 1.4852e-04 - val_loss: 2.5294e-04 - val_mse: 2.5294e-04\n",
            "Epoch 100/100\n",
            "5/5 [==============================] - 0s 10ms/step - loss: 1.5173e-04 - mse: 1.5173e-04 - val_loss: 2.8515e-04 - val_mse: 2.8515e-04\n"
          ]
        }
      ]
    },
    {
      "cell_type": "code",
      "source": [
        "#in the 3 , 4 ,hidden layers , MSE almost same , but in 5 hidden layers MSE reduces further"
      ],
      "metadata": {
        "id": "9WhBsXu0HaLv"
      },
      "execution_count": 25,
      "outputs": []
    },
    {
      "cell_type": "code",
      "source": [
        "y_pred = classifier1.predict(x_test)"
      ],
      "metadata": {
        "colab": {
          "base_uri": "https://localhost:8080/"
        },
        "id": "c9IAMJ6SaRGt",
        "outputId": "0db7bc66-085d-4e0c-850b-89f549169581"
      },
      "execution_count": 26,
      "outputs": [
        {
          "output_type": "stream",
          "name": "stdout",
          "text": [
            "4/4 [==============================] - 0s 3ms/step\n"
          ]
        }
      ]
    },
    {
      "cell_type": "code",
      "source": [
        "from sklearn.metrics import mean_squared_error\n",
        "mean_squared_error(y_test, y_pred)"
      ],
      "metadata": {
        "colab": {
          "base_uri": "https://localhost:8080/"
        },
        "id": "fluOFXO-aWs0",
        "outputId": "9cdd1ecb-5c61-487b-997a-3902c9f3085f"
      },
      "execution_count": 28,
      "outputs": [
        {
          "output_type": "execute_result",
          "data": {
            "text/plain": [
              "7.203676379870528e-06"
            ]
          },
          "metadata": {},
          "execution_count": 28
        }
      ]
    },
    {
      "cell_type": "code",
      "source": [
        "history1.history.keys()"
      ],
      "metadata": {
        "colab": {
          "base_uri": "https://localhost:8080/"
        },
        "id": "2cJpVM2XahTR",
        "outputId": "e5fede1c-59a5-4b66-d13a-23ac8320d37e"
      },
      "execution_count": 29,
      "outputs": [
        {
          "output_type": "execute_result",
          "data": {
            "text/plain": [
              "dict_keys(['loss', 'mse', 'val_loss', 'val_mse'])"
            ]
          },
          "metadata": {},
          "execution_count": 29
        }
      ]
    },
    {
      "cell_type": "code",
      "source": [
        "fig, ax = plt.subplots(figsize = (8,5))\n",
        "ax.plot(np.log(history1.history['loss']), label = \"Training loss\")\n",
        "ax.plot(np.log(history1.history['val_loss']), label = \"validation loss\")\n",
        "ax.set_title(\"Log Loss vs epoch\")\n",
        "ax.set_xlabel(\"Epochs\")\n",
        "ax.set_ylabel(\"Loss loss\")\n",
        "ax.legend()\n",
        "ax.grid()\n",
        "plt.show()"
      ],
      "metadata": {
        "colab": {
          "base_uri": "https://localhost:8080/",
          "height": 350
        },
        "id": "Pqt9a-7Xaj-b",
        "outputId": "44b970a3-3db7-4f47-89fe-ca19939dae65"
      },
      "execution_count": 31,
      "outputs": [
        {
          "output_type": "display_data",
          "data": {
            "text/plain": [
              "<Figure size 576x360 with 1 Axes>"
            ],
            "image/png": "[encoded data removed]"
          },
          "metadata": {
            "needs_background": "light"
          }
        }
      ]
    },
    {
      "cell_type": "code",
      "source": [
        "fig, ax = plt.subplots(figsize = (8,5))\n",
        "ax.plot(np.log(history1.history['mse']), label = \"Training error\")\n",
        "ax.plot(np.log(history1.history['val_mse']), label = \"validation error\")\n",
        "ax.set_title(\"Log error vs epoch\")\n",
        "ax.set_xlabel(\"Epochs\")\n",
        "ax.set_ylabel(\"log error\")\n",
        "ax.legend()\n",
        "ax.grid()\n",
        "plt.show()"
      ],
      "metadata": {
        "colab": {
          "base_uri": "https://localhost:8080/",
          "height": 350
        },
        "id": "Ytif6qu2arYL",
        "outputId": "ceb4a709-48a1-4a2e-f0c5-bf40a6fc8ab4"
      },
      "execution_count": 32,
      "outputs": [
        {
          "output_type": "display_data",
          "data": {
            "text/plain": [
              "<Figure size 576x360 with 1 Axes>"
            ],
            "image/png": "[encoded data removed]"
          },
          "metadata": {
            "needs_background": "light"
          }
        }
      ]
    },
    {
      "cell_type": "code",
      "source": [
        "import seaborn as sns\n",
        "plt.figure(figsize=(4,4),dpi=150)\n",
        "sns.regplot(x=y_test, y=y_pred,color='red',marker='*',scatter_kws={\"color\": \"black\"}, line_kws={\"color\": \"red\"})\n",
        "plt.title('True Vs predicted values')\n",
        "plt.xlabel('True Values')\n",
        "plt.ylabel('Predictions')\n",
        "plt.show()"
      ],
      "metadata": {
        "colab": {
          "base_uri": "https://localhost:8080/",
          "height": 594
        },
        "id": "_694yVKobPlJ",
        "outputId": "bc8e351b-a2dc-4cea-f910-24f999a731b3"
      },
      "execution_count": 40,
      "outputs": [
        {
          "output_type": "display_data",
          "data": {
            "text/plain": [
              "<Figure size 600x600 with 1 Axes>"
            ],
            "image/png": "[encoded data removed]"
          },
          "metadata": {
            "needs_background": "light"
          }
        }
      ]
    },
    {
      "cell_type": "code",
      "source": [
        "# SInce the MSE error is very less in the model , the values are almost matching the regression line and thus the model is predicting almost exact values "
      ],
      "metadata": {
        "id": "XE5m8vMRdytF"
      },
      "execution_count": 41,
      "outputs": []
    }
  ]
}