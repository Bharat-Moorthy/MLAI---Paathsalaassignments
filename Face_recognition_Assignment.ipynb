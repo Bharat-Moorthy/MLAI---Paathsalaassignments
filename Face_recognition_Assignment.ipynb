{
  "nbformat": 4,
  "nbformat_minor": 0,
  "metadata": {
    "colab": {
      "provenance": [],
      "authorship_tag": "ABX9TyMqrq6gurftSLDAnwJI5By/",
      "include_colab_link": true
    },
    "kernelspec": {
      "name": "python3",
      "display_name": "Python 3"
    },
    "language_info": {
      "name": "python"
    },
    "accelerator": "GPU",
    "gpuClass": "standard"
  },
  "cells": [
    {
      "cell_type": "markdown",
      "metadata": {
        "id": "view-in-github",
        "colab_type": "text"
      },
      "source": [
        "<a href=\"https://colab.research.google.com/github/Bharat-Moorthy/MLAI---Paathsalaassignments/blob/main/Face_recognition_Assignment.ipynb\" target=\"_parent\"><img src=\"https://colab.research.google.com/assets/colab-badge.svg\" alt=\"Open In Colab\"/></a>"
      ]
    },
    {
      "cell_type": "code",
      "execution_count": 1,
      "metadata": {
        "colab": {
          "base_uri": "https://localhost:8080/"
        },
        "id": "k5RaPUhHkM9q",
        "outputId": "5ace4f96-49b1-497d-af14-87ebd1be946a"
      },
      "outputs": [
        {
          "output_type": "stream",
          "name": "stdout",
          "text": [
            "Looking in indexes: https://pypi.org/simple, https://us-python.pkg.dev/colab-wheels/public/simple/\n",
            "Collecting face-recognition\n",
            "  Downloading face_recognition-1.3.0-py2.py3-none-any.whl (15 kB)\n",
            "Requirement already satisfied: Click>=6.0 in /usr/local/lib/python3.8/dist-packages (from face-recognition) (7.1.2)\n",
            "Requirement already satisfied: dlib>=19.7 in /usr/local/lib/python3.8/dist-packages (from face-recognition) (19.24.0)\n",
            "Collecting face-recognition-models>=0.3.0\n",
            "  Downloading face_recognition_models-0.3.0.tar.gz (100.1 MB)\n",
            "\u001b[2K     \u001b[90m━━━━━━━━━━━━━━━━━━━━━━━━━━━━━━━━━━━━━━\u001b[0m \u001b[32m100.1/100.1 MB\u001b[0m \u001b[31m10.5 MB/s\u001b[0m eta \u001b[36m0:00:00\u001b[0m\n",
            "\u001b[?25h  Preparing metadata (setup.py) ... \u001b[?25l\u001b[?25hdone\n",
            "Requirement already satisfied: Pillow in /usr/local/lib/python3.8/dist-packages (from face-recognition) (7.1.2)\n",
            "Requirement already satisfied: numpy in /usr/local/lib/python3.8/dist-packages (from face-recognition) (1.21.6)\n",
            "Building wheels for collected packages: face-recognition-models\n",
            "  Building wheel for face-recognition-models (setup.py) ... \u001b[?25l\u001b[?25hdone\n",
            "  Created wheel for face-recognition-models: filename=face_recognition_models-0.3.0-py2.py3-none-any.whl size=100566185 sha256=633b36d5106925260c27db00d24d2be7da767057ab99fed3b442989f666ca1f0\n",
            "  Stored in directory: /root/.cache/pip/wheels/b4/4b/8f/751e99d45f089bdf366a7d3e5066db3c2b84a62e4377f534d7\n",
            "Successfully built face-recognition-models\n",
            "Installing collected packages: face-recognition-models, face-recognition\n",
            "Successfully installed face-recognition-1.3.0 face-recognition-models-0.3.0\n"
          ]
        }
      ],
      "source": [
        "pip install face-recognition"
      ]
    },
    {
      "cell_type": "code",
      "source": [
        "import face_recognition\n",
        "from PIL import Image, ImageDraw\n",
        "\n",
        "aiswarya_image = face_recognition.load_image_file(\"aiswarya.jpg\")\n",
        "aiswarya_face_encoding = face_recognition.face_encodings(aiswarya_image)[0]\n",
        "\n",
        "arrahman_image = face_recognition.load_image_file(\"arrahman.jpg\")\n",
        "arrahman_face_encoding = face_recognition.face_encodings(arrahman_image)[0]\n",
        "\n",
        "kamalhaasan_image = face_recognition.load_image_file(\"kamalhaasan.jpg\")\n",
        "kamalhaasan_face_encoding = face_recognition.face_encodings(kamalhaasan_image)[0]\n",
        "\n",
        "karthi_image = face_recognition.load_image_file(\"karthi.jpg\")\n",
        "karthi_face_encoding = face_recognition.face_encodings(karthi_image)[0]\n",
        "\n",
        "maniratnam_image = face_recognition.load_image_file(\"maniratnam.jpg\")\n",
        "maniratnam_face_encoding = face_recognition.face_encodings(maniratnam_image)[0]\n",
        "\n",
        "rajinikanth_image = face_recognition.load_image_file(\"rajinikanth.jpg\")\n",
        "rajinikanth_face_encoding = face_recognition.face_encodings(rajinikanth_image)[0]\n",
        "\n",
        "ravi_image = face_recognition.load_image_file(\"ravi.jpg\")\n",
        "ravi_face_encoding = face_recognition.face_encodings(ravi_image)[0]\n",
        "\n",
        "#sobhita_image = face_recognition.load_image_file(\"sobhita.jpg\")\n",
        "#sobhita_face_encoding = face_recognition.face_encodings(sobhita_image)[0]\n",
        "\n",
        "trisha_image = face_recognition.load_image_file(\"trisha.jpg\")\n",
        "trisha_face_encoding = face_recognition.face_encodings(trisha_image)[0]\n",
        "\n",
        "vikram_image = face_recognition.load_image_file(\"vikram.jpg\")\n",
        "vikram_face_encoding = face_recognition.face_encodings(vikram_image)[0]\n",
        "\n",
        "\n",
        "known_face_encodings = [\n",
        "    aiswarya_face_encoding,\n",
        "    arrahman_face_encoding,\n",
        "    kamalhaasan_face_encoding,\n",
        "    karthi_face_encoding,\n",
        "    maniratnam_face_encoding,\n",
        "    rajinikanth_face_encoding,\n",
        "    ravi_face_encoding,\n",
        "    trisha_face_encoding,\n",
        "    vikram_face_encoding\n",
        "\n",
        "]\n",
        "known_face_names = [\n",
        "    \"Aiswarya Rai\",\n",
        "    \"A R Rahman\",\n",
        "    \"Kamal Haasan\",\n",
        "    \"Karthi\",\n",
        "    \"Maniratnam\",\n",
        "    \"Rajinikanth\",\n",
        "    \"Ravi\",\n",
        "    \"Trisha\",\n",
        "    \"Vikram\"\n",
        "]"
      ],
      "metadata": {
        "id": "izFq1Ryvkk9W"
      },
      "execution_count": 12,
      "outputs": []
    },
    {
      "cell_type": "code",
      "source": [
        "unknown_image = face_recognition.load_image_file(\"Test_image.jpg\")\n",
        "\n",
        "\n",
        "face_locations = face_recognition.face_locations(unknown_image)\n",
        "face_encodings = face_recognition.face_encodings(unknown_image, face_locations)\n",
        "\n",
        "\n",
        "pil_image = Image.fromarray(unknown_image)\n",
        "draw = ImageDraw.Draw(pil_image)\n",
        "\n",
        "\n",
        "for (top, right, bottom, left), face_encoding in zip(face_locations, face_encodings):\n",
        "    matches = face_recognition.compare_faces(known_face_encodings, face_encoding)\n",
        "\n",
        "    name = \"Unknown\"\n",
        "\n",
        "    \n",
        "    if True in matches:\n",
        "        first_match_index = matches.index(True)\n",
        "        name = known_face_names[first_match_index]\n",
        "\n",
        "    \n",
        "    draw.rectangle(((left, top), (right, bottom)), outline=(0, 0, 255))\n",
        "\n",
        "    \n",
        "    text_width, text_height = draw.textsize(name)\n",
        "    draw.rectangle(((left, bottom - text_height - 10), (right, bottom)), fill=(0, 0, 255), outline=(0, 0, 255))\n",
        "    draw.text((left + 6, bottom - text_height - 5), name, fill=(255, 255, 255, 255))\n",
        "\n",
        "\n",
        "\n",
        "del draw\n",
        "\n",
        "\n",
        "pil_image.show()\n",
        "\n",
        "\n",
        "pil_image.save(\"image_with_boxes.jpg\")"
      ],
      "metadata": {
        "id": "yQzWVLvdqSoq"
      },
      "execution_count": 15,
      "outputs": []
    },
    {
      "cell_type": "markdown",
      "source": [],
      "metadata": {
        "id": "cxCMUieZrr8T"
      }
    }
  ]
}