{
 "cells": [
  {
   "cell_type": "code",
   "execution_count": 1,
   "id": "195584e4",
   "metadata": {},
   "outputs": [],
   "source": [
    "import pandas as pd\n",
    "import numpy as np\n",
    "import matplotlib.pyplot as plt\n",
    "import seaborn as sns"
   ]
  },
  {
   "cell_type": "code",
   "execution_count": 2,
   "id": "3ee9fa2d",
   "metadata": {},
   "outputs": [],
   "source": [
    "data=pd.read_csv(r\"C:\\Users\\Dell\\Downloads\\loan.csv\",low_memory=False)"
   ]
  },
  {
   "cell_type": "code",
   "execution_count": 3,
   "id": "8da1de21",
   "metadata": {},
   "outputs": [
    {
     "data": {
      "text/plain": [
       "(39717, 111)"
      ]
     },
     "execution_count": 3,
     "metadata": {},
     "output_type": "execute_result"
    }
   ],
   "source": [
    "data.shape"
   ]
  },
  {
   "cell_type": "code",
   "execution_count": 4,
   "id": "54a83b5e",
   "metadata": {},
   "outputs": [
    {
     "data": {
      "text/html": [
       "<div>\n",
       "<style scoped>\n",
       "    .dataframe tbody tr th:only-of-type {\n",
       "        vertical-align: middle;\n",
       "    }\n",
       "\n",
       "    .dataframe tbody tr th {\n",
       "        vertical-align: top;\n",
       "    }\n",
       "\n",
       "    .dataframe thead th {\n",
       "        text-align: right;\n",
       "    }\n",
       "</style>\n",
       "<table border=\"1\" class=\"dataframe\">\n",
       "  <thead>\n",
       "    <tr style=\"text-align: right;\">\n",
       "      <th></th>\n",
       "      <th>id</th>\n",
       "      <th>member_id</th>\n",
       "      <th>loan_amnt</th>\n",
       "      <th>funded_amnt</th>\n",
       "      <th>funded_amnt_inv</th>\n",
       "      <th>term</th>\n",
       "      <th>int_rate</th>\n",
       "      <th>installment</th>\n",
       "      <th>grade</th>\n",
       "      <th>sub_grade</th>\n",
       "      <th>...</th>\n",
       "      <th>num_tl_90g_dpd_24m</th>\n",
       "      <th>num_tl_op_past_12m</th>\n",
       "      <th>pct_tl_nvr_dlq</th>\n",
       "      <th>percent_bc_gt_75</th>\n",
       "      <th>pub_rec_bankruptcies</th>\n",
       "      <th>tax_liens</th>\n",
       "      <th>tot_hi_cred_lim</th>\n",
       "      <th>total_bal_ex_mort</th>\n",
       "      <th>total_bc_limit</th>\n",
       "      <th>total_il_high_credit_limit</th>\n",
       "    </tr>\n",
       "  </thead>\n",
       "  <tbody>\n",
       "    <tr>\n",
       "      <th>0</th>\n",
       "      <td>1077501</td>\n",
       "      <td>1296599</td>\n",
       "      <td>5000</td>\n",
       "      <td>5000</td>\n",
       "      <td>4975.0</td>\n",
       "      <td>36 months</td>\n",
       "      <td>10.65%</td>\n",
       "      <td>162.87</td>\n",
       "      <td>B</td>\n",
       "      <td>B2</td>\n",
       "      <td>...</td>\n",
       "      <td>NaN</td>\n",
       "      <td>NaN</td>\n",
       "      <td>NaN</td>\n",
       "      <td>NaN</td>\n",
       "      <td>0.0</td>\n",
       "      <td>0.0</td>\n",
       "      <td>NaN</td>\n",
       "      <td>NaN</td>\n",
       "      <td>NaN</td>\n",
       "      <td>NaN</td>\n",
       "    </tr>\n",
       "    <tr>\n",
       "      <th>1</th>\n",
       "      <td>1077430</td>\n",
       "      <td>1314167</td>\n",
       "      <td>2500</td>\n",
       "      <td>2500</td>\n",
       "      <td>2500.0</td>\n",
       "      <td>60 months</td>\n",
       "      <td>15.27%</td>\n",
       "      <td>59.83</td>\n",
       "      <td>C</td>\n",
       "      <td>C4</td>\n",
       "      <td>...</td>\n",
       "      <td>NaN</td>\n",
       "      <td>NaN</td>\n",
       "      <td>NaN</td>\n",
       "      <td>NaN</td>\n",
       "      <td>0.0</td>\n",
       "      <td>0.0</td>\n",
       "      <td>NaN</td>\n",
       "      <td>NaN</td>\n",
       "      <td>NaN</td>\n",
       "      <td>NaN</td>\n",
       "    </tr>\n",
       "    <tr>\n",
       "      <th>2</th>\n",
       "      <td>1077175</td>\n",
       "      <td>1313524</td>\n",
       "      <td>2400</td>\n",
       "      <td>2400</td>\n",
       "      <td>2400.0</td>\n",
       "      <td>36 months</td>\n",
       "      <td>15.96%</td>\n",
       "      <td>84.33</td>\n",
       "      <td>C</td>\n",
       "      <td>C5</td>\n",
       "      <td>...</td>\n",
       "      <td>NaN</td>\n",
       "      <td>NaN</td>\n",
       "      <td>NaN</td>\n",
       "      <td>NaN</td>\n",
       "      <td>0.0</td>\n",
       "      <td>0.0</td>\n",
       "      <td>NaN</td>\n",
       "      <td>NaN</td>\n",
       "      <td>NaN</td>\n",
       "      <td>NaN</td>\n",
       "    </tr>\n",
       "    <tr>\n",
       "      <th>3</th>\n",
       "      <td>1076863</td>\n",
       "      <td>1277178</td>\n",
       "      <td>10000</td>\n",
       "      <td>10000</td>\n",
       "      <td>10000.0</td>\n",
       "      <td>36 months</td>\n",
       "      <td>13.49%</td>\n",
       "      <td>339.31</td>\n",
       "      <td>C</td>\n",
       "      <td>C1</td>\n",
       "      <td>...</td>\n",
       "      <td>NaN</td>\n",
       "      <td>NaN</td>\n",
       "      <td>NaN</td>\n",
       "      <td>NaN</td>\n",
       "      <td>0.0</td>\n",
       "      <td>0.0</td>\n",
       "      <td>NaN</td>\n",
       "      <td>NaN</td>\n",
       "      <td>NaN</td>\n",
       "      <td>NaN</td>\n",
       "    </tr>\n",
       "    <tr>\n",
       "      <th>4</th>\n",
       "      <td>1075358</td>\n",
       "      <td>1311748</td>\n",
       "      <td>3000</td>\n",
       "      <td>3000</td>\n",
       "      <td>3000.0</td>\n",
       "      <td>60 months</td>\n",
       "      <td>12.69%</td>\n",
       "      <td>67.79</td>\n",
       "      <td>B</td>\n",
       "      <td>B5</td>\n",
       "      <td>...</td>\n",
       "      <td>NaN</td>\n",
       "      <td>NaN</td>\n",
       "      <td>NaN</td>\n",
       "      <td>NaN</td>\n",
       "      <td>0.0</td>\n",
       "      <td>0.0</td>\n",
       "      <td>NaN</td>\n",
       "      <td>NaN</td>\n",
       "      <td>NaN</td>\n",
       "      <td>NaN</td>\n",
       "    </tr>\n",
       "  </tbody>\n",
       "</table>\n",
       "<p>5 rows × 111 columns</p>\n",
       "</div>"
      ],
      "text/plain": [
       "        id  member_id  loan_amnt  funded_amnt  funded_amnt_inv        term  \\\n",
       "0  1077501    1296599       5000         5000           4975.0   36 months   \n",
       "1  1077430    1314167       2500         2500           2500.0   60 months   \n",
       "2  1077175    1313524       2400         2400           2400.0   36 months   \n",
       "3  1076863    1277178      10000        10000          10000.0   36 months   \n",
       "4  1075358    1311748       3000         3000           3000.0   60 months   \n",
       "\n",
       "  int_rate  installment grade sub_grade  ... num_tl_90g_dpd_24m  \\\n",
       "0   10.65%       162.87     B        B2  ...                NaN   \n",
       "1   15.27%        59.83     C        C4  ...                NaN   \n",
       "2   15.96%        84.33     C        C5  ...                NaN   \n",
       "3   13.49%       339.31     C        C1  ...                NaN   \n",
       "4   12.69%        67.79     B        B5  ...                NaN   \n",
       "\n",
       "  num_tl_op_past_12m pct_tl_nvr_dlq  percent_bc_gt_75 pub_rec_bankruptcies  \\\n",
       "0                NaN            NaN               NaN                  0.0   \n",
       "1                NaN            NaN               NaN                  0.0   \n",
       "2                NaN            NaN               NaN                  0.0   \n",
       "3                NaN            NaN               NaN                  0.0   \n",
       "4                NaN            NaN               NaN                  0.0   \n",
       "\n",
       "  tax_liens tot_hi_cred_lim total_bal_ex_mort total_bc_limit  \\\n",
       "0       0.0             NaN               NaN            NaN   \n",
       "1       0.0             NaN               NaN            NaN   \n",
       "2       0.0             NaN               NaN            NaN   \n",
       "3       0.0             NaN               NaN            NaN   \n",
       "4       0.0             NaN               NaN            NaN   \n",
       "\n",
       "  total_il_high_credit_limit  \n",
       "0                        NaN  \n",
       "1                        NaN  \n",
       "2                        NaN  \n",
       "3                        NaN  \n",
       "4                        NaN  \n",
       "\n",
       "[5 rows x 111 columns]"
      ]
     },
     "execution_count": 4,
     "metadata": {},
     "output_type": "execute_result"
    }
   ],
   "source": [
    "data.head()"
   ]
  },
  {
   "cell_type": "code",
   "execution_count": 5,
   "id": "647fa872",
   "metadata": {},
   "outputs": [
    {
     "name": "stdout",
     "output_type": "stream",
     "text": [
      "<class 'pandas.core.frame.DataFrame'>\n",
      "RangeIndex: 39717 entries, 0 to 39716\n",
      "Columns: 111 entries, id to total_il_high_credit_limit\n",
      "dtypes: float64(74), int64(13), object(24)\n",
      "memory usage: 33.6+ MB\n"
     ]
    }
   ],
   "source": [
    "data.info()"
   ]
  },
  {
   "cell_type": "code",
   "execution_count": 6,
   "id": "69968e32",
   "metadata": {},
   "outputs": [
    {
     "data": {
      "text/plain": [
       "float64    74\n",
       "object     24\n",
       "int64      13\n",
       "dtype: int64"
      ]
     },
     "execution_count": 6,
     "metadata": {},
     "output_type": "execute_result"
    }
   ],
   "source": [
    "data.dtypes.value_counts()"
   ]
  },
  {
   "cell_type": "code",
   "execution_count": 7,
   "id": "531ef8bb",
   "metadata": {},
   "outputs": [],
   "source": [
    "pd.options.display.max_rows = 999"
   ]
  },
  {
   "cell_type": "code",
   "execution_count": 8,
   "id": "d1e70b64",
   "metadata": {},
   "outputs": [],
   "source": [
    "datacopy=data"
   ]
  },
  {
   "cell_type": "code",
   "execution_count": 9,
   "id": "29ca5f92",
   "metadata": {},
   "outputs": [],
   "source": [
    "missing_cols=datacopy.columns[datacopy.isnull().sum()/len(datacopy.index)*100>90]"
   ]
  },
  {
   "cell_type": "code",
   "execution_count": 10,
   "id": "36b9e7e9",
   "metadata": {},
   "outputs": [
    {
     "data": {
      "text/plain": [
       "56"
      ]
     },
     "execution_count": 10,
     "metadata": {},
     "output_type": "execute_result"
    }
   ],
   "source": [
    "len(missing_cols)"
   ]
  },
  {
   "cell_type": "code",
   "execution_count": 11,
   "id": "d07bd460",
   "metadata": {},
   "outputs": [],
   "source": [
    "datacopy=datacopy.drop(missing_cols,axis=1)"
   ]
  },
  {
   "cell_type": "code",
   "execution_count": 12,
   "id": "291ffcf0",
   "metadata": {},
   "outputs": [
    {
     "data": {
      "text/plain": [
       "id                             0.000000\n",
       "member_id                      0.000000\n",
       "loan_amnt                      0.000000\n",
       "funded_amnt                    0.000000\n",
       "funded_amnt_inv                0.000000\n",
       "term                           0.000000\n",
       "int_rate                       0.000000\n",
       "installment                    0.000000\n",
       "grade                          0.000000\n",
       "sub_grade                      0.000000\n",
       "emp_title                      6.191303\n",
       "emp_length                     2.706650\n",
       "home_ownership                 0.000000\n",
       "annual_inc                     0.000000\n",
       "verification_status            0.000000\n",
       "issue_d                        0.000000\n",
       "loan_status                    0.000000\n",
       "pymnt_plan                     0.000000\n",
       "url                            0.000000\n",
       "desc                          32.580507\n",
       "purpose                        0.000000\n",
       "title                          0.027696\n",
       "zip_code                       0.000000\n",
       "addr_state                     0.000000\n",
       "dti                            0.000000\n",
       "delinq_2yrs                    0.000000\n",
       "earliest_cr_line               0.000000\n",
       "inq_last_6mths                 0.000000\n",
       "mths_since_last_delinq        64.662487\n",
       "open_acc                       0.000000\n",
       "pub_rec                        0.000000\n",
       "revol_bal                      0.000000\n",
       "revol_util                     0.125891\n",
       "total_acc                      0.000000\n",
       "initial_list_status            0.000000\n",
       "out_prncp                      0.000000\n",
       "out_prncp_inv                  0.000000\n",
       "total_pymnt                    0.000000\n",
       "total_pymnt_inv                0.000000\n",
       "total_rec_prncp                0.000000\n",
       "total_rec_int                  0.000000\n",
       "total_rec_late_fee             0.000000\n",
       "recoveries                     0.000000\n",
       "collection_recovery_fee        0.000000\n",
       "last_pymnt_d                   0.178765\n",
       "last_pymnt_amnt                0.000000\n",
       "last_credit_pull_d             0.005036\n",
       "collections_12_mths_ex_med     0.140998\n",
       "policy_code                    0.000000\n",
       "application_type               0.000000\n",
       "acc_now_delinq                 0.000000\n",
       "chargeoff_within_12_mths       0.140998\n",
       "delinq_amnt                    0.000000\n",
       "pub_rec_bankruptcies           1.754916\n",
       "tax_liens                      0.098195\n",
       "dtype: float64"
      ]
     },
     "execution_count": 12,
     "metadata": {},
     "output_type": "execute_result"
    }
   ],
   "source": [
    "datacopy.isnull().sum()/len(datacopy.index)*100"
   ]
  },
  {
   "cell_type": "code",
   "execution_count": 13,
   "id": "fabdfc06",
   "metadata": {},
   "outputs": [
    {
     "data": {
      "text/html": [
       "<div>\n",
       "<style scoped>\n",
       "    .dataframe tbody tr th:only-of-type {\n",
       "        vertical-align: middle;\n",
       "    }\n",
       "\n",
       "    .dataframe tbody tr th {\n",
       "        vertical-align: top;\n",
       "    }\n",
       "\n",
       "    .dataframe thead th {\n",
       "        text-align: right;\n",
       "    }\n",
       "</style>\n",
       "<table border=\"1\" class=\"dataframe\">\n",
       "  <thead>\n",
       "    <tr style=\"text-align: right;\">\n",
       "      <th></th>\n",
       "      <th>desc</th>\n",
       "      <th>mths_since_last_delinq</th>\n",
       "    </tr>\n",
       "  </thead>\n",
       "  <tbody>\n",
       "    <tr>\n",
       "      <th>0</th>\n",
       "      <td>Borrower added on 12/22/11 &gt; I need to upgra...</td>\n",
       "      <td>NaN</td>\n",
       "    </tr>\n",
       "    <tr>\n",
       "      <th>1</th>\n",
       "      <td>Borrower added on 12/22/11 &gt; I plan to use t...</td>\n",
       "      <td>NaN</td>\n",
       "    </tr>\n",
       "    <tr>\n",
       "      <th>2</th>\n",
       "      <td>NaN</td>\n",
       "      <td>NaN</td>\n",
       "    </tr>\n",
       "    <tr>\n",
       "      <th>3</th>\n",
       "      <td>Borrower added on 12/21/11 &gt; to pay for prop...</td>\n",
       "      <td>35.0</td>\n",
       "    </tr>\n",
       "    <tr>\n",
       "      <th>4</th>\n",
       "      <td>Borrower added on 12/21/11 &gt; I plan on combi...</td>\n",
       "      <td>38.0</td>\n",
       "    </tr>\n",
       "    <tr>\n",
       "      <th>...</th>\n",
       "      <td>...</td>\n",
       "      <td>...</td>\n",
       "    </tr>\n",
       "    <tr>\n",
       "      <th>39712</th>\n",
       "      <td>Our current gutter system on our home is old a...</td>\n",
       "      <td>0.0</td>\n",
       "    </tr>\n",
       "    <tr>\n",
       "      <th>39713</th>\n",
       "      <td>The rate of interest and fees incurred by carr...</td>\n",
       "      <td>5.0</td>\n",
       "    </tr>\n",
       "    <tr>\n",
       "      <th>39714</th>\n",
       "      <td>NaN</td>\n",
       "      <td>0.0</td>\n",
       "    </tr>\n",
       "    <tr>\n",
       "      <th>39715</th>\n",
       "      <td>NaN</td>\n",
       "      <td>0.0</td>\n",
       "    </tr>\n",
       "    <tr>\n",
       "      <th>39716</th>\n",
       "      <td>I plan to consolidate over $7,000 of debt: a c...</td>\n",
       "      <td>11.0</td>\n",
       "    </tr>\n",
       "  </tbody>\n",
       "</table>\n",
       "<p>39717 rows × 2 columns</p>\n",
       "</div>"
      ],
      "text/plain": [
       "                                                    desc  \\\n",
       "0        Borrower added on 12/22/11 > I need to upgra...   \n",
       "1        Borrower added on 12/22/11 > I plan to use t...   \n",
       "2                                                    NaN   \n",
       "3        Borrower added on 12/21/11 > to pay for prop...   \n",
       "4        Borrower added on 12/21/11 > I plan on combi...   \n",
       "...                                                  ...   \n",
       "39712  Our current gutter system on our home is old a...   \n",
       "39713  The rate of interest and fees incurred by carr...   \n",
       "39714                                                NaN   \n",
       "39715                                                NaN   \n",
       "39716  I plan to consolidate over $7,000 of debt: a c...   \n",
       "\n",
       "       mths_since_last_delinq  \n",
       "0                         NaN  \n",
       "1                         NaN  \n",
       "2                         NaN  \n",
       "3                        35.0  \n",
       "4                        38.0  \n",
       "...                       ...  \n",
       "39712                     0.0  \n",
       "39713                     5.0  \n",
       "39714                     0.0  \n",
       "39715                     0.0  \n",
       "39716                    11.0  \n",
       "\n",
       "[39717 rows x 2 columns]"
      ]
     },
     "execution_count": 13,
     "metadata": {},
     "output_type": "execute_result"
    }
   ],
   "source": [
    "datacopy[[\"desc\",\"mths_since_last_delinq\"]]"
   ]
  },
  {
   "cell_type": "code",
   "execution_count": 14,
   "id": "9d27879b",
   "metadata": {},
   "outputs": [],
   "source": [
    "datacopy=datacopy.drop([\"desc\",\"mths_since_last_delinq\"],axis=1)"
   ]
  },
  {
   "cell_type": "code",
   "execution_count": 15,
   "id": "da2576fb",
   "metadata": {},
   "outputs": [
    {
     "data": {
      "text/plain": [
       "(39717, 53)"
      ]
     },
     "execution_count": 15,
     "metadata": {},
     "output_type": "execute_result"
    }
   ],
   "source": [
    "datacopy.shape"
   ]
  },
  {
   "cell_type": "code",
   "execution_count": 16,
   "id": "6474ad88",
   "metadata": {},
   "outputs": [
    {
     "name": "stdout",
     "output_type": "stream",
     "text": [
      "<class 'pandas.core.frame.DataFrame'>\n",
      "RangeIndex: 39717 entries, 0 to 39716\n",
      "Data columns (total 53 columns):\n",
      " #   Column                      Non-Null Count  Dtype  \n",
      "---  ------                      --------------  -----  \n",
      " 0   id                          39717 non-null  int64  \n",
      " 1   member_id                   39717 non-null  int64  \n",
      " 2   loan_amnt                   39717 non-null  int64  \n",
      " 3   funded_amnt                 39717 non-null  int64  \n",
      " 4   funded_amnt_inv             39717 non-null  float64\n",
      " 5   term                        39717 non-null  object \n",
      " 6   int_rate                    39717 non-null  object \n",
      " 7   installment                 39717 non-null  float64\n",
      " 8   grade                       39717 non-null  object \n",
      " 9   sub_grade                   39717 non-null  object \n",
      " 10  emp_title                   37258 non-null  object \n",
      " 11  emp_length                  38642 non-null  object \n",
      " 12  home_ownership              39717 non-null  object \n",
      " 13  annual_inc                  39717 non-null  float64\n",
      " 14  verification_status         39717 non-null  object \n",
      " 15  issue_d                     39717 non-null  object \n",
      " 16  loan_status                 39717 non-null  object \n",
      " 17  pymnt_plan                  39717 non-null  object \n",
      " 18  url                         39717 non-null  object \n",
      " 19  purpose                     39717 non-null  object \n",
      " 20  title                       39706 non-null  object \n",
      " 21  zip_code                    39717 non-null  object \n",
      " 22  addr_state                  39717 non-null  object \n",
      " 23  dti                         39717 non-null  float64\n",
      " 24  delinq_2yrs                 39717 non-null  int64  \n",
      " 25  earliest_cr_line            39717 non-null  object \n",
      " 26  inq_last_6mths              39717 non-null  int64  \n",
      " 27  open_acc                    39717 non-null  int64  \n",
      " 28  pub_rec                     39717 non-null  int64  \n",
      " 29  revol_bal                   39717 non-null  int64  \n",
      " 30  revol_util                  39667 non-null  object \n",
      " 31  total_acc                   39717 non-null  int64  \n",
      " 32  initial_list_status         39717 non-null  object \n",
      " 33  out_prncp                   39717 non-null  float64\n",
      " 34  out_prncp_inv               39717 non-null  float64\n",
      " 35  total_pymnt                 39717 non-null  float64\n",
      " 36  total_pymnt_inv             39717 non-null  float64\n",
      " 37  total_rec_prncp             39717 non-null  float64\n",
      " 38  total_rec_int               39717 non-null  float64\n",
      " 39  total_rec_late_fee          39717 non-null  float64\n",
      " 40  recoveries                  39717 non-null  float64\n",
      " 41  collection_recovery_fee     39717 non-null  float64\n",
      " 42  last_pymnt_d                39646 non-null  object \n",
      " 43  last_pymnt_amnt             39717 non-null  float64\n",
      " 44  last_credit_pull_d          39715 non-null  object \n",
      " 45  collections_12_mths_ex_med  39661 non-null  float64\n",
      " 46  policy_code                 39717 non-null  int64  \n",
      " 47  application_type            39717 non-null  object \n",
      " 48  acc_now_delinq              39717 non-null  int64  \n",
      " 49  chargeoff_within_12_mths    39661 non-null  float64\n",
      " 50  delinq_amnt                 39717 non-null  int64  \n",
      " 51  pub_rec_bankruptcies        39020 non-null  float64\n",
      " 52  tax_liens                   39678 non-null  float64\n",
      "dtypes: float64(18), int64(13), object(22)\n",
      "memory usage: 16.1+ MB\n"
     ]
    }
   ],
   "source": [
    "datacopy.info()"
   ]
  },
  {
   "cell_type": "code",
   "execution_count": 17,
   "id": "24389ea2",
   "metadata": {},
   "outputs": [],
   "source": [
    "datacopy[\"int_rate\"] = datacopy[\"int_rate\"].str.replace(\"%\",\"\").astype(float)"
   ]
  },
  {
   "cell_type": "code",
   "execution_count": 18,
   "id": "53bae2ba",
   "metadata": {},
   "outputs": [],
   "source": [
    "emp_len_mv=datacopy[datacopy[\"emp_length\"].isnull()].index"
   ]
  },
  {
   "cell_type": "code",
   "execution_count": 19,
   "id": "5decebb2",
   "metadata": {},
   "outputs": [],
   "source": [
    "datacopy=datacopy.drop(emp_len_mv)"
   ]
  },
  {
   "cell_type": "code",
   "execution_count": 20,
   "id": "4e0b699e",
   "metadata": {},
   "outputs": [
    {
     "data": {
      "text/plain": [
       "Int64Index([  168,   323,   394,   422,   439,   534,   555,   562,   569,\n",
       "              678,\n",
       "            ...\n",
       "            32418, 32435, 32466, 32517, 32545, 32591, 32608, 32621, 32631,\n",
       "            32665],\n",
       "           dtype='int64', length=1075)"
      ]
     },
     "execution_count": 20,
     "metadata": {},
     "output_type": "execute_result"
    }
   ],
   "source": [
    "emp_len_mv"
   ]
  },
  {
   "cell_type": "code",
   "execution_count": 21,
   "id": "fa3c3492",
   "metadata": {},
   "outputs": [
    {
     "data": {
      "text/html": [
       "<div>\n",
       "<style scoped>\n",
       "    .dataframe tbody tr th:only-of-type {\n",
       "        vertical-align: middle;\n",
       "    }\n",
       "\n",
       "    .dataframe tbody tr th {\n",
       "        vertical-align: top;\n",
       "    }\n",
       "\n",
       "    .dataframe thead th {\n",
       "        text-align: right;\n",
       "    }\n",
       "</style>\n",
       "<table border=\"1\" class=\"dataframe\">\n",
       "  <thead>\n",
       "    <tr style=\"text-align: right;\">\n",
       "      <th></th>\n",
       "      <th>id</th>\n",
       "      <th>member_id</th>\n",
       "      <th>loan_amnt</th>\n",
       "      <th>funded_amnt</th>\n",
       "      <th>funded_amnt_inv</th>\n",
       "      <th>term</th>\n",
       "      <th>int_rate</th>\n",
       "      <th>installment</th>\n",
       "      <th>grade</th>\n",
       "      <th>sub_grade</th>\n",
       "      <th>...</th>\n",
       "      <th>last_pymnt_amnt</th>\n",
       "      <th>last_credit_pull_d</th>\n",
       "      <th>collections_12_mths_ex_med</th>\n",
       "      <th>policy_code</th>\n",
       "      <th>application_type</th>\n",
       "      <th>acc_now_delinq</th>\n",
       "      <th>chargeoff_within_12_mths</th>\n",
       "      <th>delinq_amnt</th>\n",
       "      <th>pub_rec_bankruptcies</th>\n",
       "      <th>tax_liens</th>\n",
       "    </tr>\n",
       "  </thead>\n",
       "  <tbody>\n",
       "    <tr>\n",
       "      <th>0</th>\n",
       "      <td>1077501</td>\n",
       "      <td>1296599</td>\n",
       "      <td>5000</td>\n",
       "      <td>5000</td>\n",
       "      <td>4975.0</td>\n",
       "      <td>36 months</td>\n",
       "      <td>10.65</td>\n",
       "      <td>162.87</td>\n",
       "      <td>B</td>\n",
       "      <td>B2</td>\n",
       "      <td>...</td>\n",
       "      <td>171.62</td>\n",
       "      <td>May-16</td>\n",
       "      <td>0.0</td>\n",
       "      <td>1</td>\n",
       "      <td>INDIVIDUAL</td>\n",
       "      <td>0</td>\n",
       "      <td>0.0</td>\n",
       "      <td>0</td>\n",
       "      <td>0.0</td>\n",
       "      <td>0.0</td>\n",
       "    </tr>\n",
       "    <tr>\n",
       "      <th>1</th>\n",
       "      <td>1077430</td>\n",
       "      <td>1314167</td>\n",
       "      <td>2500</td>\n",
       "      <td>2500</td>\n",
       "      <td>2500.0</td>\n",
       "      <td>60 months</td>\n",
       "      <td>15.27</td>\n",
       "      <td>59.83</td>\n",
       "      <td>C</td>\n",
       "      <td>C4</td>\n",
       "      <td>...</td>\n",
       "      <td>119.66</td>\n",
       "      <td>Sep-13</td>\n",
       "      <td>0.0</td>\n",
       "      <td>1</td>\n",
       "      <td>INDIVIDUAL</td>\n",
       "      <td>0</td>\n",
       "      <td>0.0</td>\n",
       "      <td>0</td>\n",
       "      <td>0.0</td>\n",
       "      <td>0.0</td>\n",
       "    </tr>\n",
       "    <tr>\n",
       "      <th>2</th>\n",
       "      <td>1077175</td>\n",
       "      <td>1313524</td>\n",
       "      <td>2400</td>\n",
       "      <td>2400</td>\n",
       "      <td>2400.0</td>\n",
       "      <td>36 months</td>\n",
       "      <td>15.96</td>\n",
       "      <td>84.33</td>\n",
       "      <td>C</td>\n",
       "      <td>C5</td>\n",
       "      <td>...</td>\n",
       "      <td>649.91</td>\n",
       "      <td>May-16</td>\n",
       "      <td>0.0</td>\n",
       "      <td>1</td>\n",
       "      <td>INDIVIDUAL</td>\n",
       "      <td>0</td>\n",
       "      <td>0.0</td>\n",
       "      <td>0</td>\n",
       "      <td>0.0</td>\n",
       "      <td>0.0</td>\n",
       "    </tr>\n",
       "    <tr>\n",
       "      <th>3</th>\n",
       "      <td>1076863</td>\n",
       "      <td>1277178</td>\n",
       "      <td>10000</td>\n",
       "      <td>10000</td>\n",
       "      <td>10000.0</td>\n",
       "      <td>36 months</td>\n",
       "      <td>13.49</td>\n",
       "      <td>339.31</td>\n",
       "      <td>C</td>\n",
       "      <td>C1</td>\n",
       "      <td>...</td>\n",
       "      <td>357.48</td>\n",
       "      <td>Apr-16</td>\n",
       "      <td>0.0</td>\n",
       "      <td>1</td>\n",
       "      <td>INDIVIDUAL</td>\n",
       "      <td>0</td>\n",
       "      <td>0.0</td>\n",
       "      <td>0</td>\n",
       "      <td>0.0</td>\n",
       "      <td>0.0</td>\n",
       "    </tr>\n",
       "    <tr>\n",
       "      <th>4</th>\n",
       "      <td>1075358</td>\n",
       "      <td>1311748</td>\n",
       "      <td>3000</td>\n",
       "      <td>3000</td>\n",
       "      <td>3000.0</td>\n",
       "      <td>60 months</td>\n",
       "      <td>12.69</td>\n",
       "      <td>67.79</td>\n",
       "      <td>B</td>\n",
       "      <td>B5</td>\n",
       "      <td>...</td>\n",
       "      <td>67.79</td>\n",
       "      <td>May-16</td>\n",
       "      <td>0.0</td>\n",
       "      <td>1</td>\n",
       "      <td>INDIVIDUAL</td>\n",
       "      <td>0</td>\n",
       "      <td>0.0</td>\n",
       "      <td>0</td>\n",
       "      <td>0.0</td>\n",
       "      <td>0.0</td>\n",
       "    </tr>\n",
       "    <tr>\n",
       "      <th>...</th>\n",
       "      <td>...</td>\n",
       "      <td>...</td>\n",
       "      <td>...</td>\n",
       "      <td>...</td>\n",
       "      <td>...</td>\n",
       "      <td>...</td>\n",
       "      <td>...</td>\n",
       "      <td>...</td>\n",
       "      <td>...</td>\n",
       "      <td>...</td>\n",
       "      <td>...</td>\n",
       "      <td>...</td>\n",
       "      <td>...</td>\n",
       "      <td>...</td>\n",
       "      <td>...</td>\n",
       "      <td>...</td>\n",
       "      <td>...</td>\n",
       "      <td>...</td>\n",
       "      <td>...</td>\n",
       "      <td>...</td>\n",
       "      <td>...</td>\n",
       "    </tr>\n",
       "    <tr>\n",
       "      <th>39712</th>\n",
       "      <td>92187</td>\n",
       "      <td>92174</td>\n",
       "      <td>2500</td>\n",
       "      <td>2500</td>\n",
       "      <td>1075.0</td>\n",
       "      <td>36 months</td>\n",
       "      <td>8.07</td>\n",
       "      <td>78.42</td>\n",
       "      <td>A</td>\n",
       "      <td>A4</td>\n",
       "      <td>...</td>\n",
       "      <td>80.90</td>\n",
       "      <td>Jun-10</td>\n",
       "      <td>NaN</td>\n",
       "      <td>1</td>\n",
       "      <td>INDIVIDUAL</td>\n",
       "      <td>0</td>\n",
       "      <td>NaN</td>\n",
       "      <td>0</td>\n",
       "      <td>NaN</td>\n",
       "      <td>NaN</td>\n",
       "    </tr>\n",
       "    <tr>\n",
       "      <th>39713</th>\n",
       "      <td>90665</td>\n",
       "      <td>90607</td>\n",
       "      <td>8500</td>\n",
       "      <td>8500</td>\n",
       "      <td>875.0</td>\n",
       "      <td>36 months</td>\n",
       "      <td>10.28</td>\n",
       "      <td>275.38</td>\n",
       "      <td>C</td>\n",
       "      <td>C1</td>\n",
       "      <td>...</td>\n",
       "      <td>281.94</td>\n",
       "      <td>Jul-10</td>\n",
       "      <td>NaN</td>\n",
       "      <td>1</td>\n",
       "      <td>INDIVIDUAL</td>\n",
       "      <td>0</td>\n",
       "      <td>NaN</td>\n",
       "      <td>0</td>\n",
       "      <td>NaN</td>\n",
       "      <td>NaN</td>\n",
       "    </tr>\n",
       "    <tr>\n",
       "      <th>39714</th>\n",
       "      <td>90395</td>\n",
       "      <td>90390</td>\n",
       "      <td>5000</td>\n",
       "      <td>5000</td>\n",
       "      <td>1325.0</td>\n",
       "      <td>36 months</td>\n",
       "      <td>8.07</td>\n",
       "      <td>156.84</td>\n",
       "      <td>A</td>\n",
       "      <td>A4</td>\n",
       "      <td>...</td>\n",
       "      <td>0.00</td>\n",
       "      <td>Jun-07</td>\n",
       "      <td>NaN</td>\n",
       "      <td>1</td>\n",
       "      <td>INDIVIDUAL</td>\n",
       "      <td>0</td>\n",
       "      <td>NaN</td>\n",
       "      <td>0</td>\n",
       "      <td>NaN</td>\n",
       "      <td>NaN</td>\n",
       "    </tr>\n",
       "    <tr>\n",
       "      <th>39715</th>\n",
       "      <td>90376</td>\n",
       "      <td>89243</td>\n",
       "      <td>5000</td>\n",
       "      <td>5000</td>\n",
       "      <td>650.0</td>\n",
       "      <td>36 months</td>\n",
       "      <td>7.43</td>\n",
       "      <td>155.38</td>\n",
       "      <td>A</td>\n",
       "      <td>A2</td>\n",
       "      <td>...</td>\n",
       "      <td>0.00</td>\n",
       "      <td>Jun-07</td>\n",
       "      <td>NaN</td>\n",
       "      <td>1</td>\n",
       "      <td>INDIVIDUAL</td>\n",
       "      <td>0</td>\n",
       "      <td>NaN</td>\n",
       "      <td>0</td>\n",
       "      <td>NaN</td>\n",
       "      <td>NaN</td>\n",
       "    </tr>\n",
       "    <tr>\n",
       "      <th>39716</th>\n",
       "      <td>87023</td>\n",
       "      <td>86999</td>\n",
       "      <td>7500</td>\n",
       "      <td>7500</td>\n",
       "      <td>800.0</td>\n",
       "      <td>36 months</td>\n",
       "      <td>13.75</td>\n",
       "      <td>255.43</td>\n",
       "      <td>E</td>\n",
       "      <td>E2</td>\n",
       "      <td>...</td>\n",
       "      <td>256.59</td>\n",
       "      <td>Jun-10</td>\n",
       "      <td>NaN</td>\n",
       "      <td>1</td>\n",
       "      <td>INDIVIDUAL</td>\n",
       "      <td>0</td>\n",
       "      <td>NaN</td>\n",
       "      <td>0</td>\n",
       "      <td>NaN</td>\n",
       "      <td>NaN</td>\n",
       "    </tr>\n",
       "  </tbody>\n",
       "</table>\n",
       "<p>38642 rows × 53 columns</p>\n",
       "</div>"
      ],
      "text/plain": [
       "            id  member_id  loan_amnt  funded_amnt  funded_amnt_inv  \\\n",
       "0      1077501    1296599       5000         5000           4975.0   \n",
       "1      1077430    1314167       2500         2500           2500.0   \n",
       "2      1077175    1313524       2400         2400           2400.0   \n",
       "3      1076863    1277178      10000        10000          10000.0   \n",
       "4      1075358    1311748       3000         3000           3000.0   \n",
       "...        ...        ...        ...          ...              ...   \n",
       "39712    92187      92174       2500         2500           1075.0   \n",
       "39713    90665      90607       8500         8500            875.0   \n",
       "39714    90395      90390       5000         5000           1325.0   \n",
       "39715    90376      89243       5000         5000            650.0   \n",
       "39716    87023      86999       7500         7500            800.0   \n",
       "\n",
       "             term  int_rate  installment grade sub_grade  ... last_pymnt_amnt  \\\n",
       "0       36 months     10.65       162.87     B        B2  ...          171.62   \n",
       "1       60 months     15.27        59.83     C        C4  ...          119.66   \n",
       "2       36 months     15.96        84.33     C        C5  ...          649.91   \n",
       "3       36 months     13.49       339.31     C        C1  ...          357.48   \n",
       "4       60 months     12.69        67.79     B        B5  ...           67.79   \n",
       "...           ...       ...          ...   ...       ...  ...             ...   \n",
       "39712   36 months      8.07        78.42     A        A4  ...           80.90   \n",
       "39713   36 months     10.28       275.38     C        C1  ...          281.94   \n",
       "39714   36 months      8.07       156.84     A        A4  ...            0.00   \n",
       "39715   36 months      7.43       155.38     A        A2  ...            0.00   \n",
       "39716   36 months     13.75       255.43     E        E2  ...          256.59   \n",
       "\n",
       "      last_credit_pull_d collections_12_mths_ex_med  policy_code  \\\n",
       "0                 May-16                        0.0            1   \n",
       "1                 Sep-13                        0.0            1   \n",
       "2                 May-16                        0.0            1   \n",
       "3                 Apr-16                        0.0            1   \n",
       "4                 May-16                        0.0            1   \n",
       "...                  ...                        ...          ...   \n",
       "39712             Jun-10                        NaN            1   \n",
       "39713             Jul-10                        NaN            1   \n",
       "39714             Jun-07                        NaN            1   \n",
       "39715             Jun-07                        NaN            1   \n",
       "39716             Jun-10                        NaN            1   \n",
       "\n",
       "      application_type acc_now_delinq chargeoff_within_12_mths delinq_amnt  \\\n",
       "0           INDIVIDUAL              0                      0.0           0   \n",
       "1           INDIVIDUAL              0                      0.0           0   \n",
       "2           INDIVIDUAL              0                      0.0           0   \n",
       "3           INDIVIDUAL              0                      0.0           0   \n",
       "4           INDIVIDUAL              0                      0.0           0   \n",
       "...                ...            ...                      ...         ...   \n",
       "39712       INDIVIDUAL              0                      NaN           0   \n",
       "39713       INDIVIDUAL              0                      NaN           0   \n",
       "39714       INDIVIDUAL              0                      NaN           0   \n",
       "39715       INDIVIDUAL              0                      NaN           0   \n",
       "39716       INDIVIDUAL              0                      NaN           0   \n",
       "\n",
       "      pub_rec_bankruptcies tax_liens  \n",
       "0                      0.0       0.0  \n",
       "1                      0.0       0.0  \n",
       "2                      0.0       0.0  \n",
       "3                      0.0       0.0  \n",
       "4                      0.0       0.0  \n",
       "...                    ...       ...  \n",
       "39712                  NaN       NaN  \n",
       "39713                  NaN       NaN  \n",
       "39714                  NaN       NaN  \n",
       "39715                  NaN       NaN  \n",
       "39716                  NaN       NaN  \n",
       "\n",
       "[38642 rows x 53 columns]"
      ]
     },
     "execution_count": 21,
     "metadata": {},
     "output_type": "execute_result"
    }
   ],
   "source": [
    "datacopy[~datacopy[\"emp_length\"].isnull()]"
   ]
  },
  {
   "cell_type": "code",
   "execution_count": 22,
   "id": "52073ccb",
   "metadata": {},
   "outputs": [],
   "source": [
    "import re"
   ]
  },
  {
   "cell_type": "code",
   "execution_count": 23,
   "id": "8d970b5a",
   "metadata": {},
   "outputs": [],
   "source": [
    "datacopy[\"emp_length\"] = datacopy[\"emp_length\"].apply(lambda x: re.findall(\"\\d+\",str(x))[0])"
   ]
  },
  {
   "cell_type": "code",
   "execution_count": 24,
   "id": "0f3b7853",
   "metadata": {},
   "outputs": [],
   "source": [
    "datacopy[\"emp_length\"]=datacopy[\"emp_length\"].astype(int)"
   ]
  },
  {
   "cell_type": "code",
   "execution_count": 25,
   "id": "cef45e87",
   "metadata": {},
   "outputs": [
    {
     "data": {
      "text/plain": [
       "Fully Paid     32145\n",
       "Charged Off     5399\n",
       "Current         1098\n",
       "Name: loan_status, dtype: int64"
      ]
     },
     "execution_count": 25,
     "metadata": {},
     "output_type": "execute_result"
    }
   ],
   "source": [
    "datacopy['loan_status'].value_counts()"
   ]
  },
  {
   "cell_type": "code",
   "execution_count": 26,
   "id": "9982d2a4",
   "metadata": {},
   "outputs": [],
   "source": [
    "datacopy=datacopy[datacopy['loan_status']!=\"Current\"]"
   ]
  },
  {
   "cell_type": "code",
   "execution_count": 27,
   "id": "3abdd52a",
   "metadata": {},
   "outputs": [
    {
     "data": {
      "text/plain": [
       "Fully Paid     32145\n",
       "Charged Off     5399\n",
       "Name: loan_status, dtype: int64"
      ]
     },
     "execution_count": 27,
     "metadata": {},
     "output_type": "execute_result"
    }
   ],
   "source": [
    "datacopy['loan_status'].value_counts()"
   ]
  },
  {
   "cell_type": "code",
   "execution_count": 28,
   "id": "60f5c936",
   "metadata": {},
   "outputs": [
    {
     "data": {
      "text/plain": [
       "0        Dec-11\n",
       "1        Dec-11\n",
       "2        Dec-11\n",
       "3        Dec-11\n",
       "5        Dec-11\n",
       "          ...  \n",
       "39712    Jul-07\n",
       "39713    Jul-07\n",
       "39714    Jul-07\n",
       "39715    Jul-07\n",
       "39716    Jun-07\n",
       "Name: issue_d, Length: 37544, dtype: object"
      ]
     },
     "execution_count": 28,
     "metadata": {},
     "output_type": "execute_result"
    }
   ],
   "source": [
    "datacopy[\"issue_d\"]"
   ]
  },
  {
   "cell_type": "code",
   "execution_count": 29,
   "id": "ba395e80",
   "metadata": {},
   "outputs": [],
   "source": [
    "from datetime import datetime"
   ]
  },
  {
   "cell_type": "code",
   "execution_count": 30,
   "id": "0489a46e",
   "metadata": {},
   "outputs": [],
   "source": [
    "datacopy[\"issue_d\"]=datacopy[\"issue_d\"].apply(lambda x:datetime.strptime(x,\"%b-%y\"))"
   ]
  },
  {
   "cell_type": "code",
   "execution_count": 31,
   "id": "fb493d38",
   "metadata": {},
   "outputs": [
    {
     "data": {
      "text/plain": [
       "0       2011-12-01\n",
       "1       2011-12-01\n",
       "2       2011-12-01\n",
       "3       2011-12-01\n",
       "5       2011-12-01\n",
       "           ...    \n",
       "39712   2007-07-01\n",
       "39713   2007-07-01\n",
       "39714   2007-07-01\n",
       "39715   2007-07-01\n",
       "39716   2007-06-01\n",
       "Name: issue_d, Length: 37544, dtype: datetime64[ns]"
      ]
     },
     "execution_count": 31,
     "metadata": {},
     "output_type": "execute_result"
    }
   ],
   "source": [
    "datacopy[\"issue_d\"]"
   ]
  },
  {
   "cell_type": "code",
   "execution_count": 32,
   "id": "c24ce651",
   "metadata": {},
   "outputs": [],
   "source": [
    "datacopy[\"isd_month\"]=datacopy[\"issue_d\"].apply(lambda x:x.month)"
   ]
  },
  {
   "cell_type": "code",
   "execution_count": 33,
   "id": "22162e65",
   "metadata": {},
   "outputs": [
    {
     "data": {
      "text/plain": [
       "0        2011\n",
       "1        2011\n",
       "2        2011\n",
       "3        2011\n",
       "5        2011\n",
       "         ... \n",
       "39712    2007\n",
       "39713    2007\n",
       "39714    2007\n",
       "39715    2007\n",
       "39716    2007\n",
       "Name: isd_year, Length: 37544, dtype: int64"
      ]
     },
     "execution_count": 33,
     "metadata": {},
     "output_type": "execute_result"
    }
   ],
   "source": [
    "datacopy[\"isd_year\"]=datacopy[\"issue_d\"].apply(lambda x:x.year)\n",
    "datacopy[\"isd_year\"]"
   ]
  },
  {
   "cell_type": "code",
   "execution_count": 34,
   "id": "aec75014",
   "metadata": {},
   "outputs": [
    {
     "data": {
      "text/plain": [
       "0        83.70%\n",
       "1         9.40%\n",
       "2        98.50%\n",
       "3           21%\n",
       "5        28.30%\n",
       "          ...  \n",
       "39712    13.10%\n",
       "39713    26.90%\n",
       "39714    19.40%\n",
       "39715     0.70%\n",
       "39716    51.50%\n",
       "Name: revol_util, Length: 37544, dtype: object"
      ]
     },
     "execution_count": 34,
     "metadata": {},
     "output_type": "execute_result"
    }
   ],
   "source": [
    "datacopy[\"revol_util\"]"
   ]
  },
  {
   "cell_type": "code",
   "execution_count": 35,
   "id": "269fdb0b",
   "metadata": {},
   "outputs": [],
   "source": [
    "datacopy[\"revol_util\"]=datacopy[\"revol_util\"].str.replace(\"%\",\"\").astype(float)"
   ]
  },
  {
   "cell_type": "code",
   "execution_count": 36,
   "id": "015ea0d8",
   "metadata": {},
   "outputs": [
    {
     "data": {
      "text/plain": [
       "0        83.7\n",
       "1         9.4\n",
       "2        98.5\n",
       "3        21.0\n",
       "5        28.3\n",
       "         ... \n",
       "39712    13.1\n",
       "39713    26.9\n",
       "39714    19.4\n",
       "39715     0.7\n",
       "39716    51.5\n",
       "Name: revol_util, Length: 37544, dtype: float64"
      ]
     },
     "execution_count": 36,
     "metadata": {},
     "output_type": "execute_result"
    }
   ],
   "source": [
    "datacopy[\"revol_util\"]"
   ]
  },
  {
   "cell_type": "code",
   "execution_count": 37,
   "id": "12374711",
   "metadata": {},
   "outputs": [
    {
     "data": {
      "text/plain": [
       "array(['n'], dtype=object)"
      ]
     },
     "execution_count": 37,
     "metadata": {},
     "output_type": "execute_result"
    }
   ],
   "source": [
    "datacopy[\"pymnt_plan\"].unique() # not needed"
   ]
  },
  {
   "cell_type": "code",
   "execution_count": 38,
   "id": "04ce9335",
   "metadata": {},
   "outputs": [
    {
     "data": {
      "text/plain": [
       "0        Jan-85\n",
       "1        Apr-99\n",
       "2        Nov-01\n",
       "3        Feb-96\n",
       "5        Nov-04\n",
       "          ...  \n",
       "39712    Nov-90\n",
       "39713    Dec-86\n",
       "39714    Oct-98\n",
       "39715    Nov-88\n",
       "39716    Oct-03\n",
       "Name: earliest_cr_line, Length: 37544, dtype: object"
      ]
     },
     "execution_count": 38,
     "metadata": {},
     "output_type": "execute_result"
    }
   ],
   "source": [
    "datacopy[\"earliest_cr_line\"]   # not needed"
   ]
  },
  {
   "cell_type": "code",
   "execution_count": 39,
   "id": "73f4737f",
   "metadata": {},
   "outputs": [
    {
     "data": {
      "text/plain": [
       "array(['f'], dtype=object)"
      ]
     },
     "execution_count": 39,
     "metadata": {},
     "output_type": "execute_result"
    }
   ],
   "source": [
    "datacopy[\"initial_list_status\"].unique()"
   ]
  },
  {
   "cell_type": "code",
   "execution_count": 40,
   "id": "ed3b5cf9",
   "metadata": {},
   "outputs": [
    {
     "data": {
      "text/plain": [
       "array([0.])"
      ]
     },
     "execution_count": 40,
     "metadata": {},
     "output_type": "execute_result"
    }
   ],
   "source": [
    "datacopy[\"out_prncp_inv\"].unique()"
   ]
  },
  {
   "cell_type": "code",
   "execution_count": 41,
   "id": "c84ae829",
   "metadata": {},
   "outputs": [
    {
     "data": {
      "text/plain": [
       "0        Jan-15\n",
       "1        Apr-13\n",
       "2        Jun-14\n",
       "3        Jan-15\n",
       "5        Jan-15\n",
       "          ...  \n",
       "39712    Jul-10\n",
       "39713    Jul-10\n",
       "39714    Apr-08\n",
       "39715    Jan-08\n",
       "39716    Jun-10\n",
       "Name: last_pymnt_d, Length: 37544, dtype: object"
      ]
     },
     "execution_count": 41,
     "metadata": {},
     "output_type": "execute_result"
    }
   ],
   "source": [
    "datacopy[\"last_pymnt_d\"]"
   ]
  },
  {
   "cell_type": "code",
   "execution_count": 44,
   "id": "defc875a",
   "metadata": {},
   "outputs": [],
   "source": [
    "#datacopy[\"last_pymnt_d\"]=datacopy[\"last_pymnt_d\"].apply(lambda x:datetime.strptime(x,\"%b-%y\"))\n"
   ]
  },
  {
   "cell_type": "code",
   "execution_count": null,
   "id": "484960f9",
   "metadata": {},
   "outputs": [],
   "source": [
    "#datacopy[\"lpd_month\"]=datacopy[\"last_pymnt_d\"].apply(lambda x:x.month)\n",
    "#datacopy[\"lpd_year\"]=datacopy[\"last_pymnt_d\"].apply(lambda x:x.year)"
   ]
  },
  {
   "cell_type": "code",
   "execution_count": 45,
   "id": "d79ae4de",
   "metadata": {},
   "outputs": [
    {
     "data": {
      "text/plain": [
       "array([ 0., nan])"
      ]
     },
     "execution_count": 45,
     "metadata": {},
     "output_type": "execute_result"
    }
   ],
   "source": [
    "datacopy[\"collections_12_mths_ex_med\"].unique()"
   ]
  },
  {
   "cell_type": "code",
   "execution_count": 46,
   "id": "1ea7003a",
   "metadata": {},
   "outputs": [
    {
     "data": {
      "text/plain": [
       "array([1], dtype=int64)"
      ]
     },
     "execution_count": 46,
     "metadata": {},
     "output_type": "execute_result"
    }
   ],
   "source": [
    "datacopy[\"policy_code\"].unique()"
   ]
  },
  {
   "cell_type": "code",
   "execution_count": 47,
   "id": "467d787d",
   "metadata": {},
   "outputs": [
    {
     "data": {
      "text/plain": [
       "array(['INDIVIDUAL'], dtype=object)"
      ]
     },
     "execution_count": 47,
     "metadata": {},
     "output_type": "execute_result"
    }
   ],
   "source": [
    "datacopy[\"application_type\"].unique()"
   ]
  },
  {
   "cell_type": "code",
   "execution_count": 48,
   "id": "5205b18a",
   "metadata": {},
   "outputs": [
    {
     "data": {
      "text/plain": [
       "array([0], dtype=int64)"
      ]
     },
     "execution_count": 48,
     "metadata": {},
     "output_type": "execute_result"
    }
   ],
   "source": [
    "datacopy[\"acc_now_delinq\"].unique()"
   ]
  },
  {
   "cell_type": "code",
   "execution_count": 49,
   "id": "62f986bb",
   "metadata": {},
   "outputs": [
    {
     "data": {
      "text/plain": [
       "array([0], dtype=int64)"
      ]
     },
     "execution_count": 49,
     "metadata": {},
     "output_type": "execute_result"
    }
   ],
   "source": [
    "datacopy[\"delinq_amnt\"].unique()"
   ]
  },
  {
   "cell_type": "code",
   "execution_count": 50,
   "id": "61bc4edc",
   "metadata": {},
   "outputs": [
    {
     "data": {
      "text/plain": [
       "array([ 0.,  1.,  2., nan])"
      ]
     },
     "execution_count": 50,
     "metadata": {},
     "output_type": "execute_result"
    }
   ],
   "source": [
    "datacopy[\"pub_rec_bankruptcies\"].unique()"
   ]
  },
  {
   "cell_type": "code",
   "execution_count": 51,
   "id": "28daef00",
   "metadata": {},
   "outputs": [
    {
     "data": {
      "text/plain": [
       "array([ 0., nan])"
      ]
     },
     "execution_count": 51,
     "metadata": {},
     "output_type": "execute_result"
    }
   ],
   "source": [
    "datacopy[\"tax_liens\"].unique()"
   ]
  },
  {
   "cell_type": "code",
   "execution_count": 52,
   "id": "d871b59a",
   "metadata": {},
   "outputs": [],
   "source": [
    "req_cols = ['loan_amnt', 'funded_amnt', 'funded_amnt_inv',\n",
    "       'term', 'int_rate', 'installment', 'grade', 'sub_grade',\n",
    "       'emp_length', 'home_ownership', 'annual_inc', 'verification_status',\n",
    "        'purpose', 'dti', 'delinq_2yrs',\n",
    "       'inq_last_6mths', 'open_acc', 'pub_rec', 'revol_bal', 'revol_util',\n",
    "       'total_acc', 'total_pymnt', 'total_pymnt_inv', 'total_rec_prncp', 'total_rec_int',\n",
    "       'total_rec_late_fee', 'recoveries', 'collection_recovery_fee', 'last_pymnt_amnt',\n",
    "     'chargeoff_within_12_mths', 'pub_rec_bankruptcies', 'tax_liens', 'isd_month', 'isd_year',\"loan_status\"]"
   ]
  },
  {
   "cell_type": "code",
   "execution_count": 53,
   "id": "868d55be",
   "metadata": {},
   "outputs": [],
   "source": [
    "datacopy[req_cols].to_csv(\"loan_processed.csv\",index=False)"
   ]
  },
  {
   "cell_type": "code",
   "execution_count": 54,
   "id": "1cce4fec",
   "metadata": {},
   "outputs": [],
   "source": [
    "new_data=pd.read_csv(\"loan_processed.csv\")"
   ]
  },
  {
   "cell_type": "code",
   "execution_count": 55,
   "id": "9edd31c7",
   "metadata": {},
   "outputs": [
    {
     "data": {
      "text/plain": [
       "loan_amnt                     0\n",
       "funded_amnt                   0\n",
       "funded_amnt_inv               0\n",
       "term                          0\n",
       "int_rate                      0\n",
       "installment                   0\n",
       "grade                         0\n",
       "sub_grade                     0\n",
       "emp_length                    0\n",
       "home_ownership                0\n",
       "annual_inc                    0\n",
       "verification_status           0\n",
       "purpose                       0\n",
       "dti                           0\n",
       "delinq_2yrs                   0\n",
       "inq_last_6mths                0\n",
       "open_acc                      0\n",
       "pub_rec                       0\n",
       "revol_bal                     0\n",
       "revol_util                   47\n",
       "total_acc                     0\n",
       "total_pymnt                   0\n",
       "total_pymnt_inv               0\n",
       "total_rec_prncp               0\n",
       "total_rec_int                 0\n",
       "total_rec_late_fee            0\n",
       "recoveries                    0\n",
       "collection_recovery_fee       0\n",
       "last_pymnt_amnt               0\n",
       "chargeoff_within_12_mths     56\n",
       "pub_rec_bankruptcies        697\n",
       "tax_liens                    39\n",
       "isd_month                     0\n",
       "isd_year                      0\n",
       "loan_status                   0\n",
       "dtype: int64"
      ]
     },
     "execution_count": 55,
     "metadata": {},
     "output_type": "execute_result"
    }
   ],
   "source": [
    "new_data.isnull().sum()"
   ]
  },
  {
   "cell_type": "code",
   "execution_count": 56,
   "id": "2bddde4b",
   "metadata": {},
   "outputs": [
    {
     "data": {
      "image/png": "[encoded data removed]",
      "text/plain": [
       "<Figure size 432x288 with 1 Axes>"
      ]
     },
     "metadata": {
      "needs_background": "light"
     },
     "output_type": "display_data"
    }
   ],
   "source": [
    "plt.hist(new_data[\"revol_util\"])\n",
    "plt.show()"
   ]
  },
  {
   "cell_type": "code",
   "execution_count": 57,
   "id": "27e01248",
   "metadata": {},
   "outputs": [],
   "source": [
    "median_ru=new_data[\"revol_util\"].median()\n",
    "new_data[\"revol_util\"] = new_data[\"revol_util\"].fillna(median_ru)"
   ]
  },
  {
   "cell_type": "code",
   "execution_count": 58,
   "id": "ce85f3c1",
   "metadata": {},
   "outputs": [
    {
     "data": {
      "text/plain": [
       "0"
      ]
     },
     "execution_count": 58,
     "metadata": {},
     "output_type": "execute_result"
    }
   ],
   "source": [
    "new_data[\"revol_util\"].isnull().sum()"
   ]
  },
  {
   "cell_type": "code",
   "execution_count": 59,
   "id": "cd16081d",
   "metadata": {},
   "outputs": [
    {
     "data": {
      "text/plain": [
       "array([ 0., nan])"
      ]
     },
     "execution_count": 59,
     "metadata": {},
     "output_type": "execute_result"
    }
   ],
   "source": [
    "new_data[\"chargeoff_within_12_mths\"].unique()    \n",
    "    "
   ]
  },
  {
   "cell_type": "code",
   "execution_count": 60,
   "id": "60bfaa0d",
   "metadata": {},
   "outputs": [],
   "source": [
    "new_data = new_data.drop(\"chargeoff_within_12_mths\",axis=1)"
   ]
  },
  {
   "cell_type": "code",
   "execution_count": 61,
   "id": "700db140",
   "metadata": {},
   "outputs": [
    {
     "data": {
      "text/plain": [
       "loan_amnt                    0\n",
       "funded_amnt                  0\n",
       "funded_amnt_inv              0\n",
       "term                         0\n",
       "int_rate                     0\n",
       "installment                  0\n",
       "grade                        0\n",
       "sub_grade                    0\n",
       "emp_length                   0\n",
       "home_ownership               0\n",
       "annual_inc                   0\n",
       "verification_status          0\n",
       "purpose                      0\n",
       "dti                          0\n",
       "delinq_2yrs                  0\n",
       "inq_last_6mths               0\n",
       "open_acc                     0\n",
       "pub_rec                      0\n",
       "revol_bal                    0\n",
       "revol_util                   0\n",
       "total_acc                    0\n",
       "total_pymnt                  0\n",
       "total_pymnt_inv              0\n",
       "total_rec_prncp              0\n",
       "total_rec_int                0\n",
       "total_rec_late_fee           0\n",
       "recoveries                   0\n",
       "collection_recovery_fee      0\n",
       "last_pymnt_amnt              0\n",
       "pub_rec_bankruptcies       697\n",
       "tax_liens                   39\n",
       "isd_month                    0\n",
       "isd_year                     0\n",
       "loan_status                  0\n",
       "dtype: int64"
      ]
     },
     "execution_count": 61,
     "metadata": {},
     "output_type": "execute_result"
    }
   ],
   "source": [
    "new_data.isnull().sum()"
   ]
  },
  {
   "cell_type": "code",
   "execution_count": 62,
   "id": "edf18392",
   "metadata": {},
   "outputs": [
    {
     "data": {
      "text/plain": [
       "array([ 0.,  1.,  2., nan])"
      ]
     },
     "execution_count": 62,
     "metadata": {},
     "output_type": "execute_result"
    }
   ],
   "source": [
    "new_data[\"pub_rec_bankruptcies\"].unique()"
   ]
  },
  {
   "cell_type": "code",
   "execution_count": 63,
   "id": "0955beee",
   "metadata": {},
   "outputs": [
    {
     "data": {
      "image/png": "[encoded data removed]",
      "text/plain": [
       "<Figure size 432x288 with 1 Axes>"
      ]
     },
     "metadata": {
      "needs_background": "light"
     },
     "output_type": "display_data"
    }
   ],
   "source": [
    "plt.hist(new_data[\"pub_rec_bankruptcies\"])\n",
    "plt.show()"
   ]
  },
  {
   "cell_type": "code",
   "execution_count": 64,
   "id": "b0d8927e",
   "metadata": {},
   "outputs": [],
   "source": [
    "new_data[\"pub_rec_bankruptcies\"] = new_data[\"pub_rec_bankruptcies\"].fillna(0)"
   ]
  },
  {
   "cell_type": "code",
   "execution_count": 65,
   "id": "2628f9ba",
   "metadata": {},
   "outputs": [
    {
     "data": {
      "text/plain": [
       "loan_amnt                   0\n",
       "funded_amnt                 0\n",
       "funded_amnt_inv             0\n",
       "term                        0\n",
       "int_rate                    0\n",
       "installment                 0\n",
       "grade                       0\n",
       "sub_grade                   0\n",
       "emp_length                  0\n",
       "home_ownership              0\n",
       "annual_inc                  0\n",
       "verification_status         0\n",
       "purpose                     0\n",
       "dti                         0\n",
       "delinq_2yrs                 0\n",
       "inq_last_6mths              0\n",
       "open_acc                    0\n",
       "pub_rec                     0\n",
       "revol_bal                   0\n",
       "revol_util                  0\n",
       "total_acc                   0\n",
       "total_pymnt                 0\n",
       "total_pymnt_inv             0\n",
       "total_rec_prncp             0\n",
       "total_rec_int               0\n",
       "total_rec_late_fee          0\n",
       "recoveries                  0\n",
       "collection_recovery_fee     0\n",
       "last_pymnt_amnt             0\n",
       "pub_rec_bankruptcies        0\n",
       "tax_liens                  39\n",
       "isd_month                   0\n",
       "isd_year                    0\n",
       "loan_status                 0\n",
       "dtype: int64"
      ]
     },
     "execution_count": 65,
     "metadata": {},
     "output_type": "execute_result"
    }
   ],
   "source": [
    "new_data.isnull().sum()"
   ]
  },
  {
   "cell_type": "code",
   "execution_count": 66,
   "id": "e4c5f0dc",
   "metadata": {},
   "outputs": [
    {
     "data": {
      "text/plain": [
       "array([ 0., nan])"
      ]
     },
     "execution_count": 66,
     "metadata": {},
     "output_type": "execute_result"
    }
   ],
   "source": [
    "new_data[\"tax_liens\"].unique()"
   ]
  },
  {
   "cell_type": "code",
   "execution_count": 67,
   "id": "dbb8c5b4",
   "metadata": {},
   "outputs": [],
   "source": [
    "new_data=new_data.drop(\"tax_liens\",axis=1)"
   ]
  },
  {
   "cell_type": "code",
   "execution_count": 68,
   "id": "11ba7ccf",
   "metadata": {},
   "outputs": [
    {
     "data": {
      "text/plain": [
       "loan_amnt                  0\n",
       "funded_amnt                0\n",
       "funded_amnt_inv            0\n",
       "term                       0\n",
       "int_rate                   0\n",
       "installment                0\n",
       "grade                      0\n",
       "sub_grade                  0\n",
       "emp_length                 0\n",
       "home_ownership             0\n",
       "annual_inc                 0\n",
       "verification_status        0\n",
       "purpose                    0\n",
       "dti                        0\n",
       "delinq_2yrs                0\n",
       "inq_last_6mths             0\n",
       "open_acc                   0\n",
       "pub_rec                    0\n",
       "revol_bal                  0\n",
       "revol_util                 0\n",
       "total_acc                  0\n",
       "total_pymnt                0\n",
       "total_pymnt_inv            0\n",
       "total_rec_prncp            0\n",
       "total_rec_int              0\n",
       "total_rec_late_fee         0\n",
       "recoveries                 0\n",
       "collection_recovery_fee    0\n",
       "last_pymnt_amnt            0\n",
       "pub_rec_bankruptcies       0\n",
       "isd_month                  0\n",
       "isd_year                   0\n",
       "loan_status                0\n",
       "dtype: int64"
      ]
     },
     "execution_count": 68,
     "metadata": {},
     "output_type": "execute_result"
    }
   ],
   "source": [
    "new_data.isnull().sum()"
   ]
  },
  {
   "cell_type": "code",
   "execution_count": 69,
   "id": "dc41d9b6",
   "metadata": {},
   "outputs": [
    {
     "name": "stdout",
     "output_type": "stream",
     "text": [
      "<class 'pandas.core.frame.DataFrame'>\n",
      "RangeIndex: 37544 entries, 0 to 37543\n",
      "Data columns (total 33 columns):\n",
      " #   Column                   Non-Null Count  Dtype  \n",
      "---  ------                   --------------  -----  \n",
      " 0   loan_amnt                37544 non-null  int64  \n",
      " 1   funded_amnt              37544 non-null  int64  \n",
      " 2   funded_amnt_inv          37544 non-null  float64\n",
      " 3   term                     37544 non-null  object \n",
      " 4   int_rate                 37544 non-null  float64\n",
      " 5   installment              37544 non-null  float64\n",
      " 6   grade                    37544 non-null  object \n",
      " 7   sub_grade                37544 non-null  object \n",
      " 8   emp_length               37544 non-null  int64  \n",
      " 9   home_ownership           37544 non-null  object \n",
      " 10  annual_inc               37544 non-null  float64\n",
      " 11  verification_status      37544 non-null  object \n",
      " 12  purpose                  37544 non-null  object \n",
      " 13  dti                      37544 non-null  float64\n",
      " 14  delinq_2yrs              37544 non-null  int64  \n",
      " 15  inq_last_6mths           37544 non-null  int64  \n",
      " 16  open_acc                 37544 non-null  int64  \n",
      " 17  pub_rec                  37544 non-null  int64  \n",
      " 18  revol_bal                37544 non-null  int64  \n",
      " 19  revol_util               37544 non-null  float64\n",
      " 20  total_acc                37544 non-null  int64  \n",
      " 21  total_pymnt              37544 non-null  float64\n",
      " 22  total_pymnt_inv          37544 non-null  float64\n",
      " 23  total_rec_prncp          37544 non-null  float64\n",
      " 24  total_rec_int            37544 non-null  float64\n",
      " 25  total_rec_late_fee       37544 non-null  float64\n",
      " 26  recoveries               37544 non-null  float64\n",
      " 27  collection_recovery_fee  37544 non-null  float64\n",
      " 28  last_pymnt_amnt          37544 non-null  float64\n",
      " 29  pub_rec_bankruptcies     37544 non-null  float64\n",
      " 30  isd_month                37544 non-null  int64  \n",
      " 31  isd_year                 37544 non-null  int64  \n",
      " 32  loan_status              37544 non-null  object \n",
      "dtypes: float64(15), int64(11), object(7)\n",
      "memory usage: 9.5+ MB\n"
     ]
    }
   ],
   "source": [
    "new_data.info()"
   ]
  },
  {
   "cell_type": "code",
   "execution_count": 70,
   "id": "31083dbb",
   "metadata": {},
   "outputs": [
    {
     "data": {
      "text/plain": [
       "array([' 36 months', ' 60 months'], dtype=object)"
      ]
     },
     "execution_count": 70,
     "metadata": {},
     "output_type": "execute_result"
    }
   ],
   "source": [
    "new_data[\"term\"].unique()"
   ]
  },
  {
   "cell_type": "code",
   "execution_count": 71,
   "id": "e0061939",
   "metadata": {},
   "outputs": [],
   "source": [
    "new_data[\"term\"]= new_data[\"term\"].map({' 36 months':36,' 60 months':60})"
   ]
  },
  {
   "cell_type": "code",
   "execution_count": 72,
   "id": "4af1f0a5",
   "metadata": {},
   "outputs": [
    {
     "data": {
      "text/plain": [
       "0        36\n",
       "1        60\n",
       "2        36\n",
       "3        36\n",
       "4        36\n",
       "         ..\n",
       "37539    36\n",
       "37540    36\n",
       "37541    36\n",
       "37542    36\n",
       "37543    36\n",
       "Name: term, Length: 37544, dtype: int64"
      ]
     },
     "execution_count": 72,
     "metadata": {},
     "output_type": "execute_result"
    }
   ],
   "source": [
    "new_data[\"term\"]"
   ]
  },
  {
   "cell_type": "code",
   "execution_count": 73,
   "id": "933775c1",
   "metadata": {},
   "outputs": [
    {
     "data": {
      "text/plain": [
       "array(['B', 'C', 'A', 'E', 'F', 'D', 'G'], dtype=object)"
      ]
     },
     "execution_count": 73,
     "metadata": {},
     "output_type": "execute_result"
    }
   ],
   "source": [
    "new_data[\"grade\"].unique()"
   ]
  },
  {
   "cell_type": "code",
   "execution_count": 74,
   "id": "18758842",
   "metadata": {},
   "outputs": [
    {
     "data": {
      "text/plain": [
       "array(['B2', 'C4', 'C5', 'C1', 'A4', 'E1', 'F2', 'B5', 'C3', 'B1', 'D1',\n",
       "       'A1', 'B3', 'B4', 'C2', 'D2', 'A3', 'A5', 'D5', 'A2', 'E4', 'D3',\n",
       "       'D4', 'F3', 'E3', 'F1', 'E5', 'G4', 'E2', 'G2', 'G1', 'F5', 'F4',\n",
       "       'G5', 'G3'], dtype=object)"
      ]
     },
     "execution_count": 74,
     "metadata": {},
     "output_type": "execute_result"
    }
   ],
   "source": [
    "new_data[\"sub_grade\"].unique()"
   ]
  },
  {
   "cell_type": "code",
   "execution_count": 75,
   "id": "185a1e4c",
   "metadata": {},
   "outputs": [
    {
     "data": {
      "text/plain": [
       "array(['RENT', 'OWN', 'MORTGAGE', 'OTHER', 'NONE'], dtype=object)"
      ]
     },
     "execution_count": 75,
     "metadata": {},
     "output_type": "execute_result"
    }
   ],
   "source": [
    "new_data[\"home_ownership\"].unique()"
   ]
  },
  {
   "cell_type": "code",
   "execution_count": 76,
   "id": "1623ad5b",
   "metadata": {},
   "outputs": [
    {
     "data": {
      "text/plain": [
       "array(['Verified', 'Source Verified', 'Not Verified'], dtype=object)"
      ]
     },
     "execution_count": 76,
     "metadata": {},
     "output_type": "execute_result"
    }
   ],
   "source": [
    "new_data[\"verification_status\"].unique() "
   ]
  },
  {
   "cell_type": "code",
   "execution_count": 77,
   "id": "c79714eb",
   "metadata": {},
   "outputs": [
    {
     "data": {
      "text/plain": [
       "array(['credit_card', 'car', 'small_business', 'other', 'wedding',\n",
       "       'debt_consolidation', 'home_improvement', 'major_purchase',\n",
       "       'medical', 'moving', 'vacation', 'house', 'renewable_energy',\n",
       "       'educational'], dtype=object)"
      ]
     },
     "execution_count": 77,
     "metadata": {},
     "output_type": "execute_result"
    }
   ],
   "source": [
    "new_data[\"purpose\"].unique() "
   ]
  },
  {
   "cell_type": "code",
   "execution_count": 78,
   "id": "04f7942b",
   "metadata": {},
   "outputs": [],
   "source": [
    "from sklearn.preprocessing import LabelEncoder\n",
    "le=LabelEncoder()\n",
    "new_data[\"grade\"]=le.fit_transform(new_data[\"grade\"])"
   ]
  },
  {
   "cell_type": "code",
   "execution_count": 79,
   "id": "43a4e212",
   "metadata": {},
   "outputs": [
    {
     "data": {
      "text/plain": [
       "(37544, 33)"
      ]
     },
     "execution_count": 79,
     "metadata": {},
     "output_type": "execute_result"
    }
   ],
   "source": [
    "new_data.shape"
   ]
  },
  {
   "cell_type": "code",
   "execution_count": 80,
   "id": "22bc315f",
   "metadata": {},
   "outputs": [
    {
     "data": {
      "text/plain": [
       "Index(['loan_amnt', 'funded_amnt', 'funded_amnt_inv', 'term', 'int_rate',\n",
       "       'installment', 'grade', 'sub_grade', 'emp_length', 'home_ownership',\n",
       "       'annual_inc', 'verification_status', 'purpose', 'dti', 'delinq_2yrs',\n",
       "       'inq_last_6mths', 'open_acc', 'pub_rec', 'revol_bal', 'revol_util',\n",
       "       'total_acc', 'total_pymnt', 'total_pymnt_inv', 'total_rec_prncp',\n",
       "       'total_rec_int', 'total_rec_late_fee', 'recoveries',\n",
       "       'collection_recovery_fee', 'last_pymnt_amnt', 'pub_rec_bankruptcies',\n",
       "       'isd_month', 'isd_year', 'loan_status'],\n",
       "      dtype='object')"
      ]
     },
     "execution_count": 80,
     "metadata": {},
     "output_type": "execute_result"
    }
   ],
   "source": [
    "new_data.columns"
   ]
  },
  {
   "cell_type": "code",
   "execution_count": 81,
   "id": "c29bb71c",
   "metadata": {},
   "outputs": [],
   "source": [
    "x=new_data.drop('loan_status',axis=1)\n",
    "y=new_data['loan_status']"
   ]
  },
  {
   "cell_type": "code",
   "execution_count": 82,
   "id": "65d130c9",
   "metadata": {},
   "outputs": [],
   "source": [
    "x=pd.get_dummies(x)"
   ]
  },
  {
   "cell_type": "code",
   "execution_count": 83,
   "id": "a2217b43",
   "metadata": {},
   "outputs": [],
   "source": [
    "#DecisionTress/BaggingClassifier/RandomForest"
   ]
  },
  {
   "cell_type": "code",
   "execution_count": 84,
   "id": "f340cf96",
   "metadata": {},
   "outputs": [],
   "source": [
    "from sklearn.model_selection import train_test_split\n",
    "x_train,x_test,y_train,y_test=train_test_split(x,y,test_size=0.2,random_state=134)"
   ]
  },
  {
   "cell_type": "code",
   "execution_count": 85,
   "id": "4089921f",
   "metadata": {},
   "outputs": [],
   "source": [
    "from sklearn.tree import DecisionTreeClassifier\n",
    "from sklearn.metrics import accuracy_score\n",
    "from sklearn.metrics import f1_score\n",
    "from sklearn.metrics import recall_score\n",
    "from sklearn.metrics import precision_score\n",
    "from sklearn.metrics import accuracy_score\n",
    "from sklearn.metrics import confusion_matrix, classification_report\n",
    "\n"
   ]
  },
  {
   "cell_type": "code",
   "execution_count": 86,
   "id": "767407ee",
   "metadata": {},
   "outputs": [
    {
     "data": {
      "text/plain": [
       "loan_amnt                                int64\n",
       "funded_amnt                              int64\n",
       "funded_amnt_inv                        float64\n",
       "term                                     int64\n",
       "int_rate                               float64\n",
       "installment                            float64\n",
       "grade                                    int32\n",
       "emp_length                               int64\n",
       "annual_inc                             float64\n",
       "dti                                    float64\n",
       "delinq_2yrs                              int64\n",
       "inq_last_6mths                           int64\n",
       "open_acc                                 int64\n",
       "pub_rec                                  int64\n",
       "revol_bal                                int64\n",
       "revol_util                             float64\n",
       "total_acc                                int64\n",
       "total_pymnt                            float64\n",
       "total_pymnt_inv                        float64\n",
       "total_rec_prncp                        float64\n",
       "total_rec_int                          float64\n",
       "total_rec_late_fee                     float64\n",
       "recoveries                             float64\n",
       "collection_recovery_fee                float64\n",
       "last_pymnt_amnt                        float64\n",
       "pub_rec_bankruptcies                   float64\n",
       "isd_month                                int64\n",
       "isd_year                                 int64\n",
       "sub_grade_A1                             uint8\n",
       "sub_grade_A2                             uint8\n",
       "sub_grade_A3                             uint8\n",
       "sub_grade_A4                             uint8\n",
       "sub_grade_A5                             uint8\n",
       "sub_grade_B1                             uint8\n",
       "sub_grade_B2                             uint8\n",
       "sub_grade_B3                             uint8\n",
       "sub_grade_B4                             uint8\n",
       "sub_grade_B5                             uint8\n",
       "sub_grade_C1                             uint8\n",
       "sub_grade_C2                             uint8\n",
       "sub_grade_C3                             uint8\n",
       "sub_grade_C4                             uint8\n",
       "sub_grade_C5                             uint8\n",
       "sub_grade_D1                             uint8\n",
       "sub_grade_D2                             uint8\n",
       "sub_grade_D3                             uint8\n",
       "sub_grade_D4                             uint8\n",
       "sub_grade_D5                             uint8\n",
       "sub_grade_E1                             uint8\n",
       "sub_grade_E2                             uint8\n",
       "sub_grade_E3                             uint8\n",
       "sub_grade_E4                             uint8\n",
       "sub_grade_E5                             uint8\n",
       "sub_grade_F1                             uint8\n",
       "sub_grade_F2                             uint8\n",
       "sub_grade_F3                             uint8\n",
       "sub_grade_F4                             uint8\n",
       "sub_grade_F5                             uint8\n",
       "sub_grade_G1                             uint8\n",
       "sub_grade_G2                             uint8\n",
       "sub_grade_G3                             uint8\n",
       "sub_grade_G4                             uint8\n",
       "sub_grade_G5                             uint8\n",
       "home_ownership_MORTGAGE                  uint8\n",
       "home_ownership_NONE                      uint8\n",
       "home_ownership_OTHER                     uint8\n",
       "home_ownership_OWN                       uint8\n",
       "home_ownership_RENT                      uint8\n",
       "verification_status_Not Verified         uint8\n",
       "verification_status_Source Verified      uint8\n",
       "verification_status_Verified             uint8\n",
       "purpose_car                              uint8\n",
       "purpose_credit_card                      uint8\n",
       "purpose_debt_consolidation               uint8\n",
       "purpose_educational                      uint8\n",
       "purpose_home_improvement                 uint8\n",
       "purpose_house                            uint8\n",
       "purpose_major_purchase                   uint8\n",
       "purpose_medical                          uint8\n",
       "purpose_moving                           uint8\n",
       "purpose_other                            uint8\n",
       "purpose_renewable_energy                 uint8\n",
       "purpose_small_business                   uint8\n",
       "purpose_vacation                         uint8\n",
       "purpose_wedding                          uint8\n",
       "dtype: object"
      ]
     },
     "execution_count": 86,
     "metadata": {},
     "output_type": "execute_result"
    }
   ],
   "source": [
    "x_train.dtypes"
   ]
  },
  {
   "cell_type": "code",
   "execution_count": 87,
   "id": "74aa1767",
   "metadata": {},
   "outputs": [
    {
     "data": {
      "text/plain": [
       "0.9925422825942203"
      ]
     },
     "execution_count": 87,
     "metadata": {},
     "output_type": "execute_result"
    }
   ],
   "source": [
    "dt=DecisionTreeClassifier()\n",
    "dt.fit(x_train,y_train)\n",
    "y_pred=dt.predict(x_test)\n",
    "accuracy_score(y_test,y_pred)"
   ]
  },
  {
   "cell_type": "code",
   "execution_count": 88,
   "id": "44a9613f",
   "metadata": {},
   "outputs": [
    {
     "data": {
      "text/plain": [
       "array([[1092,   31],\n",
       "       [  25, 6361]], dtype=int64)"
      ]
     },
     "execution_count": 88,
     "metadata": {},
     "output_type": "execute_result"
    }
   ],
   "source": [
    "confusion_matrix(y_test,y_pred)"
   ]
  },
  {
   "cell_type": "code",
   "execution_count": 89,
   "id": "aaaa50a2",
   "metadata": {},
   "outputs": [
    {
     "data": {
      "text/plain": [
       "0.9953389266213877"
      ]
     },
     "execution_count": 89,
     "metadata": {},
     "output_type": "execute_result"
    }
   ],
   "source": [
    "base= DecisionTreeClassifier()\n",
    "\n",
    "from sklearn.ensemble import BaggingClassifier\n",
    "bg=BaggingClassifier(base_estimator=base,n_estimators=50)\n",
    "bg.fit(x_train,y_train)\n",
    "y_pred=bg.predict(x_test)\n",
    "accuracy_score(y_test,y_pred)"
   ]
  },
  {
   "cell_type": "code",
   "execution_count": 90,
   "id": "674680a9",
   "metadata": {},
   "outputs": [
    {
     "data": {
      "text/plain": [
       "array([[1088,   35],\n",
       "       [   0, 6386]], dtype=int64)"
      ]
     },
     "execution_count": 90,
     "metadata": {},
     "output_type": "execute_result"
    }
   ],
   "source": [
    "confusion_matrix(y_test,y_pred)"
   ]
  },
  {
   "cell_type": "code",
   "execution_count": 91,
   "id": "70af14be",
   "metadata": {},
   "outputs": [
    {
     "data": {
      "text/plain": [
       "0.9940071913703555"
      ]
     },
     "execution_count": 91,
     "metadata": {},
     "output_type": "execute_result"
    }
   ],
   "source": [
    "from sklearn.ensemble import RandomForestClassifier\n",
    "rt=RandomForestClassifier(max_depth=16,n_estimators=150)\n",
    "rt.fit(x_train,y_train)\n",
    "y_pred=rt.predict(x_test)\n",
    "accuracy_score(y_test,y_pred)"
   ]
  },
  {
   "cell_type": "code",
   "execution_count": 92,
   "id": "fd70d216",
   "metadata": {},
   "outputs": [
    {
     "data": {
      "text/plain": [
       "array([[1078,   45],\n",
       "       [   0, 6386]], dtype=int64)"
      ]
     },
     "execution_count": 92,
     "metadata": {},
     "output_type": "execute_result"
    }
   ],
   "source": [
    "confusion_matrix(y_test,y_pred)"
   ]
  },
  {
   "cell_type": "code",
   "execution_count": 94,
   "id": "34363e4a",
   "metadata": {},
   "outputs": [],
   "source": [
    "#Assignment Question \n",
    "#Check the cross validated score on decision trees, bagging classifier, random forest. \n",
    "#Do the scaling and apply logisitc regression , KNN, svm"
   ]
  },
  {
   "cell_type": "code",
   "execution_count": 93,
   "id": "e4c9ba18",
   "metadata": {},
   "outputs": [],
   "source": [
    "###K fold cross validation technique"
   ]
  },
  {
   "cell_type": "markdown",
   "id": "9888ace3",
   "metadata": {},
   "source": [
    "1.Decision Tree"
   ]
  },
  {
   "cell_type": "code",
   "execution_count": 95,
   "id": "92009974",
   "metadata": {},
   "outputs": [
    {
     "name": "stdout",
     "output_type": "stream",
     "text": [
      "Accuracy of Decision Tree with CV is  0.9933744351520651\n"
     ]
    }
   ],
   "source": [
    "from sklearn.model_selection import cross_val_score\n",
    "dt=DecisionTreeClassifier()\n",
    "\n",
    "cv_resultsDT=cross_val_score(dt,x_train,y_train,cv=10,scoring=\"accuracy\")\n",
    "cv_meanDT=cv_resultsDT.mean()\n",
    "print(\"Accuracy of Decision Tree with CV is \",cv_meanDT)"
   ]
  },
  {
   "cell_type": "markdown",
   "id": "827e53b0",
   "metadata": {},
   "source": [
    "2.Bagging Classifier"
   ]
  },
  {
   "cell_type": "code",
   "execution_count": 97,
   "id": "55e83cd5",
   "metadata": {},
   "outputs": [
    {
     "name": "stdout",
     "output_type": "stream",
     "text": [
      "Accuracy of Bagging CLassifier with CV is  0.9956384605186204\n"
     ]
    }
   ],
   "source": [
    "bs_et= DecisionTreeClassifier()\n",
    "\n",
    "bg=BaggingClassifier(base_estimator=bs_et,n_estimators=100)\n",
    "\n",
    "cv_resultsbg=cross_val_score(bg,x_train,y_train,cv=10,scoring=\"accuracy\")\n",
    "cv_meanbg=cv_resultsbg.mean()\n",
    "print(\"Accuracy of Bagging CLassifier with CV is \",cv_meanbg)"
   ]
  },
  {
   "cell_type": "markdown",
   "id": "b5d8abe2",
   "metadata": {},
   "source": [
    "3.Random Forest"
   ]
  },
  {
   "cell_type": "code",
   "execution_count": 98,
   "id": "46971db1",
   "metadata": {},
   "outputs": [
    {
     "name": "stdout",
     "output_type": "stream",
     "text": [
      "Accuracy of Random Forest with CV is  0.9944064923092887\n"
     ]
    }
   ],
   "source": [
    "rt=RandomForestClassifier()\n",
    "\n",
    "cv_resultsrf=cross_val_score(rt,x_train,y_train,cv=10,scoring=\"accuracy\")\n",
    "cv_meanrf=cv_resultsrf.mean()\n",
    "print(\"Accuracy of Random Forest with CV is \",cv_meanrf)"
   ]
  },
  {
   "cell_type": "code",
   "execution_count": 99,
   "id": "9685fd1c",
   "metadata": {},
   "outputs": [
    {
     "data": {
      "text/html": [
       "<div>\n",
       "<style scoped>\n",
       "    .dataframe tbody tr th:only-of-type {\n",
       "        vertical-align: middle;\n",
       "    }\n",
       "\n",
       "    .dataframe tbody tr th {\n",
       "        vertical-align: top;\n",
       "    }\n",
       "\n",
       "    .dataframe thead th {\n",
       "        text-align: right;\n",
       "    }\n",
       "</style>\n",
       "<table border=\"1\" class=\"dataframe\">\n",
       "  <thead>\n",
       "    <tr style=\"text-align: right;\">\n",
       "      <th></th>\n",
       "      <th>Accuracy values</th>\n",
       "    </tr>\n",
       "  </thead>\n",
       "  <tbody>\n",
       "    <tr>\n",
       "      <th>Decision Tree with CV</th>\n",
       "      <td>0.993374</td>\n",
       "    </tr>\n",
       "    <tr>\n",
       "      <th>Bagging classifer with CV</th>\n",
       "      <td>0.995638</td>\n",
       "    </tr>\n",
       "    <tr>\n",
       "      <th>Random Forest with CV</th>\n",
       "      <td>0.994406</td>\n",
       "    </tr>\n",
       "  </tbody>\n",
       "</table>\n",
       "</div>"
      ],
      "text/plain": [
       "                           Accuracy values\n",
       "Decision Tree with CV             0.993374\n",
       "Bagging classifer with CV         0.995638\n",
       "Random Forest with CV             0.994406"
      ]
     },
     "execution_count": 99,
     "metadata": {},
     "output_type": "execute_result"
    }
   ],
   "source": [
    "results =pd.DataFrame([cv_meanDT,cv_meanbg,cv_meanrf],columns=['Accuracy values'])\n",
    "results = results.set_axis([\"Decision Tree with CV\",\"Bagging classifer with CV\",\"Random Forest with CV\"])\n",
    "results"
   ]
  },
  {
   "cell_type": "code",
   "execution_count": 100,
   "id": "fbbbf7bf",
   "metadata": {},
   "outputs": [],
   "source": [
    "#WE will do scaling and apply logisitc regression , KNN, svm"
   ]
  },
  {
   "cell_type": "code",
   "execution_count": 101,
   "id": "7bc1298f",
   "metadata": {
    "scrolled": false
   },
   "outputs": [
    {
     "data": {
      "text/html": [
       "<div>\n",
       "<style scoped>\n",
       "    .dataframe tbody tr th:only-of-type {\n",
       "        vertical-align: middle;\n",
       "    }\n",
       "\n",
       "    .dataframe tbody tr th {\n",
       "        vertical-align: top;\n",
       "    }\n",
       "\n",
       "    .dataframe thead th {\n",
       "        text-align: right;\n",
       "    }\n",
       "</style>\n",
       "<table border=\"1\" class=\"dataframe\">\n",
       "  <thead>\n",
       "    <tr style=\"text-align: right;\">\n",
       "      <th></th>\n",
       "      <th>count</th>\n",
       "      <th>mean</th>\n",
       "      <th>std</th>\n",
       "      <th>min</th>\n",
       "      <th>25%</th>\n",
       "      <th>50%</th>\n",
       "      <th>75%</th>\n",
       "      <th>max</th>\n",
       "    </tr>\n",
       "  </thead>\n",
       "  <tbody>\n",
       "    <tr>\n",
       "      <th>loan_amnt</th>\n",
       "      <td>30035.0</td>\n",
       "      <td>11102.608623</td>\n",
       "      <td>7366.508672</td>\n",
       "      <td>500.00</td>\n",
       "      <td>5400.000000</td>\n",
       "      <td>9800.000000</td>\n",
       "      <td>15000.000000</td>\n",
       "      <td>3.500000e+04</td>\n",
       "    </tr>\n",
       "    <tr>\n",
       "      <th>funded_amnt</th>\n",
       "      <td>30035.0</td>\n",
       "      <td>10835.749126</td>\n",
       "      <td>7108.952296</td>\n",
       "      <td>500.00</td>\n",
       "      <td>5300.000000</td>\n",
       "      <td>9600.000000</td>\n",
       "      <td>15000.000000</td>\n",
       "      <td>3.500000e+04</td>\n",
       "    </tr>\n",
       "    <tr>\n",
       "      <th>funded_amnt_inv</th>\n",
       "      <td>30035.0</td>\n",
       "      <td>10261.491944</td>\n",
       "      <td>7038.374975</td>\n",
       "      <td>0.00</td>\n",
       "      <td>5000.000000</td>\n",
       "      <td>8800.000000</td>\n",
       "      <td>14025.000000</td>\n",
       "      <td>3.500000e+04</td>\n",
       "    </tr>\n",
       "    <tr>\n",
       "      <th>term</th>\n",
       "      <td>30035.0</td>\n",
       "      <td>41.909905</td>\n",
       "      <td>10.339937</td>\n",
       "      <td>36.00</td>\n",
       "      <td>36.000000</td>\n",
       "      <td>36.000000</td>\n",
       "      <td>36.000000</td>\n",
       "      <td>6.000000e+01</td>\n",
       "    </tr>\n",
       "    <tr>\n",
       "      <th>int_rate</th>\n",
       "      <td>30035.0</td>\n",
       "      <td>11.950506</td>\n",
       "      <td>3.684473</td>\n",
       "      <td>5.42</td>\n",
       "      <td>8.940000</td>\n",
       "      <td>11.780000</td>\n",
       "      <td>14.420000</td>\n",
       "      <td>2.440000e+01</td>\n",
       "    </tr>\n",
       "    <tr>\n",
       "      <th>installment</th>\n",
       "      <td>30035.0</td>\n",
       "      <td>324.169390</td>\n",
       "      <td>209.624349</td>\n",
       "      <td>15.69</td>\n",
       "      <td>166.630000</td>\n",
       "      <td>279.090000</td>\n",
       "      <td>428.665000</td>\n",
       "      <td>1.305190e+03</td>\n",
       "    </tr>\n",
       "    <tr>\n",
       "      <th>grade</th>\n",
       "      <td>30035.0</td>\n",
       "      <td>1.558715</td>\n",
       "      <td>1.382320</td>\n",
       "      <td>0.00</td>\n",
       "      <td>0.000000</td>\n",
       "      <td>1.000000</td>\n",
       "      <td>2.000000</td>\n",
       "      <td>6.000000e+00</td>\n",
       "    </tr>\n",
       "    <tr>\n",
       "      <th>emp_length</th>\n",
       "      <td>30035.0</td>\n",
       "      <td>5.064192</td>\n",
       "      <td>3.404058</td>\n",
       "      <td>1.00</td>\n",
       "      <td>2.000000</td>\n",
       "      <td>4.000000</td>\n",
       "      <td>9.000000</td>\n",
       "      <td>1.000000e+01</td>\n",
       "    </tr>\n",
       "    <tr>\n",
       "      <th>annual_inc</th>\n",
       "      <td>30035.0</td>\n",
       "      <td>69139.851938</td>\n",
       "      <td>66341.869316</td>\n",
       "      <td>4000.00</td>\n",
       "      <td>41000.000000</td>\n",
       "      <td>59500.000000</td>\n",
       "      <td>82500.000000</td>\n",
       "      <td>6.000000e+06</td>\n",
       "    </tr>\n",
       "    <tr>\n",
       "      <th>dti</th>\n",
       "      <td>30035.0</td>\n",
       "      <td>13.288159</td>\n",
       "      <td>6.663032</td>\n",
       "      <td>0.00</td>\n",
       "      <td>8.170000</td>\n",
       "      <td>13.370000</td>\n",
       "      <td>18.560000</td>\n",
       "      <td>2.999000e+01</td>\n",
       "    </tr>\n",
       "    <tr>\n",
       "      <th>delinq_2yrs</th>\n",
       "      <td>30035.0</td>\n",
       "      <td>0.148027</td>\n",
       "      <td>0.493410</td>\n",
       "      <td>0.00</td>\n",
       "      <td>0.000000</td>\n",
       "      <td>0.000000</td>\n",
       "      <td>0.000000</td>\n",
       "      <td>1.100000e+01</td>\n",
       "    </tr>\n",
       "    <tr>\n",
       "      <th>inq_last_6mths</th>\n",
       "      <td>30035.0</td>\n",
       "      <td>0.876777</td>\n",
       "      <td>1.073837</td>\n",
       "      <td>0.00</td>\n",
       "      <td>0.000000</td>\n",
       "      <td>1.000000</td>\n",
       "      <td>1.000000</td>\n",
       "      <td>8.000000e+00</td>\n",
       "    </tr>\n",
       "    <tr>\n",
       "      <th>open_acc</th>\n",
       "      <td>30035.0</td>\n",
       "      <td>9.289029</td>\n",
       "      <td>4.387131</td>\n",
       "      <td>2.00</td>\n",
       "      <td>6.000000</td>\n",
       "      <td>9.000000</td>\n",
       "      <td>12.000000</td>\n",
       "      <td>4.200000e+01</td>\n",
       "    </tr>\n",
       "    <tr>\n",
       "      <th>pub_rec</th>\n",
       "      <td>30035.0</td>\n",
       "      <td>0.052472</td>\n",
       "      <td>0.232484</td>\n",
       "      <td>0.00</td>\n",
       "      <td>0.000000</td>\n",
       "      <td>0.000000</td>\n",
       "      <td>0.000000</td>\n",
       "      <td>4.000000e+00</td>\n",
       "    </tr>\n",
       "    <tr>\n",
       "      <th>revol_bal</th>\n",
       "      <td>30035.0</td>\n",
       "      <td>13296.678175</td>\n",
       "      <td>15896.582037</td>\n",
       "      <td>0.00</td>\n",
       "      <td>3660.500000</td>\n",
       "      <td>8762.000000</td>\n",
       "      <td>16944.000000</td>\n",
       "      <td>1.495880e+05</td>\n",
       "    </tr>\n",
       "    <tr>\n",
       "      <th>revol_util</th>\n",
       "      <td>30035.0</td>\n",
       "      <td>48.655379</td>\n",
       "      <td>28.366927</td>\n",
       "      <td>0.00</td>\n",
       "      <td>25.100000</td>\n",
       "      <td>49.100000</td>\n",
       "      <td>72.200000</td>\n",
       "      <td>9.990000e+01</td>\n",
       "    </tr>\n",
       "    <tr>\n",
       "      <th>total_acc</th>\n",
       "      <td>30035.0</td>\n",
       "      <td>22.102014</td>\n",
       "      <td>11.471799</td>\n",
       "      <td>2.00</td>\n",
       "      <td>13.000000</td>\n",
       "      <td>20.000000</td>\n",
       "      <td>29.000000</td>\n",
       "      <td>9.000000e+01</td>\n",
       "    </tr>\n",
       "    <tr>\n",
       "      <th>total_pymnt</th>\n",
       "      <td>30035.0</td>\n",
       "      <td>11947.654349</td>\n",
       "      <td>8827.889936</td>\n",
       "      <td>0.00</td>\n",
       "      <td>5554.205403</td>\n",
       "      <td>9771.918186</td>\n",
       "      <td>16224.084015</td>\n",
       "      <td>5.783528e+04</td>\n",
       "    </tr>\n",
       "    <tr>\n",
       "      <th>total_pymnt_inv</th>\n",
       "      <td>30035.0</td>\n",
       "      <td>11336.793439</td>\n",
       "      <td>8716.106953</td>\n",
       "      <td>0.00</td>\n",
       "      <td>5060.975000</td>\n",
       "      <td>9152.520000</td>\n",
       "      <td>15411.520000</td>\n",
       "      <td>5.762873e+04</td>\n",
       "    </tr>\n",
       "    <tr>\n",
       "      <th>total_rec_prncp</th>\n",
       "      <td>30035.0</td>\n",
       "      <td>9715.018493</td>\n",
       "      <td>7024.444127</td>\n",
       "      <td>0.00</td>\n",
       "      <td>4574.710000</td>\n",
       "      <td>8000.000000</td>\n",
       "      <td>13250.000000</td>\n",
       "      <td>3.500002e+04</td>\n",
       "    </tr>\n",
       "    <tr>\n",
       "      <th>total_rec_int</th>\n",
       "      <td>30035.0</td>\n",
       "      <td>2133.231722</td>\n",
       "      <td>2394.061858</td>\n",
       "      <td>0.00</td>\n",
       "      <td>651.240000</td>\n",
       "      <td>1317.950000</td>\n",
       "      <td>2682.450000</td>\n",
       "      <td>2.283528e+04</td>\n",
       "    </tr>\n",
       "    <tr>\n",
       "      <th>total_rec_late_fee</th>\n",
       "      <td>30035.0</td>\n",
       "      <td>1.395996</td>\n",
       "      <td>7.458944</td>\n",
       "      <td>0.00</td>\n",
       "      <td>0.000000</td>\n",
       "      <td>0.000000</td>\n",
       "      <td>0.000000</td>\n",
       "      <td>1.802000e+02</td>\n",
       "    </tr>\n",
       "    <tr>\n",
       "      <th>recoveries</th>\n",
       "      <td>30035.0</td>\n",
       "      <td>98.008238</td>\n",
       "      <td>701.713488</td>\n",
       "      <td>0.00</td>\n",
       "      <td>0.000000</td>\n",
       "      <td>0.000000</td>\n",
       "      <td>0.000000</td>\n",
       "      <td>2.962335e+04</td>\n",
       "    </tr>\n",
       "    <tr>\n",
       "      <th>collection_recovery_fee</th>\n",
       "      <td>30035.0</td>\n",
       "      <td>12.677722</td>\n",
       "      <td>148.592438</td>\n",
       "      <td>0.00</td>\n",
       "      <td>0.000000</td>\n",
       "      <td>0.000000</td>\n",
       "      <td>0.000000</td>\n",
       "      <td>7.002190e+03</td>\n",
       "    </tr>\n",
       "    <tr>\n",
       "      <th>last_pymnt_amnt</th>\n",
       "      <td>30035.0</td>\n",
       "      <td>2771.591016</td>\n",
       "      <td>4502.440495</td>\n",
       "      <td>0.00</td>\n",
       "      <td>219.945000</td>\n",
       "      <td>581.960000</td>\n",
       "      <td>3498.665000</td>\n",
       "      <td>3.561368e+04</td>\n",
       "    </tr>\n",
       "    <tr>\n",
       "      <th>pub_rec_bankruptcies</th>\n",
       "      <td>30035.0</td>\n",
       "      <td>0.040253</td>\n",
       "      <td>0.196894</td>\n",
       "      <td>0.00</td>\n",
       "      <td>0.000000</td>\n",
       "      <td>0.000000</td>\n",
       "      <td>0.000000</td>\n",
       "      <td>2.000000e+00</td>\n",
       "    </tr>\n",
       "    <tr>\n",
       "      <th>isd_month</th>\n",
       "      <td>30035.0</td>\n",
       "      <td>7.111170</td>\n",
       "      <td>3.404496</td>\n",
       "      <td>1.00</td>\n",
       "      <td>4.000000</td>\n",
       "      <td>7.000000</td>\n",
       "      <td>10.000000</td>\n",
       "      <td>1.200000e+01</td>\n",
       "    </tr>\n",
       "    <tr>\n",
       "      <th>isd_year</th>\n",
       "      <td>30035.0</td>\n",
       "      <td>2010.298518</td>\n",
       "      <td>0.890141</td>\n",
       "      <td>2007.00</td>\n",
       "      <td>2010.000000</td>\n",
       "      <td>2011.000000</td>\n",
       "      <td>2011.000000</td>\n",
       "      <td>2.011000e+03</td>\n",
       "    </tr>\n",
       "    <tr>\n",
       "      <th>sub_grade_A1</th>\n",
       "      <td>30035.0</td>\n",
       "      <td>0.028533</td>\n",
       "      <td>0.166494</td>\n",
       "      <td>0.00</td>\n",
       "      <td>0.000000</td>\n",
       "      <td>0.000000</td>\n",
       "      <td>0.000000</td>\n",
       "      <td>1.000000e+00</td>\n",
       "    </tr>\n",
       "    <tr>\n",
       "      <th>sub_grade_A2</th>\n",
       "      <td>30035.0</td>\n",
       "      <td>0.038688</td>\n",
       "      <td>0.192854</td>\n",
       "      <td>0.00</td>\n",
       "      <td>0.000000</td>\n",
       "      <td>0.000000</td>\n",
       "      <td>0.000000</td>\n",
       "      <td>1.000000e+00</td>\n",
       "    </tr>\n",
       "    <tr>\n",
       "      <th>sub_grade_A3</th>\n",
       "      <td>30035.0</td>\n",
       "      <td>0.046879</td>\n",
       "      <td>0.211382</td>\n",
       "      <td>0.00</td>\n",
       "      <td>0.000000</td>\n",
       "      <td>0.000000</td>\n",
       "      <td>0.000000</td>\n",
       "      <td>1.000000e+00</td>\n",
       "    </tr>\n",
       "    <tr>\n",
       "      <th>sub_grade_A4</th>\n",
       "      <td>30035.0</td>\n",
       "      <td>0.074513</td>\n",
       "      <td>0.262608</td>\n",
       "      <td>0.00</td>\n",
       "      <td>0.000000</td>\n",
       "      <td>0.000000</td>\n",
       "      <td>0.000000</td>\n",
       "      <td>1.000000e+00</td>\n",
       "    </tr>\n",
       "    <tr>\n",
       "      <th>sub_grade_A5</th>\n",
       "      <td>30035.0</td>\n",
       "      <td>0.070518</td>\n",
       "      <td>0.256022</td>\n",
       "      <td>0.00</td>\n",
       "      <td>0.000000</td>\n",
       "      <td>0.000000</td>\n",
       "      <td>0.000000</td>\n",
       "      <td>1.000000e+00</td>\n",
       "    </tr>\n",
       "    <tr>\n",
       "      <th>sub_grade_B1</th>\n",
       "      <td>30035.0</td>\n",
       "      <td>0.045514</td>\n",
       "      <td>0.208431</td>\n",
       "      <td>0.00</td>\n",
       "      <td>0.000000</td>\n",
       "      <td>0.000000</td>\n",
       "      <td>0.000000</td>\n",
       "      <td>1.000000e+00</td>\n",
       "    </tr>\n",
       "    <tr>\n",
       "      <th>sub_grade_B2</th>\n",
       "      <td>30035.0</td>\n",
       "      <td>0.051706</td>\n",
       "      <td>0.221437</td>\n",
       "      <td>0.00</td>\n",
       "      <td>0.000000</td>\n",
       "      <td>0.000000</td>\n",
       "      <td>0.000000</td>\n",
       "      <td>1.000000e+00</td>\n",
       "    </tr>\n",
       "    <tr>\n",
       "      <th>sub_grade_B3</th>\n",
       "      <td>30035.0</td>\n",
       "      <td>0.073814</td>\n",
       "      <td>0.261472</td>\n",
       "      <td>0.00</td>\n",
       "      <td>0.000000</td>\n",
       "      <td>0.000000</td>\n",
       "      <td>0.000000</td>\n",
       "      <td>1.000000e+00</td>\n",
       "    </tr>\n",
       "    <tr>\n",
       "      <th>sub_grade_B4</th>\n",
       "      <td>30035.0</td>\n",
       "      <td>0.064358</td>\n",
       "      <td>0.245394</td>\n",
       "      <td>0.00</td>\n",
       "      <td>0.000000</td>\n",
       "      <td>0.000000</td>\n",
       "      <td>0.000000</td>\n",
       "      <td>1.000000e+00</td>\n",
       "    </tr>\n",
       "    <tr>\n",
       "      <th>sub_grade_B5</th>\n",
       "      <td>30035.0</td>\n",
       "      <td>0.067555</td>\n",
       "      <td>0.250984</td>\n",
       "      <td>0.00</td>\n",
       "      <td>0.000000</td>\n",
       "      <td>0.000000</td>\n",
       "      <td>0.000000</td>\n",
       "      <td>1.000000e+00</td>\n",
       "    </tr>\n",
       "    <tr>\n",
       "      <th>sub_grade_C1</th>\n",
       "      <td>30035.0</td>\n",
       "      <td>0.052406</td>\n",
       "      <td>0.222847</td>\n",
       "      <td>0.00</td>\n",
       "      <td>0.000000</td>\n",
       "      <td>0.000000</td>\n",
       "      <td>0.000000</td>\n",
       "      <td>1.000000e+00</td>\n",
       "    </tr>\n",
       "    <tr>\n",
       "      <th>sub_grade_C2</th>\n",
       "      <td>30035.0</td>\n",
       "      <td>0.049143</td>\n",
       "      <td>0.216169</td>\n",
       "      <td>0.00</td>\n",
       "      <td>0.000000</td>\n",
       "      <td>0.000000</td>\n",
       "      <td>0.000000</td>\n",
       "      <td>1.000000e+00</td>\n",
       "    </tr>\n",
       "    <tr>\n",
       "      <th>sub_grade_C3</th>\n",
       "      <td>30035.0</td>\n",
       "      <td>0.038821</td>\n",
       "      <td>0.193172</td>\n",
       "      <td>0.00</td>\n",
       "      <td>0.000000</td>\n",
       "      <td>0.000000</td>\n",
       "      <td>0.000000</td>\n",
       "      <td>1.000000e+00</td>\n",
       "    </tr>\n",
       "    <tr>\n",
       "      <th>sub_grade_C4</th>\n",
       "      <td>30035.0</td>\n",
       "      <td>0.031663</td>\n",
       "      <td>0.175104</td>\n",
       "      <td>0.00</td>\n",
       "      <td>0.000000</td>\n",
       "      <td>0.000000</td>\n",
       "      <td>0.000000</td>\n",
       "      <td>1.000000e+00</td>\n",
       "    </tr>\n",
       "    <tr>\n",
       "      <th>sub_grade_C5</th>\n",
       "      <td>30035.0</td>\n",
       "      <td>0.030065</td>\n",
       "      <td>0.170769</td>\n",
       "      <td>0.00</td>\n",
       "      <td>0.000000</td>\n",
       "      <td>0.000000</td>\n",
       "      <td>0.000000</td>\n",
       "      <td>1.000000e+00</td>\n",
       "    </tr>\n",
       "    <tr>\n",
       "      <th>sub_grade_D1</th>\n",
       "      <td>30035.0</td>\n",
       "      <td>0.024505</td>\n",
       "      <td>0.154613</td>\n",
       "      <td>0.00</td>\n",
       "      <td>0.000000</td>\n",
       "      <td>0.000000</td>\n",
       "      <td>0.000000</td>\n",
       "      <td>1.000000e+00</td>\n",
       "    </tr>\n",
       "    <tr>\n",
       "      <th>sub_grade_D2</th>\n",
       "      <td>30035.0</td>\n",
       "      <td>0.033428</td>\n",
       "      <td>0.179754</td>\n",
       "      <td>0.00</td>\n",
       "      <td>0.000000</td>\n",
       "      <td>0.000000</td>\n",
       "      <td>0.000000</td>\n",
       "      <td>1.000000e+00</td>\n",
       "    </tr>\n",
       "    <tr>\n",
       "      <th>sub_grade_D3</th>\n",
       "      <td>30035.0</td>\n",
       "      <td>0.028766</td>\n",
       "      <td>0.167152</td>\n",
       "      <td>0.00</td>\n",
       "      <td>0.000000</td>\n",
       "      <td>0.000000</td>\n",
       "      <td>0.000000</td>\n",
       "      <td>1.000000e+00</td>\n",
       "    </tr>\n",
       "    <tr>\n",
       "      <th>sub_grade_D4</th>\n",
       "      <td>30035.0</td>\n",
       "      <td>0.023972</td>\n",
       "      <td>0.152965</td>\n",
       "      <td>0.00</td>\n",
       "      <td>0.000000</td>\n",
       "      <td>0.000000</td>\n",
       "      <td>0.000000</td>\n",
       "      <td>1.000000e+00</td>\n",
       "    </tr>\n",
       "    <tr>\n",
       "      <th>sub_grade_D5</th>\n",
       "      <td>30035.0</td>\n",
       "      <td>0.022174</td>\n",
       "      <td>0.147252</td>\n",
       "      <td>0.00</td>\n",
       "      <td>0.000000</td>\n",
       "      <td>0.000000</td>\n",
       "      <td>0.000000</td>\n",
       "      <td>1.000000e+00</td>\n",
       "    </tr>\n",
       "    <tr>\n",
       "      <th>sub_grade_E1</th>\n",
       "      <td>30035.0</td>\n",
       "      <td>0.018745</td>\n",
       "      <td>0.135625</td>\n",
       "      <td>0.00</td>\n",
       "      <td>0.000000</td>\n",
       "      <td>0.000000</td>\n",
       "      <td>0.000000</td>\n",
       "      <td>1.000000e+00</td>\n",
       "    </tr>\n",
       "    <tr>\n",
       "      <th>sub_grade_E2</th>\n",
       "      <td>30035.0</td>\n",
       "      <td>0.016081</td>\n",
       "      <td>0.125790</td>\n",
       "      <td>0.00</td>\n",
       "      <td>0.000000</td>\n",
       "      <td>0.000000</td>\n",
       "      <td>0.000000</td>\n",
       "      <td>1.000000e+00</td>\n",
       "    </tr>\n",
       "    <tr>\n",
       "      <th>sub_grade_E3</th>\n",
       "      <td>30035.0</td>\n",
       "      <td>0.013351</td>\n",
       "      <td>0.114775</td>\n",
       "      <td>0.00</td>\n",
       "      <td>0.000000</td>\n",
       "      <td>0.000000</td>\n",
       "      <td>0.000000</td>\n",
       "      <td>1.000000e+00</td>\n",
       "    </tr>\n",
       "    <tr>\n",
       "      <th>sub_grade_E4</th>\n",
       "      <td>30035.0</td>\n",
       "      <td>0.011453</td>\n",
       "      <td>0.106407</td>\n",
       "      <td>0.00</td>\n",
       "      <td>0.000000</td>\n",
       "      <td>0.000000</td>\n",
       "      <td>0.000000</td>\n",
       "      <td>1.000000e+00</td>\n",
       "    </tr>\n",
       "    <tr>\n",
       "      <th>sub_grade_E5</th>\n",
       "      <td>30035.0</td>\n",
       "      <td>0.010055</td>\n",
       "      <td>0.099771</td>\n",
       "      <td>0.00</td>\n",
       "      <td>0.000000</td>\n",
       "      <td>0.000000</td>\n",
       "      <td>0.000000</td>\n",
       "      <td>1.000000e+00</td>\n",
       "    </tr>\n",
       "    <tr>\n",
       "      <th>sub_grade_F1</th>\n",
       "      <td>30035.0</td>\n",
       "      <td>0.008057</td>\n",
       "      <td>0.089401</td>\n",
       "      <td>0.00</td>\n",
       "      <td>0.000000</td>\n",
       "      <td>0.000000</td>\n",
       "      <td>0.000000</td>\n",
       "      <td>1.000000e+00</td>\n",
       "    </tr>\n",
       "    <tr>\n",
       "      <th>sub_grade_F2</th>\n",
       "      <td>30035.0</td>\n",
       "      <td>0.005926</td>\n",
       "      <td>0.076756</td>\n",
       "      <td>0.00</td>\n",
       "      <td>0.000000</td>\n",
       "      <td>0.000000</td>\n",
       "      <td>0.000000</td>\n",
       "      <td>1.000000e+00</td>\n",
       "    </tr>\n",
       "    <tr>\n",
       "      <th>sub_grade_F3</th>\n",
       "      <td>30035.0</td>\n",
       "      <td>0.004561</td>\n",
       "      <td>0.067385</td>\n",
       "      <td>0.00</td>\n",
       "      <td>0.000000</td>\n",
       "      <td>0.000000</td>\n",
       "      <td>0.000000</td>\n",
       "      <td>1.000000e+00</td>\n",
       "    </tr>\n",
       "    <tr>\n",
       "      <th>sub_grade_F4</th>\n",
       "      <td>30035.0</td>\n",
       "      <td>0.003995</td>\n",
       "      <td>0.063083</td>\n",
       "      <td>0.00</td>\n",
       "      <td>0.000000</td>\n",
       "      <td>0.000000</td>\n",
       "      <td>0.000000</td>\n",
       "      <td>1.000000e+00</td>\n",
       "    </tr>\n",
       "    <tr>\n",
       "      <th>sub_grade_F5</th>\n",
       "      <td>30035.0</td>\n",
       "      <td>0.002930</td>\n",
       "      <td>0.054050</td>\n",
       "      <td>0.00</td>\n",
       "      <td>0.000000</td>\n",
       "      <td>0.000000</td>\n",
       "      <td>0.000000</td>\n",
       "      <td>1.000000e+00</td>\n",
       "    </tr>\n",
       "    <tr>\n",
       "      <th>sub_grade_G1</th>\n",
       "      <td>30035.0</td>\n",
       "      <td>0.002530</td>\n",
       "      <td>0.050240</td>\n",
       "      <td>0.00</td>\n",
       "      <td>0.000000</td>\n",
       "      <td>0.000000</td>\n",
       "      <td>0.000000</td>\n",
       "      <td>1.000000e+00</td>\n",
       "    </tr>\n",
       "    <tr>\n",
       "      <th>sub_grade_G2</th>\n",
       "      <td>30035.0</td>\n",
       "      <td>0.001998</td>\n",
       "      <td>0.044651</td>\n",
       "      <td>0.00</td>\n",
       "      <td>0.000000</td>\n",
       "      <td>0.000000</td>\n",
       "      <td>0.000000</td>\n",
       "      <td>1.000000e+00</td>\n",
       "    </tr>\n",
       "    <tr>\n",
       "      <th>sub_grade_G3</th>\n",
       "      <td>30035.0</td>\n",
       "      <td>0.001265</td>\n",
       "      <td>0.035548</td>\n",
       "      <td>0.00</td>\n",
       "      <td>0.000000</td>\n",
       "      <td>0.000000</td>\n",
       "      <td>0.000000</td>\n",
       "      <td>1.000000e+00</td>\n",
       "    </tr>\n",
       "    <tr>\n",
       "      <th>sub_grade_G4</th>\n",
       "      <td>30035.0</td>\n",
       "      <td>0.001232</td>\n",
       "      <td>0.035077</td>\n",
       "      <td>0.00</td>\n",
       "      <td>0.000000</td>\n",
       "      <td>0.000000</td>\n",
       "      <td>0.000000</td>\n",
       "      <td>1.000000e+00</td>\n",
       "    </tr>\n",
       "    <tr>\n",
       "      <th>sub_grade_G5</th>\n",
       "      <td>30035.0</td>\n",
       "      <td>0.000799</td>\n",
       "      <td>0.028257</td>\n",
       "      <td>0.00</td>\n",
       "      <td>0.000000</td>\n",
       "      <td>0.000000</td>\n",
       "      <td>0.000000</td>\n",
       "      <td>1.000000e+00</td>\n",
       "    </tr>\n",
       "    <tr>\n",
       "      <th>home_ownership_MORTGAGE</th>\n",
       "      <td>30035.0</td>\n",
       "      <td>0.441585</td>\n",
       "      <td>0.496584</td>\n",
       "      <td>0.00</td>\n",
       "      <td>0.000000</td>\n",
       "      <td>0.000000</td>\n",
       "      <td>1.000000</td>\n",
       "      <td>1.000000e+00</td>\n",
       "    </tr>\n",
       "    <tr>\n",
       "      <th>home_ownership_NONE</th>\n",
       "      <td>30035.0</td>\n",
       "      <td>0.000067</td>\n",
       "      <td>0.008160</td>\n",
       "      <td>0.00</td>\n",
       "      <td>0.000000</td>\n",
       "      <td>0.000000</td>\n",
       "      <td>0.000000</td>\n",
       "      <td>1.000000e+00</td>\n",
       "    </tr>\n",
       "    <tr>\n",
       "      <th>home_ownership_OTHER</th>\n",
       "      <td>30035.0</td>\n",
       "      <td>0.002597</td>\n",
       "      <td>0.050895</td>\n",
       "      <td>0.00</td>\n",
       "      <td>0.000000</td>\n",
       "      <td>0.000000</td>\n",
       "      <td>0.000000</td>\n",
       "      <td>1.000000e+00</td>\n",
       "    </tr>\n",
       "    <tr>\n",
       "      <th>home_ownership_OWN</th>\n",
       "      <td>30035.0</td>\n",
       "      <td>0.073847</td>\n",
       "      <td>0.261526</td>\n",
       "      <td>0.00</td>\n",
       "      <td>0.000000</td>\n",
       "      <td>0.000000</td>\n",
       "      <td>0.000000</td>\n",
       "      <td>1.000000e+00</td>\n",
       "    </tr>\n",
       "    <tr>\n",
       "      <th>home_ownership_RENT</th>\n",
       "      <td>30035.0</td>\n",
       "      <td>0.481904</td>\n",
       "      <td>0.499681</td>\n",
       "      <td>0.00</td>\n",
       "      <td>0.000000</td>\n",
       "      <td>0.000000</td>\n",
       "      <td>1.000000</td>\n",
       "      <td>1.000000e+00</td>\n",
       "    </tr>\n",
       "    <tr>\n",
       "      <th>verification_status_Not Verified</th>\n",
       "      <td>30035.0</td>\n",
       "      <td>0.433960</td>\n",
       "      <td>0.495628</td>\n",
       "      <td>0.00</td>\n",
       "      <td>0.000000</td>\n",
       "      <td>0.000000</td>\n",
       "      <td>1.000000</td>\n",
       "      <td>1.000000e+00</td>\n",
       "    </tr>\n",
       "    <tr>\n",
       "      <th>verification_status_Source Verified</th>\n",
       "      <td>30035.0</td>\n",
       "      <td>0.253438</td>\n",
       "      <td>0.434987</td>\n",
       "      <td>0.00</td>\n",
       "      <td>0.000000</td>\n",
       "      <td>0.000000</td>\n",
       "      <td>1.000000</td>\n",
       "      <td>1.000000e+00</td>\n",
       "    </tr>\n",
       "    <tr>\n",
       "      <th>verification_status_Verified</th>\n",
       "      <td>30035.0</td>\n",
       "      <td>0.312602</td>\n",
       "      <td>0.463561</td>\n",
       "      <td>0.00</td>\n",
       "      <td>0.000000</td>\n",
       "      <td>0.000000</td>\n",
       "      <td>1.000000</td>\n",
       "      <td>1.000000e+00</td>\n",
       "    </tr>\n",
       "    <tr>\n",
       "      <th>purpose_car</th>\n",
       "      <td>30035.0</td>\n",
       "      <td>0.039021</td>\n",
       "      <td>0.193648</td>\n",
       "      <td>0.00</td>\n",
       "      <td>0.000000</td>\n",
       "      <td>0.000000</td>\n",
       "      <td>0.000000</td>\n",
       "      <td>1.000000e+00</td>\n",
       "    </tr>\n",
       "    <tr>\n",
       "      <th>purpose_credit_card</th>\n",
       "      <td>30035.0</td>\n",
       "      <td>0.130415</td>\n",
       "      <td>0.336765</td>\n",
       "      <td>0.00</td>\n",
       "      <td>0.000000</td>\n",
       "      <td>0.000000</td>\n",
       "      <td>0.000000</td>\n",
       "      <td>1.000000e+00</td>\n",
       "    </tr>\n",
       "    <tr>\n",
       "      <th>purpose_debt_consolidation</th>\n",
       "      <td>30035.0</td>\n",
       "      <td>0.468520</td>\n",
       "      <td>0.499016</td>\n",
       "      <td>0.00</td>\n",
       "      <td>0.000000</td>\n",
       "      <td>0.000000</td>\n",
       "      <td>1.000000</td>\n",
       "      <td>1.000000e+00</td>\n",
       "    </tr>\n",
       "    <tr>\n",
       "      <th>purpose_educational</th>\n",
       "      <td>30035.0</td>\n",
       "      <td>0.008290</td>\n",
       "      <td>0.090675</td>\n",
       "      <td>0.00</td>\n",
       "      <td>0.000000</td>\n",
       "      <td>0.000000</td>\n",
       "      <td>0.000000</td>\n",
       "      <td>1.000000e+00</td>\n",
       "    </tr>\n",
       "    <tr>\n",
       "      <th>purpose_home_improvement</th>\n",
       "      <td>30035.0</td>\n",
       "      <td>0.074646</td>\n",
       "      <td>0.262824</td>\n",
       "      <td>0.00</td>\n",
       "      <td>0.000000</td>\n",
       "      <td>0.000000</td>\n",
       "      <td>0.000000</td>\n",
       "      <td>1.000000e+00</td>\n",
       "    </tr>\n",
       "    <tr>\n",
       "      <th>purpose_house</th>\n",
       "      <td>30035.0</td>\n",
       "      <td>0.009289</td>\n",
       "      <td>0.095933</td>\n",
       "      <td>0.00</td>\n",
       "      <td>0.000000</td>\n",
       "      <td>0.000000</td>\n",
       "      <td>0.000000</td>\n",
       "      <td>1.000000e+00</td>\n",
       "    </tr>\n",
       "    <tr>\n",
       "      <th>purpose_major_purchase</th>\n",
       "      <td>30035.0</td>\n",
       "      <td>0.054936</td>\n",
       "      <td>0.227859</td>\n",
       "      <td>0.00</td>\n",
       "      <td>0.000000</td>\n",
       "      <td>0.000000</td>\n",
       "      <td>0.000000</td>\n",
       "      <td>1.000000e+00</td>\n",
       "    </tr>\n",
       "    <tr>\n",
       "      <th>purpose_medical</th>\n",
       "      <td>30035.0</td>\n",
       "      <td>0.017579</td>\n",
       "      <td>0.131419</td>\n",
       "      <td>0.00</td>\n",
       "      <td>0.000000</td>\n",
       "      <td>0.000000</td>\n",
       "      <td>0.000000</td>\n",
       "      <td>1.000000e+00</td>\n",
       "    </tr>\n",
       "    <tr>\n",
       "      <th>purpose_moving</th>\n",
       "      <td>30035.0</td>\n",
       "      <td>0.014550</td>\n",
       "      <td>0.119743</td>\n",
       "      <td>0.00</td>\n",
       "      <td>0.000000</td>\n",
       "      <td>0.000000</td>\n",
       "      <td>0.000000</td>\n",
       "      <td>1.000000e+00</td>\n",
       "    </tr>\n",
       "    <tr>\n",
       "      <th>purpose_other</th>\n",
       "      <td>30035.0</td>\n",
       "      <td>0.099684</td>\n",
       "      <td>0.299583</td>\n",
       "      <td>0.00</td>\n",
       "      <td>0.000000</td>\n",
       "      <td>0.000000</td>\n",
       "      <td>0.000000</td>\n",
       "      <td>1.000000e+00</td>\n",
       "    </tr>\n",
       "    <tr>\n",
       "      <th>purpose_renewable_energy</th>\n",
       "      <td>30035.0</td>\n",
       "      <td>0.002397</td>\n",
       "      <td>0.048903</td>\n",
       "      <td>0.00</td>\n",
       "      <td>0.000000</td>\n",
       "      <td>0.000000</td>\n",
       "      <td>0.000000</td>\n",
       "      <td>1.000000e+00</td>\n",
       "    </tr>\n",
       "    <tr>\n",
       "      <th>purpose_small_business</th>\n",
       "      <td>30035.0</td>\n",
       "      <td>0.046313</td>\n",
       "      <td>0.210165</td>\n",
       "      <td>0.00</td>\n",
       "      <td>0.000000</td>\n",
       "      <td>0.000000</td>\n",
       "      <td>0.000000</td>\n",
       "      <td>1.000000e+00</td>\n",
       "    </tr>\n",
       "    <tr>\n",
       "      <th>purpose_vacation</th>\n",
       "      <td>30035.0</td>\n",
       "      <td>0.009356</td>\n",
       "      <td>0.096273</td>\n",
       "      <td>0.00</td>\n",
       "      <td>0.000000</td>\n",
       "      <td>0.000000</td>\n",
       "      <td>0.000000</td>\n",
       "      <td>1.000000e+00</td>\n",
       "    </tr>\n",
       "    <tr>\n",
       "      <th>purpose_wedding</th>\n",
       "      <td>30035.0</td>\n",
       "      <td>0.025004</td>\n",
       "      <td>0.156140</td>\n",
       "      <td>0.00</td>\n",
       "      <td>0.000000</td>\n",
       "      <td>0.000000</td>\n",
       "      <td>0.000000</td>\n",
       "      <td>1.000000e+00</td>\n",
       "    </tr>\n",
       "  </tbody>\n",
       "</table>\n",
       "</div>"
      ],
      "text/plain": [
       "                                       count          mean           std  \\\n",
       "loan_amnt                            30035.0  11102.608623   7366.508672   \n",
       "funded_amnt                          30035.0  10835.749126   7108.952296   \n",
       "funded_amnt_inv                      30035.0  10261.491944   7038.374975   \n",
       "term                                 30035.0     41.909905     10.339937   \n",
       "int_rate                             30035.0     11.950506      3.684473   \n",
       "installment                          30035.0    324.169390    209.624349   \n",
       "grade                                30035.0      1.558715      1.382320   \n",
       "emp_length                           30035.0      5.064192      3.404058   \n",
       "annual_inc                           30035.0  69139.851938  66341.869316   \n",
       "dti                                  30035.0     13.288159      6.663032   \n",
       "delinq_2yrs                          30035.0      0.148027      0.493410   \n",
       "inq_last_6mths                       30035.0      0.876777      1.073837   \n",
       "open_acc                             30035.0      9.289029      4.387131   \n",
       "pub_rec                              30035.0      0.052472      0.232484   \n",
       "revol_bal                            30035.0  13296.678175  15896.582037   \n",
       "revol_util                           30035.0     48.655379     28.366927   \n",
       "total_acc                            30035.0     22.102014     11.471799   \n",
       "total_pymnt                          30035.0  11947.654349   8827.889936   \n",
       "total_pymnt_inv                      30035.0  11336.793439   8716.106953   \n",
       "total_rec_prncp                      30035.0   9715.018493   7024.444127   \n",
       "total_rec_int                        30035.0   2133.231722   2394.061858   \n",
       "total_rec_late_fee                   30035.0      1.395996      7.458944   \n",
       "recoveries                           30035.0     98.008238    701.713488   \n",
       "collection_recovery_fee              30035.0     12.677722    148.592438   \n",
       "last_pymnt_amnt                      30035.0   2771.591016   4502.440495   \n",
       "pub_rec_bankruptcies                 30035.0      0.040253      0.196894   \n",
       "isd_month                            30035.0      7.111170      3.404496   \n",
       "isd_year                             30035.0   2010.298518      0.890141   \n",
       "sub_grade_A1                         30035.0      0.028533      0.166494   \n",
       "sub_grade_A2                         30035.0      0.038688      0.192854   \n",
       "sub_grade_A3                         30035.0      0.046879      0.211382   \n",
       "sub_grade_A4                         30035.0      0.074513      0.262608   \n",
       "sub_grade_A5                         30035.0      0.070518      0.256022   \n",
       "sub_grade_B1                         30035.0      0.045514      0.208431   \n",
       "sub_grade_B2                         30035.0      0.051706      0.221437   \n",
       "sub_grade_B3                         30035.0      0.073814      0.261472   \n",
       "sub_grade_B4                         30035.0      0.064358      0.245394   \n",
       "sub_grade_B5                         30035.0      0.067555      0.250984   \n",
       "sub_grade_C1                         30035.0      0.052406      0.222847   \n",
       "sub_grade_C2                         30035.0      0.049143      0.216169   \n",
       "sub_grade_C3                         30035.0      0.038821      0.193172   \n",
       "sub_grade_C4                         30035.0      0.031663      0.175104   \n",
       "sub_grade_C5                         30035.0      0.030065      0.170769   \n",
       "sub_grade_D1                         30035.0      0.024505      0.154613   \n",
       "sub_grade_D2                         30035.0      0.033428      0.179754   \n",
       "sub_grade_D3                         30035.0      0.028766      0.167152   \n",
       "sub_grade_D4                         30035.0      0.023972      0.152965   \n",
       "sub_grade_D5                         30035.0      0.022174      0.147252   \n",
       "sub_grade_E1                         30035.0      0.018745      0.135625   \n",
       "sub_grade_E2                         30035.0      0.016081      0.125790   \n",
       "sub_grade_E3                         30035.0      0.013351      0.114775   \n",
       "sub_grade_E4                         30035.0      0.011453      0.106407   \n",
       "sub_grade_E5                         30035.0      0.010055      0.099771   \n",
       "sub_grade_F1                         30035.0      0.008057      0.089401   \n",
       "sub_grade_F2                         30035.0      0.005926      0.076756   \n",
       "sub_grade_F3                         30035.0      0.004561      0.067385   \n",
       "sub_grade_F4                         30035.0      0.003995      0.063083   \n",
       "sub_grade_F5                         30035.0      0.002930      0.054050   \n",
       "sub_grade_G1                         30035.0      0.002530      0.050240   \n",
       "sub_grade_G2                         30035.0      0.001998      0.044651   \n",
       "sub_grade_G3                         30035.0      0.001265      0.035548   \n",
       "sub_grade_G4                         30035.0      0.001232      0.035077   \n",
       "sub_grade_G5                         30035.0      0.000799      0.028257   \n",
       "home_ownership_MORTGAGE              30035.0      0.441585      0.496584   \n",
       "home_ownership_NONE                  30035.0      0.000067      0.008160   \n",
       "home_ownership_OTHER                 30035.0      0.002597      0.050895   \n",
       "home_ownership_OWN                   30035.0      0.073847      0.261526   \n",
       "home_ownership_RENT                  30035.0      0.481904      0.499681   \n",
       "verification_status_Not Verified     30035.0      0.433960      0.495628   \n",
       "verification_status_Source Verified  30035.0      0.253438      0.434987   \n",
       "verification_status_Verified         30035.0      0.312602      0.463561   \n",
       "purpose_car                          30035.0      0.039021      0.193648   \n",
       "purpose_credit_card                  30035.0      0.130415      0.336765   \n",
       "purpose_debt_consolidation           30035.0      0.468520      0.499016   \n",
       "purpose_educational                  30035.0      0.008290      0.090675   \n",
       "purpose_home_improvement             30035.0      0.074646      0.262824   \n",
       "purpose_house                        30035.0      0.009289      0.095933   \n",
       "purpose_major_purchase               30035.0      0.054936      0.227859   \n",
       "purpose_medical                      30035.0      0.017579      0.131419   \n",
       "purpose_moving                       30035.0      0.014550      0.119743   \n",
       "purpose_other                        30035.0      0.099684      0.299583   \n",
       "purpose_renewable_energy             30035.0      0.002397      0.048903   \n",
       "purpose_small_business               30035.0      0.046313      0.210165   \n",
       "purpose_vacation                     30035.0      0.009356      0.096273   \n",
       "purpose_wedding                      30035.0      0.025004      0.156140   \n",
       "\n",
       "                                         min           25%           50%  \\\n",
       "loan_amnt                             500.00   5400.000000   9800.000000   \n",
       "funded_amnt                           500.00   5300.000000   9600.000000   \n",
       "funded_amnt_inv                         0.00   5000.000000   8800.000000   \n",
       "term                                   36.00     36.000000     36.000000   \n",
       "int_rate                                5.42      8.940000     11.780000   \n",
       "installment                            15.69    166.630000    279.090000   \n",
       "grade                                   0.00      0.000000      1.000000   \n",
       "emp_length                              1.00      2.000000      4.000000   \n",
       "annual_inc                           4000.00  41000.000000  59500.000000   \n",
       "dti                                     0.00      8.170000     13.370000   \n",
       "delinq_2yrs                             0.00      0.000000      0.000000   \n",
       "inq_last_6mths                          0.00      0.000000      1.000000   \n",
       "open_acc                                2.00      6.000000      9.000000   \n",
       "pub_rec                                 0.00      0.000000      0.000000   \n",
       "revol_bal                               0.00   3660.500000   8762.000000   \n",
       "revol_util                              0.00     25.100000     49.100000   \n",
       "total_acc                               2.00     13.000000     20.000000   \n",
       "total_pymnt                             0.00   5554.205403   9771.918186   \n",
       "total_pymnt_inv                         0.00   5060.975000   9152.520000   \n",
       "total_rec_prncp                         0.00   4574.710000   8000.000000   \n",
       "total_rec_int                           0.00    651.240000   1317.950000   \n",
       "total_rec_late_fee                      0.00      0.000000      0.000000   \n",
       "recoveries                              0.00      0.000000      0.000000   \n",
       "collection_recovery_fee                 0.00      0.000000      0.000000   \n",
       "last_pymnt_amnt                         0.00    219.945000    581.960000   \n",
       "pub_rec_bankruptcies                    0.00      0.000000      0.000000   \n",
       "isd_month                               1.00      4.000000      7.000000   \n",
       "isd_year                             2007.00   2010.000000   2011.000000   \n",
       "sub_grade_A1                            0.00      0.000000      0.000000   \n",
       "sub_grade_A2                            0.00      0.000000      0.000000   \n",
       "sub_grade_A3                            0.00      0.000000      0.000000   \n",
       "sub_grade_A4                            0.00      0.000000      0.000000   \n",
       "sub_grade_A5                            0.00      0.000000      0.000000   \n",
       "sub_grade_B1                            0.00      0.000000      0.000000   \n",
       "sub_grade_B2                            0.00      0.000000      0.000000   \n",
       "sub_grade_B3                            0.00      0.000000      0.000000   \n",
       "sub_grade_B4                            0.00      0.000000      0.000000   \n",
       "sub_grade_B5                            0.00      0.000000      0.000000   \n",
       "sub_grade_C1                            0.00      0.000000      0.000000   \n",
       "sub_grade_C2                            0.00      0.000000      0.000000   \n",
       "sub_grade_C3                            0.00      0.000000      0.000000   \n",
       "sub_grade_C4                            0.00      0.000000      0.000000   \n",
       "sub_grade_C5                            0.00      0.000000      0.000000   \n",
       "sub_grade_D1                            0.00      0.000000      0.000000   \n",
       "sub_grade_D2                            0.00      0.000000      0.000000   \n",
       "sub_grade_D3                            0.00      0.000000      0.000000   \n",
       "sub_grade_D4                            0.00      0.000000      0.000000   \n",
       "sub_grade_D5                            0.00      0.000000      0.000000   \n",
       "sub_grade_E1                            0.00      0.000000      0.000000   \n",
       "sub_grade_E2                            0.00      0.000000      0.000000   \n",
       "sub_grade_E3                            0.00      0.000000      0.000000   \n",
       "sub_grade_E4                            0.00      0.000000      0.000000   \n",
       "sub_grade_E5                            0.00      0.000000      0.000000   \n",
       "sub_grade_F1                            0.00      0.000000      0.000000   \n",
       "sub_grade_F2                            0.00      0.000000      0.000000   \n",
       "sub_grade_F3                            0.00      0.000000      0.000000   \n",
       "sub_grade_F4                            0.00      0.000000      0.000000   \n",
       "sub_grade_F5                            0.00      0.000000      0.000000   \n",
       "sub_grade_G1                            0.00      0.000000      0.000000   \n",
       "sub_grade_G2                            0.00      0.000000      0.000000   \n",
       "sub_grade_G3                            0.00      0.000000      0.000000   \n",
       "sub_grade_G4                            0.00      0.000000      0.000000   \n",
       "sub_grade_G5                            0.00      0.000000      0.000000   \n",
       "home_ownership_MORTGAGE                 0.00      0.000000      0.000000   \n",
       "home_ownership_NONE                     0.00      0.000000      0.000000   \n",
       "home_ownership_OTHER                    0.00      0.000000      0.000000   \n",
       "home_ownership_OWN                      0.00      0.000000      0.000000   \n",
       "home_ownership_RENT                     0.00      0.000000      0.000000   \n",
       "verification_status_Not Verified        0.00      0.000000      0.000000   \n",
       "verification_status_Source Verified     0.00      0.000000      0.000000   \n",
       "verification_status_Verified            0.00      0.000000      0.000000   \n",
       "purpose_car                             0.00      0.000000      0.000000   \n",
       "purpose_credit_card                     0.00      0.000000      0.000000   \n",
       "purpose_debt_consolidation              0.00      0.000000      0.000000   \n",
       "purpose_educational                     0.00      0.000000      0.000000   \n",
       "purpose_home_improvement                0.00      0.000000      0.000000   \n",
       "purpose_house                           0.00      0.000000      0.000000   \n",
       "purpose_major_purchase                  0.00      0.000000      0.000000   \n",
       "purpose_medical                         0.00      0.000000      0.000000   \n",
       "purpose_moving                          0.00      0.000000      0.000000   \n",
       "purpose_other                           0.00      0.000000      0.000000   \n",
       "purpose_renewable_energy                0.00      0.000000      0.000000   \n",
       "purpose_small_business                  0.00      0.000000      0.000000   \n",
       "purpose_vacation                        0.00      0.000000      0.000000   \n",
       "purpose_wedding                         0.00      0.000000      0.000000   \n",
       "\n",
       "                                              75%           max  \n",
       "loan_amnt                            15000.000000  3.500000e+04  \n",
       "funded_amnt                          15000.000000  3.500000e+04  \n",
       "funded_amnt_inv                      14025.000000  3.500000e+04  \n",
       "term                                    36.000000  6.000000e+01  \n",
       "int_rate                                14.420000  2.440000e+01  \n",
       "installment                            428.665000  1.305190e+03  \n",
       "grade                                    2.000000  6.000000e+00  \n",
       "emp_length                               9.000000  1.000000e+01  \n",
       "annual_inc                           82500.000000  6.000000e+06  \n",
       "dti                                     18.560000  2.999000e+01  \n",
       "delinq_2yrs                              0.000000  1.100000e+01  \n",
       "inq_last_6mths                           1.000000  8.000000e+00  \n",
       "open_acc                                12.000000  4.200000e+01  \n",
       "pub_rec                                  0.000000  4.000000e+00  \n",
       "revol_bal                            16944.000000  1.495880e+05  \n",
       "revol_util                              72.200000  9.990000e+01  \n",
       "total_acc                               29.000000  9.000000e+01  \n",
       "total_pymnt                          16224.084015  5.783528e+04  \n",
       "total_pymnt_inv                      15411.520000  5.762873e+04  \n",
       "total_rec_prncp                      13250.000000  3.500002e+04  \n",
       "total_rec_int                         2682.450000  2.283528e+04  \n",
       "total_rec_late_fee                       0.000000  1.802000e+02  \n",
       "recoveries                               0.000000  2.962335e+04  \n",
       "collection_recovery_fee                  0.000000  7.002190e+03  \n",
       "last_pymnt_amnt                       3498.665000  3.561368e+04  \n",
       "pub_rec_bankruptcies                     0.000000  2.000000e+00  \n",
       "isd_month                               10.000000  1.200000e+01  \n",
       "isd_year                              2011.000000  2.011000e+03  \n",
       "sub_grade_A1                             0.000000  1.000000e+00  \n",
       "sub_grade_A2                             0.000000  1.000000e+00  \n",
       "sub_grade_A3                             0.000000  1.000000e+00  \n",
       "sub_grade_A4                             0.000000  1.000000e+00  \n",
       "sub_grade_A5                             0.000000  1.000000e+00  \n",
       "sub_grade_B1                             0.000000  1.000000e+00  \n",
       "sub_grade_B2                             0.000000  1.000000e+00  \n",
       "sub_grade_B3                             0.000000  1.000000e+00  \n",
       "sub_grade_B4                             0.000000  1.000000e+00  \n",
       "sub_grade_B5                             0.000000  1.000000e+00  \n",
       "sub_grade_C1                             0.000000  1.000000e+00  \n",
       "sub_grade_C2                             0.000000  1.000000e+00  \n",
       "sub_grade_C3                             0.000000  1.000000e+00  \n",
       "sub_grade_C4                             0.000000  1.000000e+00  \n",
       "sub_grade_C5                             0.000000  1.000000e+00  \n",
       "sub_grade_D1                             0.000000  1.000000e+00  \n",
       "sub_grade_D2                             0.000000  1.000000e+00  \n",
       "sub_grade_D3                             0.000000  1.000000e+00  \n",
       "sub_grade_D4                             0.000000  1.000000e+00  \n",
       "sub_grade_D5                             0.000000  1.000000e+00  \n",
       "sub_grade_E1                             0.000000  1.000000e+00  \n",
       "sub_grade_E2                             0.000000  1.000000e+00  \n",
       "sub_grade_E3                             0.000000  1.000000e+00  \n",
       "sub_grade_E4                             0.000000  1.000000e+00  \n",
       "sub_grade_E5                             0.000000  1.000000e+00  \n",
       "sub_grade_F1                             0.000000  1.000000e+00  \n",
       "sub_grade_F2                             0.000000  1.000000e+00  \n",
       "sub_grade_F3                             0.000000  1.000000e+00  \n",
       "sub_grade_F4                             0.000000  1.000000e+00  \n",
       "sub_grade_F5                             0.000000  1.000000e+00  \n",
       "sub_grade_G1                             0.000000  1.000000e+00  \n",
       "sub_grade_G2                             0.000000  1.000000e+00  \n",
       "sub_grade_G3                             0.000000  1.000000e+00  \n",
       "sub_grade_G4                             0.000000  1.000000e+00  \n",
       "sub_grade_G5                             0.000000  1.000000e+00  \n",
       "home_ownership_MORTGAGE                  1.000000  1.000000e+00  \n",
       "home_ownership_NONE                      0.000000  1.000000e+00  \n",
       "home_ownership_OTHER                     0.000000  1.000000e+00  \n",
       "home_ownership_OWN                       0.000000  1.000000e+00  \n",
       "home_ownership_RENT                      1.000000  1.000000e+00  \n",
       "verification_status_Not Verified         1.000000  1.000000e+00  \n",
       "verification_status_Source Verified      1.000000  1.000000e+00  \n",
       "verification_status_Verified             1.000000  1.000000e+00  \n",
       "purpose_car                              0.000000  1.000000e+00  \n",
       "purpose_credit_card                      0.000000  1.000000e+00  \n",
       "purpose_debt_consolidation               1.000000  1.000000e+00  \n",
       "purpose_educational                      0.000000  1.000000e+00  \n",
       "purpose_home_improvement                 0.000000  1.000000e+00  \n",
       "purpose_house                            0.000000  1.000000e+00  \n",
       "purpose_major_purchase                   0.000000  1.000000e+00  \n",
       "purpose_medical                          0.000000  1.000000e+00  \n",
       "purpose_moving                           0.000000  1.000000e+00  \n",
       "purpose_other                            0.000000  1.000000e+00  \n",
       "purpose_renewable_energy                 0.000000  1.000000e+00  \n",
       "purpose_small_business                   0.000000  1.000000e+00  \n",
       "purpose_vacation                         0.000000  1.000000e+00  \n",
       "purpose_wedding                          0.000000  1.000000e+00  "
      ]
     },
     "execution_count": 101,
     "metadata": {},
     "output_type": "execute_result"
    }
   ],
   "source": [
    "x_train.describe().T"
   ]
  },
  {
   "cell_type": "code",
   "execution_count": 102,
   "id": "1ee08f6c",
   "metadata": {},
   "outputs": [
    {
     "data": {
      "text/plain": [
       "Index(['loan_amnt', 'funded_amnt', 'funded_amnt_inv', 'term', 'int_rate',\n",
       "       'installment', 'grade', 'emp_length', 'annual_inc', 'dti',\n",
       "       'delinq_2yrs', 'inq_last_6mths', 'open_acc', 'pub_rec', 'revol_bal',\n",
       "       'revol_util', 'total_acc', 'total_pymnt', 'total_pymnt_inv',\n",
       "       'total_rec_prncp', 'total_rec_int', 'total_rec_late_fee', 'recoveries',\n",
       "       'collection_recovery_fee', 'last_pymnt_amnt', 'pub_rec_bankruptcies',\n",
       "       'isd_month', 'isd_year', 'sub_grade_A1', 'sub_grade_A2', 'sub_grade_A3',\n",
       "       'sub_grade_A4', 'sub_grade_A5', 'sub_grade_B1', 'sub_grade_B2',\n",
       "       'sub_grade_B3', 'sub_grade_B4', 'sub_grade_B5', 'sub_grade_C1',\n",
       "       'sub_grade_C2', 'sub_grade_C3', 'sub_grade_C4', 'sub_grade_C5',\n",
       "       'sub_grade_D1', 'sub_grade_D2', 'sub_grade_D3', 'sub_grade_D4',\n",
       "       'sub_grade_D5', 'sub_grade_E1', 'sub_grade_E2', 'sub_grade_E3',\n",
       "       'sub_grade_E4', 'sub_grade_E5', 'sub_grade_F1', 'sub_grade_F2',\n",
       "       'sub_grade_F3', 'sub_grade_F4', 'sub_grade_F5', 'sub_grade_G1',\n",
       "       'sub_grade_G2', 'sub_grade_G3', 'sub_grade_G4', 'sub_grade_G5',\n",
       "       'home_ownership_MORTGAGE', 'home_ownership_NONE',\n",
       "       'home_ownership_OTHER', 'home_ownership_OWN', 'home_ownership_RENT',\n",
       "       'verification_status_Not Verified',\n",
       "       'verification_status_Source Verified', 'verification_status_Verified',\n",
       "       'purpose_car', 'purpose_credit_card', 'purpose_debt_consolidation',\n",
       "       'purpose_educational', 'purpose_home_improvement', 'purpose_house',\n",
       "       'purpose_major_purchase', 'purpose_medical', 'purpose_moving',\n",
       "       'purpose_other', 'purpose_renewable_energy', 'purpose_small_business',\n",
       "       'purpose_vacation', 'purpose_wedding'],\n",
       "      dtype='object')"
      ]
     },
     "execution_count": 102,
     "metadata": {},
     "output_type": "execute_result"
    }
   ],
   "source": [
    "x_train.columns"
   ]
  },
  {
   "cell_type": "code",
   "execution_count": 103,
   "id": "9a957a5a",
   "metadata": {},
   "outputs": [],
   "source": [
    "num_cols=['loan_amnt', 'funded_amnt', 'funded_amnt_inv','annual_inc','revol_bal','total_pymnt', 'total_pymnt_inv',\n",
    "       'total_rec_prncp', 'total_rec_int','total_rec_late_fee', 'recoveries',\n",
    "       'collection_recovery_fee', 'last_pymnt_amnt']"
   ]
  },
  {
   "cell_type": "code",
   "execution_count": 104,
   "id": "711991fb",
   "metadata": {},
   "outputs": [],
   "source": [
    "from sklearn.preprocessing import StandardScaler\n",
    "sc=StandardScaler()\n",
    "x_train.loc[:,num_cols]=sc.fit_transform(x_train[num_cols])\n",
    "x_test.loc[:,num_cols]=sc.fit_transform(x_test[num_cols])"
   ]
  },
  {
   "cell_type": "markdown",
   "id": "726b38b4",
   "metadata": {},
   "source": [
    "1.Logistic Regression"
   ]
  },
  {
   "cell_type": "code",
   "execution_count": 106,
   "id": "e85b8731",
   "metadata": {},
   "outputs": [
    {
     "name": "stdout",
     "output_type": "stream",
     "text": [
      "Accuracy of Logistic Regression without CV is  0.9557863896657345\n"
     ]
    },
    {
     "name": "stderr",
     "output_type": "stream",
     "text": [
      "C:\\Users\\Dell\\anaconda3\\lib\\site-packages\\sklearn\\linear_model\\_logistic.py:814: ConvergenceWarning: lbfgs failed to converge (status=1):\n",
      "STOP: TOTAL NO. of ITERATIONS REACHED LIMIT.\n",
      "\n",
      "Increase the number of iterations (max_iter) or scale the data as shown in:\n",
      "    https://scikit-learn.org/stable/modules/preprocessing.html\n",
      "Please also refer to the documentation for alternative solver options:\n",
      "    https://scikit-learn.org/stable/modules/linear_model.html#logistic-regression\n",
      "  n_iter_i = _check_optimize_result(\n"
     ]
    }
   ],
   "source": [
    "from sklearn.linear_model import LogisticRegression\n",
    "\n",
    "lr=LogisticRegression()\n",
    "lr.fit(x_train,y_train)\n",
    "y_pred=lr.predict(x_test)\n",
    "acc_lr=accuracy_score(y_test,y_pred)\n",
    "print(\"Accuracy of Logistic Regression without CV is \",acc_lr)"
   ]
  },
  {
   "cell_type": "code",
   "execution_count": 107,
   "id": "a8328547",
   "metadata": {},
   "outputs": [
    {
     "name": "stderr",
     "output_type": "stream",
     "text": [
      "C:\\Users\\Dell\\anaconda3\\lib\\site-packages\\sklearn\\linear_model\\_logistic.py:814: ConvergenceWarning: lbfgs failed to converge (status=1):\n",
      "STOP: TOTAL NO. of ITERATIONS REACHED LIMIT.\n",
      "\n",
      "Increase the number of iterations (max_iter) or scale the data as shown in:\n",
      "    https://scikit-learn.org/stable/modules/preprocessing.html\n",
      "Please also refer to the documentation for alternative solver options:\n",
      "    https://scikit-learn.org/stable/modules/linear_model.html#logistic-regression\n",
      "  n_iter_i = _check_optimize_result(\n",
      "C:\\Users\\Dell\\anaconda3\\lib\\site-packages\\sklearn\\linear_model\\_logistic.py:814: ConvergenceWarning: lbfgs failed to converge (status=1):\n",
      "STOP: TOTAL NO. of ITERATIONS REACHED LIMIT.\n",
      "\n",
      "Increase the number of iterations (max_iter) or scale the data as shown in:\n",
      "    https://scikit-learn.org/stable/modules/preprocessing.html\n",
      "Please also refer to the documentation for alternative solver options:\n",
      "    https://scikit-learn.org/stable/modules/linear_model.html#logistic-regression\n",
      "  n_iter_i = _check_optimize_result(\n",
      "C:\\Users\\Dell\\anaconda3\\lib\\site-packages\\sklearn\\linear_model\\_logistic.py:814: ConvergenceWarning: lbfgs failed to converge (status=1):\n",
      "STOP: TOTAL NO. of ITERATIONS REACHED LIMIT.\n",
      "\n",
      "Increase the number of iterations (max_iter) or scale the data as shown in:\n",
      "    https://scikit-learn.org/stable/modules/preprocessing.html\n",
      "Please also refer to the documentation for alternative solver options:\n",
      "    https://scikit-learn.org/stable/modules/linear_model.html#logistic-regression\n",
      "  n_iter_i = _check_optimize_result(\n",
      "C:\\Users\\Dell\\anaconda3\\lib\\site-packages\\sklearn\\linear_model\\_logistic.py:814: ConvergenceWarning: lbfgs failed to converge (status=1):\n",
      "STOP: TOTAL NO. of ITERATIONS REACHED LIMIT.\n",
      "\n",
      "Increase the number of iterations (max_iter) or scale the data as shown in:\n",
      "    https://scikit-learn.org/stable/modules/preprocessing.html\n",
      "Please also refer to the documentation for alternative solver options:\n",
      "    https://scikit-learn.org/stable/modules/linear_model.html#logistic-regression\n",
      "  n_iter_i = _check_optimize_result(\n",
      "C:\\Users\\Dell\\anaconda3\\lib\\site-packages\\sklearn\\linear_model\\_logistic.py:814: ConvergenceWarning: lbfgs failed to converge (status=1):\n",
      "STOP: TOTAL NO. of ITERATIONS REACHED LIMIT.\n",
      "\n",
      "Increase the number of iterations (max_iter) or scale the data as shown in:\n",
      "    https://scikit-learn.org/stable/modules/preprocessing.html\n",
      "Please also refer to the documentation for alternative solver options:\n",
      "    https://scikit-learn.org/stable/modules/linear_model.html#logistic-regression\n",
      "  n_iter_i = _check_optimize_result(\n",
      "C:\\Users\\Dell\\anaconda3\\lib\\site-packages\\sklearn\\linear_model\\_logistic.py:814: ConvergenceWarning: lbfgs failed to converge (status=1):\n",
      "STOP: TOTAL NO. of ITERATIONS REACHED LIMIT.\n",
      "\n",
      "Increase the number of iterations (max_iter) or scale the data as shown in:\n",
      "    https://scikit-learn.org/stable/modules/preprocessing.html\n",
      "Please also refer to the documentation for alternative solver options:\n",
      "    https://scikit-learn.org/stable/modules/linear_model.html#logistic-regression\n",
      "  n_iter_i = _check_optimize_result(\n",
      "C:\\Users\\Dell\\anaconda3\\lib\\site-packages\\sklearn\\linear_model\\_logistic.py:814: ConvergenceWarning: lbfgs failed to converge (status=1):\n",
      "STOP: TOTAL NO. of ITERATIONS REACHED LIMIT.\n",
      "\n",
      "Increase the number of iterations (max_iter) or scale the data as shown in:\n",
      "    https://scikit-learn.org/stable/modules/preprocessing.html\n",
      "Please also refer to the documentation for alternative solver options:\n",
      "    https://scikit-learn.org/stable/modules/linear_model.html#logistic-regression\n",
      "  n_iter_i = _check_optimize_result(\n",
      "C:\\Users\\Dell\\anaconda3\\lib\\site-packages\\sklearn\\linear_model\\_logistic.py:814: ConvergenceWarning: lbfgs failed to converge (status=1):\n",
      "STOP: TOTAL NO. of ITERATIONS REACHED LIMIT.\n",
      "\n",
      "Increase the number of iterations (max_iter) or scale the data as shown in:\n",
      "    https://scikit-learn.org/stable/modules/preprocessing.html\n",
      "Please also refer to the documentation for alternative solver options:\n",
      "    https://scikit-learn.org/stable/modules/linear_model.html#logistic-regression\n",
      "  n_iter_i = _check_optimize_result(\n",
      "C:\\Users\\Dell\\anaconda3\\lib\\site-packages\\sklearn\\linear_model\\_logistic.py:814: ConvergenceWarning: lbfgs failed to converge (status=1):\n",
      "STOP: TOTAL NO. of ITERATIONS REACHED LIMIT.\n",
      "\n",
      "Increase the number of iterations (max_iter) or scale the data as shown in:\n",
      "    https://scikit-learn.org/stable/modules/preprocessing.html\n",
      "Please also refer to the documentation for alternative solver options:\n",
      "    https://scikit-learn.org/stable/modules/linear_model.html#logistic-regression\n",
      "  n_iter_i = _check_optimize_result(\n"
     ]
    },
    {
     "name": "stdout",
     "output_type": "stream",
     "text": [
      "Accuracy of Logistic Regression with CV is  0.9336779066472809\n"
     ]
    },
    {
     "name": "stderr",
     "output_type": "stream",
     "text": [
      "C:\\Users\\Dell\\anaconda3\\lib\\site-packages\\sklearn\\linear_model\\_logistic.py:814: ConvergenceWarning: lbfgs failed to converge (status=1):\n",
      "STOP: TOTAL NO. of ITERATIONS REACHED LIMIT.\n",
      "\n",
      "Increase the number of iterations (max_iter) or scale the data as shown in:\n",
      "    https://scikit-learn.org/stable/modules/preprocessing.html\n",
      "Please also refer to the documentation for alternative solver options:\n",
      "    https://scikit-learn.org/stable/modules/linear_model.html#logistic-regression\n",
      "  n_iter_i = _check_optimize_result(\n"
     ]
    }
   ],
   "source": [
    "lr=LogisticRegression()\n",
    "\n",
    "\n",
    "cv_resultslr=cross_val_score(lr,x_train,y_train,cv=10,scoring=\"accuracy\")\n",
    "cv_meanlr=cv_resultslr.mean()\n",
    "print(\"Accuracy of Logistic Regression with CV is \",cv_meanlr)"
   ]
  },
  {
   "cell_type": "markdown",
   "id": "a4eb8497",
   "metadata": {},
   "source": [
    "2.SVM"
   ]
  },
  {
   "cell_type": "code",
   "execution_count": 110,
   "id": "679c02f0",
   "metadata": {},
   "outputs": [
    {
     "name": "stdout",
     "output_type": "stream",
     "text": [
      "Accuracy of SVM without CV is  0.8504461313090957\n"
     ]
    }
   ],
   "source": [
    "from sklearn.svm import SVC\n",
    "SV=SVC()\n",
    "SV.fit(x_train,y_train)\n",
    "y_pred=SV.predict(x_test)\n",
    "acc_svm=accuracy_score(y_test,y_pred)\n",
    "print(\"Accuracy of SVM without CV is \",acc_svm)"
   ]
  },
  {
   "cell_type": "code",
   "execution_count": 111,
   "id": "b4edb629",
   "metadata": {},
   "outputs": [
    {
     "name": "stdout",
     "output_type": "stream",
     "text": [
      "Accuracy of SVM with CV is  0.8576327800029532\n"
     ]
    }
   ],
   "source": [
    "SV=SVC()\n",
    "cv_results_svm=cross_val_score(SV,x_train,y_train,cv=10,scoring=\"accuracy\")\n",
    "cv_meansvm=cv_results_svm.mean()\n",
    "print(\"Accuracy of SVM with CV is \",cv_meansvm)"
   ]
  },
  {
   "cell_type": "markdown",
   "id": "ab11047c",
   "metadata": {},
   "source": [
    "3.KNN"
   ]
  },
  {
   "cell_type": "code",
   "execution_count": 112,
   "id": "63cfa767",
   "metadata": {},
   "outputs": [
    {
     "name": "stdout",
     "output_type": "stream",
     "text": [
      "Accuracy of KNN without CV is  0.8508456518844054\n"
     ]
    }
   ],
   "source": [
    "from sklearn.neighbors import KNeighborsClassifier\n",
    "knn=KNeighborsClassifier(n_neighbors=15)\n",
    "knn.fit(x_train,y_train)\n",
    "y_pred=knn.predict(x_test)\n",
    "acc_knn=accuracy_score(y_test,y_pred)\n",
    "print(\"Accuracy of KNN without CV is \",acc_knn)"
   ]
  },
  {
   "cell_type": "code",
   "execution_count": 113,
   "id": "cb9393f8",
   "metadata": {},
   "outputs": [
    {
     "name": "stdout",
     "output_type": "stream",
     "text": [
      "Accuracy of KNN with CV is  0.8582321806023538\n"
     ]
    }
   ],
   "source": [
    "knn=KNeighborsClassifier(n_neighbors=15)\n",
    "cv_resultsknn=cross_val_score(knn,x_train,y_train,cv=10,scoring=\"accuracy\")\n",
    "cv_meanknn=cv_resultsknn.mean()\n",
    "print(\"Accuracy of KNN with CV is \",cv_meanknn)"
   ]
  },
  {
   "cell_type": "code",
   "execution_count": 115,
   "id": "ed92f803",
   "metadata": {},
   "outputs": [
    {
     "data": {
      "text/html": [
       "<div>\n",
       "<style scoped>\n",
       "    .dataframe tbody tr th:only-of-type {\n",
       "        vertical-align: middle;\n",
       "    }\n",
       "\n",
       "    .dataframe tbody tr th {\n",
       "        vertical-align: top;\n",
       "    }\n",
       "\n",
       "    .dataframe thead th {\n",
       "        text-align: right;\n",
       "    }\n",
       "</style>\n",
       "<table border=\"1\" class=\"dataframe\">\n",
       "  <thead>\n",
       "    <tr style=\"text-align: right;\">\n",
       "      <th></th>\n",
       "      <th>Accuracy values</th>\n",
       "    </tr>\n",
       "  </thead>\n",
       "  <tbody>\n",
       "    <tr>\n",
       "      <th>Logistic Regression w/o CV</th>\n",
       "      <td>0.955786</td>\n",
       "    </tr>\n",
       "    <tr>\n",
       "      <th>Logistic Regression with CV</th>\n",
       "      <td>0.933678</td>\n",
       "    </tr>\n",
       "    <tr>\n",
       "      <th>SVM w/o CV</th>\n",
       "      <td>0.850446</td>\n",
       "    </tr>\n",
       "    <tr>\n",
       "      <th>SVM with CV</th>\n",
       "      <td>0.857633</td>\n",
       "    </tr>\n",
       "    <tr>\n",
       "      <th>KNN w/o CV</th>\n",
       "      <td>0.850846</td>\n",
       "    </tr>\n",
       "    <tr>\n",
       "      <th>KNN with CV</th>\n",
       "      <td>0.858232</td>\n",
       "    </tr>\n",
       "  </tbody>\n",
       "</table>\n",
       "</div>"
      ],
      "text/plain": [
       "                             Accuracy values\n",
       "Logistic Regression w/o CV          0.955786\n",
       "Logistic Regression with CV         0.933678\n",
       "SVM w/o CV                          0.850446\n",
       "SVM with CV                         0.857633\n",
       "KNN w/o CV                          0.850846\n",
       "KNN with CV                         0.858232"
      ]
     },
     "execution_count": 115,
     "metadata": {},
     "output_type": "execute_result"
    }
   ],
   "source": [
    "results =pd.DataFrame([acc_lr, cv_meanlr,acc_svm,cv_meansvm,acc_knn,cv_meanknn],columns=['Accuracy values'])\n",
    "results = results.set_axis([\"Logistic Regression w/o CV \", \"Logistic Regression with CV\",\"SVM w/o CV\",\"SVM with CV\",\"KNN w/o CV\",\"KNN with CV\"])\n",
    "results"
   ]
  },
  {
   "cell_type": "code",
   "execution_count": null,
   "id": "08384a4a",
   "metadata": {},
   "outputs": [],
   "source": []
  }
 ],
 "metadata": {
  "kernelspec": {
   "display_name": "Python 3 (ipykernel)",
   "language": "python",
   "name": "python3"
  },
  "language_info": {
   "codemirror_mode": {
    "name": "ipython",
    "version": 3
   },
   "file_extension": ".py",
   "mimetype": "text/x-python",
   "name": "python",
   "nbconvert_exporter": "python",
   "pygments_lexer": "ipython3",
   "version": "3.9.7"
  }
 },
 "nbformat": 4,
 "nbformat_minor": 5
}
