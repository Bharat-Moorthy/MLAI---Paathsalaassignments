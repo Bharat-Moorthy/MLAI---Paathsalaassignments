{
 "cells": [
  {
   "cell_type": "markdown",
   "id": "054be173",
   "metadata": {},
   "source": [
    "Jio fibre wants to implement AI/ML in their systems. The activity task is to build a network intrusion detector, a predictive model capable of distinguishing between ``bad'' connections, called intrusions or attacks, and ``good'' normal connections. \n",
    "\n",
    "This database contains a standard set of data to be audited, which includes a wide  variety of intrusions in network environment.\n",
    "\n",
    "Your target is building a machine efficient learning model using different models, \n",
    "probabilities of bad or good connections using tree-based model. This is a multi\u0002class classification.\n",
    "\n",
    "Fine tune the model and make a model which have at least 97 percent accuracy. “intrusion” is the target variable."
   ]
  },
  {
   "cell_type": "code",
   "execution_count": 1,
   "id": "7f617a6f",
   "metadata": {},
   "outputs": [],
   "source": [
    "import pandas as pd\n",
    "import numpy as np\n",
    "import matplotlib.pyplot as plt\n",
    "import seaborn as sns"
   ]
  },
  {
   "cell_type": "code",
   "execution_count": 2,
   "id": "7f1af41f",
   "metadata": {},
   "outputs": [],
   "source": [
    "data=pd.read_csv(r\"D:\\Studies\\ML AI-ICT\\Supervised ML\\Case study\\tcp-connection.csv\")"
   ]
  },
  {
   "cell_type": "code",
   "execution_count": 52,
   "id": "f778d24b",
   "metadata": {},
   "outputs": [],
   "source": [
    "#Basic summary of the dataset"
   ]
  },
  {
   "cell_type": "code",
   "execution_count": 3,
   "id": "addc688d",
   "metadata": {},
   "outputs": [
    {
     "name": "stdout",
     "output_type": "stream",
     "text": [
      "<class 'pandas.core.frame.DataFrame'>\n",
      "RangeIndex: 494021 entries, 0 to 494020\n",
      "Data columns (total 42 columns):\n",
      " #   Column                       Non-Null Count   Dtype  \n",
      "---  ------                       --------------   -----  \n",
      " 0   duration                     494021 non-null  int64  \n",
      " 1   protocol_type                494021 non-null  object \n",
      " 2   service                      494021 non-null  object \n",
      " 3   flag                         494021 non-null  object \n",
      " 4   src_bytes                    494021 non-null  int64  \n",
      " 5   dst_bytes                    494021 non-null  int64  \n",
      " 6   land                         494021 non-null  int64  \n",
      " 7   wrong_fragment               494021 non-null  int64  \n",
      " 8   urgent                       494021 non-null  int64  \n",
      " 9   hot                          494021 non-null  int64  \n",
      " 10  num_failed_logins            494021 non-null  int64  \n",
      " 11  logged_in                    494021 non-null  int64  \n",
      " 12  num_compromised              494021 non-null  int64  \n",
      " 13  root_shell                   494021 non-null  int64  \n",
      " 14  su_attempted                 494021 non-null  int64  \n",
      " 15  num_root                     494021 non-null  int64  \n",
      " 16  num_file_creations           494021 non-null  int64  \n",
      " 17  num_shells                   494021 non-null  int64  \n",
      " 18  num_access_files             494021 non-null  int64  \n",
      " 19  num_outbound_cmds            494021 non-null  int64  \n",
      " 20  is_host_login                494021 non-null  int64  \n",
      " 21  is_guest_login               494021 non-null  int64  \n",
      " 22  count                        494021 non-null  int64  \n",
      " 23  srv_count                    494021 non-null  int64  \n",
      " 24  serror_rate                  494021 non-null  float64\n",
      " 25  srv_serrer_rate              494021 non-null  float64\n",
      " 26  rerror_rate                  494021 non-null  float64\n",
      " 27  srv_rerror_rate              494021 non-null  float64\n",
      " 28  same_srv_rate                494021 non-null  float64\n",
      " 29  diff_srv_rate                494021 non-null  float64\n",
      " 30  srv_diff_host_rate           494021 non-null  float64\n",
      " 31  dst_host_count               494021 non-null  int64  \n",
      " 32  dst_host_srv_count           494021 non-null  int64  \n",
      " 33  dst_host_same_srv_rate       494021 non-null  float64\n",
      " 34  dst_host_diff_srv_rate       494021 non-null  float64\n",
      " 35  dst_host_same_src_port_rate  494021 non-null  float64\n",
      " 36  dst_host_srv_diff_host_rate  494021 non-null  float64\n",
      " 37  dst_host_serror_rate         494021 non-null  float64\n",
      " 38  dst_host_srv_serror_rate     494021 non-null  float64\n",
      " 39  dst_host_rerror_rate         494021 non-null  float64\n",
      " 40  dst_host_srv_rerror_rate     494021 non-null  float64\n",
      " 41  intrusion                    494021 non-null  object \n",
      "dtypes: float64(15), int64(23), object(4)\n",
      "memory usage: 158.3+ MB\n"
     ]
    }
   ],
   "source": [
    "data.info()"
   ]
  },
  {
   "cell_type": "code",
   "execution_count": 53,
   "id": "74ab4add",
   "metadata": {},
   "outputs": [],
   "source": [
    "#Dimnension of the dataset"
   ]
  },
  {
   "cell_type": "code",
   "execution_count": 4,
   "id": "b462da74",
   "metadata": {},
   "outputs": [
    {
     "data": {
      "text/plain": [
       "(494021, 42)"
      ]
     },
     "execution_count": 4,
     "metadata": {},
     "output_type": "execute_result"
    }
   ],
   "source": [
    "data.shape"
   ]
  },
  {
   "cell_type": "code",
   "execution_count": 54,
   "id": "3135d6e3",
   "metadata": {},
   "outputs": [],
   "source": [
    "#Contains 42 columns and 494021 rows"
   ]
  },
  {
   "cell_type": "code",
   "execution_count": 55,
   "id": "0d594607",
   "metadata": {},
   "outputs": [],
   "source": [
    "#No of datatypes"
   ]
  },
  {
   "cell_type": "code",
   "execution_count": 5,
   "id": "cb2e57b8",
   "metadata": {},
   "outputs": [
    {
     "data": {
      "text/plain": [
       "int64      23\n",
       "float64    15\n",
       "object      4\n",
       "dtype: int64"
      ]
     },
     "execution_count": 5,
     "metadata": {},
     "output_type": "execute_result"
    }
   ],
   "source": [
    "data.dtypes.value_counts()"
   ]
  },
  {
   "cell_type": "code",
   "execution_count": 56,
   "id": "8ddc0aab",
   "metadata": {},
   "outputs": [],
   "source": [
    "#Dataset contains 23 int columns , 15 float type columns and 4 object type columns"
   ]
  },
  {
   "cell_type": "code",
   "execution_count": 58,
   "id": "1f49e01c",
   "metadata": {},
   "outputs": [],
   "source": [
    "#Statistical summary of the dataset for int/float columns"
   ]
  },
  {
   "cell_type": "code",
   "execution_count": 6,
   "id": "b48c68cf",
   "metadata": {},
   "outputs": [
    {
     "data": {
      "text/html": [
       "<div>\n",
       "<style scoped>\n",
       "    .dataframe tbody tr th:only-of-type {\n",
       "        vertical-align: middle;\n",
       "    }\n",
       "\n",
       "    .dataframe tbody tr th {\n",
       "        vertical-align: top;\n",
       "    }\n",
       "\n",
       "    .dataframe thead th {\n",
       "        text-align: right;\n",
       "    }\n",
       "</style>\n",
       "<table border=\"1\" class=\"dataframe\">\n",
       "  <thead>\n",
       "    <tr style=\"text-align: right;\">\n",
       "      <th></th>\n",
       "      <th>count</th>\n",
       "      <th>mean</th>\n",
       "      <th>std</th>\n",
       "      <th>min</th>\n",
       "      <th>25%</th>\n",
       "      <th>50%</th>\n",
       "      <th>75%</th>\n",
       "      <th>max</th>\n",
       "    </tr>\n",
       "  </thead>\n",
       "  <tbody>\n",
       "    <tr>\n",
       "      <th>duration</th>\n",
       "      <td>494021.0</td>\n",
       "      <td>47.979302</td>\n",
       "      <td>707.746472</td>\n",
       "      <td>0.0</td>\n",
       "      <td>0.00</td>\n",
       "      <td>0.0</td>\n",
       "      <td>0.00</td>\n",
       "      <td>58329.0</td>\n",
       "    </tr>\n",
       "    <tr>\n",
       "      <th>src_bytes</th>\n",
       "      <td>494021.0</td>\n",
       "      <td>3025.610296</td>\n",
       "      <td>988218.101047</td>\n",
       "      <td>0.0</td>\n",
       "      <td>45.00</td>\n",
       "      <td>520.0</td>\n",
       "      <td>1032.00</td>\n",
       "      <td>693375640.0</td>\n",
       "    </tr>\n",
       "    <tr>\n",
       "      <th>dst_bytes</th>\n",
       "      <td>494021.0</td>\n",
       "      <td>868.532425</td>\n",
       "      <td>33040.001252</td>\n",
       "      <td>0.0</td>\n",
       "      <td>0.00</td>\n",
       "      <td>0.0</td>\n",
       "      <td>0.00</td>\n",
       "      <td>5155468.0</td>\n",
       "    </tr>\n",
       "    <tr>\n",
       "      <th>land</th>\n",
       "      <td>494021.0</td>\n",
       "      <td>0.000045</td>\n",
       "      <td>0.006673</td>\n",
       "      <td>0.0</td>\n",
       "      <td>0.00</td>\n",
       "      <td>0.0</td>\n",
       "      <td>0.00</td>\n",
       "      <td>1.0</td>\n",
       "    </tr>\n",
       "    <tr>\n",
       "      <th>wrong_fragment</th>\n",
       "      <td>494021.0</td>\n",
       "      <td>0.006433</td>\n",
       "      <td>0.134805</td>\n",
       "      <td>0.0</td>\n",
       "      <td>0.00</td>\n",
       "      <td>0.0</td>\n",
       "      <td>0.00</td>\n",
       "      <td>3.0</td>\n",
       "    </tr>\n",
       "    <tr>\n",
       "      <th>urgent</th>\n",
       "      <td>494021.0</td>\n",
       "      <td>0.000014</td>\n",
       "      <td>0.005510</td>\n",
       "      <td>0.0</td>\n",
       "      <td>0.00</td>\n",
       "      <td>0.0</td>\n",
       "      <td>0.00</td>\n",
       "      <td>3.0</td>\n",
       "    </tr>\n",
       "    <tr>\n",
       "      <th>hot</th>\n",
       "      <td>494021.0</td>\n",
       "      <td>0.034519</td>\n",
       "      <td>0.782103</td>\n",
       "      <td>0.0</td>\n",
       "      <td>0.00</td>\n",
       "      <td>0.0</td>\n",
       "      <td>0.00</td>\n",
       "      <td>30.0</td>\n",
       "    </tr>\n",
       "    <tr>\n",
       "      <th>num_failed_logins</th>\n",
       "      <td>494021.0</td>\n",
       "      <td>0.000152</td>\n",
       "      <td>0.015520</td>\n",
       "      <td>0.0</td>\n",
       "      <td>0.00</td>\n",
       "      <td>0.0</td>\n",
       "      <td>0.00</td>\n",
       "      <td>5.0</td>\n",
       "    </tr>\n",
       "    <tr>\n",
       "      <th>logged_in</th>\n",
       "      <td>494021.0</td>\n",
       "      <td>0.148247</td>\n",
       "      <td>0.355345</td>\n",
       "      <td>0.0</td>\n",
       "      <td>0.00</td>\n",
       "      <td>0.0</td>\n",
       "      <td>0.00</td>\n",
       "      <td>1.0</td>\n",
       "    </tr>\n",
       "    <tr>\n",
       "      <th>num_compromised</th>\n",
       "      <td>494021.0</td>\n",
       "      <td>0.010212</td>\n",
       "      <td>1.798326</td>\n",
       "      <td>0.0</td>\n",
       "      <td>0.00</td>\n",
       "      <td>0.0</td>\n",
       "      <td>0.00</td>\n",
       "      <td>884.0</td>\n",
       "    </tr>\n",
       "    <tr>\n",
       "      <th>root_shell</th>\n",
       "      <td>494021.0</td>\n",
       "      <td>0.000111</td>\n",
       "      <td>0.010551</td>\n",
       "      <td>0.0</td>\n",
       "      <td>0.00</td>\n",
       "      <td>0.0</td>\n",
       "      <td>0.00</td>\n",
       "      <td>1.0</td>\n",
       "    </tr>\n",
       "    <tr>\n",
       "      <th>su_attempted</th>\n",
       "      <td>494021.0</td>\n",
       "      <td>0.000036</td>\n",
       "      <td>0.007793</td>\n",
       "      <td>0.0</td>\n",
       "      <td>0.00</td>\n",
       "      <td>0.0</td>\n",
       "      <td>0.00</td>\n",
       "      <td>2.0</td>\n",
       "    </tr>\n",
       "    <tr>\n",
       "      <th>num_root</th>\n",
       "      <td>494021.0</td>\n",
       "      <td>0.011352</td>\n",
       "      <td>2.012718</td>\n",
       "      <td>0.0</td>\n",
       "      <td>0.00</td>\n",
       "      <td>0.0</td>\n",
       "      <td>0.00</td>\n",
       "      <td>993.0</td>\n",
       "    </tr>\n",
       "    <tr>\n",
       "      <th>num_file_creations</th>\n",
       "      <td>494021.0</td>\n",
       "      <td>0.001083</td>\n",
       "      <td>0.096416</td>\n",
       "      <td>0.0</td>\n",
       "      <td>0.00</td>\n",
       "      <td>0.0</td>\n",
       "      <td>0.00</td>\n",
       "      <td>28.0</td>\n",
       "    </tr>\n",
       "    <tr>\n",
       "      <th>num_shells</th>\n",
       "      <td>494021.0</td>\n",
       "      <td>0.000109</td>\n",
       "      <td>0.011020</td>\n",
       "      <td>0.0</td>\n",
       "      <td>0.00</td>\n",
       "      <td>0.0</td>\n",
       "      <td>0.00</td>\n",
       "      <td>2.0</td>\n",
       "    </tr>\n",
       "    <tr>\n",
       "      <th>num_access_files</th>\n",
       "      <td>494021.0</td>\n",
       "      <td>0.001008</td>\n",
       "      <td>0.036482</td>\n",
       "      <td>0.0</td>\n",
       "      <td>0.00</td>\n",
       "      <td>0.0</td>\n",
       "      <td>0.00</td>\n",
       "      <td>8.0</td>\n",
       "    </tr>\n",
       "    <tr>\n",
       "      <th>num_outbound_cmds</th>\n",
       "      <td>494021.0</td>\n",
       "      <td>0.000000</td>\n",
       "      <td>0.000000</td>\n",
       "      <td>0.0</td>\n",
       "      <td>0.00</td>\n",
       "      <td>0.0</td>\n",
       "      <td>0.00</td>\n",
       "      <td>0.0</td>\n",
       "    </tr>\n",
       "    <tr>\n",
       "      <th>is_host_login</th>\n",
       "      <td>494021.0</td>\n",
       "      <td>0.000000</td>\n",
       "      <td>0.000000</td>\n",
       "      <td>0.0</td>\n",
       "      <td>0.00</td>\n",
       "      <td>0.0</td>\n",
       "      <td>0.00</td>\n",
       "      <td>0.0</td>\n",
       "    </tr>\n",
       "    <tr>\n",
       "      <th>is_guest_login</th>\n",
       "      <td>494021.0</td>\n",
       "      <td>0.001387</td>\n",
       "      <td>0.037211</td>\n",
       "      <td>0.0</td>\n",
       "      <td>0.00</td>\n",
       "      <td>0.0</td>\n",
       "      <td>0.00</td>\n",
       "      <td>1.0</td>\n",
       "    </tr>\n",
       "    <tr>\n",
       "      <th>count</th>\n",
       "      <td>494021.0</td>\n",
       "      <td>332.285690</td>\n",
       "      <td>213.147412</td>\n",
       "      <td>0.0</td>\n",
       "      <td>117.00</td>\n",
       "      <td>510.0</td>\n",
       "      <td>511.00</td>\n",
       "      <td>511.0</td>\n",
       "    </tr>\n",
       "    <tr>\n",
       "      <th>srv_count</th>\n",
       "      <td>494021.0</td>\n",
       "      <td>292.906557</td>\n",
       "      <td>246.322817</td>\n",
       "      <td>0.0</td>\n",
       "      <td>10.00</td>\n",
       "      <td>510.0</td>\n",
       "      <td>511.00</td>\n",
       "      <td>511.0</td>\n",
       "    </tr>\n",
       "    <tr>\n",
       "      <th>serror_rate</th>\n",
       "      <td>494021.0</td>\n",
       "      <td>0.176687</td>\n",
       "      <td>0.380717</td>\n",
       "      <td>0.0</td>\n",
       "      <td>0.00</td>\n",
       "      <td>0.0</td>\n",
       "      <td>0.00</td>\n",
       "      <td>1.0</td>\n",
       "    </tr>\n",
       "    <tr>\n",
       "      <th>srv_serrer_rate</th>\n",
       "      <td>494021.0</td>\n",
       "      <td>0.176609</td>\n",
       "      <td>0.381017</td>\n",
       "      <td>0.0</td>\n",
       "      <td>0.00</td>\n",
       "      <td>0.0</td>\n",
       "      <td>0.00</td>\n",
       "      <td>1.0</td>\n",
       "    </tr>\n",
       "    <tr>\n",
       "      <th>rerror_rate</th>\n",
       "      <td>494021.0</td>\n",
       "      <td>0.057433</td>\n",
       "      <td>0.231623</td>\n",
       "      <td>0.0</td>\n",
       "      <td>0.00</td>\n",
       "      <td>0.0</td>\n",
       "      <td>0.00</td>\n",
       "      <td>1.0</td>\n",
       "    </tr>\n",
       "    <tr>\n",
       "      <th>srv_rerror_rate</th>\n",
       "      <td>494021.0</td>\n",
       "      <td>0.057719</td>\n",
       "      <td>0.232147</td>\n",
       "      <td>0.0</td>\n",
       "      <td>0.00</td>\n",
       "      <td>0.0</td>\n",
       "      <td>0.00</td>\n",
       "      <td>1.0</td>\n",
       "    </tr>\n",
       "    <tr>\n",
       "      <th>same_srv_rate</th>\n",
       "      <td>494021.0</td>\n",
       "      <td>0.791547</td>\n",
       "      <td>0.388189</td>\n",
       "      <td>0.0</td>\n",
       "      <td>1.00</td>\n",
       "      <td>1.0</td>\n",
       "      <td>1.00</td>\n",
       "      <td>1.0</td>\n",
       "    </tr>\n",
       "    <tr>\n",
       "      <th>diff_srv_rate</th>\n",
       "      <td>494021.0</td>\n",
       "      <td>0.020982</td>\n",
       "      <td>0.082205</td>\n",
       "      <td>0.0</td>\n",
       "      <td>0.00</td>\n",
       "      <td>0.0</td>\n",
       "      <td>0.00</td>\n",
       "      <td>1.0</td>\n",
       "    </tr>\n",
       "    <tr>\n",
       "      <th>srv_diff_host_rate</th>\n",
       "      <td>494021.0</td>\n",
       "      <td>0.028997</td>\n",
       "      <td>0.142397</td>\n",
       "      <td>0.0</td>\n",
       "      <td>0.00</td>\n",
       "      <td>0.0</td>\n",
       "      <td>0.00</td>\n",
       "      <td>1.0</td>\n",
       "    </tr>\n",
       "    <tr>\n",
       "      <th>dst_host_count</th>\n",
       "      <td>494021.0</td>\n",
       "      <td>232.470778</td>\n",
       "      <td>64.745380</td>\n",
       "      <td>0.0</td>\n",
       "      <td>255.00</td>\n",
       "      <td>255.0</td>\n",
       "      <td>255.00</td>\n",
       "      <td>255.0</td>\n",
       "    </tr>\n",
       "    <tr>\n",
       "      <th>dst_host_srv_count</th>\n",
       "      <td>494021.0</td>\n",
       "      <td>188.665670</td>\n",
       "      <td>106.040437</td>\n",
       "      <td>0.0</td>\n",
       "      <td>46.00</td>\n",
       "      <td>255.0</td>\n",
       "      <td>255.00</td>\n",
       "      <td>255.0</td>\n",
       "    </tr>\n",
       "    <tr>\n",
       "      <th>dst_host_same_srv_rate</th>\n",
       "      <td>494021.0</td>\n",
       "      <td>0.753780</td>\n",
       "      <td>0.410781</td>\n",
       "      <td>0.0</td>\n",
       "      <td>0.41</td>\n",
       "      <td>1.0</td>\n",
       "      <td>1.00</td>\n",
       "      <td>1.0</td>\n",
       "    </tr>\n",
       "    <tr>\n",
       "      <th>dst_host_diff_srv_rate</th>\n",
       "      <td>494021.0</td>\n",
       "      <td>0.030906</td>\n",
       "      <td>0.109259</td>\n",
       "      <td>0.0</td>\n",
       "      <td>0.00</td>\n",
       "      <td>0.0</td>\n",
       "      <td>0.04</td>\n",
       "      <td>1.0</td>\n",
       "    </tr>\n",
       "    <tr>\n",
       "      <th>dst_host_same_src_port_rate</th>\n",
       "      <td>494021.0</td>\n",
       "      <td>0.601935</td>\n",
       "      <td>0.481309</td>\n",
       "      <td>0.0</td>\n",
       "      <td>0.00</td>\n",
       "      <td>1.0</td>\n",
       "      <td>1.00</td>\n",
       "      <td>1.0</td>\n",
       "    </tr>\n",
       "    <tr>\n",
       "      <th>dst_host_srv_diff_host_rate</th>\n",
       "      <td>494021.0</td>\n",
       "      <td>0.006684</td>\n",
       "      <td>0.042133</td>\n",
       "      <td>0.0</td>\n",
       "      <td>0.00</td>\n",
       "      <td>0.0</td>\n",
       "      <td>0.00</td>\n",
       "      <td>1.0</td>\n",
       "    </tr>\n",
       "    <tr>\n",
       "      <th>dst_host_serror_rate</th>\n",
       "      <td>494021.0</td>\n",
       "      <td>0.176754</td>\n",
       "      <td>0.380593</td>\n",
       "      <td>0.0</td>\n",
       "      <td>0.00</td>\n",
       "      <td>0.0</td>\n",
       "      <td>0.00</td>\n",
       "      <td>1.0</td>\n",
       "    </tr>\n",
       "    <tr>\n",
       "      <th>dst_host_srv_serror_rate</th>\n",
       "      <td>494021.0</td>\n",
       "      <td>0.176443</td>\n",
       "      <td>0.380919</td>\n",
       "      <td>0.0</td>\n",
       "      <td>0.00</td>\n",
       "      <td>0.0</td>\n",
       "      <td>0.00</td>\n",
       "      <td>1.0</td>\n",
       "    </tr>\n",
       "    <tr>\n",
       "      <th>dst_host_rerror_rate</th>\n",
       "      <td>494021.0</td>\n",
       "      <td>0.058118</td>\n",
       "      <td>0.230590</td>\n",
       "      <td>0.0</td>\n",
       "      <td>0.00</td>\n",
       "      <td>0.0</td>\n",
       "      <td>0.00</td>\n",
       "      <td>1.0</td>\n",
       "    </tr>\n",
       "    <tr>\n",
       "      <th>dst_host_srv_rerror_rate</th>\n",
       "      <td>494021.0</td>\n",
       "      <td>0.057412</td>\n",
       "      <td>0.230140</td>\n",
       "      <td>0.0</td>\n",
       "      <td>0.00</td>\n",
       "      <td>0.0</td>\n",
       "      <td>0.00</td>\n",
       "      <td>1.0</td>\n",
       "    </tr>\n",
       "  </tbody>\n",
       "</table>\n",
       "</div>"
      ],
      "text/plain": [
       "                                count         mean            std  min  \\\n",
       "duration                     494021.0    47.979302     707.746472  0.0   \n",
       "src_bytes                    494021.0  3025.610296  988218.101047  0.0   \n",
       "dst_bytes                    494021.0   868.532425   33040.001252  0.0   \n",
       "land                         494021.0     0.000045       0.006673  0.0   \n",
       "wrong_fragment               494021.0     0.006433       0.134805  0.0   \n",
       "urgent                       494021.0     0.000014       0.005510  0.0   \n",
       "hot                          494021.0     0.034519       0.782103  0.0   \n",
       "num_failed_logins            494021.0     0.000152       0.015520  0.0   \n",
       "logged_in                    494021.0     0.148247       0.355345  0.0   \n",
       "num_compromised              494021.0     0.010212       1.798326  0.0   \n",
       "root_shell                   494021.0     0.000111       0.010551  0.0   \n",
       "su_attempted                 494021.0     0.000036       0.007793  0.0   \n",
       "num_root                     494021.0     0.011352       2.012718  0.0   \n",
       "num_file_creations           494021.0     0.001083       0.096416  0.0   \n",
       "num_shells                   494021.0     0.000109       0.011020  0.0   \n",
       "num_access_files             494021.0     0.001008       0.036482  0.0   \n",
       "num_outbound_cmds            494021.0     0.000000       0.000000  0.0   \n",
       "is_host_login                494021.0     0.000000       0.000000  0.0   \n",
       "is_guest_login               494021.0     0.001387       0.037211  0.0   \n",
       "count                        494021.0   332.285690     213.147412  0.0   \n",
       "srv_count                    494021.0   292.906557     246.322817  0.0   \n",
       "serror_rate                  494021.0     0.176687       0.380717  0.0   \n",
       "srv_serrer_rate              494021.0     0.176609       0.381017  0.0   \n",
       "rerror_rate                  494021.0     0.057433       0.231623  0.0   \n",
       "srv_rerror_rate              494021.0     0.057719       0.232147  0.0   \n",
       "same_srv_rate                494021.0     0.791547       0.388189  0.0   \n",
       "diff_srv_rate                494021.0     0.020982       0.082205  0.0   \n",
       "srv_diff_host_rate           494021.0     0.028997       0.142397  0.0   \n",
       "dst_host_count               494021.0   232.470778      64.745380  0.0   \n",
       "dst_host_srv_count           494021.0   188.665670     106.040437  0.0   \n",
       "dst_host_same_srv_rate       494021.0     0.753780       0.410781  0.0   \n",
       "dst_host_diff_srv_rate       494021.0     0.030906       0.109259  0.0   \n",
       "dst_host_same_src_port_rate  494021.0     0.601935       0.481309  0.0   \n",
       "dst_host_srv_diff_host_rate  494021.0     0.006684       0.042133  0.0   \n",
       "dst_host_serror_rate         494021.0     0.176754       0.380593  0.0   \n",
       "dst_host_srv_serror_rate     494021.0     0.176443       0.380919  0.0   \n",
       "dst_host_rerror_rate         494021.0     0.058118       0.230590  0.0   \n",
       "dst_host_srv_rerror_rate     494021.0     0.057412       0.230140  0.0   \n",
       "\n",
       "                                25%    50%      75%          max  \n",
       "duration                       0.00    0.0     0.00      58329.0  \n",
       "src_bytes                     45.00  520.0  1032.00  693375640.0  \n",
       "dst_bytes                      0.00    0.0     0.00    5155468.0  \n",
       "land                           0.00    0.0     0.00          1.0  \n",
       "wrong_fragment                 0.00    0.0     0.00          3.0  \n",
       "urgent                         0.00    0.0     0.00          3.0  \n",
       "hot                            0.00    0.0     0.00         30.0  \n",
       "num_failed_logins              0.00    0.0     0.00          5.0  \n",
       "logged_in                      0.00    0.0     0.00          1.0  \n",
       "num_compromised                0.00    0.0     0.00        884.0  \n",
       "root_shell                     0.00    0.0     0.00          1.0  \n",
       "su_attempted                   0.00    0.0     0.00          2.0  \n",
       "num_root                       0.00    0.0     0.00        993.0  \n",
       "num_file_creations             0.00    0.0     0.00         28.0  \n",
       "num_shells                     0.00    0.0     0.00          2.0  \n",
       "num_access_files               0.00    0.0     0.00          8.0  \n",
       "num_outbound_cmds              0.00    0.0     0.00          0.0  \n",
       "is_host_login                  0.00    0.0     0.00          0.0  \n",
       "is_guest_login                 0.00    0.0     0.00          1.0  \n",
       "count                        117.00  510.0   511.00        511.0  \n",
       "srv_count                     10.00  510.0   511.00        511.0  \n",
       "serror_rate                    0.00    0.0     0.00          1.0  \n",
       "srv_serrer_rate                0.00    0.0     0.00          1.0  \n",
       "rerror_rate                    0.00    0.0     0.00          1.0  \n",
       "srv_rerror_rate                0.00    0.0     0.00          1.0  \n",
       "same_srv_rate                  1.00    1.0     1.00          1.0  \n",
       "diff_srv_rate                  0.00    0.0     0.00          1.0  \n",
       "srv_diff_host_rate             0.00    0.0     0.00          1.0  \n",
       "dst_host_count               255.00  255.0   255.00        255.0  \n",
       "dst_host_srv_count            46.00  255.0   255.00        255.0  \n",
       "dst_host_same_srv_rate         0.41    1.0     1.00          1.0  \n",
       "dst_host_diff_srv_rate         0.00    0.0     0.04          1.0  \n",
       "dst_host_same_src_port_rate    0.00    1.0     1.00          1.0  \n",
       "dst_host_srv_diff_host_rate    0.00    0.0     0.00          1.0  \n",
       "dst_host_serror_rate           0.00    0.0     0.00          1.0  \n",
       "dst_host_srv_serror_rate       0.00    0.0     0.00          1.0  \n",
       "dst_host_rerror_rate           0.00    0.0     0.00          1.0  \n",
       "dst_host_srv_rerror_rate       0.00    0.0     0.00          1.0  "
      ]
     },
     "execution_count": 6,
     "metadata": {},
     "output_type": "execute_result"
    }
   ],
   "source": [
    "data.describe().T"
   ]
  },
  {
   "cell_type": "code",
   "execution_count": 59,
   "id": "7a6c3d43",
   "metadata": {},
   "outputs": [],
   "source": [
    "#Statistical summary of object type columns"
   ]
  },
  {
   "cell_type": "code",
   "execution_count": 7,
   "id": "f0a0e556",
   "metadata": {},
   "outputs": [
    {
     "data": {
      "text/html": [
       "<div>\n",
       "<style scoped>\n",
       "    .dataframe tbody tr th:only-of-type {\n",
       "        vertical-align: middle;\n",
       "    }\n",
       "\n",
       "    .dataframe tbody tr th {\n",
       "        vertical-align: top;\n",
       "    }\n",
       "\n",
       "    .dataframe thead th {\n",
       "        text-align: right;\n",
       "    }\n",
       "</style>\n",
       "<table border=\"1\" class=\"dataframe\">\n",
       "  <thead>\n",
       "    <tr style=\"text-align: right;\">\n",
       "      <th></th>\n",
       "      <th>protocol_type</th>\n",
       "      <th>service</th>\n",
       "      <th>flag</th>\n",
       "      <th>intrusion</th>\n",
       "    </tr>\n",
       "  </thead>\n",
       "  <tbody>\n",
       "    <tr>\n",
       "      <th>count</th>\n",
       "      <td>494021</td>\n",
       "      <td>494021</td>\n",
       "      <td>494021</td>\n",
       "      <td>494021</td>\n",
       "    </tr>\n",
       "    <tr>\n",
       "      <th>unique</th>\n",
       "      <td>3</td>\n",
       "      <td>66</td>\n",
       "      <td>11</td>\n",
       "      <td>23</td>\n",
       "    </tr>\n",
       "    <tr>\n",
       "      <th>top</th>\n",
       "      <td>b'icmp'</td>\n",
       "      <td>b'ecr_i'</td>\n",
       "      <td>b'SF'</td>\n",
       "      <td>b'smurf.'</td>\n",
       "    </tr>\n",
       "    <tr>\n",
       "      <th>freq</th>\n",
       "      <td>283602</td>\n",
       "      <td>281400</td>\n",
       "      <td>378440</td>\n",
       "      <td>280790</td>\n",
       "    </tr>\n",
       "  </tbody>\n",
       "</table>\n",
       "</div>"
      ],
      "text/plain": [
       "       protocol_type   service    flag  intrusion\n",
       "count         494021    494021  494021     494021\n",
       "unique             3        66      11         23\n",
       "top          b'icmp'  b'ecr_i'   b'SF'  b'smurf.'\n",
       "freq          283602    281400  378440     280790"
      ]
     },
     "execution_count": 7,
     "metadata": {},
     "output_type": "execute_result"
    }
   ],
   "source": [
    "data.describe(include=\"object\")"
   ]
  },
  {
   "cell_type": "code",
   "execution_count": 8,
   "id": "1eea9c12",
   "metadata": {},
   "outputs": [
    {
     "data": {
      "text/plain": [
       "Index(['duration', 'protocol_type', 'service', 'flag', 'src_bytes',\n",
       "       'dst_bytes', 'land', 'wrong_fragment', 'urgent', 'hot',\n",
       "       'num_failed_logins', 'logged_in', 'num_compromised', 'root_shell',\n",
       "       'su_attempted', 'num_root', 'num_file_creations', 'num_shells',\n",
       "       'num_access_files', 'num_outbound_cmds', 'is_host_login',\n",
       "       'is_guest_login', 'count', 'srv_count', 'serror_rate',\n",
       "       'srv_serrer_rate', 'rerror_rate', 'srv_rerror_rate', 'same_srv_rate',\n",
       "       'diff_srv_rate', 'srv_diff_host_rate', 'dst_host_count',\n",
       "       'dst_host_srv_count', 'dst_host_same_srv_rate',\n",
       "       'dst_host_diff_srv_rate', 'dst_host_same_src_port_rate',\n",
       "       'dst_host_srv_diff_host_rate', 'dst_host_serror_rate',\n",
       "       'dst_host_srv_serror_rate', 'dst_host_rerror_rate',\n",
       "       'dst_host_srv_rerror_rate', 'intrusion'],\n",
       "      dtype='object')"
      ]
     },
     "execution_count": 8,
     "metadata": {},
     "output_type": "execute_result"
    }
   ],
   "source": [
    "data.columns"
   ]
  },
  {
   "cell_type": "code",
   "execution_count": 60,
   "id": "0740affe",
   "metadata": {},
   "outputs": [],
   "source": [
    "#Null value check"
   ]
  },
  {
   "cell_type": "code",
   "execution_count": 10,
   "id": "b4e8dde0",
   "metadata": {},
   "outputs": [
    {
     "data": {
      "text/plain": [
       "duration                       0\n",
       "protocol_type                  0\n",
       "service                        0\n",
       "flag                           0\n",
       "src_bytes                      0\n",
       "dst_bytes                      0\n",
       "land                           0\n",
       "wrong_fragment                 0\n",
       "urgent                         0\n",
       "hot                            0\n",
       "num_failed_logins              0\n",
       "logged_in                      0\n",
       "num_compromised                0\n",
       "root_shell                     0\n",
       "su_attempted                   0\n",
       "num_root                       0\n",
       "num_file_creations             0\n",
       "num_shells                     0\n",
       "num_access_files               0\n",
       "num_outbound_cmds              0\n",
       "is_host_login                  0\n",
       "is_guest_login                 0\n",
       "count                          0\n",
       "srv_count                      0\n",
       "serror_rate                    0\n",
       "srv_serrer_rate                0\n",
       "rerror_rate                    0\n",
       "srv_rerror_rate                0\n",
       "same_srv_rate                  0\n",
       "diff_srv_rate                  0\n",
       "srv_diff_host_rate             0\n",
       "dst_host_count                 0\n",
       "dst_host_srv_count             0\n",
       "dst_host_same_srv_rate         0\n",
       "dst_host_diff_srv_rate         0\n",
       "dst_host_same_src_port_rate    0\n",
       "dst_host_srv_diff_host_rate    0\n",
       "dst_host_serror_rate           0\n",
       "dst_host_srv_serror_rate       0\n",
       "dst_host_rerror_rate           0\n",
       "dst_host_srv_rerror_rate       0\n",
       "intrusion                      0\n",
       "dtype: int64"
      ]
     },
     "execution_count": 10,
     "metadata": {},
     "output_type": "execute_result"
    }
   ],
   "source": [
    "data.isnull().sum()"
   ]
  },
  {
   "cell_type": "code",
   "execution_count": 61,
   "id": "a3a9a018",
   "metadata": {},
   "outputs": [],
   "source": [
    "#There are no null values found in dataset"
   ]
  },
  {
   "cell_type": "code",
   "execution_count": 62,
   "id": "39e99bda",
   "metadata": {},
   "outputs": [],
   "source": [
    "#Checking some columns"
   ]
  },
  {
   "cell_type": "code",
   "execution_count": 20,
   "id": "6f356add",
   "metadata": {},
   "outputs": [
    {
     "data": {
      "text/plain": [
       "255    432829\n",
       "1        2884\n",
       "2        2023\n",
       "3        1434\n",
       "4        1317\n",
       "        ...  \n",
       "254        70\n",
       "226        70\n",
       "236        63\n",
       "246        61\n",
       "0           3\n",
       "Name: dst_host_count, Length: 256, dtype: int64"
      ]
     },
     "execution_count": 20,
     "metadata": {},
     "output_type": "execute_result"
    }
   ],
   "source": [
    "data[\"dst_host_count\"].value_counts()"
   ]
  },
  {
   "cell_type": "code",
   "execution_count": 21,
   "id": "ba628131",
   "metadata": {},
   "outputs": [
    {
     "data": {
      "text/plain": [
       "255    337746\n",
       "1       11895\n",
       "2        7243\n",
       "3        5855\n",
       "11       5627\n",
       "        ...  \n",
       "199        66\n",
       "207        65\n",
       "206        62\n",
       "202        56\n",
       "0           3\n",
       "Name: dst_host_srv_count, Length: 256, dtype: int64"
      ]
     },
     "execution_count": 21,
     "metadata": {},
     "output_type": "execute_result"
    }
   ],
   "source": [
    "data[\"dst_host_srv_count\"].value_counts()"
   ]
  },
  {
   "cell_type": "code",
   "execution_count": 63,
   "id": "af9a6262",
   "metadata": {},
   "outputs": [],
   "source": [
    "#THe above 2 columns , majority values are 255,we can either remove them or keep , currently planning to keep and proceed"
   ]
  },
  {
   "cell_type": "code",
   "execution_count": 65,
   "id": "9e296c59",
   "metadata": {},
   "outputs": [],
   "source": [
    "#Checking the object type columns"
   ]
  },
  {
   "cell_type": "code",
   "execution_count": 12,
   "id": "24181c23",
   "metadata": {},
   "outputs": [
    {
     "data": {
      "text/plain": [
       "Index(['protocol_type', 'service', 'flag', 'intrusion'], dtype='object')"
      ]
     },
     "execution_count": 12,
     "metadata": {},
     "output_type": "execute_result"
    }
   ],
   "source": [
    "data.select_dtypes(include=object).columns"
   ]
  },
  {
   "cell_type": "code",
   "execution_count": 13,
   "id": "3925ee94",
   "metadata": {},
   "outputs": [
    {
     "data": {
      "text/plain": [
       "b'icmp'    283602\n",
       "b'tcp'     190065\n",
       "b'udp'      20354\n",
       "Name: protocol_type, dtype: int64"
      ]
     },
     "execution_count": 13,
     "metadata": {},
     "output_type": "execute_result"
    }
   ],
   "source": [
    "data['protocol_type'].value_counts()"
   ]
  },
  {
   "cell_type": "code",
   "execution_count": 14,
   "id": "22ab196a",
   "metadata": {},
   "outputs": [
    {
     "data": {
      "text/plain": [
       "b'ecr_i'      281400\n",
       "b'private'    110893\n",
       "b'http'        64293\n",
       "b'smtp'         9723\n",
       "b'other'        7237\n",
       "               ...  \n",
       "b'X11'            11\n",
       "b'tim_i'           7\n",
       "b'tftp_u'          1\n",
       "b'red_i'           1\n",
       "b'pm_dump'         1\n",
       "Name: service, Length: 66, dtype: int64"
      ]
     },
     "execution_count": 14,
     "metadata": {},
     "output_type": "execute_result"
    }
   ],
   "source": [
    "data['service'].value_counts()"
   ]
  },
  {
   "cell_type": "code",
   "execution_count": 66,
   "id": "6c9d5c35",
   "metadata": {},
   "outputs": [],
   "source": [
    "#Here in service , we have 66 unique values , \n",
    "#hence we can drop this value , the unique values are very high\n"
   ]
  },
  {
   "cell_type": "code",
   "execution_count": 15,
   "id": "e8ec039d",
   "metadata": {},
   "outputs": [
    {
     "data": {
      "text/plain": [
       "b'SF'        378440\n",
       "b'S0'         87007\n",
       "b'REJ'        26875\n",
       "b'RSTR'         903\n",
       "b'RSTO'         579\n",
       "b'SH'           107\n",
       "b'S1'            57\n",
       "b'S2'            24\n",
       "b'RSTOS0'        11\n",
       "b'S3'            10\n",
       "b'OTH'            8\n",
       "Name: flag, dtype: int64"
      ]
     },
     "execution_count": 15,
     "metadata": {},
     "output_type": "execute_result"
    }
   ],
   "source": [
    "data['flag'].value_counts()"
   ]
  },
  {
   "cell_type": "code",
   "execution_count": 69,
   "id": "ff7d073f",
   "metadata": {},
   "outputs": [],
   "source": [
    "#columns like Flag and protocol type , we can keep and apply one hot encoding "
   ]
  },
  {
   "cell_type": "code",
   "execution_count": 16,
   "id": "4a2f468f",
   "metadata": {},
   "outputs": [
    {
     "data": {
      "text/plain": [
       "b'smurf.'              280790\n",
       "b'neptune.'            107201\n",
       "b'normal.'              97278\n",
       "b'back.'                 2203\n",
       "b'satan.'                1589\n",
       "b'ipsweep.'              1247\n",
       "b'portsweep.'            1040\n",
       "b'warezclient.'          1020\n",
       "b'teardrop.'              979\n",
       "b'pod.'                   264\n",
       "b'nmap.'                  231\n",
       "b'guess_passwd.'           53\n",
       "b'buffer_overflow.'        30\n",
       "b'land.'                   21\n",
       "b'warezmaster.'            20\n",
       "b'imap.'                   12\n",
       "b'rootkit.'                10\n",
       "b'loadmodule.'              9\n",
       "b'ftp_write.'               8\n",
       "b'multihop.'                7\n",
       "b'phf.'                     4\n",
       "b'perl.'                    3\n",
       "b'spy.'                     2\n",
       "Name: intrusion, dtype: int64"
      ]
     },
     "execution_count": 16,
     "metadata": {},
     "output_type": "execute_result"
    }
   ],
   "source": [
    "data['intrusion'].value_counts()"
   ]
  },
  {
   "cell_type": "code",
   "execution_count": 70,
   "id": "e162427b",
   "metadata": {},
   "outputs": [],
   "source": [
    "#We can see that target variable is multiclass "
   ]
  },
  {
   "cell_type": "code",
   "execution_count": 23,
   "id": "0b72af9f",
   "metadata": {},
   "outputs": [
    {
     "data": {
      "text/plain": [
       "Index(['duration', 'protocol_type', 'service', 'flag', 'src_bytes',\n",
       "       'dst_bytes', 'land', 'wrong_fragment', 'urgent', 'hot',\n",
       "       'num_failed_logins', 'logged_in', 'num_compromised', 'root_shell',\n",
       "       'su_attempted', 'num_root', 'num_file_creations', 'num_shells',\n",
       "       'num_access_files', 'num_outbound_cmds', 'is_host_login',\n",
       "       'is_guest_login', 'count', 'srv_count', 'serror_rate',\n",
       "       'srv_serrer_rate', 'rerror_rate', 'srv_rerror_rate', 'same_srv_rate',\n",
       "       'diff_srv_rate', 'srv_diff_host_rate', 'dst_host_count',\n",
       "       'dst_host_srv_count', 'dst_host_same_srv_rate',\n",
       "       'dst_host_diff_srv_rate', 'dst_host_same_src_port_rate',\n",
       "       'dst_host_srv_diff_host_rate', 'dst_host_serror_rate',\n",
       "       'dst_host_srv_serror_rate', 'dst_host_rerror_rate',\n",
       "       'dst_host_srv_rerror_rate', 'intrusion'],\n",
       "      dtype='object')"
      ]
     },
     "execution_count": 23,
     "metadata": {},
     "output_type": "execute_result"
    }
   ],
   "source": [
    "data.columns"
   ]
  },
  {
   "cell_type": "code",
   "execution_count": 24,
   "id": "4b58f238",
   "metadata": {},
   "outputs": [],
   "source": [
    "num_cols=['duration', 'src_bytes','dst_bytes','num_compromised','num_root','count', 'srv_count',\n",
    "          'dst_host_count','dst_host_srv_count'\n",
    "       ]"
   ]
  },
  {
   "cell_type": "code",
   "execution_count": 71,
   "id": "a87b7ec7",
   "metadata": {},
   "outputs": [],
   "source": [
    "#Here we are splitting the x and y"
   ]
  },
  {
   "cell_type": "code",
   "execution_count": 25,
   "id": "52e04523",
   "metadata": {},
   "outputs": [],
   "source": [
    "x=data.drop(['intrusion',\"service\"],axis=1)\n",
    "y=data['intrusion']"
   ]
  },
  {
   "cell_type": "code",
   "execution_count": 72,
   "id": "b2706e37",
   "metadata": {},
   "outputs": [],
   "source": [
    "#Even though the question is to apply tree based algorithms which require no scaling , \n",
    "#proceeding to do scaling and then apply them "
   ]
  },
  {
   "cell_type": "code",
   "execution_count": 73,
   "id": "316405fb",
   "metadata": {},
   "outputs": [],
   "source": [
    "#Apply standard scaler"
   ]
  },
  {
   "cell_type": "code",
   "execution_count": 26,
   "id": "654af813",
   "metadata": {},
   "outputs": [],
   "source": [
    "from sklearn.preprocessing import StandardScaler\n",
    "sc=StandardScaler()\n",
    "x.loc[:,num_cols]=sc.fit_transform(x[num_cols])"
   ]
  },
  {
   "cell_type": "code",
   "execution_count": 74,
   "id": "d426cb7e",
   "metadata": {},
   "outputs": [],
   "source": [
    "#Apply one hot encoding in X to convert object type variables"
   ]
  },
  {
   "cell_type": "code",
   "execution_count": 27,
   "id": "fbd22160",
   "metadata": {},
   "outputs": [],
   "source": [
    "x=pd.get_dummies(x)"
   ]
  },
  {
   "cell_type": "code",
   "execution_count": 75,
   "id": "018ba71a",
   "metadata": {},
   "outputs": [],
   "source": [
    "#Split the x and y into train and test"
   ]
  },
  {
   "cell_type": "code",
   "execution_count": 28,
   "id": "91b01d07",
   "metadata": {},
   "outputs": [],
   "source": [
    "from sklearn.model_selection import train_test_split\n",
    "x_train,x_test,y_train,y_test=train_test_split(x,y,test_size=0.2,random_state=132)"
   ]
  },
  {
   "cell_type": "markdown",
   "id": "b3577cd5",
   "metadata": {},
   "source": [
    "\n",
    "#Question is to build ML model using the Tree based models \n",
    "\n",
    "#So using the FOllowing Tree based models \n",
    "    1.Decision Tree\n",
    "    2.Bagging \n",
    "    3.Random Forest"
   ]
  },
  {
   "cell_type": "markdown",
   "id": "f9a44e58",
   "metadata": {},
   "source": [
    "1.Decision Tree model"
   ]
  },
  {
   "cell_type": "code",
   "execution_count": 36,
   "id": "0301c8e1",
   "metadata": {},
   "outputs": [
    {
     "name": "stdout",
     "output_type": "stream",
     "text": [
      "Accuracy of Decision Tree without CV is  0.9995344365163706\n"
     ]
    }
   ],
   "source": [
    "from sklearn.tree import DecisionTreeClassifier\n",
    "\n",
    "dt=DecisionTreeClassifier()\n",
    "dt.fit(x_train,y_train)\n",
    "y_predDT=dt.predict(x_test)\n",
    "accDT=accuracy_score(y_test,y_predDT)\n",
    "print(\"Accuracy of Decision Tree without CV is \",accDT)"
   ]
  },
  {
   "cell_type": "code",
   "execution_count": 37,
   "id": "8e83f17b",
   "metadata": {},
   "outputs": [
    {
     "name": "stderr",
     "output_type": "stream",
     "text": [
      "C:\\Users\\Dell\\anaconda3\\lib\\site-packages\\sklearn\\model_selection\\_split.py:676: UserWarning: The least populated class in y has only 2 members, which is less than n_splits=10.\n",
      "  warnings.warn(\n"
     ]
    },
    {
     "name": "stdout",
     "output_type": "stream",
     "text": [
      "Accuracy of Decision Tree with CV is  0.9995749173883999\n"
     ]
    }
   ],
   "source": [
    "from sklearn.model_selection import cross_val_score\n",
    "dt=DecisionTreeClassifier()\n",
    "\n",
    "cv_resultsDT=cross_val_score(dt,x,y,cv=10,scoring=\"accuracy\")\n",
    "cv_meanDT=cv_resultsDT.mean()\n",
    "print(\"Accuracy of Decision Tree with CV is \",cv_meanDT)"
   ]
  },
  {
   "cell_type": "markdown",
   "id": "05814a65",
   "metadata": {},
   "source": [
    "2.Bagging Classifier"
   ]
  },
  {
   "cell_type": "code",
   "execution_count": 39,
   "id": "1bf39574",
   "metadata": {},
   "outputs": [
    {
     "name": "stdout",
     "output_type": "stream",
     "text": [
      "Accuracy of Bagging CLassifier without CV is  0.9996761297505187\n"
     ]
    }
   ],
   "source": [
    "bs_et= DecisionTreeClassifier()\n",
    "\n",
    "from sklearn.ensemble import BaggingClassifier\n",
    "bg=BaggingClassifier(base_estimator=bs_et,n_estimators=100)\n",
    "bg.fit(x_train,y_train)\n",
    "y_predBC=bg.predict(x_test)\n",
    "accBC=accuracy_score(y_test,y_predBC)\n",
    "print(\"Accuracy of Bagging CLassifier without CV is \",accBC)"
   ]
  },
  {
   "cell_type": "code",
   "execution_count": 41,
   "id": "ffa31965",
   "metadata": {},
   "outputs": [
    {
     "name": "stdout",
     "output_type": "stream",
     "text": [
      "Accuracy of Bagging CLassifier with CV is  0.9995951589840004\n"
     ]
    }
   ],
   "source": [
    "bg=BaggingClassifier(base_estimator=bs_et,n_estimators=100)\n",
    "\n",
    "cv_resultsbg=cross_val_score(bg,x,y,cv=2,scoring=\"accuracy\")\n",
    "cv_meanbg=cv_resultsbg.mean()\n",
    "print(\"Accuracy of Bagging CLassifier with CV is \",cv_meanbg)"
   ]
  },
  {
   "cell_type": "code",
   "execution_count": 42,
   "id": "27a5227d",
   "metadata": {},
   "outputs": [
    {
     "name": "stdout",
     "output_type": "stream",
     "text": [
      "Accuracy of Random Forest without CV is  0.9997267344770001\n"
     ]
    }
   ],
   "source": [
    "from sklearn.ensemble import RandomForestClassifier\n",
    "rt=RandomForestClassifier()\n",
    "rt.fit(x_train,y_train)\n",
    "y_predrf=rt.predict(x_test)\n",
    "accrf=accuracy_score(y_test,y_predrf)\n",
    "print(\"Accuracy of Random Forest without CV is \",accrf)"
   ]
  },
  {
   "cell_type": "code",
   "execution_count": 44,
   "id": "ccf50d9f",
   "metadata": {},
   "outputs": [
    {
     "name": "stderr",
     "output_type": "stream",
     "text": [
      "C:\\Users\\Dell\\anaconda3\\lib\\site-packages\\sklearn\\model_selection\\_split.py:676: UserWarning: The least populated class in y has only 2 members, which is less than n_splits=5.\n",
      "  warnings.warn(\n"
     ]
    },
    {
     "name": "stdout",
     "output_type": "stream",
     "text": [
      "Accuracy of Random Forest with CV is  0.9997530469270529\n"
     ]
    }
   ],
   "source": [
    "from sklearn.model_selection import cross_val_score\n",
    "rt=RandomForestClassifier()\n",
    "\n",
    "cv_resultsrf=cross_val_score(rt,x,y,cv=5,scoring=\"accuracy\")\n",
    "cv_meanrf=cv_resultsrf.mean()\n",
    "print(\"Accuracy of Random Forest with CV is \",cv_meanrf)"
   ]
  },
  {
   "cell_type": "code",
   "execution_count": 51,
   "id": "303996e5",
   "metadata": {},
   "outputs": [
    {
     "data": {
      "text/html": [
       "<div>\n",
       "<style scoped>\n",
       "    .dataframe tbody tr th:only-of-type {\n",
       "        vertical-align: middle;\n",
       "    }\n",
       "\n",
       "    .dataframe tbody tr th {\n",
       "        vertical-align: top;\n",
       "    }\n",
       "\n",
       "    .dataframe thead th {\n",
       "        text-align: right;\n",
       "    }\n",
       "</style>\n",
       "<table border=\"1\" class=\"dataframe\">\n",
       "  <thead>\n",
       "    <tr style=\"text-align: right;\">\n",
       "      <th></th>\n",
       "      <th>Accuracy values</th>\n",
       "    </tr>\n",
       "  </thead>\n",
       "  <tbody>\n",
       "    <tr>\n",
       "      <th>Decision Tree w/o CV</th>\n",
       "      <td>0.999534</td>\n",
       "    </tr>\n",
       "    <tr>\n",
       "      <th>Decision Tree with CV</th>\n",
       "      <td>0.999575</td>\n",
       "    </tr>\n",
       "    <tr>\n",
       "      <th>Bagging classifer w/o CV</th>\n",
       "      <td>0.999676</td>\n",
       "    </tr>\n",
       "    <tr>\n",
       "      <th>Bagging classifer with CV</th>\n",
       "      <td>0.999595</td>\n",
       "    </tr>\n",
       "    <tr>\n",
       "      <th>Random Forest w/o CV</th>\n",
       "      <td>0.999727</td>\n",
       "    </tr>\n",
       "    <tr>\n",
       "      <th>Random Forest with CV</th>\n",
       "      <td>0.999753</td>\n",
       "    </tr>\n",
       "  </tbody>\n",
       "</table>\n",
       "</div>"
      ],
      "text/plain": [
       "                           Accuracy values\n",
       "Decision Tree w/o CV              0.999534\n",
       "Decision Tree with CV             0.999575\n",
       "Bagging classifer w/o CV          0.999676\n",
       "Bagging classifer with CV         0.999595\n",
       "Random Forest w/o CV              0.999727\n",
       "Random Forest with CV             0.999753"
      ]
     },
     "execution_count": 51,
     "metadata": {},
     "output_type": "execute_result"
    }
   ],
   "source": [
    "results =pd.DataFrame([accDT, cv_meanDT,accBC,cv_meanbg,accrf,cv_meanrf],columns=['Accuracy values'])\n",
    "results = results.set_axis([\"Decision Tree w/o CV \", \"Decision Tree with CV\",\"Bagging classifer w/o CV\",\"Bagging classifer with CV\",\"Random Forest w/o CV\",\"Random Forest with CV\"])\n",
    "results"
   ]
  },
  {
   "cell_type": "code",
   "execution_count": 76,
   "id": "4ab4a5f7",
   "metadata": {},
   "outputs": [],
   "source": [
    "#Here we can see that we have achieved above 97% accuracies in all the 3 models we have used \n",
    "#CV and without CV gives almost same type of results \n",
    "#There is not much variation between both of them in all the 3 algorithms"
   ]
  },
  {
   "cell_type": "code",
   "execution_count": null,
   "id": "4f1950a9",
   "metadata": {},
   "outputs": [],
   "source": []
  },
  {
   "cell_type": "code",
   "execution_count": null,
   "id": "20d478ec",
   "metadata": {},
   "outputs": [],
   "source": []
  }
 ],
 "metadata": {
  "kernelspec": {
   "display_name": "Python 3 (ipykernel)",
   "language": "python",
   "name": "python3"
  },
  "language_info": {
   "codemirror_mode": {
    "name": "ipython",
    "version": 3
   },
   "file_extension": ".py",
   "mimetype": "text/x-python",
   "name": "python",
   "nbconvert_exporter": "python",
   "pygments_lexer": "ipython3",
   "version": "3.9.7"
  }
 },
 "nbformat": 4,
 "nbformat_minor": 5
}
