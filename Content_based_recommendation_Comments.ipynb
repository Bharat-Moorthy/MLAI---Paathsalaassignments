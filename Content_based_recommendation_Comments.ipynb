{
 "cells": [
  {
   "cell_type": "code",
   "execution_count": 1,
   "id": "73152875",
   "metadata": {},
   "outputs": [],
   "source": [
    "import pandas as pd\n",
    "import numpy as np\n",
    "import matplotlib.pyplot as plt\n",
    "import seaborn as sns"
   ]
  },
  {
   "cell_type": "code",
   "execution_count": 2,
   "id": "15bfa693",
   "metadata": {},
   "outputs": [],
   "source": [
    "data=pd.read_csv(r\"C:\\Users\\Dell\\Downloads\\TripAdvisor_RestauarantRecommendation.csv\")"
   ]
  },
  {
   "cell_type": "code",
   "execution_count": 3,
   "id": "ebfe4d1c",
   "metadata": {},
   "outputs": [
    {
     "data": {
      "text/plain": [
       "(3062, 11)"
      ]
     },
     "execution_count": 3,
     "metadata": {},
     "output_type": "execute_result"
    }
   ],
   "source": [
    "data.shape"
   ]
  },
  {
   "cell_type": "code",
   "execution_count": 4,
   "id": "89799c86",
   "metadata": {},
   "outputs": [],
   "source": [
    "#Shape fo the dataset is 3062 rows and 11 columns"
   ]
  },
  {
   "cell_type": "code",
   "execution_count": 5,
   "id": "92e1b32e",
   "metadata": {},
   "outputs": [
    {
     "data": {
      "text/plain": [
       "Index(['Name', 'Street Address', 'Location', 'Type', 'Reviews',\n",
       "       'No of Reviews', 'Comments', 'Contact Number', 'Trip_advisor Url',\n",
       "       'Menu', 'Price_Range'],\n",
       "      dtype='object')"
      ]
     },
     "execution_count": 5,
     "metadata": {},
     "output_type": "execute_result"
    }
   ],
   "source": [
    "data.columns"
   ]
  },
  {
   "cell_type": "code",
   "execution_count": 6,
   "id": "54c344fb",
   "metadata": {},
   "outputs": [],
   "source": [
    "#Above are features of dataset"
   ]
  },
  {
   "cell_type": "code",
   "execution_count": 7,
   "id": "74ecc042",
   "metadata": {},
   "outputs": [
    {
     "name": "stdout",
     "output_type": "stream",
     "text": [
      "<class 'pandas.core.frame.DataFrame'>\n",
      "RangeIndex: 3062 entries, 0 to 3061\n",
      "Data columns (total 11 columns):\n",
      " #   Column            Non-Null Count  Dtype \n",
      "---  ------            --------------  ----- \n",
      " 0   Name              3062 non-null   object\n",
      " 1   Street Address    3062 non-null   object\n",
      " 2   Location          3062 non-null   object\n",
      " 3   Type              3049 non-null   object\n",
      " 4   Reviews           3062 non-null   object\n",
      " 5   No of Reviews     3062 non-null   object\n",
      " 6   Comments          2447 non-null   object\n",
      " 7   Contact Number    3062 non-null   object\n",
      " 8   Trip_advisor Url  3062 non-null   object\n",
      " 9   Menu              3062 non-null   object\n",
      " 10  Price_Range       3062 non-null   object\n",
      "dtypes: object(11)\n",
      "memory usage: 263.3+ KB\n"
     ]
    }
   ],
   "source": [
    "data.info()"
   ]
  },
  {
   "cell_type": "code",
   "execution_count": 8,
   "id": "c87713a6",
   "metadata": {},
   "outputs": [],
   "source": [
    "#Basic summary shows some missing values and all features are of object type"
   ]
  },
  {
   "cell_type": "code",
   "execution_count": 9,
   "id": "b72244a0",
   "metadata": {},
   "outputs": [
    {
     "data": {
      "text/html": [
       "<div>\n",
       "<style scoped>\n",
       "    .dataframe tbody tr th:only-of-type {\n",
       "        vertical-align: middle;\n",
       "    }\n",
       "\n",
       "    .dataframe tbody tr th {\n",
       "        vertical-align: top;\n",
       "    }\n",
       "\n",
       "    .dataframe thead th {\n",
       "        text-align: right;\n",
       "    }\n",
       "</style>\n",
       "<table border=\"1\" class=\"dataframe\">\n",
       "  <thead>\n",
       "    <tr style=\"text-align: right;\">\n",
       "      <th></th>\n",
       "      <th>Name</th>\n",
       "      <th>Street Address</th>\n",
       "      <th>Location</th>\n",
       "      <th>Type</th>\n",
       "      <th>Reviews</th>\n",
       "      <th>No of Reviews</th>\n",
       "      <th>Comments</th>\n",
       "      <th>Contact Number</th>\n",
       "      <th>Trip_advisor Url</th>\n",
       "      <th>Menu</th>\n",
       "      <th>Price_Range</th>\n",
       "    </tr>\n",
       "  </thead>\n",
       "  <tbody>\n",
       "    <tr>\n",
       "      <th>0</th>\n",
       "      <td>Betty Lou's Seafood and Grill</td>\n",
       "      <td>318 Columbus Ave</td>\n",
       "      <td>San Francisco, CA 94133-3908</td>\n",
       "      <td>Seafood, Vegetarian Friendly, Vegan Options</td>\n",
       "      <td>4.5 of 5 bubbles</td>\n",
       "      <td>243 reviews</td>\n",
       "      <td>NaN</td>\n",
       "      <td>+1 415-757-0569</td>\n",
       "      <td>https://www.tripadvisor.com//Restaurant_Review...</td>\n",
       "      <td>Check The Website for a Menu</td>\n",
       "      <td>$$ - $$$</td>\n",
       "    </tr>\n",
       "    <tr>\n",
       "      <th>1</th>\n",
       "      <td>Coach House Diner</td>\n",
       "      <td>55 State Rt 4</td>\n",
       "      <td>Hackensack, NJ 07601-6337</td>\n",
       "      <td>Diner, American, Vegetarian Friendly</td>\n",
       "      <td>4 of 5 bubbles</td>\n",
       "      <td>84 reviews</td>\n",
       "      <td>Both times we were there very late, after 11 P...</td>\n",
       "      <td>+1 201-488-4999</td>\n",
       "      <td>https://www.tripadvisor.com//Restaurant_Review...</td>\n",
       "      <td>Check The Website for a Menu</td>\n",
       "      <td>$$ - $$$</td>\n",
       "    </tr>\n",
       "    <tr>\n",
       "      <th>2</th>\n",
       "      <td>Table Talk Diner</td>\n",
       "      <td>2521 South Rd Ste C</td>\n",
       "      <td>Poughkeepsie, NY 12601-5476</td>\n",
       "      <td>American, Diner, Vegetarian Friendly</td>\n",
       "      <td>4 of 5 bubbles</td>\n",
       "      <td>256 reviews</td>\n",
       "      <td>Waitress was very friendly but a little pricey...</td>\n",
       "      <td>+1 845-849-2839</td>\n",
       "      <td>https://www.tripadvisor.com//Restaurant_Review...</td>\n",
       "      <td>http://tabletalkdiner.com/menu/breakfast/</td>\n",
       "      <td>$$ - $$$</td>\n",
       "    </tr>\n",
       "    <tr>\n",
       "      <th>3</th>\n",
       "      <td>Sixty Vines</td>\n",
       "      <td>3701 Dallas Pkwy</td>\n",
       "      <td>Plano, TX 75093-7777</td>\n",
       "      <td>American, Wine Bar, Vegetarian Friendly</td>\n",
       "      <td>4.5 of 5 bubbles</td>\n",
       "      <td>235 reviews</td>\n",
       "      <td>Not sure why I went there for the second time....</td>\n",
       "      <td>+1 469-620-8463</td>\n",
       "      <td>https://www.tripadvisor.com//Restaurant_Review...</td>\n",
       "      <td>https://sixtyvines.com/menu/plano-tx/</td>\n",
       "      <td>$$ - $$$</td>\n",
       "    </tr>\n",
       "    <tr>\n",
       "      <th>4</th>\n",
       "      <td>The Clam Bar</td>\n",
       "      <td>3914 Brewerton Rd</td>\n",
       "      <td>Syracuse, NY 13212</td>\n",
       "      <td>American, Bar, Seafood</td>\n",
       "      <td>4 of 5 bubbles</td>\n",
       "      <td>285 reviews</td>\n",
       "      <td>Doesn't look like much from the outside but wa...</td>\n",
       "      <td>+1 315-458-1662</td>\n",
       "      <td>https://www.tripadvisor.com//Restaurant_Review...</td>\n",
       "      <td>Check The Website for a Menu</td>\n",
       "      <td>$$ - $$$</td>\n",
       "    </tr>\n",
       "  </tbody>\n",
       "</table>\n",
       "</div>"
      ],
      "text/plain": [
       "                            Name       Street Address  \\\n",
       "0  Betty Lou's Seafood and Grill     318 Columbus Ave   \n",
       "1              Coach House Diner        55 State Rt 4   \n",
       "2               Table Talk Diner  2521 South Rd Ste C   \n",
       "3                    Sixty Vines     3701 Dallas Pkwy   \n",
       "4                   The Clam Bar    3914 Brewerton Rd   \n",
       "\n",
       "                       Location                                          Type  \\\n",
       "0  San Francisco, CA 94133-3908   Seafood, Vegetarian Friendly, Vegan Options   \n",
       "1     Hackensack, NJ 07601-6337          Diner, American, Vegetarian Friendly   \n",
       "2   Poughkeepsie, NY 12601-5476          American, Diner, Vegetarian Friendly   \n",
       "3          Plano, TX 75093-7777       American, Wine Bar, Vegetarian Friendly   \n",
       "4            Syracuse, NY 13212                        American, Bar, Seafood   \n",
       "\n",
       "            Reviews No of Reviews  \\\n",
       "0  4.5 of 5 bubbles   243 reviews   \n",
       "1    4 of 5 bubbles    84 reviews   \n",
       "2    4 of 5 bubbles   256 reviews   \n",
       "3  4.5 of 5 bubbles   235 reviews   \n",
       "4    4 of 5 bubbles   285 reviews   \n",
       "\n",
       "                                            Comments   Contact Number  \\\n",
       "0                                                NaN  +1 415-757-0569   \n",
       "1  Both times we were there very late, after 11 P...  +1 201-488-4999   \n",
       "2  Waitress was very friendly but a little pricey...  +1 845-849-2839   \n",
       "3  Not sure why I went there for the second time....  +1 469-620-8463   \n",
       "4  Doesn't look like much from the outside but wa...  +1 315-458-1662   \n",
       "\n",
       "                                    Trip_advisor Url  \\\n",
       "0  https://www.tripadvisor.com//Restaurant_Review...   \n",
       "1  https://www.tripadvisor.com//Restaurant_Review...   \n",
       "2  https://www.tripadvisor.com//Restaurant_Review...   \n",
       "3  https://www.tripadvisor.com//Restaurant_Review...   \n",
       "4  https://www.tripadvisor.com//Restaurant_Review...   \n",
       "\n",
       "                                        Menu Price_Range  \n",
       "0               Check The Website for a Menu    $$ - $$$  \n",
       "1               Check The Website for a Menu    $$ - $$$  \n",
       "2  http://tabletalkdiner.com/menu/breakfast/    $$ - $$$  \n",
       "3      https://sixtyvines.com/menu/plano-tx/    $$ - $$$  \n",
       "4               Check The Website for a Menu    $$ - $$$  "
      ]
     },
     "execution_count": 9,
     "metadata": {},
     "output_type": "execute_result"
    }
   ],
   "source": [
    "data.head()"
   ]
  },
  {
   "cell_type": "code",
   "execution_count": 10,
   "id": "6bf98b9c",
   "metadata": {},
   "outputs": [
    {
     "data": {
      "text/html": [
       "<div>\n",
       "<style scoped>\n",
       "    .dataframe tbody tr th:only-of-type {\n",
       "        vertical-align: middle;\n",
       "    }\n",
       "\n",
       "    .dataframe tbody tr th {\n",
       "        vertical-align: top;\n",
       "    }\n",
       "\n",
       "    .dataframe thead th {\n",
       "        text-align: right;\n",
       "    }\n",
       "</style>\n",
       "<table border=\"1\" class=\"dataframe\">\n",
       "  <thead>\n",
       "    <tr style=\"text-align: right;\">\n",
       "      <th></th>\n",
       "      <th>count</th>\n",
       "      <th>unique</th>\n",
       "      <th>top</th>\n",
       "      <th>freq</th>\n",
       "    </tr>\n",
       "  </thead>\n",
       "  <tbody>\n",
       "    <tr>\n",
       "      <th>Name</th>\n",
       "      <td>3062</td>\n",
       "      <td>2641</td>\n",
       "      <td>Texas Roadhouse</td>\n",
       "      <td>13</td>\n",
       "    </tr>\n",
       "    <tr>\n",
       "      <th>Street Address</th>\n",
       "      <td>3062</td>\n",
       "      <td>2814</td>\n",
       "      <td>3333 Bristol St</td>\n",
       "      <td>8</td>\n",
       "    </tr>\n",
       "    <tr>\n",
       "      <th>Location</th>\n",
       "      <td>3062</td>\n",
       "      <td>2653</td>\n",
       "      <td>Costa Mesa, CA 92626-1873</td>\n",
       "      <td>8</td>\n",
       "    </tr>\n",
       "    <tr>\n",
       "      <th>Type</th>\n",
       "      <td>3049</td>\n",
       "      <td>669</td>\n",
       "      <td>Italian, Vegetarian Friendly, Vegan Options</td>\n",
       "      <td>137</td>\n",
       "    </tr>\n",
       "    <tr>\n",
       "      <th>Reviews</th>\n",
       "      <td>3062</td>\n",
       "      <td>6</td>\n",
       "      <td>4.5 of 5 bubbles</td>\n",
       "      <td>1956</td>\n",
       "    </tr>\n",
       "    <tr>\n",
       "      <th>No of Reviews</th>\n",
       "      <td>3062</td>\n",
       "      <td>811</td>\n",
       "      <td>58 reviews</td>\n",
       "      <td>18</td>\n",
       "    </tr>\n",
       "    <tr>\n",
       "      <th>Comments</th>\n",
       "      <td>2447</td>\n",
       "      <td>2291</td>\n",
       "      <td>The most warn and welcoming environment, Excel...</td>\n",
       "      <td>4</td>\n",
       "    </tr>\n",
       "    <tr>\n",
       "      <th>Contact Number</th>\n",
       "      <td>3062</td>\n",
       "      <td>2850</td>\n",
       "      <td>Not Available</td>\n",
       "      <td>19</td>\n",
       "    </tr>\n",
       "    <tr>\n",
       "      <th>Trip_advisor Url</th>\n",
       "      <td>3062</td>\n",
       "      <td>2886</td>\n",
       "      <td>https://www.tripadvisor.com//Restaurant_Review...</td>\n",
       "      <td>4</td>\n",
       "    </tr>\n",
       "    <tr>\n",
       "      <th>Menu</th>\n",
       "      <td>3062</td>\n",
       "      <td>705</td>\n",
       "      <td>Check The Website for a Menu</td>\n",
       "      <td>2253</td>\n",
       "    </tr>\n",
       "    <tr>\n",
       "      <th>Price_Range</th>\n",
       "      <td>3062</td>\n",
       "      <td>6</td>\n",
       "      <td>$$ - $$$</td>\n",
       "      <td>2385</td>\n",
       "    </tr>\n",
       "  </tbody>\n",
       "</table>\n",
       "</div>"
      ],
      "text/plain": [
       "                 count unique  \\\n",
       "Name              3062   2641   \n",
       "Street Address    3062   2814   \n",
       "Location          3062   2653   \n",
       "Type              3049    669   \n",
       "Reviews           3062      6   \n",
       "No of Reviews     3062    811   \n",
       "Comments          2447   2291   \n",
       "Contact Number    3062   2850   \n",
       "Trip_advisor Url  3062   2886   \n",
       "Menu              3062    705   \n",
       "Price_Range       3062      6   \n",
       "\n",
       "                                                                top  freq  \n",
       "Name                                                Texas Roadhouse    13  \n",
       "Street Address                                      3333 Bristol St     8  \n",
       "Location                                  Costa Mesa, CA 92626-1873     8  \n",
       "Type                    Italian, Vegetarian Friendly, Vegan Options   137  \n",
       "Reviews                                            4.5 of 5 bubbles  1956  \n",
       "No of Reviews                                            58 reviews    18  \n",
       "Comments          The most warn and welcoming environment, Excel...     4  \n",
       "Contact Number                                        Not Available    19  \n",
       "Trip_advisor Url  https://www.tripadvisor.com//Restaurant_Review...     4  \n",
       "Menu                                   Check The Website for a Menu  2253  \n",
       "Price_Range                                                $$ - $$$  2385  "
      ]
     },
     "execution_count": 10,
     "metadata": {},
     "output_type": "execute_result"
    }
   ],
   "source": [
    "data.describe().T"
   ]
  },
  {
   "cell_type": "code",
   "execution_count": 11,
   "id": "355c8cef",
   "metadata": {},
   "outputs": [],
   "source": [
    "#MOst features have unique values more Except for reviews and price range "
   ]
  },
  {
   "cell_type": "code",
   "execution_count": 12,
   "id": "798fa34d",
   "metadata": {},
   "outputs": [],
   "source": [
    "#Here deleting the contact number , URL and Menu from dataset as they wont be of much help in the recommendation system building "
   ]
  },
  {
   "cell_type": "code",
   "execution_count": 13,
   "id": "6b8f195f",
   "metadata": {},
   "outputs": [],
   "source": [
    "data = data.drop(['Contact Number', 'Trip_advisor Url','Menu'],axis=1)"
   ]
  },
  {
   "cell_type": "code",
   "execution_count": 14,
   "id": "19412510",
   "metadata": {},
   "outputs": [],
   "source": [
    "#Missing value check"
   ]
  },
  {
   "cell_type": "code",
   "execution_count": 15,
   "id": "8783cf79",
   "metadata": {},
   "outputs": [
    {
     "data": {
      "text/plain": [
       "Name                0\n",
       "Street Address      0\n",
       "Location            0\n",
       "Type               13\n",
       "Reviews             0\n",
       "No of Reviews       0\n",
       "Comments          615\n",
       "Price_Range         0\n",
       "dtype: int64"
      ]
     },
     "execution_count": 15,
     "metadata": {},
     "output_type": "execute_result"
    }
   ],
   "source": [
    "data.isnull().sum()"
   ]
  },
  {
   "cell_type": "code",
   "execution_count": 16,
   "id": "d3d236ae",
   "metadata": {},
   "outputs": [],
   "source": [
    "#Type and Comments have null values , we need to fill \n",
    "# THey are both object variables , so type can be filled by mode and Comments by empty space"
   ]
  },
  {
   "cell_type": "code",
   "execution_count": 17,
   "id": "e3f2e287",
   "metadata": {},
   "outputs": [],
   "source": [
    "data[\"Comments\"]=data[\"Comments\"].fillna(\"\")\n",
    "data[\"Type\"]=data[\"Type\"].fillna(data[\"Type\"].mode()[0])"
   ]
  },
  {
   "cell_type": "code",
   "execution_count": 18,
   "id": "af3efa6b",
   "metadata": {},
   "outputs": [
    {
     "data": {
      "text/plain": [
       "Name              0\n",
       "Street Address    0\n",
       "Location          0\n",
       "Type              0\n",
       "Reviews           0\n",
       "No of Reviews     0\n",
       "Comments          0\n",
       "Price_Range       0\n",
       "dtype: int64"
      ]
     },
     "execution_count": 18,
     "metadata": {},
     "output_type": "execute_result"
    }
   ],
   "source": [
    "data.isnull().sum()"
   ]
  },
  {
   "cell_type": "code",
   "execution_count": 19,
   "id": "3b6f60d5",
   "metadata": {},
   "outputs": [],
   "source": [
    "#After filling there are no missing values found "
   ]
  },
  {
   "cell_type": "code",
   "execution_count": 20,
   "id": "b49f77f5",
   "metadata": {},
   "outputs": [],
   "source": [
    "# We need to create tfidf vector based on the comments feature"
   ]
  },
  {
   "cell_type": "code",
   "execution_count": 21,
   "id": "1bccc6af",
   "metadata": {},
   "outputs": [
    {
     "data": {
      "text/plain": [
       "(3062, 6245)"
      ]
     },
     "execution_count": 21,
     "metadata": {},
     "output_type": "execute_result"
    }
   ],
   "source": [
    "from sklearn.feature_extraction.text import TfidfVectorizer\n",
    "\n",
    "tfidf=TfidfVectorizer(stop_words=\"english\")\n",
    "tfidf_matrix=tfidf.fit_transform(data[\"Comments\"])\n",
    "tfidf_matrix.shape"
   ]
  },
  {
   "cell_type": "code",
   "execution_count": 22,
   "id": "5e072281",
   "metadata": {},
   "outputs": [],
   "source": [
    "#Calculating the cosine similarity scores"
   ]
  },
  {
   "cell_type": "code",
   "execution_count": 23,
   "id": "5d6dfc3c",
   "metadata": {},
   "outputs": [],
   "source": [
    "from sklearn.metrics.pairwise import cosine_similarity\n",
    "similarity =cosine_similarity (tfidf_matrix,tfidf_matrix)"
   ]
  },
  {
   "cell_type": "code",
   "execution_count": 24,
   "id": "5e136f54",
   "metadata": {},
   "outputs": [],
   "source": [
    "# We will need to find the indices for the hotel names"
   ]
  },
  {
   "cell_type": "code",
   "execution_count": 25,
   "id": "c0115833",
   "metadata": {},
   "outputs": [
    {
     "data": {
      "text/plain": [
       "Name\n",
       "Betty Lou's Seafood and Grill       0\n",
       "Coach House Diner                   1\n",
       "Table Talk Diner                    2\n",
       "Sixty Vines                         3\n",
       "The Clam Bar                        4\n",
       "                                 ... \n",
       "Indigo Kitchen & Ale House       3057\n",
       "City Vineyard                    3058\n",
       "BRIO Tuscan Grille               3059\n",
       "Maywood Pancake house            3060\n",
       "Porto Leggero                    3061\n",
       "Length: 3062, dtype: int64"
      ]
     },
     "execution_count": 25,
     "metadata": {},
     "output_type": "execute_result"
    }
   ],
   "source": [
    "indices=pd.Series(data.index,index=data[\"Name\"])\n",
    "indices"
   ]
  },
  {
   "cell_type": "code",
   "execution_count": 26,
   "id": "eba071e4",
   "metadata": {},
   "outputs": [],
   "source": [
    "#We need to create a function to take the name and similarity score and find the similar hotels based on the comments "
   ]
  },
  {
   "cell_type": "code",
   "execution_count": 27,
   "id": "f863b568",
   "metadata": {},
   "outputs": [],
   "source": [
    "def restaurant_rec_sys(name,similarity=similarity):\n",
    "    index=indices[name]\n",
    "    similarity_scores=list(enumerate(similarity[index]))\n",
    "    similarity_scores=sorted(similarity_scores,key=lambda x:x[1],reverse =True)\n",
    "    similarity_scores=similarity_scores[:11]\n",
    "    res_indices=[i[0] for i in similarity_scores]\n",
    "    return data[\"Name\"].iloc[res_indices]"
   ]
  },
  {
   "cell_type": "code",
   "execution_count": 28,
   "id": "390309db",
   "metadata": {},
   "outputs": [],
   "source": [
    "#We can now call the function along with the required hotel names and \n",
    "#it will give similar hotel based on the similarity scores calculated based on comments "
   ]
  },
  {
   "cell_type": "code",
   "execution_count": 29,
   "id": "976e5c32",
   "metadata": {},
   "outputs": [
    {
     "data": {
      "text/plain": [
       "4                         The Clam Bar\n",
       "1075    Toulouse Cafe and Bar (Dallas)\n",
       "1842                          Lapellah\n",
       "1156               LongHorn Steakhouse\n",
       "2753        Copper Top Tavern Camillus\n",
       "2018               Terra Mediterranean\n",
       "2194                      P.F. Chang's\n",
       "741                Shanghai You Garden\n",
       "744           Gringo's Mexican Kitchen\n",
       "2416                 Logan's Roadhouse\n",
       "1648                        Applebee's\n",
       "Name: Name, dtype: object"
      ]
     },
     "execution_count": 29,
     "metadata": {},
     "output_type": "execute_result"
    }
   ],
   "source": [
    "restaurant_rec_sys(\"The Clam Bar\",similarity=similarity)"
   ]
  },
  {
   "cell_type": "code",
   "execution_count": 30,
   "id": "892f4d0a",
   "metadata": {},
   "outputs": [
    {
     "data": {
      "text/plain": [
       "0             Betty Lou's Seafood and Grill\n",
       "1                         Coach House Diner\n",
       "2                          Table Talk Diner\n",
       "3                               Sixty Vines\n",
       "4                              The Clam Bar\n",
       "5                               E Tutto Qua\n",
       "6      Black Angus Steakhouse - Federal Way\n",
       "7                                  Ziziki's\n",
       "8     Vince's Italian Restaurant & Pizzeria\n",
       "9                    John Thomas Steakhouse\n",
       "10                            ZaZa's Cucina\n",
       "Name: Name, dtype: object"
      ]
     },
     "execution_count": 30,
     "metadata": {},
     "output_type": "execute_result"
    }
   ],
   "source": [
    "restaurant_rec_sys(\"Betty Lou's Seafood and Grill\",similarity=similarity)"
   ]
  },
  {
   "cell_type": "code",
   "execution_count": 31,
   "id": "18a20d27",
   "metadata": {},
   "outputs": [
    {
     "data": {
      "text/plain": [
       "1075    Toulouse Cafe and Bar (Dallas)\n",
       "4                         The Clam Bar\n",
       "856       Torero's Mexican Restaurants\n",
       "1351               Pappasito's Cantina\n",
       "2843                       Chanterelle\n",
       "1711       BJ's Restaurant & Brewhouse\n",
       "1410       BJ's Restaurant & Brewhouse\n",
       "1169                      The Georgian\n",
       "1980                     The Pink Door\n",
       "217                         Houlihan's\n",
       "2462      Harry's Oyster Bar & Seafood\n",
       "Name: Name, dtype: object"
      ]
     },
     "execution_count": 31,
     "metadata": {},
     "output_type": "execute_result"
    }
   ],
   "source": [
    "restaurant_rec_sys(\"Toulouse Cafe and Bar (Dallas)\",similarity=similarity)"
   ]
  },
  {
   "cell_type": "code",
   "execution_count": null,
   "id": "2333893f",
   "metadata": {},
   "outputs": [],
   "source": []
  }
 ],
 "metadata": {
  "kernelspec": {
   "display_name": "Python 3 (ipykernel)",
   "language": "python",
   "name": "python3"
  },
  "language_info": {
   "codemirror_mode": {
    "name": "ipython",
    "version": 3
   },
   "file_extension": ".py",
   "mimetype": "text/x-python",
   "name": "python",
   "nbconvert_exporter": "python",
   "pygments_lexer": "ipython3",
   "version": "3.9.7"
  }
 },
 "nbformat": 4,
 "nbformat_minor": 5
}
